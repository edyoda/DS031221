{
 "cells": [
  {
   "cell_type": "code",
   "execution_count": 2,
   "id": "f19f4b4e",
   "metadata": {},
   "outputs": [],
   "source": [
    "list1 = ['apple','kiwi']"
   ]
  },
  {
   "cell_type": "code",
   "execution_count": 3,
   "id": "b4d5cbd9",
   "metadata": {},
   "outputs": [
    {
     "ename": "IndexError",
     "evalue": "list index out of range",
     "output_type": "error",
     "traceback": [
      "\u001b[0;31m---------------------------------------------------------------------------\u001b[0m",
      "\u001b[0;31mIndexError\u001b[0m                                Traceback (most recent call last)",
      "\u001b[0;32m/var/folders/9s/j9tqx4617_jg3hnd11b6g4080000gn/T/ipykernel_64058/576394295.py\u001b[0m in \u001b[0;36m<module>\u001b[0;34m\u001b[0m\n\u001b[0;32m----> 1\u001b[0;31m \u001b[0mlist1\u001b[0m\u001b[0;34m[\u001b[0m\u001b[0;36m3\u001b[0m\u001b[0;34m]\u001b[0m\u001b[0;34m\u001b[0m\u001b[0;34m\u001b[0m\u001b[0m\n\u001b[0m",
      "\u001b[0;31mIndexError\u001b[0m: list index out of range"
     ]
    }
   ],
   "source": [
    "list1[3]"
   ]
  },
  {
   "cell_type": "code",
   "execution_count": 4,
   "id": "93f716dd",
   "metadata": {},
   "outputs": [],
   "source": [
    "f1 = open('test.txt','w')\n"
   ]
  },
  {
   "cell_type": "code",
   "execution_count": 5,
   "id": "f92ebf83",
   "metadata": {},
   "outputs": [
    {
     "ename": "UnsupportedOperation",
     "evalue": "not readable",
     "output_type": "error",
     "traceback": [
      "\u001b[0;31m---------------------------------------------------------------------------\u001b[0m",
      "\u001b[0;31mUnsupportedOperation\u001b[0m                      Traceback (most recent call last)",
      "\u001b[0;32m/var/folders/9s/j9tqx4617_jg3hnd11b6g4080000gn/T/ipykernel_64058/337322236.py\u001b[0m in \u001b[0;36m<module>\u001b[0;34m\u001b[0m\n\u001b[0;32m----> 1\u001b[0;31m \u001b[0mf1\u001b[0m\u001b[0;34m.\u001b[0m\u001b[0mread\u001b[0m\u001b[0;34m(\u001b[0m\u001b[0;34m)\u001b[0m\u001b[0;34m\u001b[0m\u001b[0;34m\u001b[0m\u001b[0m\n\u001b[0m",
      "\u001b[0;31mUnsupportedOperation\u001b[0m: not readable"
     ]
    }
   ],
   "source": [
    "f1.read()"
   ]
  },
  {
   "cell_type": "code",
   "execution_count": 6,
   "id": "01e5a14e",
   "metadata": {},
   "outputs": [
    {
     "ename": "SyntaxError",
     "evalue": "invalid syntax (854282155.py, line 1)",
     "output_type": "error",
     "traceback": [
      "\u001b[0;36m  File \u001b[0;32m\"/var/folders/9s/j9tqx4617_jg3hnd11b6g4080000gn/T/ipykernel_64058/854282155.py\"\u001b[0;36m, line \u001b[0;32m1\u001b[0m\n\u001b[0;31m    for i in range\u001b[0m\n\u001b[0m                  ^\u001b[0m\n\u001b[0;31mSyntaxError\u001b[0m\u001b[0;31m:\u001b[0m invalid syntax\n"
     ]
    }
   ],
   "source": [
    "for i in range\n",
    "    print(i)"
   ]
  },
  {
   "cell_type": "code",
   "execution_count": 7,
   "id": "55f2166e",
   "metadata": {},
   "outputs": [
    {
     "ename": "ZeroDivisionError",
     "evalue": "division by zero",
     "output_type": "error",
     "traceback": [
      "\u001b[0;31m---------------------------------------------------------------------------\u001b[0m",
      "\u001b[0;31mZeroDivisionError\u001b[0m                         Traceback (most recent call last)",
      "\u001b[0;32m/var/folders/9s/j9tqx4617_jg3hnd11b6g4080000gn/T/ipykernel_64058/2874912419.py\u001b[0m in \u001b[0;36m<module>\u001b[0;34m\u001b[0m\n\u001b[0;32m----> 1\u001b[0;31m \u001b[0;36m5\u001b[0m\u001b[0;34m/\u001b[0m\u001b[0;36m0\u001b[0m\u001b[0;34m\u001b[0m\u001b[0;34m\u001b[0m\u001b[0m\n\u001b[0m",
      "\u001b[0;31mZeroDivisionError\u001b[0m: division by zero"
     ]
    }
   ],
   "source": [
    "5/0"
   ]
  },
  {
   "cell_type": "code",
   "execution_count": 8,
   "id": "e06604e1",
   "metadata": {},
   "outputs": [],
   "source": [
    "x = (1,2)"
   ]
  },
  {
   "cell_type": "code",
   "execution_count": 9,
   "id": "8389ec3c",
   "metadata": {},
   "outputs": [
    {
     "ename": "TypeError",
     "evalue": "'tuple' object does not support item assignment",
     "output_type": "error",
     "traceback": [
      "\u001b[0;31m---------------------------------------------------------------------------\u001b[0m",
      "\u001b[0;31mTypeError\u001b[0m                                 Traceback (most recent call last)",
      "\u001b[0;32m/var/folders/9s/j9tqx4617_jg3hnd11b6g4080000gn/T/ipykernel_64058/447665722.py\u001b[0m in \u001b[0;36m<module>\u001b[0;34m\u001b[0m\n\u001b[0;32m----> 1\u001b[0;31m \u001b[0mx\u001b[0m\u001b[0;34m[\u001b[0m\u001b[0;36m0\u001b[0m\u001b[0;34m]\u001b[0m \u001b[0;34m=\u001b[0m \u001b[0;36m40\u001b[0m\u001b[0;34m\u001b[0m\u001b[0;34m\u001b[0m\u001b[0m\n\u001b[0m",
      "\u001b[0;31mTypeError\u001b[0m: 'tuple' object does not support item assignment"
     ]
    }
   ],
   "source": [
    "x[0] = 40"
   ]
  },
  {
   "cell_type": "code",
   "execution_count": 10,
   "id": "c3de7f51",
   "metadata": {},
   "outputs": [
    {
     "ename": "TypeError",
     "evalue": "unhashable type: 'list'",
     "output_type": "error",
     "traceback": [
      "\u001b[0;31m---------------------------------------------------------------------------\u001b[0m",
      "\u001b[0;31mTypeError\u001b[0m                                 Traceback (most recent call last)",
      "\u001b[0;32m/var/folders/9s/j9tqx4617_jg3hnd11b6g4080000gn/T/ipykernel_64058/3160095258.py\u001b[0m in \u001b[0;36m<module>\u001b[0;34m\u001b[0m\n\u001b[1;32m      1\u001b[0m \u001b[0;31m# Note: keys in dicts are unique and immutable\u001b[0m\u001b[0;34m\u001b[0m\u001b[0;34m\u001b[0m\u001b[0;34m\u001b[0m\u001b[0m\n\u001b[0;32m----> 2\u001b[0;31m \u001b[0mmy_dict\u001b[0m \u001b[0;34m=\u001b[0m \u001b[0;34m{\u001b[0m\u001b[0;34m'python'\u001b[0m\u001b[0;34m:\u001b[0m\u001b[0;36m3\u001b[0m\u001b[0;34m,\u001b[0m\u001b[0;34m[\u001b[0m\u001b[0;36m1\u001b[0m\u001b[0;34m,\u001b[0m\u001b[0;36m2\u001b[0m\u001b[0;34m]\u001b[0m\u001b[0;34m:\u001b[0m\u001b[0;36m4\u001b[0m\u001b[0;34m}\u001b[0m\u001b[0;34m\u001b[0m\u001b[0;34m\u001b[0m\u001b[0m\n\u001b[0m",
      "\u001b[0;31mTypeError\u001b[0m: unhashable type: 'list'"
     ]
    }
   ],
   "source": [
    "# Note: keys in dicts are unique and immutable\n",
    "my_dict = {'python':3,[1,2]:4}"
   ]
  },
  {
   "cell_type": "code",
   "execution_count": 11,
   "id": "03550367",
   "metadata": {},
   "outputs": [],
   "source": [
    "my_str = 'mango'"
   ]
  },
  {
   "cell_type": "code",
   "execution_count": 12,
   "id": "5113cec1",
   "metadata": {},
   "outputs": [
    {
     "ename": "IndexError",
     "evalue": "string index out of range",
     "output_type": "error",
     "traceback": [
      "\u001b[0;31m---------------------------------------------------------------------------\u001b[0m",
      "\u001b[0;31mIndexError\u001b[0m                                Traceback (most recent call last)",
      "\u001b[0;32m/var/folders/9s/j9tqx4617_jg3hnd11b6g4080000gn/T/ipykernel_64058/981924814.py\u001b[0m in \u001b[0;36m<module>\u001b[0;34m\u001b[0m\n\u001b[0;32m----> 1\u001b[0;31m \u001b[0mmy_str\u001b[0m\u001b[0;34m[\u001b[0m\u001b[0;36m8\u001b[0m\u001b[0;34m]\u001b[0m\u001b[0;34m\u001b[0m\u001b[0;34m\u001b[0m\u001b[0m\n\u001b[0m",
      "\u001b[0;31mIndexError\u001b[0m: string index out of range"
     ]
    }
   ],
   "source": [
    "my_str[8]"
   ]
  },
  {
   "cell_type": "code",
   "execution_count": 13,
   "id": "14b0b033",
   "metadata": {},
   "outputs": [],
   "source": [
    "my_dict = {'python':3,\"java\":4}"
   ]
  },
  {
   "cell_type": "code",
   "execution_count": 14,
   "id": "b5da2d0e",
   "metadata": {},
   "outputs": [
    {
     "ename": "KeyError",
     "evalue": "'c'",
     "output_type": "error",
     "traceback": [
      "\u001b[0;31m---------------------------------------------------------------------------\u001b[0m",
      "\u001b[0;31mKeyError\u001b[0m                                  Traceback (most recent call last)",
      "\u001b[0;32m/var/folders/9s/j9tqx4617_jg3hnd11b6g4080000gn/T/ipykernel_64058/1914402641.py\u001b[0m in \u001b[0;36m<module>\u001b[0;34m\u001b[0m\n\u001b[0;32m----> 1\u001b[0;31m \u001b[0mmy_dict\u001b[0m\u001b[0;34m[\u001b[0m\u001b[0;34m'c'\u001b[0m\u001b[0;34m]\u001b[0m\u001b[0;34m\u001b[0m\u001b[0;34m\u001b[0m\u001b[0m\n\u001b[0m",
      "\u001b[0;31mKeyError\u001b[0m: 'c'"
     ]
    }
   ],
   "source": [
    "my_dict['c']"
   ]
  },
  {
   "cell_type": "markdown",
   "id": "bd98ee4b",
   "metadata": {},
   "source": [
    "# Errors: Problem which occur while executing your code\n",
    "## two distinguishable kinds of errors: syntax errors and exceptions.\n",
    "\n",
    "#### 1) Syntax Errors: There is a mistake in the syntax of the code\n",
    "#### 2) Exceptions"
   ]
  },
  {
   "cell_type": "markdown",
   "id": "a4a5747b",
   "metadata": {},
   "source": [
    "## What is an Exception\n",
    "Even if a statement or expression is syntactically correct, it may cause an error when an attempt is made to execute it. Errors detected during execution are called exceptions and are not unconditionally fatal."
   ]
  },
  {
   "cell_type": "code",
   "execution_count": null,
   "id": "e7932e7e",
   "metadata": {},
   "outputs": [],
   "source": [
    "Exceptions are divided into categories:\n",
    "    TypeError: unhashable type: 'list',\n",
    "            'tuple' object does not support item assignment etc\n",
    "    \n",
    "    ZeroDivisionError\n",
    "    UnsupportedOperation: not 'readable', not 'writable' etc\n",
    "    IndexError: string index out of range, list index out of range\n",
    "        \n",
    "link to all the categories: https://docs.python.org/3/tutorial/errors.html"
   ]
  },
  {
   "cell_type": "code",
   "execution_count": 5,
   "id": "1afba108",
   "metadata": {},
   "outputs": [
    {
     "name": "stdout",
     "output_type": "stream",
     "text": [
      "total amount2345243\n",
      "no of months0\n"
     ]
    },
    {
     "ename": "ZeroDivisionError",
     "evalue": "division by zero",
     "output_type": "error",
     "traceback": [
      "\u001b[0;31m---------------------------------------------------------------------------\u001b[0m",
      "\u001b[0;31mZeroDivisionError\u001b[0m                         Traceback (most recent call last)",
      "\u001b[0;32m/var/folders/9s/j9tqx4617_jg3hnd11b6g4080000gn/T/ipykernel_64118/683903724.py\u001b[0m in \u001b[0;36m<module>\u001b[0;34m\u001b[0m\n\u001b[1;32m      3\u001b[0m \u001b[0mno_of_months\u001b[0m \u001b[0;34m=\u001b[0m \u001b[0mint\u001b[0m\u001b[0;34m(\u001b[0m\u001b[0minput\u001b[0m\u001b[0;34m(\u001b[0m\u001b[0;34m'no of months'\u001b[0m\u001b[0;34m)\u001b[0m\u001b[0;34m)\u001b[0m\u001b[0;34m\u001b[0m\u001b[0;34m\u001b[0m\u001b[0m\n\u001b[1;32m      4\u001b[0m \u001b[0;34m\u001b[0m\u001b[0m\n\u001b[0;32m----> 5\u001b[0;31m \u001b[0memi\u001b[0m \u001b[0;34m=\u001b[0m \u001b[0mtotal_amount\u001b[0m\u001b[0;34m/\u001b[0m\u001b[0mno_of_months\u001b[0m\u001b[0;34m\u001b[0m\u001b[0;34m\u001b[0m\u001b[0m\n\u001b[0m\u001b[1;32m      6\u001b[0m \u001b[0;34m\u001b[0m\u001b[0m\n\u001b[1;32m      7\u001b[0m \u001b[0mprint\u001b[0m\u001b[0;34m(\u001b[0m\u001b[0;34mf\"emi={emi}\"\u001b[0m\u001b[0;34m)\u001b[0m\u001b[0;34m\u001b[0m\u001b[0;34m\u001b[0m\u001b[0m\n",
      "\u001b[0;31mZeroDivisionError\u001b[0m: division by zero"
     ]
    }
   ],
   "source": [
    "# emi program\n",
    "total_amount = int(input('total amount'))\n",
    "no_of_months = int(input('no of months'))\n",
    "\n",
    "emi = total_amount/no_of_months\n",
    "\n",
    "print(f\"emi={emi}\")\n",
    "print('Netflix')"
   ]
  },
  {
   "cell_type": "code",
   "execution_count": null,
   "id": "41640593",
   "metadata": {},
   "outputs": [],
   "source": [
    "Exception Handling: Handling the Exceptions in the program when the \n",
    "    occur."
   ]
  },
  {
   "cell_type": "code",
   "execution_count": null,
   "id": "d630a15b",
   "metadata": {},
   "outputs": [],
   "source": [
    "# syntax of try except for exception handling\n",
    "try:\n",
    "    The block which will be running and can likely contain error.\n",
    "except:\n",
    "    it executes when the try block have some exceptions"
   ]
  },
  {
   "cell_type": "code",
   "execution_count": 6,
   "id": "2e0793ec",
   "metadata": {},
   "outputs": [
    {
     "name": "stdout",
     "output_type": "stream",
     "text": [
      "total amount235343\n",
      "no of months0\n",
      "Some error occured.\n",
      "Netflix\n"
     ]
    }
   ],
   "source": [
    "# emi program\n",
    "try:\n",
    "    total_amount = int(input('total amount'))\n",
    "    no_of_months = int(input('no of months'))\n",
    "    emi = total_amount/no_of_months\n",
    "    print(f\"emi={emi}\")\n",
    "except:\n",
    "    print('Some error occured.')\n",
    "print('Netflix')"
   ]
  },
  {
   "cell_type": "markdown",
   "id": "bf0820d6",
   "metadata": {},
   "source": [
    "# Note: except block only runs if there is any error in try block"
   ]
  },
  {
   "cell_type": "code",
   "execution_count": 7,
   "id": "68955253",
   "metadata": {},
   "outputs": [
    {
     "name": "stdout",
     "output_type": "stream",
     "text": [
      "total amount23553343\n",
      "no of months4\n",
      "emi=5888335.75\n",
      "Netflix\n"
     ]
    }
   ],
   "source": [
    "# emi program\n",
    "try:\n",
    "    total_amount = int(input('total amount'))\n",
    "    no_of_months = int(input('no of months'))\n",
    "    emi = total_amount/no_of_months\n",
    "    print(f\"emi={emi}\")\n",
    "except:\n",
    "    print('Some error occured.')\n",
    "print('Netflix')"
   ]
  },
  {
   "cell_type": "markdown",
   "id": "749c91e6",
   "metadata": {},
   "source": [
    "# Categorise except block based on type of exceptions."
   ]
  },
  {
   "cell_type": "code",
   "execution_count": 12,
   "id": "b8c168ed",
   "metadata": {},
   "outputs": [
    {
     "name": "stdout",
     "output_type": "stream",
     "text": [
      "total amount2345\n",
      "no of months4\n",
      "emi=586.25\n",
      "give me an index2\n",
      "The element you are trying to access, does not exist.\n",
      "Netflix\n",
      "0\n",
      "1\n",
      "2\n",
      "3\n"
     ]
    }
   ],
   "source": [
    "# emi program\n",
    "try:\n",
    "    total_amount = int(input('total amount'))\n",
    "    no_of_months = int(input('no of months'))\n",
    "    emi = total_amount/no_of_months\n",
    "    print(f\"emi={emi}\")\n",
    "    my_list = ['apple','kiwi']\n",
    "    index = int(input('give me an index'))\n",
    "    print(my_list[index])\n",
    "except ZeroDivisionError:\n",
    "    print('How can you divide a number by 0?')\n",
    "except IndexError:\n",
    "    print('The element you are trying to access, does not exist.')\n",
    "except:\n",
    "    print('Some error occured')\n",
    "print('Netflix')\n",
    "for i in range(4):\n",
    "    print(i)"
   ]
  },
  {
   "cell_type": "markdown",
   "id": "44a618d8",
   "metadata": {},
   "source": [
    "## else block with try except:\n",
    "#### it runs only if the try does not result in an error. so no except block runs."
   ]
  },
  {
   "cell_type": "code",
   "execution_count": 18,
   "id": "e1a19273",
   "metadata": {},
   "outputs": [
    {
     "name": "stdout",
     "output_type": "stream",
     "text": [
      "total amount23454\n",
      "no of months4\n",
      "emi=5863.5\n",
      "give me an index1\n",
      "kiwi\n",
      "Hey we were able to avoid any kind of error so far.\n",
      "Netflix\n",
      "0\n",
      "1\n",
      "2\n",
      "3\n"
     ]
    }
   ],
   "source": [
    "# emi program\n",
    "try:\n",
    "    total_amount = int(input('total amount'))\n",
    "    no_of_months = int(input('no of months'))\n",
    "    emi = total_amount/no_of_months\n",
    "    print(f\"emi={emi}\")\n",
    "    my_list = ['apple','kiwi']\n",
    "    index = int(input('give me an index'))\n",
    "    print(my_list[index])\n",
    "except ZeroDivisionError:\n",
    "    print('How can you divide a number by 0?')\n",
    "except IndexError:\n",
    "    print('The element you are trying to access, does not exist.')\n",
    "except:\n",
    "    print('Some error occured')\n",
    "else:\n",
    "    print('Hey we were able to avoid any kind of error so far.')\n",
    "print('Netflix')\n",
    "for i in range(4):\n",
    "    print(i)"
   ]
  },
  {
   "cell_type": "markdown",
   "id": "d5a265d8",
   "metadata": {},
   "source": [
    "## print the error in except block"
   ]
  },
  {
   "cell_type": "code",
   "execution_count": 19,
   "id": "a4af44d3",
   "metadata": {},
   "outputs": [
    {
     "name": "stdout",
     "output_type": "stream",
     "text": [
      "total amount23435\n",
      "no of months0\n",
      "division by zero\n",
      "Netflix\n",
      "0\n",
      "1\n",
      "2\n",
      "3\n"
     ]
    }
   ],
   "source": [
    "# emi program\n",
    "try:\n",
    "    total_amount = int(input('total amount'))\n",
    "    no_of_months = int(input('no of months'))\n",
    "    emi = total_amount/no_of_months\n",
    "    print(f\"emi={emi}\")\n",
    "    my_list = ['apple','kiwi']\n",
    "    index = int(input('give me an index'))\n",
    "    print(my_list[index])\n",
    "except Exception as e:\n",
    "    print(e)\n",
    "print('Netflix')\n",
    "for i in range(4):\n",
    "    print(i)"
   ]
  },
  {
   "cell_type": "markdown",
   "id": "f02482a0",
   "metadata": {},
   "source": [
    "# finally block: It runs no matter, if we get the error or not.\n",
    "### it seems to be useless to me."
   ]
  },
  {
   "cell_type": "code",
   "execution_count": 21,
   "id": "0f58bacd",
   "metadata": {},
   "outputs": [
    {
     "name": "stdout",
     "output_type": "stream",
     "text": [
      "total amount13245\n",
      "no of months3\n",
      "emi=4415.0\n",
      "give me an index0\n",
      "apple\n",
      "finally the try except is comiing to an end!!\n",
      "Netflix\n",
      "0\n",
      "1\n",
      "2\n",
      "3\n"
     ]
    }
   ],
   "source": [
    "# emi program\n",
    "try:\n",
    "    total_amount = int(input('total amount'))\n",
    "    no_of_months = int(input('no of months'))\n",
    "    emi = total_amount/no_of_months\n",
    "    print(f\"emi={emi}\")\n",
    "    my_list = ['apple','kiwi']\n",
    "    index = int(input('give me an index'))\n",
    "    print(my_list[index])\n",
    "except Exception as e:\n",
    "    print(e)\n",
    "finally:\n",
    "    print('finally the try except is comiing to an end!!')\n",
    "print('Netflix')\n",
    "for i in range(4):\n",
    "    print(i)"
   ]
  },
  {
   "cell_type": "markdown",
   "id": "efc97ee8",
   "metadata": {},
   "source": [
    "## Debugging"
   ]
  },
  {
   "cell_type": "markdown",
   "id": "8e3cbb7a",
   "metadata": {},
   "source": [
    "Debugging is the process of detecting and removing of existing and potential errors (also called as 'bugs') in a software code that can cause it to behave unexpectedly or crash."
   ]
  },
  {
   "cell_type": "code",
   "execution_count": null,
   "id": "9b6cbd35",
   "metadata": {},
   "outputs": [],
   "source": [
    "# Bugs are unwanted behaviours of the program."
   ]
  },
  {
   "cell_type": "code",
   "execution_count": 27,
   "id": "57be8324",
   "metadata": {},
   "outputs": [
    {
     "name": "stdout",
     "output_type": "stream",
     "text": [
      "a23\n",
      "b23\n",
      "2323\n"
     ]
    }
   ],
   "source": [
    "import pdb\n",
    "def sum_of_age(x,y):\n",
    "    return x+y\n",
    "\n",
    "breakpoint()\n",
    "a = input('a')\n",
    "b = input('b')\n",
    "\n",
    "print(sum_of_age(a,b))\n",
    "# here the bug is it not giving the correct sum of age as 46 when a is 12\n",
    "# and b is 34"
   ]
  },
  {
   "cell_type": "code",
   "execution_count": null,
   "id": "47090a93",
   "metadata": {},
   "outputs": [],
   "source": []
  }
 ],
 "metadata": {
  "kernelspec": {
   "display_name": "Python 3 (ipykernel)",
   "language": "python",
   "name": "python3"
  },
  "language_info": {
   "codemirror_mode": {
    "name": "ipython",
    "version": 3
   },
   "file_extension": ".py",
   "mimetype": "text/x-python",
   "name": "python",
   "nbconvert_exporter": "python",
   "pygments_lexer": "ipython3",
   "version": "3.8.9"
  }
 },
 "nbformat": 4,
 "nbformat_minor": 5
}
