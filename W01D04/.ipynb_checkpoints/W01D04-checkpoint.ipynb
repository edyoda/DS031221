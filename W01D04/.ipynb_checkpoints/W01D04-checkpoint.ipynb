{
 "cells": [
  {
   "cell_type": "code",
   "execution_count": null,
   "id": "02d54afe",
   "metadata": {},
   "outputs": [],
   "source": [
    "DATA TYPES:\n",
    "    1) int Immutable\n",
    "    2) float Immutable\n",
    "    3) str Immutable '',\"\",\"\"\"\"\"\",''''''\n",
    "    4) list : collection of items. []  Mutable\n",
    "    5) tuple : collection of items. () Immutable\n",
    "    6) dict {} Mutable\n",
    "    7) set {} Mutable, Unique elements . collection of elements.\n",
    "    8) bool True,False Immutable\n",
    "    9) None Immutable"
   ]
  },
  {
   "cell_type": "code",
   "execution_count": 1,
   "id": "11970206",
   "metadata": {},
   "outputs": [],
   "source": [
    "first_list = [12,'apple',780.03]"
   ]
  },
  {
   "cell_type": "code",
   "execution_count": 2,
   "id": "d6658d5f",
   "metadata": {},
   "outputs": [
    {
     "name": "stdout",
     "output_type": "stream",
     "text": [
      "12\n"
     ]
    }
   ],
   "source": [
    "print(first_list[0])"
   ]
  },
  {
   "cell_type": "code",
   "execution_count": 3,
   "id": "3888f012",
   "metadata": {},
   "outputs": [
    {
     "name": "stdout",
     "output_type": "stream",
     "text": [
      "apple\n"
     ]
    }
   ],
   "source": [
    "print(first_list[1])"
   ]
  },
  {
   "cell_type": "code",
   "execution_count": 4,
   "id": "1b80591a",
   "metadata": {},
   "outputs": [
    {
     "name": "stdout",
     "output_type": "stream",
     "text": [
      "780.03\n"
     ]
    }
   ],
   "source": [
    "print(first_list[2])"
   ]
  },
  {
   "cell_type": "code",
   "execution_count": 5,
   "id": "6ad3778f",
   "metadata": {},
   "outputs": [
    {
     "ename": "IndexError",
     "evalue": "list index out of range",
     "output_type": "error",
     "traceback": [
      "\u001b[0;31m---------------------------------------------------------------------------\u001b[0m",
      "\u001b[0;31mIndexError\u001b[0m                                Traceback (most recent call last)",
      "\u001b[0;32m/var/folders/9s/j9tqx4617_jg3hnd11b6g4080000gn/T/ipykernel_85143/919288920.py\u001b[0m in \u001b[0;36m<module>\u001b[0;34m\u001b[0m\n\u001b[0;32m----> 1\u001b[0;31m \u001b[0mprint\u001b[0m\u001b[0;34m(\u001b[0m\u001b[0mfirst_list\u001b[0m\u001b[0;34m[\u001b[0m\u001b[0;36m3\u001b[0m\u001b[0;34m]\u001b[0m\u001b[0;34m)\u001b[0m\u001b[0;34m\u001b[0m\u001b[0;34m\u001b[0m\u001b[0m\n\u001b[0m",
      "\u001b[0;31mIndexError\u001b[0m: list index out of range"
     ]
    }
   ],
   "source": [
    "print(first_list[3])"
   ]
  },
  {
   "cell_type": "code",
   "execution_count": 6,
   "id": "48fcf50d",
   "metadata": {},
   "outputs": [],
   "source": [
    "students_list = ['kunal','sajal','aman','vikas','aadil khan','jazz','rudresh']"
   ]
  },
  {
   "cell_type": "code",
   "execution_count": 7,
   "id": "974b6743",
   "metadata": {},
   "outputs": [
    {
     "name": "stdout",
     "output_type": "stream",
     "text": [
      "kunal\n"
     ]
    }
   ],
   "source": [
    "print(students_list[0])"
   ]
  },
  {
   "cell_type": "code",
   "execution_count": 8,
   "id": "99571a2a",
   "metadata": {},
   "outputs": [
    {
     "name": "stdout",
     "output_type": "stream",
     "text": [
      "sajal\n"
     ]
    }
   ],
   "source": [
    "print(students_list[1])"
   ]
  },
  {
   "cell_type": "code",
   "execution_count": 9,
   "id": "2f10a76a",
   "metadata": {},
   "outputs": [],
   "source": [
    "# updates an item in list\n",
    "students_list[0] = 'kunal sharma'"
   ]
  },
  {
   "cell_type": "code",
   "execution_count": 10,
   "id": "d77a590c",
   "metadata": {},
   "outputs": [
    {
     "name": "stdout",
     "output_type": "stream",
     "text": [
      "['kunal sharma', 'sajal', 'aman', 'vikas', 'aadil khan', 'jazz', 'rudresh']\n"
     ]
    }
   ],
   "source": [
    "print(students_list)"
   ]
  },
  {
   "cell_type": "code",
   "execution_count": 11,
   "id": "b4783684",
   "metadata": {},
   "outputs": [],
   "source": [
    "kunal = (1,2,3,'apple','kiwi')"
   ]
  },
  {
   "cell_type": "code",
   "execution_count": 12,
   "id": "4f9f19c1",
   "metadata": {},
   "outputs": [
    {
     "name": "stdout",
     "output_type": "stream",
     "text": [
      "1\n"
     ]
    }
   ],
   "source": [
    "print(kunal[0])"
   ]
  },
  {
   "cell_type": "code",
   "execution_count": 13,
   "id": "104be0c3",
   "metadata": {},
   "outputs": [
    {
     "name": "stdout",
     "output_type": "stream",
     "text": [
      "apple\n"
     ]
    }
   ],
   "source": [
    "print(kunal[3])"
   ]
  },
  {
   "cell_type": "code",
   "execution_count": 14,
   "id": "08c4d264",
   "metadata": {},
   "outputs": [
    {
     "ename": "TypeError",
     "evalue": "'tuple' object does not support item assignment",
     "output_type": "error",
     "traceback": [
      "\u001b[0;31m---------------------------------------------------------------------------\u001b[0m",
      "\u001b[0;31mTypeError\u001b[0m                                 Traceback (most recent call last)",
      "\u001b[0;32m/var/folders/9s/j9tqx4617_jg3hnd11b6g4080000gn/T/ipykernel_85143/1288998368.py\u001b[0m in \u001b[0;36m<module>\u001b[0;34m\u001b[0m\n\u001b[0;32m----> 1\u001b[0;31m \u001b[0mkunal\u001b[0m\u001b[0;34m[\u001b[0m\u001b[0;36m0\u001b[0m\u001b[0;34m]\u001b[0m \u001b[0;34m=\u001b[0m \u001b[0;36m10\u001b[0m\u001b[0;34m\u001b[0m\u001b[0;34m\u001b[0m\u001b[0m\n\u001b[0m",
      "\u001b[0;31mTypeError\u001b[0m: 'tuple' object does not support item assignment"
     ]
    }
   ],
   "source": [
    "kunal[0] = 10"
   ]
  },
  {
   "cell_type": "code",
   "execution_count": 15,
   "id": "f3f9f5b9",
   "metadata": {},
   "outputs": [],
   "source": [
    "programming_dict = {'python':3, 'django':4, 'numpy':1, 'C':3, 'Java':8}"
   ]
  },
  {
   "cell_type": "code",
   "execution_count": null,
   "id": "aac3dba4",
   "metadata": {},
   "outputs": [],
   "source": [
    "keys: 'python','django','numpy','C','Java'\n",
    "values: 3,4,1,3,8\n",
    "After key colon is necessary."
   ]
  },
  {
   "cell_type": "code",
   "execution_count": 17,
   "id": "43bce33b",
   "metadata": {},
   "outputs": [
    {
     "name": "stdout",
     "output_type": "stream",
     "text": [
      "3\n"
     ]
    }
   ],
   "source": [
    "print(programming_dict['python'])"
   ]
  },
  {
   "cell_type": "code",
   "execution_count": 19,
   "id": "1e7cf540",
   "metadata": {},
   "outputs": [
    {
     "name": "stdout",
     "output_type": "stream",
     "text": [
      "8\n"
     ]
    }
   ],
   "source": [
    "print(programming_dict['Java'])"
   ]
  },
  {
   "cell_type": "code",
   "execution_count": 20,
   "id": "2a18ccf6",
   "metadata": {},
   "outputs": [
    {
     "ename": "KeyError",
     "evalue": "'C#'",
     "output_type": "error",
     "traceback": [
      "\u001b[0;31m---------------------------------------------------------------------------\u001b[0m",
      "\u001b[0;31mKeyError\u001b[0m                                  Traceback (most recent call last)",
      "\u001b[0;32m/var/folders/9s/j9tqx4617_jg3hnd11b6g4080000gn/T/ipykernel_85143/914854954.py\u001b[0m in \u001b[0;36m<module>\u001b[0;34m\u001b[0m\n\u001b[0;32m----> 1\u001b[0;31m \u001b[0mprint\u001b[0m\u001b[0;34m(\u001b[0m\u001b[0mprogramming_dict\u001b[0m\u001b[0;34m[\u001b[0m\u001b[0;34m'C#'\u001b[0m\u001b[0;34m]\u001b[0m\u001b[0;34m)\u001b[0m\u001b[0;34m\u001b[0m\u001b[0;34m\u001b[0m\u001b[0m\n\u001b[0m",
      "\u001b[0;31mKeyError\u001b[0m: 'C#'"
     ]
    }
   ],
   "source": [
    "print(programming_dict['C#'])"
   ]
  },
  {
   "cell_type": "code",
   "execution_count": 21,
   "id": "a4a2464d",
   "metadata": {},
   "outputs": [
    {
     "ename": "TypeError",
     "evalue": "'tuple' object does not support item assignment",
     "output_type": "error",
     "traceback": [
      "\u001b[0;31m---------------------------------------------------------------------------\u001b[0m",
      "\u001b[0;31mTypeError\u001b[0m                                 Traceback (most recent call last)",
      "\u001b[0;32m/var/folders/9s/j9tqx4617_jg3hnd11b6g4080000gn/T/ipykernel_85143/635957346.py\u001b[0m in \u001b[0;36m<module>\u001b[0;34m\u001b[0m\n\u001b[1;32m      1\u001b[0m \u001b[0mx\u001b[0m \u001b[0;34m=\u001b[0m \u001b[0;34m(\u001b[0m\u001b[0;36m20\u001b[0m\u001b[0;34m,\u001b[0m\u001b[0;36m40\u001b[0m\u001b[0;34m)\u001b[0m\u001b[0;34m\u001b[0m\u001b[0;34m\u001b[0m\u001b[0m\n\u001b[0;32m----> 2\u001b[0;31m \u001b[0mx\u001b[0m\u001b[0;34m[\u001b[0m\u001b[0;36m0\u001b[0m\u001b[0;34m]\u001b[0m \u001b[0;34m=\u001b[0m \u001b[0;36m200\u001b[0m\u001b[0;34m\u001b[0m\u001b[0;34m\u001b[0m\u001b[0m\n\u001b[0m",
      "\u001b[0;31mTypeError\u001b[0m: 'tuple' object does not support item assignment"
     ]
    }
   ],
   "source": [
    "x = (20,40)\n",
    "x[0] = 200"
   ]
  },
  {
   "cell_type": "code",
   "execution_count": null,
   "id": "24a39065",
   "metadata": {},
   "outputs": [],
   "source": [
    "Keys in Dict are:\n",
    "    1) Unique\n",
    "    2) Immutable"
   ]
  },
  {
   "cell_type": "code",
   "execution_count": 22,
   "id": "3625f717",
   "metadata": {},
   "outputs": [],
   "source": [
    "vikas = {50:'apple',20:(-2,-3),50:80}"
   ]
  },
  {
   "cell_type": "code",
   "execution_count": 23,
   "id": "333ec66e",
   "metadata": {},
   "outputs": [
    {
     "name": "stdout",
     "output_type": "stream",
     "text": [
      "{50: 80, 20: (-2, -3)}\n"
     ]
    }
   ],
   "source": [
    "print(vikas)"
   ]
  },
  {
   "cell_type": "code",
   "execution_count": 27,
   "id": "e0d3e5a2",
   "metadata": {},
   "outputs": [],
   "source": [
    "programming_dict = {'python':3, 'django':4, 'numpy':1, 'C':3, 'Java':8}"
   ]
  },
  {
   "cell_type": "code",
   "execution_count": 28,
   "id": "0642c7bf",
   "metadata": {},
   "outputs": [],
   "source": [
    "programming_dict['python'] = 4"
   ]
  },
  {
   "cell_type": "code",
   "execution_count": 29,
   "id": "1df42511",
   "metadata": {},
   "outputs": [
    {
     "name": "stdout",
     "output_type": "stream",
     "text": [
      "{'python': 4, 'django': 4, 'numpy': 1, 'C': 3, 'Java': 8}\n"
     ]
    }
   ],
   "source": [
    "print(programming_dict)"
   ]
  },
  {
   "cell_type": "code",
   "execution_count": 30,
   "id": "0bb773b3",
   "metadata": {},
   "outputs": [],
   "source": [
    "fruits = ('banana','kiwi','mango')"
   ]
  },
  {
   "cell_type": "code",
   "execution_count": 31,
   "id": "ab9c4bcd",
   "metadata": {},
   "outputs": [
    {
     "ename": "TypeError",
     "evalue": "'tuple' object does not support item assignment",
     "output_type": "error",
     "traceback": [
      "\u001b[0;31m---------------------------------------------------------------------------\u001b[0m",
      "\u001b[0;31mTypeError\u001b[0m                                 Traceback (most recent call last)",
      "\u001b[0;32m/var/folders/9s/j9tqx4617_jg3hnd11b6g4080000gn/T/ipykernel_85143/1576208269.py\u001b[0m in \u001b[0;36m<module>\u001b[0;34m\u001b[0m\n\u001b[0;32m----> 1\u001b[0;31m \u001b[0mfruits\u001b[0m\u001b[0;34m[\u001b[0m\u001b[0;36m0\u001b[0m\u001b[0;34m]\u001b[0m \u001b[0;34m=\u001b[0m \u001b[0;34m'apple'\u001b[0m\u001b[0;34m\u001b[0m\u001b[0;34m\u001b[0m\u001b[0m\n\u001b[0m",
      "\u001b[0;31mTypeError\u001b[0m: 'tuple' object does not support item assignment"
     ]
    }
   ],
   "source": [
    "fruits[0] = 'apple'"
   ]
  },
  {
   "cell_type": "code",
   "execution_count": 33,
   "id": "1301e9cf",
   "metadata": {},
   "outputs": [],
   "source": [
    "aman_set = {'python',30,'mango','love','django',600.07}\n",
    "# colons are not present in set.\n",
    "# indexing/subscripting is not possible."
   ]
  },
  {
   "cell_type": "code",
   "execution_count": 34,
   "id": "900e8b93",
   "metadata": {},
   "outputs": [
    {
     "ename": "TypeError",
     "evalue": "'set' object is not subscriptable",
     "output_type": "error",
     "traceback": [
      "\u001b[0;31m---------------------------------------------------------------------------\u001b[0m",
      "\u001b[0;31mTypeError\u001b[0m                                 Traceback (most recent call last)",
      "\u001b[0;32m/var/folders/9s/j9tqx4617_jg3hnd11b6g4080000gn/T/ipykernel_85143/956766309.py\u001b[0m in \u001b[0;36m<module>\u001b[0;34m\u001b[0m\n\u001b[0;32m----> 1\u001b[0;31m \u001b[0maman_set\u001b[0m\u001b[0;34m[\u001b[0m\u001b[0;36m0\u001b[0m\u001b[0;34m]\u001b[0m\u001b[0;34m\u001b[0m\u001b[0;34m\u001b[0m\u001b[0m\n\u001b[0m",
      "\u001b[0;31mTypeError\u001b[0m: 'set' object is not subscriptable"
     ]
    }
   ],
   "source": [
    "aman_set[0]"
   ]
  },
  {
   "cell_type": "code",
   "execution_count": 35,
   "id": "128923a3",
   "metadata": {},
   "outputs": [],
   "source": [
    "umang_set = {1,1,1,1,1,1,1,1,'apple',1,1,1,1,1,'apple'}"
   ]
  },
  {
   "cell_type": "code",
   "execution_count": 36,
   "id": "b2bec167",
   "metadata": {},
   "outputs": [
    {
     "name": "stdout",
     "output_type": "stream",
     "text": [
      "{1, 'apple'}\n"
     ]
    }
   ],
   "source": [
    "print(umang_set)"
   ]
  },
  {
   "cell_type": "code",
   "execution_count": 37,
   "id": "70c36fae",
   "metadata": {},
   "outputs": [],
   "source": [
    "vikas_absent = True\n",
    "aman_absent = False"
   ]
  },
  {
   "cell_type": "code",
   "execution_count": 38,
   "id": "15a3c86c",
   "metadata": {},
   "outputs": [
    {
     "name": "stdout",
     "output_type": "stream",
     "text": [
      "True\n"
     ]
    }
   ],
   "source": [
    "print(vikas_absent)"
   ]
  },
  {
   "cell_type": "code",
   "execution_count": 39,
   "id": "fcea8684",
   "metadata": {},
   "outputs": [
    {
     "name": "stdout",
     "output_type": "stream",
     "text": [
      "False\n"
     ]
    }
   ],
   "source": [
    "print(aman_absent)"
   ]
  },
  {
   "cell_type": "code",
   "execution_count": 40,
   "id": "626749b5",
   "metadata": {},
   "outputs": [],
   "source": [
    "kant_dict = {'kiwi':4,'mango':10,'kiwi':50}"
   ]
  },
  {
   "cell_type": "code",
   "execution_count": 41,
   "id": "b3e97ad6",
   "metadata": {},
   "outputs": [
    {
     "name": "stdout",
     "output_type": "stream",
     "text": [
      "{'kiwi': 50, 'mango': 10}\n"
     ]
    }
   ],
   "source": [
    "print(kant_dict)"
   ]
  },
  {
   "cell_type": "code",
   "execution_count": 42,
   "id": "f82a27ef",
   "metadata": {},
   "outputs": [],
   "source": [
    "x = None"
   ]
  },
  {
   "cell_type": "code",
   "execution_count": 43,
   "id": "f659a3bc",
   "metadata": {},
   "outputs": [
    {
     "name": "stdout",
     "output_type": "stream",
     "text": [
      "None\n"
     ]
    }
   ],
   "source": [
    "print(x)"
   ]
  },
  {
   "cell_type": "code",
   "execution_count": 44,
   "id": "3392c9d8",
   "metadata": {},
   "outputs": [
    {
     "name": "stdout",
     "output_type": "stream",
     "text": [
      "<class 'str'>\n"
     ]
    }
   ],
   "source": [
    "c = 'a'\n",
    "print(type(c))"
   ]
  },
  {
   "cell_type": "code",
   "execution_count": null,
   "id": "8af13448",
   "metadata": {},
   "outputs": [],
   "source": [
    "Immutable Data Types:- (which can not be changed)\n",
    "    1) int\n",
    "    2) float\n",
    "    3) str\n",
    "    4) tuple\n",
    "    5) bool\n",
    "    6) None\n",
    "    \n",
    "Mutable Data Types:- (which can be changed)\n",
    "    1) list\n",
    "    2) dict\n",
    "    3) set"
   ]
  },
  {
   "cell_type": "code",
   "execution_count": 45,
   "id": "5514e959",
   "metadata": {},
   "outputs": [
    {
     "name": "stdout",
     "output_type": "stream",
     "text": [
      "<class 'str'>\n"
     ]
    }
   ],
   "source": [
    "x = ''\n",
    "print(type(x))"
   ]
  },
  {
   "cell_type": "code",
   "execution_count": 46,
   "id": "2090321e",
   "metadata": {},
   "outputs": [
    {
     "name": "stdout",
     "output_type": "stream",
     "text": [
      "<class 'NoneType'>\n"
     ]
    }
   ],
   "source": [
    "x = None\n",
    "print(type(x))"
   ]
  },
  {
   "cell_type": "code",
   "execution_count": null,
   "id": "191bf920",
   "metadata": {},
   "outputs": [],
   "source": [
    "Every data type will occupy some memory.\n",
    "That memory will be having some address.\n",
    "id() function gives you that address."
   ]
  },
  {
   "cell_type": "code",
   "execution_count": 47,
   "id": "c9e20324",
   "metadata": {},
   "outputs": [],
   "source": [
    "x = 40"
   ]
  },
  {
   "cell_type": "code",
   "execution_count": 49,
   "id": "b873dd32",
   "metadata": {},
   "outputs": [],
   "source": [
    "old_address = id(x)"
   ]
  },
  {
   "cell_type": "code",
   "execution_count": 50,
   "id": "e906b379",
   "metadata": {},
   "outputs": [],
   "source": [
    "x = 50"
   ]
  },
  {
   "cell_type": "code",
   "execution_count": 51,
   "id": "fcc3b371",
   "metadata": {},
   "outputs": [],
   "source": [
    "new_address = id(x)"
   ]
  },
  {
   "cell_type": "code",
   "execution_count": 52,
   "id": "096c461e",
   "metadata": {},
   "outputs": [
    {
     "name": "stdout",
     "output_type": "stream",
     "text": [
      "4380648936 4380649256\n"
     ]
    }
   ],
   "source": [
    "print(old_address,new_address)"
   ]
  },
  {
   "cell_type": "code",
   "execution_count": null,
   "id": "6ed6b041",
   "metadata": {},
   "outputs": [],
   "source": [
    "no_of_males = 0 # 0 no of males.\n",
    "no_of_males = None # calculation has not been done yet."
   ]
  },
  {
   "cell_type": "code",
   "execution_count": null,
   "id": "ee998a82",
   "metadata": {},
   "outputs": [],
   "source": [
    "Conversion of Data Types\n",
    "-converting a data type form one form to another."
   ]
  },
  {
   "cell_type": "code",
   "execution_count": 59,
   "id": "a430fce1",
   "metadata": {},
   "outputs": [],
   "source": [
    "x = 500.99999999"
   ]
  },
  {
   "cell_type": "code",
   "execution_count": 60,
   "id": "e9dd6574",
   "metadata": {},
   "outputs": [],
   "source": [
    "y = int(x)"
   ]
  },
  {
   "cell_type": "code",
   "execution_count": 61,
   "id": "fa9a08f9",
   "metadata": {},
   "outputs": [
    {
     "name": "stdout",
     "output_type": "stream",
     "text": [
      "500\n"
     ]
    }
   ],
   "source": [
    "print(y)"
   ]
  },
  {
   "cell_type": "code",
   "execution_count": 62,
   "id": "caa8bcb3",
   "metadata": {},
   "outputs": [],
   "source": [
    "employees = [ \n",
    " {'name': 'Aman',\n",
    " 'emp_id': 37,\n",
    " 'sallary': 1900,\n",
    " 'isMarried': True},\n",
    "{'name': 'Rohan',\n",
    " 'emp_id': 29,\n",
    " 'sallary': 33000,\n",
    " 'isMarried': False},\n",
    "{'name': 'Aadil',\n",
    " 'emp_id': 69,\n",
    " 'sallary': 121000,\n",
    " 'isMarried': True},\n",
    "{'name': 'Mohammed',\n",
    " 'emp_id': 53,\n",
    " 'sallary': 50000,\n",
    " 'isMarried': True}\n",
    "]"
   ]
  },
  {
   "cell_type": "code",
   "execution_count": 63,
   "id": "c050ac9d",
   "metadata": {},
   "outputs": [
    {
     "name": "stdout",
     "output_type": "stream",
     "text": [
      "<class 'dict'>\n"
     ]
    }
   ],
   "source": [
    "print(type(employees[0]))"
   ]
  },
  {
   "cell_type": "code",
   "execution_count": 64,
   "id": "6653154c",
   "metadata": {},
   "outputs": [
    {
     "name": "stdout",
     "output_type": "stream",
     "text": [
      "{'name': 'Aman', 'emp_id': 37, 'sallary': 1900, 'isMarried': True}\n"
     ]
    }
   ],
   "source": [
    "print(employees[0])"
   ]
  },
  {
   "cell_type": "code",
   "execution_count": 67,
   "id": "5417d47f",
   "metadata": {},
   "outputs": [
    {
     "name": "stdout",
     "output_type": "stream",
     "text": [
      "[{'name': 'Aman', 'emp_id': 37, 'sallary': 1900, 'isMarried': True}, {'name': 'Rohan', 'emp_id': 29, 'sallary': 33000, 'isMarried': False}, {'name': 'Aadil', 'emp_id': 69, 'sallary': 121000, 'isMarried': True}, {'name': 'Mohammed', 'emp_id': 53, 'sallary': 50000, 'isMarried': True}]\n"
     ]
    }
   ],
   "source": [
    "print(employees)"
   ]
  },
  {
   "cell_type": "code",
   "execution_count": 65,
   "id": "70e3dcb2",
   "metadata": {},
   "outputs": [],
   "source": [
    "x = 500\n",
    "y = float(x)"
   ]
  },
  {
   "cell_type": "code",
   "execution_count": 66,
   "id": "e5990b1c",
   "metadata": {},
   "outputs": [
    {
     "name": "stdout",
     "output_type": "stream",
     "text": [
      "500.0\n"
     ]
    }
   ],
   "source": [
    "print(y)"
   ]
  },
  {
   "cell_type": "code",
   "execution_count": 68,
   "id": "6fc9a885",
   "metadata": {},
   "outputs": [],
   "source": [
    "x = ['mango','kiwi',200,40.40]\n",
    "y = tuple(x)"
   ]
  },
  {
   "cell_type": "code",
   "execution_count": 69,
   "id": "9773c0bb",
   "metadata": {},
   "outputs": [
    {
     "name": "stdout",
     "output_type": "stream",
     "text": [
      "<class 'tuple'>\n"
     ]
    }
   ],
   "source": [
    "print(type(y))"
   ]
  },
  {
   "cell_type": "code",
   "execution_count": 70,
   "id": "ebe746de",
   "metadata": {},
   "outputs": [
    {
     "name": "stdout",
     "output_type": "stream",
     "text": [
      "('mango', 'kiwi', 200, 40.4)\n"
     ]
    }
   ],
   "source": [
    "print(y)"
   ]
  },
  {
   "cell_type": "code",
   "execution_count": 71,
   "id": "f85dee14",
   "metadata": {},
   "outputs": [
    {
     "ename": "TypeError",
     "evalue": "'tuple' object does not support item assignment",
     "output_type": "error",
     "traceback": [
      "\u001b[0;31m---------------------------------------------------------------------------\u001b[0m",
      "\u001b[0;31mTypeError\u001b[0m                                 Traceback (most recent call last)",
      "\u001b[0;32m/var/folders/9s/j9tqx4617_jg3hnd11b6g4080000gn/T/ipykernel_85143/439946231.py\u001b[0m in \u001b[0;36m<module>\u001b[0;34m\u001b[0m\n\u001b[0;32m----> 1\u001b[0;31m \u001b[0my\u001b[0m\u001b[0;34m[\u001b[0m\u001b[0;36m0\u001b[0m\u001b[0;34m]\u001b[0m \u001b[0;34m=\u001b[0m \u001b[0;34m'banana'\u001b[0m\u001b[0;34m\u001b[0m\u001b[0;34m\u001b[0m\u001b[0m\n\u001b[0m",
      "\u001b[0;31mTypeError\u001b[0m: 'tuple' object does not support item assignment"
     ]
    }
   ],
   "source": [
    "y[0] = 'banana'"
   ]
  },
  {
   "cell_type": "code",
   "execution_count": 72,
   "id": "7146a807",
   "metadata": {},
   "outputs": [],
   "source": [
    "aman_emp = {'name': 'Aman',\n",
    " 'emp_id': 37,\n",
    " 'sallary': 1900,\n",
    " 'isMarried': True}"
   ]
  },
  {
   "cell_type": "code",
   "execution_count": 73,
   "id": "0a8e5021",
   "metadata": {},
   "outputs": [],
   "source": [
    "aman_list = list(aman_emp)"
   ]
  },
  {
   "cell_type": "code",
   "execution_count": 74,
   "id": "b426955f",
   "metadata": {},
   "outputs": [
    {
     "name": "stdout",
     "output_type": "stream",
     "text": [
      "['name', 'emp_id', 'sallary', 'isMarried']\n"
     ]
    }
   ],
   "source": [
    "print(aman_list)"
   ]
  },
  {
   "cell_type": "code",
   "execution_count": null,
   "id": "a695cd80",
   "metadata": {},
   "outputs": [],
   "source": [
    "# list into set and back to list."
   ]
  },
  {
   "cell_type": "code",
   "execution_count": 75,
   "id": "51f6fe68",
   "metadata": {},
   "outputs": [
    {
     "name": "stdout",
     "output_type": "stream",
     "text": [
      "['apple', 1, 2, 3, 1, 2, 3, 'apple', 'mango', 'kiwi', 'kiwi']\n"
     ]
    }
   ],
   "source": [
    "x = ['apple',1,2,3,1,2,3,'apple','mango','kiwi','kiwi']\n",
    "print(x)"
   ]
  },
  {
   "cell_type": "code",
   "execution_count": 76,
   "id": "e021f126",
   "metadata": {},
   "outputs": [],
   "source": [
    "y = set(x)"
   ]
  },
  {
   "cell_type": "code",
   "execution_count": 77,
   "id": "33e8ef73",
   "metadata": {},
   "outputs": [
    {
     "name": "stdout",
     "output_type": "stream",
     "text": [
      "{1, 2, 3, 'mango', 'kiwi', 'apple'}\n"
     ]
    }
   ],
   "source": [
    "print(y)"
   ]
  },
  {
   "cell_type": "code",
   "execution_count": 78,
   "id": "67fb0c97",
   "metadata": {},
   "outputs": [],
   "source": [
    "z = list(y)"
   ]
  },
  {
   "cell_type": "code",
   "execution_count": 79,
   "id": "d3a4732b",
   "metadata": {},
   "outputs": [
    {
     "name": "stdout",
     "output_type": "stream",
     "text": [
      "[1, 2, 3, 'mango', 'kiwi', 'apple']\n"
     ]
    }
   ],
   "source": [
    "print(z)"
   ]
  },
  {
   "cell_type": "code",
   "execution_count": 80,
   "id": "275ebf45",
   "metadata": {},
   "outputs": [],
   "source": [
    "subject_for_data_science = ['python','data analytics', 'data wrangling',\n",
    "                           'statistics','machine learning']"
   ]
  },
  {
   "cell_type": "code",
   "execution_count": 81,
   "id": "968af50d",
   "metadata": {},
   "outputs": [
    {
     "data": {
      "text/plain": [
       "'python'"
      ]
     },
     "execution_count": 81,
     "metadata": {},
     "output_type": "execute_result"
    }
   ],
   "source": [
    "subject_for_data_science[0]"
   ]
  },
  {
   "cell_type": "code",
   "execution_count": 82,
   "id": "80088e71",
   "metadata": {},
   "outputs": [
    {
     "data": {
      "text/plain": [
       "'data analytics'"
      ]
     },
     "execution_count": 82,
     "metadata": {},
     "output_type": "execute_result"
    }
   ],
   "source": [
    "subject_for_data_science[1]"
   ]
  },
  {
   "cell_type": "code",
   "execution_count": null,
   "id": "1e8f6388",
   "metadata": {},
   "outputs": [],
   "source": []
  }
 ],
 "metadata": {
  "kernelspec": {
   "display_name": "Python 3 (ipykernel)",
   "language": "python",
   "name": "python3"
  },
  "language_info": {
   "codemirror_mode": {
    "name": "ipython",
    "version": 3
   },
   "file_extension": ".py",
   "mimetype": "text/x-python",
   "name": "python",
   "nbconvert_exporter": "python",
   "pygments_lexer": "ipython3",
   "version": "3.8.9"
  }
 },
 "nbformat": 4,
 "nbformat_minor": 5
}
