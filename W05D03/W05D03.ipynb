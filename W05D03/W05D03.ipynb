{
 "cells": [
  {
   "cell_type": "code",
   "execution_count": null,
   "id": "be4ceee7",
   "metadata": {},
   "outputs": [],
   "source": [
    "Data Types:\n",
    "    Immutable:\n",
    "        tuple\n",
    "        str\n",
    "        int,float,None,bool\n",
    "    Mutable:\n",
    "        list\n",
    "        dict\n",
    "        set\n",
    "    \n",
    "    dict keys and set elements are unique and immutable\n",
    "    \n",
    "Operators:\n",
    "    Arithmetic Operators (+,-,*,/,//,%,**)\n",
    "    Logical Operators(and,or,not)\n",
    "    Membership (in,not in)\n",
    "    Identity (is, is not)\n",
    "    Comparison (<,>,>=,==,>=)\n",
    "    Assignment(=,+=,-=,*=,..)\n",
    "    \n",
    "if boolean_output:\n",
    "    print('happy')\n",
    "else:\n",
    "    print('sad')\n",
    "boolean_output is True Equivalent it will print happy , other wise sad.\n",
    "\n",
    "if x:\n",
    "    pass\n",
    "elif y:\n",
    "    pass\n",
    "elif z:\n",
    "    pass\n",
    "\n",
    "loops: for, while\n",
    "\n",
    "pass, break , continue\n",
    "\n",
    "Functions: global,local,and builtin namespace\n",
    "    \n",
    "Parameter passing techniques: variable arguments, named arguments,\n",
    "    default arguments,etc\n",
    "    \n",
    "Modules and Packages: import, structure\n",
    "    \n",
    "Regular Expressions\n",
    "\n",
    "File Handling in Text Files: r,r+,w,w+,a,a+"
   ]
  },
  {
   "cell_type": "code",
   "execution_count": 2,
   "id": "67c91279",
   "metadata": {},
   "outputs": [
    {
     "name": "stdout",
     "output_type": "stream",
     "text": [
      "2\n",
      "3\n",
      "4\n"
     ]
    }
   ],
   "source": [
    "x = 5\n",
    "\n",
    "for i in range(2,10):\n",
    "    if i == 5:\n",
    "        break\n",
    "    print(i)"
   ]
  },
  {
   "cell_type": "code",
   "execution_count": 3,
   "id": "021277e4",
   "metadata": {},
   "outputs": [
    {
     "name": "stdout",
     "output_type": "stream",
     "text": [
      "2\n",
      "3\n",
      "4\n",
      "6\n",
      "7\n",
      "8\n",
      "9\n"
     ]
    }
   ],
   "source": [
    "x = 5\n",
    "\n",
    "for i in range(2,10):\n",
    "    if i == 5:\n",
    "        continue\n",
    "    print(i)"
   ]
  },
  {
   "cell_type": "markdown",
   "id": "33d48248",
   "metadata": {},
   "source": [
    "# Functional Programming"
   ]
  },
  {
   "cell_type": "markdown",
   "id": "4b54fdea",
   "metadata": {},
   "source": [
    "# map"
   ]
  },
  {
   "cell_type": "code",
   "execution_count": 4,
   "id": "4dad5e5a",
   "metadata": {},
   "outputs": [],
   "source": [
    "def sqr(no):\n",
    "    return no**2"
   ]
  },
  {
   "cell_type": "code",
   "execution_count": 5,
   "id": "a394cc9c",
   "metadata": {},
   "outputs": [
    {
     "data": {
      "text/plain": [
       "4"
      ]
     },
     "execution_count": 5,
     "metadata": {},
     "output_type": "execute_result"
    }
   ],
   "source": [
    "sqr(2)"
   ]
  },
  {
   "cell_type": "code",
   "execution_count": 6,
   "id": "668076de",
   "metadata": {},
   "outputs": [],
   "source": [
    "no_list = [1,2,4,6]"
   ]
  },
  {
   "cell_type": "code",
   "execution_count": 7,
   "id": "212e3237",
   "metadata": {},
   "outputs": [
    {
     "name": "stdout",
     "output_type": "stream",
     "text": [
      "[1, 4, 16, 36]\n"
     ]
    }
   ],
   "source": [
    "sqr_list = []\n",
    "for no in no_list:\n",
    "    y = sqr(no)\n",
    "    sqr_list.append(y)\n",
    "print(sqr_list)"
   ]
  },
  {
   "cell_type": "code",
   "execution_count": null,
   "id": "5630525c",
   "metadata": {},
   "outputs": [],
   "source": [
    "# syntax\n",
    "# map(function_name,iterable)"
   ]
  },
  {
   "cell_type": "code",
   "execution_count": 12,
   "id": "14388659",
   "metadata": {},
   "outputs": [
    {
     "data": {
      "text/plain": [
       "[1, 4, 16, 36]"
      ]
     },
     "execution_count": 12,
     "metadata": {},
     "output_type": "execute_result"
    }
   ],
   "source": [
    "list(map(sqr,no_list))"
   ]
  },
  {
   "cell_type": "code",
   "execution_count": 13,
   "id": "512e9ab3",
   "metadata": {},
   "outputs": [],
   "source": [
    "def inc(no):\n",
    "    return no+1"
   ]
  },
  {
   "cell_type": "code",
   "execution_count": 18,
   "id": "bca3aab1",
   "metadata": {},
   "outputs": [
    {
     "data": {
      "text/plain": [
       "[420, 786, 69]"
      ]
     },
     "execution_count": 18,
     "metadata": {},
     "output_type": "execute_result"
    }
   ],
   "source": [
    "list(map(inc,[419,785,68]))"
   ]
  },
  {
   "cell_type": "code",
   "execution_count": 19,
   "id": "f7806a77",
   "metadata": {},
   "outputs": [],
   "source": [
    "def sqr(no):\n",
    "    return no**2"
   ]
  },
  {
   "cell_type": "code",
   "execution_count": 21,
   "id": "118cfc4d",
   "metadata": {},
   "outputs": [
    {
     "data": {
      "text/plain": [
       "[9, 16]"
      ]
     },
     "execution_count": 21,
     "metadata": {},
     "output_type": "execute_result"
    }
   ],
   "source": [
    "list(map(sqr,[3,4]))"
   ]
  },
  {
   "cell_type": "code",
   "execution_count": 22,
   "id": "b4a8d9d9",
   "metadata": {},
   "outputs": [],
   "source": [
    "def happy(no):\n",
    "    return (no-1)*2"
   ]
  },
  {
   "cell_type": "code",
   "execution_count": 25,
   "id": "ec2be10d",
   "metadata": {},
   "outputs": [
    {
     "data": {
      "text/plain": [
       "[38, 24, 6]"
      ]
     },
     "execution_count": 25,
     "metadata": {},
     "output_type": "execute_result"
    }
   ],
   "source": [
    "list(map(happy,[20,13,4]))"
   ]
  },
  {
   "cell_type": "markdown",
   "id": "1fad1b86",
   "metadata": {},
   "source": [
    "# Filter"
   ]
  },
  {
   "cell_type": "code",
   "execution_count": 29,
   "id": "c33906ba",
   "metadata": {},
   "outputs": [],
   "source": [
    "collection = ['apple',23,'mango',550,(1,2),True,False,{34,23},{'a':1}]\n",
    "\n",
    "# you only want strings from this collection"
   ]
  },
  {
   "cell_type": "code",
   "execution_count": 30,
   "id": "96dc30f1",
   "metadata": {},
   "outputs": [
    {
     "name": "stdout",
     "output_type": "stream",
     "text": [
      "['apple', 'mango']\n"
     ]
    }
   ],
   "source": [
    "final_list = []\n",
    "for item in collection:\n",
    "    if type(item) == type('magic'):\n",
    "        final_list.append(item)\n",
    "print(final_list)"
   ]
  },
  {
   "cell_type": "code",
   "execution_count": 31,
   "id": "69f75e2f",
   "metadata": {},
   "outputs": [],
   "source": [
    "def is_string(item):\n",
    "    if type(item) == type('magic'):\n",
    "        return True"
   ]
  },
  {
   "cell_type": "code",
   "execution_count": 32,
   "id": "8b8d7b76",
   "metadata": {},
   "outputs": [
    {
     "data": {
      "text/plain": [
       "False"
      ]
     },
     "execution_count": 32,
     "metadata": {},
     "output_type": "execute_result"
    }
   ],
   "source": [
    "bool(None)"
   ]
  },
  {
   "cell_type": "code",
   "execution_count": 34,
   "id": "538a2572",
   "metadata": {},
   "outputs": [
    {
     "name": "stdout",
     "output_type": "stream",
     "text": [
      "False\n"
     ]
    }
   ],
   "source": [
    "print(bool(is_string(34)))"
   ]
  },
  {
   "cell_type": "code",
   "execution_count": 35,
   "id": "98063aa5",
   "metadata": {},
   "outputs": [
    {
     "data": {
      "text/plain": [
       "True"
      ]
     },
     "execution_count": 35,
     "metadata": {},
     "output_type": "execute_result"
    }
   ],
   "source": [
    "is_string('tappu')"
   ]
  },
  {
   "cell_type": "code",
   "execution_count": 38,
   "id": "3f0db25a",
   "metadata": {},
   "outputs": [
    {
     "data": {
      "text/plain": [
       "['apple', 'mango']"
      ]
     },
     "execution_count": 38,
     "metadata": {},
     "output_type": "execute_result"
    }
   ],
   "source": [
    "list(filter(is_string,['apple',23,'mango',550,(1,2),{'a':1}]))"
   ]
  },
  {
   "cell_type": "code",
   "execution_count": 39,
   "id": "26699b80",
   "metadata": {},
   "outputs": [
    {
     "name": "stdout",
     "output_type": "stream",
     "text": [
      "[2, 4, 6, 8]\n"
     ]
    }
   ],
   "source": [
    "numbers = [1,2,3,4,5,6,7,8]\n",
    "\n",
    "even = []\n",
    "for no in numbers:\n",
    "    if no%2 == 0:\n",
    "        even.append(no)\n",
    "print(even)"
   ]
  },
  {
   "cell_type": "code",
   "execution_count": 40,
   "id": "f8b290d6",
   "metadata": {},
   "outputs": [],
   "source": [
    "def is_even(no):\n",
    "    if no%2 == 0:\n",
    "        return True"
   ]
  },
  {
   "cell_type": "code",
   "execution_count": 42,
   "id": "bb790d35",
   "metadata": {},
   "outputs": [
    {
     "data": {
      "text/plain": [
       "[2, 4, 6, 8]"
      ]
     },
     "execution_count": 42,
     "metadata": {},
     "output_type": "execute_result"
    }
   ],
   "source": [
    "list(filter(is_even,[1,2,3,4,5,6,7,8]))"
   ]
  },
  {
   "cell_type": "code",
   "execution_count": 43,
   "id": "da884540",
   "metadata": {},
   "outputs": [
    {
     "data": {
      "text/plain": [
       "[None, True, None, True, None, True, None, True]"
      ]
     },
     "execution_count": 43,
     "metadata": {},
     "output_type": "execute_result"
    }
   ],
   "source": [
    "list(map(is_even,[1,2,3,4,5,6,7,8]))"
   ]
  },
  {
   "cell_type": "code",
   "execution_count": 47,
   "id": "f7501542",
   "metadata": {},
   "outputs": [],
   "source": [
    "employees = [ \n",
    " {'name': 'Aman',\n",
    " 'emp_id': 37,\n",
    " 'sallary': 1900,\n",
    " 'isMarried': True},\n",
    "{'name': 'Rohan',\n",
    " 'emp_id': 29,\n",
    " 'sallary': 33000,\n",
    " 'isMarried': False},\n",
    "{'name': 'Aadil',\n",
    " 'emp_id': 69,\n",
    " 'sallary': 121000,\n",
    " 'isMarried': True},\n",
    "{'name': 'Mohammed',\n",
    " 'emp_id': 53,\n",
    " 'sallary': 50000,\n",
    " 'isMarried': True}\n",
    "]"
   ]
  },
  {
   "cell_type": "code",
   "execution_count": 48,
   "id": "85afeb85",
   "metadata": {},
   "outputs": [],
   "source": [
    "def is_married(emp_detail):\n",
    "    if emp_detail['isMarried'] == True:\n",
    "        return True"
   ]
  },
  {
   "cell_type": "code",
   "execution_count": 50,
   "id": "3523d790",
   "metadata": {},
   "outputs": [
    {
     "data": {
      "text/plain": [
       "[{'name': 'Aman', 'emp_id': 37, 'sallary': 1900, 'isMarried': True},\n",
       " {'name': 'Aadil', 'emp_id': 69, 'sallary': 121000, 'isMarried': True},\n",
       " {'name': 'Mohammed', 'emp_id': 53, 'sallary': 50000, 'isMarried': True}]"
      ]
     },
     "execution_count": 50,
     "metadata": {},
     "output_type": "execute_result"
    }
   ],
   "source": [
    "list(filter(is_married,employees))"
   ]
  },
  {
   "cell_type": "code",
   "execution_count": 51,
   "id": "2e101d6f",
   "metadata": {},
   "outputs": [],
   "source": [
    "def is_high_sallary(emp_detail):\n",
    "    if emp_detail[\"sallary\"] > 49000:\n",
    "        return True"
   ]
  },
  {
   "cell_type": "code",
   "execution_count": 52,
   "id": "2f1d5b2f",
   "metadata": {},
   "outputs": [
    {
     "data": {
      "text/plain": [
       "[{'name': 'Aadil', 'emp_id': 69, 'sallary': 121000, 'isMarried': True},\n",
       " {'name': 'Mohammed', 'emp_id': 53, 'sallary': 50000, 'isMarried': True}]"
      ]
     },
     "execution_count": 52,
     "metadata": {},
     "output_type": "execute_result"
    }
   ],
   "source": [
    "list(filter(is_high_sallary,employees))"
   ]
  },
  {
   "cell_type": "code",
   "execution_count": null,
   "id": "b3fc835e",
   "metadata": {},
   "outputs": [],
   "source": [
    "Question: Use employees list above , and create a senetence for\n",
    "    every emp_dict, by using paramter passing technique in the\n",
    "    function which will be used in map."
   ]
  },
  {
   "cell_type": "code",
   "execution_count": null,
   "id": "a7b0c358",
   "metadata": {},
   "outputs": [],
   "source": [
    "employees = [ \n",
    " {'name': 'Aman',\n",
    " 'emp_id': 37,\n",
    " 'sallary': 1900,\n",
    " 'isMarried': True},\n",
    "{'name': 'Rohan',\n",
    " 'emp_id': 29,\n",
    " 'sallary': 33000,\n",
    " 'isMarried': False},\n",
    "{'name': 'Aadil',\n",
    " 'emp_id': 69,\n",
    " 'sallary': 121000,\n",
    " 'isMarried': True},\n",
    "{'name': 'Mohammed',\n",
    " 'emp_id': 53,\n",
    " 'sallary': 50000,\n",
    " 'isMarried': True}\n",
    "]"
   ]
  },
  {
   "cell_type": "code",
   "execution_count": 57,
   "id": "2f493b0b",
   "metadata": {},
   "outputs": [],
   "source": [
    "def make_sentence(name,emp_id,sallary,isMarried):\n",
    "    marriage_part  = 'is married.'\n",
    "    if isMarried == False:\n",
    "        marriage_part = 'is not married.'\n",
    "    return name+' with emp id = ' + str(emp_id) + ' is working with sallary = ' + str(sallary) + ' and '+marriage_part"
   ]
  },
  {
   "cell_type": "code",
   "execution_count": 64,
   "id": "50b65dab",
   "metadata": {},
   "outputs": [
    {
     "data": {
      "text/plain": [
       "'Sajal Tiwari with emp id = 45 is working with sallary = 100000 and is not married.'"
      ]
     },
     "execution_count": 64,
     "metadata": {},
     "output_type": "execute_result"
    }
   ],
   "source": [
    "sajal_info = {'name':'Sajal Tiwari',\n",
    "'emp_id':45,\n",
    "'sallary': 100000,\n",
    "'isMarried':False}\n",
    "\n",
    "make_sentence(**sajal_info)"
   ]
  },
  {
   "cell_type": "code",
   "execution_count": 61,
   "id": "a01ac491",
   "metadata": {},
   "outputs": [
    {
     "data": {
      "text/plain": [
       "'Sajal Tiwari with emp id = 45 is working with sallary = 100000 and is not married.'"
      ]
     },
     "execution_count": 61,
     "metadata": {},
     "output_type": "execute_result"
    }
   ],
   "source": [
    "make_sentence('Sajal Tiwari','45',100000,False)"
   ]
  },
  {
   "cell_type": "code",
   "execution_count": 66,
   "id": "eade8195",
   "metadata": {},
   "outputs": [
    {
     "name": "stdout",
     "output_type": "stream",
     "text": [
      "Aman with emp id = 37 is working with sallary = 1900 and is married.\n",
      "Rohan with emp id = 29 is working with sallary = 33000 and is not married.\n",
      "Aadil with emp id = 69 is working with sallary = 121000 and is married.\n",
      "Mohammed with emp id = 53 is working with sallary = 50000 and is married.\n"
     ]
    }
   ],
   "source": [
    "for emp in employees:\n",
    "    print(make_sentence(**emp))"
   ]
  },
  {
   "cell_type": "markdown",
   "id": "20dd0778",
   "metadata": {},
   "source": [
    "# lambda functions"
   ]
  },
  {
   "cell_type": "code",
   "execution_count": 72,
   "id": "e0f53bad",
   "metadata": {},
   "outputs": [],
   "source": [
    "def is_even(no):\n",
    "    return no%2 == 0"
   ]
  },
  {
   "cell_type": "code",
   "execution_count": 73,
   "id": "37f96b35",
   "metadata": {},
   "outputs": [
    {
     "data": {
      "text/plain": [
       "False"
      ]
     },
     "execution_count": 73,
     "metadata": {},
     "output_type": "execute_result"
    }
   ],
   "source": [
    "is_even(3)"
   ]
  },
  {
   "cell_type": "code",
   "execution_count": 74,
   "id": "3b1f1729",
   "metadata": {},
   "outputs": [
    {
     "data": {
      "text/plain": [
       "True"
      ]
     },
     "execution_count": 74,
     "metadata": {},
     "output_type": "execute_result"
    }
   ],
   "source": [
    "is_even(4)"
   ]
  },
  {
   "cell_type": "code",
   "execution_count": null,
   "id": "0e6352f6",
   "metadata": {},
   "outputs": [],
   "source": [
    "Syntax: lambda input : output"
   ]
  },
  {
   "cell_type": "code",
   "execution_count": 75,
   "id": "31b9e2ea",
   "metadata": {},
   "outputs": [],
   "source": [
    "is_even = lambda no : no%2 == 0"
   ]
  },
  {
   "cell_type": "code",
   "execution_count": 76,
   "id": "665bcebc",
   "metadata": {},
   "outputs": [
    {
     "data": {
      "text/plain": [
       "False"
      ]
     },
     "execution_count": 76,
     "metadata": {},
     "output_type": "execute_result"
    }
   ],
   "source": [
    "is_even(45)"
   ]
  },
  {
   "cell_type": "code",
   "execution_count": 77,
   "id": "6ed061c5",
   "metadata": {},
   "outputs": [
    {
     "data": {
      "text/plain": [
       "True"
      ]
     },
     "execution_count": 77,
     "metadata": {},
     "output_type": "execute_result"
    }
   ],
   "source": [
    "is_even(22)"
   ]
  },
  {
   "cell_type": "code",
   "execution_count": null,
   "id": "1f89e5cb",
   "metadata": {},
   "outputs": [],
   "source": [
    "- There is no Return Statment\n",
    "- There is a usage of lambda keyword\n",
    "- It is 1 liner"
   ]
  },
  {
   "cell_type": "code",
   "execution_count": null,
   "id": "551a27b4",
   "metadata": {},
   "outputs": [],
   "source": [
    "# map(function,iterable)"
   ]
  },
  {
   "cell_type": "code",
   "execution_count": 79,
   "id": "c3fec19b",
   "metadata": {},
   "outputs": [
    {
     "data": {
      "text/plain": [
       "[2, 4, 6, 8, 10, 22, 34]"
      ]
     },
     "execution_count": 79,
     "metadata": {},
     "output_type": "execute_result"
    }
   ],
   "source": [
    "list(filter(lambda no : no%2 == 0,[1,2,3,4,5,6,7,8,9,10,22,23,34,43]))"
   ]
  },
  {
   "cell_type": "code",
   "execution_count": null,
   "id": "7ef5ea90",
   "metadata": {},
   "outputs": [],
   "source": [
    "Question: Write a lambda function to return +1 of the no given to it."
   ]
  },
  {
   "cell_type": "code",
   "execution_count": 80,
   "id": "ee4bb3e3",
   "metadata": {},
   "outputs": [],
   "source": [
    "plus_one = lambda no : no+1"
   ]
  },
  {
   "cell_type": "code",
   "execution_count": 81,
   "id": "a12a1c62",
   "metadata": {},
   "outputs": [
    {
     "data": {
      "text/plain": [
       "5"
      ]
     },
     "execution_count": 81,
     "metadata": {},
     "output_type": "execute_result"
    }
   ],
   "source": [
    "plus_one(4)"
   ]
  },
  {
   "cell_type": "code",
   "execution_count": 82,
   "id": "0a286284",
   "metadata": {},
   "outputs": [
    {
     "data": {
      "text/plain": [
       "34"
      ]
     },
     "execution_count": 82,
     "metadata": {},
     "output_type": "execute_result"
    }
   ],
   "source": [
    "plus_one(33)"
   ]
  },
  {
   "cell_type": "code",
   "execution_count": null,
   "id": "73caba92",
   "metadata": {},
   "outputs": [],
   "source": []
  }
 ],
 "metadata": {
  "kernelspec": {
   "display_name": "Python 3 (ipykernel)",
   "language": "python",
   "name": "python3"
  },
  "language_info": {
   "codemirror_mode": {
    "name": "ipython",
    "version": 3
   },
   "file_extension": ".py",
   "mimetype": "text/x-python",
   "name": "python",
   "nbconvert_exporter": "python",
   "pygments_lexer": "ipython3",
   "version": "3.8.9"
  }
 },
 "nbformat": 4,
 "nbformat_minor": 5
}
