{
 "cells": [
  {
   "cell_type": "code",
   "execution_count": null,
   "id": "24b26eee",
   "metadata": {},
   "outputs": [],
   "source": [
    "MODULES:\n",
    "    .PY FILE WHICH WILL CONTAINS PYTHON CODE LIKE FUNCITONS,VARIABLES,\n",
    "    CLASSES...etc\n",
    "Package:\n",
    "    Folder which contains modules and files which will be used by\n",
    "    those modules."
   ]
  },
  {
   "cell_type": "code",
   "execution_count": null,
   "id": "43cf2a60",
   "metadata": {},
   "outputs": [],
   "source": [
    "import name_of_the_module\n",
    "from name_of_the_module import name_of_thing"
   ]
  },
  {
   "cell_type": "code",
   "execution_count": 1,
   "id": "4490dba8",
   "metadata": {},
   "outputs": [],
   "source": [
    "import netflix"
   ]
  },
  {
   "cell_type": "code",
   "execution_count": 2,
   "id": "b8a38470",
   "metadata": {},
   "outputs": [
    {
     "data": {
      "text/plain": [
       "['The 100', 'Game of Thrones', 'Breaking Bad']"
      ]
     },
     "execution_count": 2,
     "metadata": {},
     "output_type": "execute_result"
    }
   ],
   "source": [
    "netflix.favourate_shows"
   ]
  },
  {
   "cell_type": "code",
   "execution_count": 3,
   "id": "00e3bec8",
   "metadata": {},
   "outputs": [
    {
     "name": "stdout",
     "output_type": "stream",
     "text": [
      "|||||||||| NETFLIX ||||||||||||\n",
      "Suryavansham\n"
     ]
    }
   ],
   "source": [
    "netflix.play('Suryavansham')"
   ]
  },
  {
   "cell_type": "code",
   "execution_count": 4,
   "id": "081068fa",
   "metadata": {},
   "outputs": [
    {
     "name": "stdout",
     "output_type": "stream",
     "text": [
      "Paused Suryavansham\n"
     ]
    }
   ],
   "source": [
    "netflix.pause()"
   ]
  },
  {
   "cell_type": "code",
   "execution_count": null,
   "id": "93668305",
   "metadata": {},
   "outputs": [],
   "source": [
    "Local Variables:\n",
    "    Variables defined inside the function\n",
    "    \n",
    "Global Variables:\n",
    "    Variables defined outsie any function or class."
   ]
  },
  {
   "cell_type": "code",
   "execution_count": 1,
   "id": "b2b3e4a8",
   "metadata": {},
   "outputs": [],
   "source": [
    "from netflix import play"
   ]
  },
  {
   "cell_type": "code",
   "execution_count": 2,
   "id": "1a095c43",
   "metadata": {},
   "outputs": [
    {
     "name": "stdout",
     "output_type": "stream",
     "text": [
      "|||||||||| NETFLIX ||||||||||||\n",
      "Don't look up\n"
     ]
    }
   ],
   "source": [
    "play(\"Don't look up\")"
   ]
  },
  {
   "cell_type": "code",
   "execution_count": 3,
   "id": "f71a68a2",
   "metadata": {},
   "outputs": [
    {
     "ename": "NameError",
     "evalue": "name 'netflix' is not defined",
     "output_type": "error",
     "traceback": [
      "\u001b[0;31m---------------------------------------------------------------------------\u001b[0m",
      "\u001b[0;31mNameError\u001b[0m                                 Traceback (most recent call last)",
      "\u001b[0;32m/var/folders/9s/j9tqx4617_jg3hnd11b6g4080000gn/T/ipykernel_54513/2662228229.py\u001b[0m in \u001b[0;36m<module>\u001b[0;34m\u001b[0m\n\u001b[0;32m----> 1\u001b[0;31m \u001b[0mnetflix\u001b[0m\u001b[0;34m.\u001b[0m\u001b[0mpause\u001b[0m\u001b[0;34m(\u001b[0m\u001b[0;34m)\u001b[0m\u001b[0;34m\u001b[0m\u001b[0;34m\u001b[0m\u001b[0m\n\u001b[0m",
      "\u001b[0;31mNameError\u001b[0m: name 'netflix' is not defined"
     ]
    }
   ],
   "source": [
    "netflix.pause()"
   ]
  },
  {
   "cell_type": "code",
   "execution_count": 4,
   "id": "ae893861",
   "metadata": {},
   "outputs": [
    {
     "ename": "NameError",
     "evalue": "name 'netflix' is not defined",
     "output_type": "error",
     "traceback": [
      "\u001b[0;31m---------------------------------------------------------------------------\u001b[0m",
      "\u001b[0;31mNameError\u001b[0m                                 Traceback (most recent call last)",
      "\u001b[0;32m/var/folders/9s/j9tqx4617_jg3hnd11b6g4080000gn/T/ipykernel_54513/4177878262.py\u001b[0m in \u001b[0;36m<module>\u001b[0;34m\u001b[0m\n\u001b[0;32m----> 1\u001b[0;31m \u001b[0mnetflix\u001b[0m\u001b[0;34m.\u001b[0m\u001b[0mplay\u001b[0m\u001b[0;34m(\u001b[0m\u001b[0;34m)\u001b[0m\u001b[0;34m\u001b[0m\u001b[0;34m\u001b[0m\u001b[0m\n\u001b[0m",
      "\u001b[0;31mNameError\u001b[0m: name 'netflix' is not defined"
     ]
    }
   ],
   "source": [
    "netflix.play()"
   ]
  },
  {
   "cell_type": "code",
   "execution_count": 5,
   "id": "526ec72e",
   "metadata": {},
   "outputs": [],
   "source": [
    "from netflix import play,pause"
   ]
  },
  {
   "cell_type": "code",
   "execution_count": 6,
   "id": "11b5eaac",
   "metadata": {},
   "outputs": [
    {
     "name": "stdout",
     "output_type": "stream",
     "text": [
      "|||||||||| NETFLIX ||||||||||||\n",
      "Emily in Paris\n"
     ]
    }
   ],
   "source": [
    "play('Emily in Paris')"
   ]
  },
  {
   "cell_type": "code",
   "execution_count": 7,
   "id": "e774f1e5",
   "metadata": {},
   "outputs": [
    {
     "name": "stdout",
     "output_type": "stream",
     "text": [
      "Paused Emily in Paris\n"
     ]
    }
   ],
   "source": [
    "pause()"
   ]
  },
  {
   "cell_type": "code",
   "execution_count": 8,
   "id": "9a36bd76",
   "metadata": {},
   "outputs": [
    {
     "data": {
      "text/plain": [
       "4"
      ]
     },
     "execution_count": 8,
     "metadata": {},
     "output_type": "execute_result"
    }
   ],
   "source": [
    "list1 = [1,2,3,4]\n",
    "max(list1)"
   ]
  },
  {
   "cell_type": "code",
   "execution_count": null,
   "id": "38a31c48",
   "metadata": {},
   "outputs": [],
   "source": [
    "What is max()?\n",
    "\n",
    "max() here is a builtin function"
   ]
  },
  {
   "cell_type": "code",
   "execution_count": 9,
   "id": "2e0d25d3",
   "metadata": {},
   "outputs": [
    {
     "ename": "NameError",
     "evalue": "name 'yum' is not defined",
     "output_type": "error",
     "traceback": [
      "\u001b[0;31m---------------------------------------------------------------------------\u001b[0m",
      "\u001b[0;31mNameError\u001b[0m                                 Traceback (most recent call last)",
      "\u001b[0;32m/var/folders/9s/j9tqx4617_jg3hnd11b6g4080000gn/T/ipykernel_54513/3078219958.py\u001b[0m in \u001b[0;36m<module>\u001b[0;34m\u001b[0m\n\u001b[0;32m----> 1\u001b[0;31m \u001b[0myum\u001b[0m\u001b[0;34m\u001b[0m\u001b[0;34m\u001b[0m\u001b[0m\n\u001b[0m",
      "\u001b[0;31mNameError\u001b[0m: name 'yum' is not defined"
     ]
    }
   ],
   "source": [
    "yum"
   ]
  },
  {
   "cell_type": "code",
   "execution_count": 10,
   "id": "25a2a434",
   "metadata": {},
   "outputs": [],
   "source": [
    "# math is a builtin module"
   ]
  },
  {
   "cell_type": "code",
   "execution_count": 11,
   "id": "7ceb9704",
   "metadata": {},
   "outputs": [],
   "source": [
    "import math"
   ]
  },
  {
   "cell_type": "code",
   "execution_count": 12,
   "id": "57df266d",
   "metadata": {},
   "outputs": [
    {
     "name": "stdout",
     "output_type": "stream",
     "text": [
      "3.141592653589793\n"
     ]
    }
   ],
   "source": [
    "print(math.pi)"
   ]
  },
  {
   "cell_type": "code",
   "execution_count": null,
   "id": "a0ce6fd1",
   "metadata": {},
   "outputs": [],
   "source": [
    "dir()\n",
    "\n",
    "dir() builtin function gives us all the names inside a module,\n",
    "function, or global if no arguments is passed inside dir()"
   ]
  },
  {
   "cell_type": "code",
   "execution_count": 13,
   "id": "b033c7c1",
   "metadata": {},
   "outputs": [
    {
     "data": {
      "text/plain": [
       "['__doc__',\n",
       " '__file__',\n",
       " '__loader__',\n",
       " '__name__',\n",
       " '__package__',\n",
       " '__spec__',\n",
       " 'acos',\n",
       " 'acosh',\n",
       " 'asin',\n",
       " 'asinh',\n",
       " 'atan',\n",
       " 'atan2',\n",
       " 'atanh',\n",
       " 'ceil',\n",
       " 'comb',\n",
       " 'copysign',\n",
       " 'cos',\n",
       " 'cosh',\n",
       " 'degrees',\n",
       " 'dist',\n",
       " 'e',\n",
       " 'erf',\n",
       " 'erfc',\n",
       " 'exp',\n",
       " 'expm1',\n",
       " 'fabs',\n",
       " 'factorial',\n",
       " 'floor',\n",
       " 'fmod',\n",
       " 'frexp',\n",
       " 'fsum',\n",
       " 'gamma',\n",
       " 'gcd',\n",
       " 'hypot',\n",
       " 'inf',\n",
       " 'isclose',\n",
       " 'isfinite',\n",
       " 'isinf',\n",
       " 'isnan',\n",
       " 'isqrt',\n",
       " 'ldexp',\n",
       " 'lgamma',\n",
       " 'log',\n",
       " 'log10',\n",
       " 'log1p',\n",
       " 'log2',\n",
       " 'modf',\n",
       " 'nan',\n",
       " 'perm',\n",
       " 'pi',\n",
       " 'pow',\n",
       " 'prod',\n",
       " 'radians',\n",
       " 'remainder',\n",
       " 'sin',\n",
       " 'sinh',\n",
       " 'sqrt',\n",
       " 'tan',\n",
       " 'tanh',\n",
       " 'tau',\n",
       " 'trunc']"
      ]
     },
     "execution_count": 13,
     "metadata": {},
     "output_type": "execute_result"
    }
   ],
   "source": [
    "dir(math)"
   ]
  },
  {
   "cell_type": "code",
   "execution_count": null,
   "id": "37c05e20",
   "metadata": {},
   "outputs": [],
   "source": [
    "help()\n",
    "if you wish to see which name is a function and how to use it."
   ]
  },
  {
   "cell_type": "code",
   "execution_count": 14,
   "id": "dcade0ac",
   "metadata": {},
   "outputs": [
    {
     "name": "stdout",
     "output_type": "stream",
     "text": [
      "Help on module math:\n",
      "\n",
      "NAME\n",
      "    math\n",
      "\n",
      "MODULE REFERENCE\n",
      "    https://docs.python.org/3.8/library/math\n",
      "    \n",
      "    The following documentation is automatically generated from the Python\n",
      "    source files.  It may be incomplete, incorrect or include features that\n",
      "    are considered implementation detail and may vary between Python\n",
      "    implementations.  When in doubt, consult the module reference at the\n",
      "    location listed above.\n",
      "\n",
      "DESCRIPTION\n",
      "    This module provides access to the mathematical functions\n",
      "    defined by the C standard.\n",
      "\n",
      "FUNCTIONS\n",
      "    acos(x, /)\n",
      "        Return the arc cosine (measured in radians) of x.\n",
      "    \n",
      "    acosh(x, /)\n",
      "        Return the inverse hyperbolic cosine of x.\n",
      "    \n",
      "    asin(x, /)\n",
      "        Return the arc sine (measured in radians) of x.\n",
      "    \n",
      "    asinh(x, /)\n",
      "        Return the inverse hyperbolic sine of x.\n",
      "    \n",
      "    atan(x, /)\n",
      "        Return the arc tangent (measured in radians) of x.\n",
      "    \n",
      "    atan2(y, x, /)\n",
      "        Return the arc tangent (measured in radians) of y/x.\n",
      "        \n",
      "        Unlike atan(y/x), the signs of both x and y are considered.\n",
      "    \n",
      "    atanh(x, /)\n",
      "        Return the inverse hyperbolic tangent of x.\n",
      "    \n",
      "    ceil(x, /)\n",
      "        Return the ceiling of x as an Integral.\n",
      "        \n",
      "        This is the smallest integer >= x.\n",
      "    \n",
      "    comb(n, k, /)\n",
      "        Number of ways to choose k items from n items without repetition and without order.\n",
      "        \n",
      "        Evaluates to n! / (k! * (n - k)!) when k <= n and evaluates\n",
      "        to zero when k > n.\n",
      "        \n",
      "        Also called the binomial coefficient because it is equivalent\n",
      "        to the coefficient of k-th term in polynomial expansion of the\n",
      "        expression (1 + x)**n.\n",
      "        \n",
      "        Raises TypeError if either of the arguments are not integers.\n",
      "        Raises ValueError if either of the arguments are negative.\n",
      "    \n",
      "    copysign(x, y, /)\n",
      "        Return a float with the magnitude (absolute value) of x but the sign of y.\n",
      "        \n",
      "        On platforms that support signed zeros, copysign(1.0, -0.0)\n",
      "        returns -1.0.\n",
      "    \n",
      "    cos(x, /)\n",
      "        Return the cosine of x (measured in radians).\n",
      "    \n",
      "    cosh(x, /)\n",
      "        Return the hyperbolic cosine of x.\n",
      "    \n",
      "    degrees(x, /)\n",
      "        Convert angle x from radians to degrees.\n",
      "    \n",
      "    dist(p, q, /)\n",
      "        Return the Euclidean distance between two points p and q.\n",
      "        \n",
      "        The points should be specified as sequences (or iterables) of\n",
      "        coordinates.  Both inputs must have the same dimension.\n",
      "        \n",
      "        Roughly equivalent to:\n",
      "            sqrt(sum((px - qx) ** 2.0 for px, qx in zip(p, q)))\n",
      "    \n",
      "    erf(x, /)\n",
      "        Error function at x.\n",
      "    \n",
      "    erfc(x, /)\n",
      "        Complementary error function at x.\n",
      "    \n",
      "    exp(x, /)\n",
      "        Return e raised to the power of x.\n",
      "    \n",
      "    expm1(x, /)\n",
      "        Return exp(x)-1.\n",
      "        \n",
      "        This function avoids the loss of precision involved in the direct evaluation of exp(x)-1 for small x.\n",
      "    \n",
      "    fabs(x, /)\n",
      "        Return the absolute value of the float x.\n",
      "    \n",
      "    factorial(x, /)\n",
      "        Find x!.\n",
      "        \n",
      "        Raise a ValueError if x is negative or non-integral.\n",
      "    \n",
      "    floor(x, /)\n",
      "        Return the floor of x as an Integral.\n",
      "        \n",
      "        This is the largest integer <= x.\n",
      "    \n",
      "    fmod(x, y, /)\n",
      "        Return fmod(x, y), according to platform C.\n",
      "        \n",
      "        x % y may differ.\n",
      "    \n",
      "    frexp(x, /)\n",
      "        Return the mantissa and exponent of x, as pair (m, e).\n",
      "        \n",
      "        m is a float and e is an int, such that x = m * 2.**e.\n",
      "        If x is 0, m and e are both 0.  Else 0.5 <= abs(m) < 1.0.\n",
      "    \n",
      "    fsum(seq, /)\n",
      "        Return an accurate floating point sum of values in the iterable seq.\n",
      "        \n",
      "        Assumes IEEE-754 floating point arithmetic.\n",
      "    \n",
      "    gamma(x, /)\n",
      "        Gamma function at x.\n",
      "    \n",
      "    gcd(x, y, /)\n",
      "        greatest common divisor of x and y\n",
      "    \n",
      "    hypot(...)\n",
      "        hypot(*coordinates) -> value\n",
      "        \n",
      "        Multidimensional Euclidean distance from the origin to a point.\n",
      "        \n",
      "        Roughly equivalent to:\n",
      "            sqrt(sum(x**2 for x in coordinates))\n",
      "        \n",
      "        For a two dimensional point (x, y), gives the hypotenuse\n",
      "        using the Pythagorean theorem:  sqrt(x*x + y*y).\n",
      "        \n",
      "        For example, the hypotenuse of a 3/4/5 right triangle is:\n",
      "        \n",
      "            >>> hypot(3.0, 4.0)\n",
      "            5.0\n",
      "    \n",
      "    isclose(a, b, *, rel_tol=1e-09, abs_tol=0.0)\n",
      "        Determine whether two floating point numbers are close in value.\n",
      "        \n",
      "          rel_tol\n",
      "            maximum difference for being considered \"close\", relative to the\n",
      "            magnitude of the input values\n",
      "          abs_tol\n",
      "            maximum difference for being considered \"close\", regardless of the\n",
      "            magnitude of the input values\n",
      "        \n",
      "        Return True if a is close in value to b, and False otherwise.\n",
      "        \n",
      "        For the values to be considered close, the difference between them\n",
      "        must be smaller than at least one of the tolerances.\n",
      "        \n",
      "        -inf, inf and NaN behave similarly to the IEEE 754 Standard.  That\n",
      "        is, NaN is not close to anything, even itself.  inf and -inf are\n",
      "        only close to themselves.\n",
      "    \n",
      "    isfinite(x, /)\n",
      "        Return True if x is neither an infinity nor a NaN, and False otherwise.\n",
      "    \n",
      "    isinf(x, /)\n",
      "        Return True if x is a positive or negative infinity, and False otherwise.\n",
      "    \n",
      "    isnan(x, /)\n",
      "        Return True if x is a NaN (not a number), and False otherwise.\n",
      "    \n",
      "    isqrt(n, /)\n",
      "        Return the integer part of the square root of the input.\n",
      "    \n",
      "    ldexp(x, i, /)\n",
      "        Return x * (2**i).\n",
      "        \n",
      "        This is essentially the inverse of frexp().\n",
      "    \n",
      "    lgamma(x, /)\n",
      "        Natural logarithm of absolute value of Gamma function at x.\n",
      "    \n",
      "    log(...)\n",
      "        log(x, [base=math.e])\n",
      "        Return the logarithm of x to the given base.\n",
      "        \n",
      "        If the base not specified, returns the natural logarithm (base e) of x.\n",
      "    \n",
      "    log10(x, /)\n",
      "        Return the base 10 logarithm of x.\n",
      "    \n",
      "    log1p(x, /)\n",
      "        Return the natural logarithm of 1+x (base e).\n",
      "        \n",
      "        The result is computed in a way which is accurate for x near zero.\n",
      "    \n",
      "    log2(x, /)\n",
      "        Return the base 2 logarithm of x.\n",
      "    \n",
      "    modf(x, /)\n",
      "        Return the fractional and integer parts of x.\n",
      "        \n",
      "        Both results carry the sign of x and are floats.\n",
      "    \n",
      "    perm(n, k=None, /)\n",
      "        Number of ways to choose k items from n items without repetition and with order.\n",
      "        \n",
      "        Evaluates to n! / (n - k)! when k <= n and evaluates\n",
      "        to zero when k > n.\n",
      "        \n",
      "        If k is not specified or is None, then k defaults to n\n",
      "        and the function returns n!.\n",
      "        \n",
      "        Raises TypeError if either of the arguments are not integers.\n",
      "        Raises ValueError if either of the arguments are negative.\n",
      "    \n",
      "    pow(x, y, /)\n",
      "        Return x**y (x to the power of y).\n",
      "    \n",
      "    prod(iterable, /, *, start=1)\n",
      "        Calculate the product of all the elements in the input iterable.\n",
      "        \n",
      "        The default start value for the product is 1.\n",
      "        \n",
      "        When the iterable is empty, return the start value.  This function is\n",
      "        intended specifically for use with numeric values and may reject\n",
      "        non-numeric types.\n",
      "    \n",
      "    radians(x, /)\n",
      "        Convert angle x from degrees to radians.\n",
      "    \n",
      "    remainder(x, y, /)\n",
      "        Difference between x and the closest integer multiple of y.\n",
      "        \n",
      "        Return x - n*y where n*y is the closest integer multiple of y.\n",
      "        In the case where x is exactly halfway between two multiples of\n",
      "        y, the nearest even value of n is used. The result is always exact.\n",
      "    \n",
      "    sin(x, /)\n",
      "        Return the sine of x (measured in radians).\n",
      "    \n",
      "    sinh(x, /)\n",
      "        Return the hyperbolic sine of x.\n",
      "    \n",
      "    sqrt(x, /)\n",
      "        Return the square root of x.\n",
      "    \n",
      "    tan(x, /)\n",
      "        Return the tangent of x (measured in radians).\n",
      "    \n",
      "    tanh(x, /)\n",
      "        Return the hyperbolic tangent of x.\n",
      "    \n",
      "    trunc(x, /)\n",
      "        Truncates the Real x to the nearest Integral toward 0.\n",
      "        \n",
      "        Uses the __trunc__ magic method.\n",
      "\n",
      "DATA\n",
      "    e = 2.718281828459045\n",
      "    inf = inf\n",
      "    nan = nan\n",
      "    pi = 3.141592653589793\n",
      "    tau = 6.283185307179586\n",
      "\n",
      "FILE\n",
      "    /Library/Developer/CommandLineTools/Library/Frameworks/Python3.framework/Versions/3.8/lib/python3.8/lib-dynload/math.cpython-38-darwin.so\n",
      "\n",
      "\n"
     ]
    }
   ],
   "source": [
    "help(math)"
   ]
  },
  {
   "cell_type": "code",
   "execution_count": 15,
   "id": "42fe5470",
   "metadata": {},
   "outputs": [
    {
     "data": {
      "text/plain": [
       "1.5707963267948966"
      ]
     },
     "execution_count": 15,
     "metadata": {},
     "output_type": "execute_result"
    }
   ],
   "source": [
    "math.radians(90)"
   ]
  },
  {
   "cell_type": "code",
   "execution_count": 17,
   "id": "c7f28f89",
   "metadata": {},
   "outputs": [
    {
     "data": {
      "text/plain": [
       "6.123233995736766e-17"
      ]
     },
     "execution_count": 17,
     "metadata": {},
     "output_type": "execute_result"
    }
   ],
   "source": [
    "math.cos(math.radians(90))"
   ]
  },
  {
   "cell_type": "code",
   "execution_count": 18,
   "id": "fd18a0b1",
   "metadata": {},
   "outputs": [],
   "source": [
    "import netflix"
   ]
  },
  {
   "cell_type": "code",
   "execution_count": 19,
   "id": "e60a3048",
   "metadata": {},
   "outputs": [
    {
     "data": {
      "text/plain": [
       "['__builtins__',\n",
       " '__cached__',\n",
       " '__doc__',\n",
       " '__file__',\n",
       " '__loader__',\n",
       " '__name__',\n",
       " '__package__',\n",
       " '__spec__',\n",
       " 'favourate_shows',\n",
       " 'pause',\n",
       " 'play',\n",
       " 'thing_running']"
      ]
     },
     "execution_count": 19,
     "metadata": {},
     "output_type": "execute_result"
    }
   ],
   "source": [
    "dir(netflix)"
   ]
  },
  {
   "cell_type": "code",
   "execution_count": 20,
   "id": "cfe47a4c",
   "metadata": {},
   "outputs": [
    {
     "name": "stdout",
     "output_type": "stream",
     "text": [
      "Help on module netflix:\n",
      "\n",
      "NAME\n",
      "    netflix\n",
      "\n",
      "FUNCTIONS\n",
      "    pause()\n",
      "    \n",
      "    play(movie_or_show)\n",
      "\n",
      "DATA\n",
      "    favourate_shows = ['The 100', 'Game of Thrones', 'Breaking Bad']\n",
      "    thing_running = 'Emily in Paris'\n",
      "\n",
      "FILE\n",
      "    /Users/mohitchouhan/Documents/GitHub/DS031221/W04D03/netflix.py\n",
      "\n",
      "\n"
     ]
    }
   ],
   "source": [
    "help(netflix)"
   ]
  },
  {
   "cell_type": "code",
   "execution_count": 21,
   "id": "c8e1f124",
   "metadata": {},
   "outputs": [],
   "source": [
    "import sys"
   ]
  },
  {
   "cell_type": "code",
   "execution_count": 22,
   "id": "e467f641",
   "metadata": {},
   "outputs": [
    {
     "name": "stdout",
     "output_type": "stream",
     "text": [
      "/Users/mohitchouhan/Documents/GitHub/DS031221/W04D03\n",
      "/Library/Developer/CommandLineTools/Library/Frameworks/Python3.framework/Versions/3.8/lib/python38.zip\n",
      "/Library/Developer/CommandLineTools/Library/Frameworks/Python3.framework/Versions/3.8/lib/python3.8\n",
      "/Library/Developer/CommandLineTools/Library/Frameworks/Python3.framework/Versions/3.8/lib/python3.8/lib-dynload\n",
      "\n",
      "/Users/mohitchouhan/Library/Python/3.8/lib/python/site-packages\n",
      "/Library/Developer/CommandLineTools/Library/Frameworks/Python3.framework/Versions/3.8/lib/python3.8/site-packages\n",
      "/Users/mohitchouhan/Library/Python/3.8/lib/python/site-packages/IPython/extensions\n",
      "/Users/mohitchouhan/.ipython\n"
     ]
    }
   ],
   "source": [
    "for path in sys.path:\n",
    "    print(path)"
   ]
  },
  {
   "cell_type": "code",
   "execution_count": 23,
   "id": "23597d94",
   "metadata": {},
   "outputs": [],
   "source": [
    "# Aliasing : giving a nickname while importing something"
   ]
  },
  {
   "cell_type": "code",
   "execution_count": 24,
   "id": "44d9764c",
   "metadata": {},
   "outputs": [],
   "source": [
    "import netflix as nf"
   ]
  },
  {
   "cell_type": "code",
   "execution_count": 25,
   "id": "a0c30751",
   "metadata": {},
   "outputs": [
    {
     "name": "stdout",
     "output_type": "stream",
     "text": [
      "|||||||||| NETFLIX ||||||||||||\n",
      "Emily in Paris\n"
     ]
    }
   ],
   "source": [
    "nf.play('Emily in Paris')"
   ]
  },
  {
   "cell_type": "code",
   "execution_count": 26,
   "id": "d04cb167",
   "metadata": {},
   "outputs": [
    {
     "name": "stdout",
     "output_type": "stream",
     "text": [
      "Paused Emily in Paris\n"
     ]
    }
   ],
   "source": [
    "nf.pause()"
   ]
  },
  {
   "cell_type": "code",
   "execution_count": null,
   "id": "ce1caa80",
   "metadata": {},
   "outputs": [],
   "source": [
    "# globals() and locals()\n",
    "functions to tell what are available local names and global names.\n",
    "\n",
    "Basically showing us the list of names in local namespace, and global \n",
    "namespace"
   ]
  },
  {
   "cell_type": "code",
   "execution_count": 30,
   "id": "136d9ec7",
   "metadata": {},
   "outputs": [
    {
     "name": "stdout",
     "output_type": "stream",
     "text": [
      "{'y': 'brown panda', 'z': 'green kangaroo'}\n",
      "teddy bear\n"
     ]
    }
   ],
   "source": [
    "x = 'grey buffalo'\n",
    "\n",
    "def happy():\n",
    "    global x\n",
    "    x = 'teddy bear'\n",
    "    y = 'brown panda'\n",
    "    z = 'green kangaroo'\n",
    "    print(locals())\n",
    "    print(x)\n",
    "    \n",
    "happy()"
   ]
  },
  {
   "cell_type": "code",
   "execution_count": 31,
   "id": "dcf2cdbb",
   "metadata": {},
   "outputs": [],
   "source": [
    "import zomato\n",
    "\n",
    "# import package does not import everything which is present inside the\n",
    "# the package."
   ]
  },
  {
   "cell_type": "code",
   "execution_count": 34,
   "id": "a4ff6b98",
   "metadata": {},
   "outputs": [],
   "source": [
    "# dir(zomato)"
   ]
  },
  {
   "cell_type": "code",
   "execution_count": 1,
   "id": "5aa5e9dc",
   "metadata": {},
   "outputs": [],
   "source": [
    "from zomato import main"
   ]
  },
  {
   "cell_type": "code",
   "execution_count": 2,
   "id": "27c38f67",
   "metadata": {},
   "outputs": [
    {
     "name": "stdout",
     "output_type": "stream",
     "text": [
      "Biryani\n",
      "Pizza\n",
      "White Pasta\n",
      "Which food you want to order?Pizza\n",
      "You can cancel this within 1 minute\n",
      "You have been alocated with valet Sanket Sharma\n",
      "Your order Pizza will be delivered in 27 minutes\n"
     ]
    }
   ],
   "source": [
    "main.choose_food()"
   ]
  },
  {
   "cell_type": "code",
   "execution_count": 6,
   "id": "0e4af702",
   "metadata": {},
   "outputs": [
    {
     "name": "stdout",
     "output_type": "stream",
     "text": [
      "maggi\n"
     ]
    }
   ],
   "source": [
    "x = 'kulhad tea'\n",
    "def happy():\n",
    "    x = 'maggi'\n",
    "    def sad():\n",
    "        y = 'brownie'\n",
    "        print(x)\n",
    "    sad()\n",
    "    \n",
    "# What are the namesspaces right now? global\n",
    "\n",
    "happy()\n",
    "# What are the namespaces right now? {global, local-happy}"
   ]
  },
  {
   "cell_type": "code",
   "execution_count": null,
   "id": "df6fc55d",
   "metadata": {},
   "outputs": [],
   "source": []
  }
 ],
 "metadata": {
  "kernelspec": {
   "display_name": "Python 3 (ipykernel)",
   "language": "python",
   "name": "python3"
  },
  "language_info": {
   "codemirror_mode": {
    "name": "ipython",
    "version": 3
   },
   "file_extension": ".py",
   "mimetype": "text/x-python",
   "name": "python",
   "nbconvert_exporter": "python",
   "pygments_lexer": "ipython3",
   "version": "3.8.9"
  }
 },
 "nbformat": 4,
 "nbformat_minor": 5
}
