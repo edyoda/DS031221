{
 "cells": [
  {
   "cell_type": "code",
   "execution_count": null,
   "id": "d9c91928",
   "metadata": {},
   "outputs": [],
   "source": [
    "Regular Expressions:\n",
    "    String containing some rules.\n",
    "    It is like a mini programming langauge itself.\n",
    "    It is language independent(Regular expression is written once,\n",
    "                              it can be executed for python,java,\n",
    "                              javascript, etc any \n",
    "                               Programing language)\n",
    "    Used for String matching and searching, Pattern Validation\n",
    "    \n",
    "    In Python things related to regular expression are put into\n",
    "    a module(builtin) named as re."
   ]
  },
  {
   "cell_type": "code",
   "execution_count": null,
   "id": "f44629ad",
   "metadata": {},
   "outputs": [],
   "source": [
    "## Metacharacters\n",
    "\n",
    ">>. dot => matches with all the char(alphabets,digits,special chars,etc)\n",
    "    except newline character.('\\n')\n",
    "    \n",
    "    single dot means single char.\n",
    "    2 dots means 2 chars... and so on..\n",
    "    \n",
    ">> [] Characgter Class is used for matching a set of characters.\n",
    "\n",
    "[@#$%^trSU] => this character class contains @,#,$,%,^,t,r,S,U\n",
    "So it will match if anything comes from the above mentioned char\n",
    "\n",
    " \n",
    "[a-z] => it contains all the small alphabets from a to z.\n",
    " \n",
    "[A-Z] => caps\n",
    "\n",
    "[0-9] => it will match anything from 0 to 9\n",
    " \n",
    "[0-9a-z] => it will match anything from 0 to 9 or a to z"
   ]
  },
  {
   "cell_type": "code",
   "execution_count": 2,
   "id": "c339bb03",
   "metadata": {},
   "outputs": [
    {
     "name": "stdout",
     "output_type": "stream",
     "text": [
      "<re.Match object; span=(5, 6), match='a'>\n"
     ]
    }
   ],
   "source": [
    "import re\n",
    "\n",
    "# builtin function => search\n",
    "# re.search(REGX,String_in_which_you_want_to_search_the_regx)\n",
    "# re.search matches the first pattern according to the REGX, and \n",
    "# returns a match object\n",
    "\n",
    "\n",
    "print(re.search('[a-z]','123##apple##123'))"
   ]
  },
  {
   "cell_type": "code",
   "execution_count": 3,
   "id": "b4386291",
   "metadata": {},
   "outputs": [
    {
     "data": {
      "text/plain": [
       "'a'"
      ]
     },
     "execution_count": 3,
     "metadata": {},
     "output_type": "execute_result"
    }
   ],
   "source": [
    "'123##apple##123'[5:6]"
   ]
  },
  {
   "cell_type": "code",
   "execution_count": 4,
   "id": "1db72b3e",
   "metadata": {},
   "outputs": [
    {
     "name": "stdout",
     "output_type": "stream",
     "text": [
      "<re.Match object; span=(3, 4), match='#'>\n"
     ]
    }
   ],
   "source": [
    "print(re.search('#','123##apple##123'))"
   ]
  },
  {
   "cell_type": "code",
   "execution_count": 7,
   "id": "c7649f41",
   "metadata": {},
   "outputs": [
    {
     "name": "stdout",
     "output_type": "stream",
     "text": [
      "<re.Match object; span=(0, 4), match='1 23'>\n"
     ]
    }
   ],
   "source": [
    "print(re.search('....','1 23##apple##123'))"
   ]
  },
  {
   "cell_type": "code",
   "execution_count": 8,
   "id": "0536bdce",
   "metadata": {},
   "outputs": [
    {
     "name": "stdout",
     "output_type": "stream",
     "text": [
      "<re.Match object; span=(2, 6), match='23##'>\n"
     ]
    }
   ],
   "source": [
    "print(re.search('....','1\\n23##apple##123'))"
   ]
  },
  {
   "cell_type": "code",
   "execution_count": 9,
   "id": "b47fc77b",
   "metadata": {},
   "outputs": [
    {
     "name": "stdout",
     "output_type": "stream",
     "text": [
      "<re.Match object; span=(6, 10), match='appl'>\n"
     ]
    }
   ],
   "source": [
    "print(re.search('a...','1\\n23##apple##123'))"
   ]
  },
  {
   "cell_type": "code",
   "execution_count": 10,
   "id": "0c1508b0",
   "metadata": {},
   "outputs": [
    {
     "name": "stdout",
     "output_type": "stream",
     "text": [
      "<re.Match object; span=(3, 4), match='3'>\n"
     ]
    }
   ],
   "source": [
    "print(re.search('[e#3]','1\\n23##apple##123'))"
   ]
  },
  {
   "cell_type": "code",
   "execution_count": 11,
   "id": "afe7e7b2",
   "metadata": {},
   "outputs": [
    {
     "name": "stdout",
     "output_type": "stream",
     "text": [
      "<re.Match object; span=(11, 14), match='##1'>\n"
     ]
    }
   ],
   "source": [
    "# REGX is going to match a substring or a continuous part of \n",
    "# the string which is given.\n",
    "print(re.search('[e#3][e#3][0-9]','1\\n23##apple##123'))\n",
    "\n",
    "# lets assume we have a match xyz."
   ]
  },
  {
   "cell_type": "code",
   "execution_count": 12,
   "id": "89bd6947",
   "metadata": {},
   "outputs": [
    {
     "name": "stdout",
     "output_type": "stream",
     "text": [
      "<re.Match object; span=(6, 7), match='a'>\n"
     ]
    }
   ],
   "source": [
    "print(re.search('[a-z]','1\\n23##apple##123'))"
   ]
  },
  {
   "cell_type": "code",
   "execution_count": null,
   "id": "b37008cd",
   "metadata": {},
   "outputs": [],
   "source": [
    "ee(0-9)\n",
    "e#(0-9)\n",
    "e3(0-9)\n",
    "#e(0-9)\n",
    "##(0-9)\n",
    "#3(0-9)\n",
    "3e(0-9)\n",
    "3#(0-9)\n",
    "33(0-9)"
   ]
  },
  {
   "cell_type": "code",
   "execution_count": 13,
   "id": "f4d968b4",
   "metadata": {},
   "outputs": [
    {
     "name": "stdout",
     "output_type": "stream",
     "text": [
      "<re.Match object; span=(4, 7), match='##a'>\n"
     ]
    }
   ],
   "source": [
    "# REGX is going to match a substring or a continuous part of \n",
    "# the string which is given.\n",
    "print(re.search('[e#3][e#3][a-z]','1\\n23##apple##123'))\n",
    "\n",
    "# lets assume we have a match xyz."
   ]
  },
  {
   "cell_type": "code",
   "execution_count": null,
   "id": "a3ab48e8",
   "metadata": {},
   "outputs": [],
   "source": [
    "## Metacharacters\n",
    "\n",
    ">>. dot => matches with all the char(alphabets,digits,special chars,etc)\n",
    "    except newline character.('\\n')\n",
    "    \n",
    "    single dot means single char.\n",
    "    2 dots means 2 chars... and so on..\n",
    "    \n",
    ">> [] Characgter Class is used for matching a set of characters.\n",
    "\n",
    "[@#$%^trSU] => this character class contains @,#,$,%,^,t,r,S,U\n",
    "So it will match if anything comes from the above mentioned char\n",
    "\n",
    " \n",
    "[a-z] => it contains all the small alphabets from a to z.\n",
    " \n",
    "[A-Z] => caps\n",
    "\n",
    "[0-9] => it will match anything from 0 to 9\n",
    " \n",
    "[0-9a-z] => it will match anything from 0 to 9 or a to z\n",
    " \n",
    "# Quantifiers\n",
    "+ => atleast 1 or more\n",
    "* => 0 or more\n",
    "? => 0 or once\n",
    " \n",
    "# Counting Stuff\n",
    " \n",
    "{} => 'x{3}' x should appear exactly 3 times\n",
    "      '[0-9]{4}' 4 digit number\n",
    " \n",
    "# compliment : except this all the other things\n",
    "\n",
    "[^0-9] => except 0 to 9 anything could be a match"
   ]
  },
  {
   "cell_type": "code",
   "execution_count": 14,
   "id": "f309fd4b",
   "metadata": {},
   "outputs": [
    {
     "name": "stdout",
     "output_type": "stream",
     "text": [
      "<re.Match object; span=(3, 7), match='3##a'>\n"
     ]
    }
   ],
   "source": [
    "# REGX is going to match a substring or a continuous part of \n",
    "# the string which is given.\n",
    "print(re.search('[e#3]+[a-z]','1\\n23##apple##123'))\n",
    "\n",
    "# lets assume we have a match xyz."
   ]
  },
  {
   "cell_type": "code",
   "execution_count": 16,
   "id": "d6b88117",
   "metadata": {},
   "outputs": [],
   "source": [
    "# How to look at all the matches?\n",
    "# re.findall(REGX,STRING)"
   ]
  },
  {
   "cell_type": "code",
   "execution_count": 19,
   "id": "cfbf8ac1",
   "metadata": {},
   "outputs": [
    {
     "name": "stdout",
     "output_type": "stream",
     "text": [
      "['3##a', 'e##3333333#####eeeet']\n"
     ]
    }
   ],
   "source": [
    "# REGX is going to match a substring or a continuous part of \n",
    "# the string which is given.\n",
    "print(re.findall('[e#3]+[a-z]','1\\n23##apple##3333333#####eeeet123'))\n",
    "\n",
    "# lets assume we have a match xyz."
   ]
  },
  {
   "cell_type": "code",
   "execution_count": 20,
   "id": "f3a9ee66",
   "metadata": {},
   "outputs": [
    {
     "name": "stdout",
     "output_type": "stream",
     "text": [
      "['3##a']\n"
     ]
    }
   ],
   "source": [
    "# REGX is going to match a substring or a continuous part of \n",
    "# the string which is given.\n",
    "print(re.findall('[e#3]+[a-z]','1\\n23##apple##9t123'))\n",
    "\n",
    "# lets assume we have a match xyz."
   ]
  },
  {
   "cell_type": "code",
   "execution_count": 21,
   "id": "ad2625fc",
   "metadata": {},
   "outputs": [
    {
     "name": "stdout",
     "output_type": "stream",
     "text": [
      "['3##a', 'p', 'p', 'l', 'e', 't']\n"
     ]
    }
   ],
   "source": [
    "# REGX is going to match a substring or a continuous part of \n",
    "# the string which is given.\n",
    "print(re.findall('[e#3]*[a-z]','1\\n23##apple##9t123'))\n",
    "\n",
    "# lets assume we have a match xyz."
   ]
  },
  {
   "cell_type": "code",
   "execution_count": 31,
   "id": "fb8a75e5",
   "metadata": {},
   "outputs": [
    {
     "name": "stdout",
     "output_type": "stream",
     "text": [
      "['x1', 'xxxxxxxxxxxx2', '3', 'xxx9', '1', '2', 'xx3']\n"
     ]
    }
   ],
   "source": [
    "print(re.findall('x*[0-9]','x1\\nxxxxxxxxxxxx23##apple##xxx9t12xx3'))"
   ]
  },
  {
   "cell_type": "code",
   "execution_count": 40,
   "id": "59675f2f",
   "metadata": {},
   "outputs": [
    {
     "name": "stdout",
     "output_type": "stream",
     "text": [
      "['a1', 'a3']\n"
     ]
    }
   ],
   "source": [
    "print(re.findall('a[0-9]?','a12a34'))"
   ]
  },
  {
   "cell_type": "code",
   "execution_count": 42,
   "id": "b0397f0d",
   "metadata": {},
   "outputs": [
    {
     "name": "stdout",
     "output_type": "stream",
     "text": [
      "['aaa88']\n"
     ]
    }
   ],
   "source": [
    "print(re.findall('a{3}[0-9]+','a12a34aa55aa77aaa88c8'))"
   ]
  },
  {
   "cell_type": "code",
   "execution_count": 49,
   "id": "0a94896b",
   "metadata": {},
   "outputs": [
    {
     "name": "stdout",
     "output_type": "stream",
     "text": [
      "['343#', '559@', '779&']\n"
     ]
    }
   ],
   "source": [
    "print(re.findall('[0-9]{3}[#@&]{1}','a121!a343##aa559@#aa779&#aaa882c8'))"
   ]
  },
  {
   "cell_type": "code",
   "execution_count": 56,
   "id": "5fc5c59a",
   "metadata": {},
   "outputs": [
    {
     "name": "stdout",
     "output_type": "stream",
     "text": [
      "['kWQ@#&']\n"
     ]
    }
   ],
   "source": [
    "print(re.findall('[a-z]{1}[A-Z]{2}[#@&]{3}','kWQ@#&'))"
   ]
  },
  {
   "cell_type": "code",
   "execution_count": 61,
   "id": "46d5d22b",
   "metadata": {},
   "outputs": [
    {
     "name": "stdout",
     "output_type": "stream",
     "text": [
      "['k', 'W', 'Q', '@', '7', '7', '7', '7', '7', '7', '8', '8', '8', '8', '8', '8', '8', '9', '9', '9', '9', '#', '&']\n"
     ]
    }
   ],
   "source": [
    "print(re.findall('[^0-5]','kWQ@777777888888899993344#&'))"
   ]
  },
  {
   "cell_type": "code",
   "execution_count": 62,
   "id": "07cdccf3",
   "metadata": {},
   "outputs": [
    {
     "name": "stdout",
     "output_type": "stream",
     "text": [
      "['k', '@', '7', '7', '8', '8', '9', '4', '#', '&']\n"
     ]
    }
   ],
   "source": [
    "print(re.findall('[^A-Z]','kWQ@778894#&'))"
   ]
  },
  {
   "cell_type": "code",
   "execution_count": 63,
   "id": "4e75591d",
   "metadata": {},
   "outputs": [
    {
     "name": "stdout",
     "output_type": "stream",
     "text": [
      "['k', '@', '#', '&']\n"
     ]
    }
   ],
   "source": [
    "print(re.findall('[^A-Z0-9]','kWQ@778894#&'))"
   ]
  },
  {
   "cell_type": "code",
   "execution_count": 64,
   "id": "7be4d4d4",
   "metadata": {},
   "outputs": [
    {
     "name": "stdout",
     "output_type": "stream",
     "text": [
      "['k', 'W', '@', '8', '8', '9', '4', '&']\n"
     ]
    }
   ],
   "source": [
    "print(re.findall('[^7Q#]','kWQ@778894#&'))"
   ]
  },
  {
   "cell_type": "code",
   "execution_count": null,
   "id": "ace2e4a5",
   "metadata": {},
   "outputs": [],
   "source": [
    "Q1: Write a regx for finding strings which contains 3 small alphabets\n",
    "    followed by 3 digit number.\n",
    "    \n",
    "\"[a-z]{3}[1-9][0-9]{2}\""
   ]
  },
  {
   "cell_type": "code",
   "execution_count": null,
   "id": "d6b7bb8a",
   "metadata": {},
   "outputs": [],
   "source": [
    "# Homework Question\n",
    "Q2: Write a regx for finding strings which contains 3 digit number\n",
    "    followed by \"T\" either 0 or 1 time and after that it should be\n",
    "    followed by small alphabets 0 or more number of times."
   ]
  }
 ],
 "metadata": {
  "kernelspec": {
   "display_name": "Python 3 (ipykernel)",
   "language": "python",
   "name": "python3"
  },
  "language_info": {
   "codemirror_mode": {
    "name": "ipython",
    "version": 3
   },
   "file_extension": ".py",
   "mimetype": "text/x-python",
   "name": "python",
   "nbconvert_exporter": "python",
   "pygments_lexer": "ipython3",
   "version": "3.8.9"
  }
 },
 "nbformat": 4,
 "nbformat_minor": 5
}
