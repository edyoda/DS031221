{
 "cells": [
  {
   "cell_type": "code",
   "execution_count": null,
   "id": "18e7a6ff",
   "metadata": {},
   "outputs": [],
   "source": [
    "Data Types:\n",
    "    float and int (Numbers):\n",
    "        infinity: float('inf') negative infinity: float('-inf')\n",
    "        immutable\n",
    "    None\n",
    "    bool(True and False):\n",
    "        immutable\n",
    "    list:\n",
    "        mutable: editable\n",
    "        ordered: support indexing and slicing\n",
    "        heterogenous\n",
    "        iterable\n",
    "    Builtin functions of list:\n",
    "        append\n",
    "        extend\n",
    "        insert\n",
    "        index\n",
    "        count\n",
    "        sort\n",
    "        pop\n",
    "        remove\n",
    "        clear\n",
    "        \n",
    "    str:\n",
    "        immutable : not editable\n",
    "        ordered: support indexing and slicing\n",
    "        iterable\n",
    "    Builtins functions of str:\n",
    "        split and join\n",
    "        upper,lower,title,capitalise\n",
    "        isupper,islower,istitle\n",
    "        isdigit,isalpha,isspace,isalnum\n",
    "        index,rindex,find,rfind\n",
    "        strip,lstrip,rstrip\n",
    "        count,replace\n",
    "    \n",
    "    tuples:\n",
    "        immutable\n",
    "        ordred: support indexing and slicing\n",
    "        iterable\n",
    "        heterogenous\n",
    "    Builtin functions of tuples:\n",
    "        count,index"
   ]
  },
  {
   "cell_type": "markdown",
   "id": "88e824c7",
   "metadata": {},
   "source": [
    "Operators:\n",
    "1) Arithmetic : +,-,*,/,//,%,**,etc\n",
    "2) Membership : in ,not in\n",
    "3) Identical : is, is not\n",
    "4) Comparison: ==, <, >,>=, <=,!=,\n",
    "5) Assginment: =, +=,-=,*=,%=,etc\n",
    "6) Logical: and, or ,not"
   ]
  },
  {
   "cell_type": "code",
   "execution_count": null,
   "id": "37c4a796",
   "metadata": {},
   "outputs": [],
   "source": [
    "if else, elif"
   ]
  },
  {
   "cell_type": "code",
   "execution_count": 4,
   "id": "1e67f44b",
   "metadata": {},
   "outputs": [
    {
     "name": "stdout",
     "output_type": "stream",
     "text": [
      "Type your namevicky\n",
      "kitkat! break\n"
     ]
    }
   ],
   "source": [
    "x = input('Type your name')\n",
    "\n",
    "if x == 'salman':\n",
    "    print('Deers are roaming and drivers are driving')\n",
    "elif x == 'vicky':\n",
    "    print('kitkat! break')\n",
    "elif x == 'ranbir':\n",
    "    print('get married to aliya')\n",
    "else:\n",
    "    print('Who the hell are you???')"
   ]
  },
  {
   "cell_type": "code",
   "execution_count": null,
   "id": "1938e1d8",
   "metadata": {},
   "outputs": [],
   "source": [
    "# for loops"
   ]
  },
  {
   "cell_type": "code",
   "execution_count": 5,
   "id": "1ea639d2",
   "metadata": {},
   "outputs": [
    {
     "name": "stdout",
     "output_type": "stream",
     "text": [
      "Received paytm payment of Rs.  10\n",
      "Received paytm payment of Rs.  15\n",
      "Received paytm payment of Rs.  27\n",
      "Received paytm payment of Rs.  14\n",
      "Received paytm payment of Rs.  17\n",
      "Received paytm payment of Rs.  200\n",
      "Received paytm payment of Rs.  545\n",
      "Received paytm payment of Rs.  78\n",
      "Received paytm payment of Rs.  5\n",
      "Received paytm payment of Rs.  20\n"
     ]
    }
   ],
   "source": [
    "# assume all these payments happened concurrently at the same time.\n",
    "paytm_payments = [10,15,27,14,17,200,545,78,5,20]\n",
    "\n",
    "for amount in paytm_payments:\n",
    "    print('Received paytm payment of Rs. ',amount)"
   ]
  },
  {
   "cell_type": "code",
   "execution_count": 19,
   "id": "f7e1fada",
   "metadata": {},
   "outputs": [
    {
     "name": "stdout",
     "output_type": "stream",
     "text": [
      "covid-\n",
      "covid-\n",
      "covid-\n",
      "covid-\n",
      "covid+\n",
      "this bus is rejected\n"
     ]
    }
   ],
   "source": [
    "bus2 = ['covid-','covid-','covid-','covid-','covid+','covid-','covid-']\n",
    "\n",
    "index = 0\n",
    "person_status = bus2[index]\n",
    "print(person_status)\n",
    "while index < len(bus2)-1 and person_status != 'covid+':\n",
    "    index += 1\n",
    "    person_status = bus2[index]\n",
    "    print(person_status)\n",
    "    if person_status == 'covid+':\n",
    "        print('this bus is rejected')"
   ]
  },
  {
   "cell_type": "code",
   "execution_count": 22,
   "id": "e0c7cb2e",
   "metadata": {},
   "outputs": [
    {
     "name": "stdout",
     "output_type": "stream",
     "text": [
      "covid-\n",
      "covid-\n",
      "covid-\n",
      "covid-\n",
      "covid-\n",
      "covid-\n",
      "covid-\n"
     ]
    }
   ],
   "source": [
    "bus2 = ['covid-','covid-','covid-','covid-','covid-','covid-','covid-']\n",
    "\n",
    "index = 0\n",
    "person_status = bus2[index]\n",
    "print(person_status)\n",
    "if person_status == 'covid+':\n",
    "    print('this bus is rejected')\n",
    "while index < len(bus2)-1 and person_status != 'covid+':\n",
    "    index += 1\n",
    "    person_status = bus2[index]\n",
    "    print(person_status)\n",
    "    if person_status == 'covid+':\n",
    "        print('this bus is rejected')"
   ]
  },
  {
   "cell_type": "code",
   "execution_count": null,
   "id": "9ce182e7",
   "metadata": {},
   "outputs": [],
   "source": [
    "pass, break and continue"
   ]
  },
  {
   "cell_type": "code",
   "execution_count": 23,
   "id": "5d85e75e",
   "metadata": {},
   "outputs": [
    {
     "name": "stdout",
     "output_type": "stream",
     "text": [
      "mohit  passed the criteria\n",
      "rohit  passed the criteria\n",
      "nimesh  passed the criteria\n",
      "nalin  passed the criteria\n"
     ]
    }
   ],
   "source": [
    "name_of_people_demanding_to_go_for_club = ['mohit','rohit','nimesh','nalin','rashi','ishika','aakriti','riya']\n",
    "age_of_people_demanding_to_go_for_club = [24,23,23,24,14,23,23,17]\n",
    "\n",
    "index = 0\n",
    "age = age_of_people_demanding_to_go_for_club[index]\n",
    "while age > 18 and index < len(age_of_people_demanding_to_go_for_club):\n",
    "    print(name_of_people_demanding_to_go_for_club[index],' passed the criteria')\n",
    "    index += 1\n",
    "    if index < len(age_of_people_demanding_to_go_for_club):\n",
    "        age = age_of_people_demanding_to_go_for_club[index]"
   ]
  },
  {
   "cell_type": "code",
   "execution_count": 24,
   "id": "1048955c",
   "metadata": {},
   "outputs": [
    {
     "name": "stdout",
     "output_type": "stream",
     "text": [
      "200\n",
      "30\n",
      "40\n",
      "10\n"
     ]
    }
   ],
   "source": [
    "numbers = [200,30,40,10,-900,300,7000]\n",
    "\n",
    "index = 0\n",
    "no = numbers[index]\n",
    "while no > 0 and index < len(numbers):\n",
    "    print(no)\n",
    "    index += 1\n",
    "    if index < len(numbers):\n",
    "        no = numbers[index]"
   ]
  },
  {
   "cell_type": "code",
   "execution_count": 26,
   "id": "c6c38a32",
   "metadata": {},
   "outputs": [],
   "source": [
    "## Dict\n",
    "\n",
    ">> Mutable (Editable)\n",
    ">> Unordered: do not support indexing and slicing.\n",
    "\n",
    ">> 2 most important things about dicts:\n",
    "    1) keys are unique\n",
    "    2) keys are immutable\n",
    "    \n",
    ">> {key:value,key2:value2}\n",
    "\n",
    ">> values can be duplicate"
   ]
  },
  {
   "cell_type": "code",
   "execution_count": 27,
   "id": "207316e1",
   "metadata": {},
   "outputs": [],
   "source": [
    "x = {'python':3,'java':3}"
   ]
  },
  {
   "cell_type": "code",
   "execution_count": 28,
   "id": "9afe1260",
   "metadata": {},
   "outputs": [
    {
     "name": "stdout",
     "output_type": "stream",
     "text": [
      "3\n"
     ]
    }
   ],
   "source": [
    "print(x['python'])"
   ]
  },
  {
   "cell_type": "code",
   "execution_count": 29,
   "id": "804f9379",
   "metadata": {},
   "outputs": [
    {
     "name": "stdout",
     "output_type": "stream",
     "text": [
      "3\n"
     ]
    }
   ],
   "source": [
    "print(x['java'])"
   ]
  },
  {
   "cell_type": "code",
   "execution_count": 30,
   "id": "03c4149a",
   "metadata": {},
   "outputs": [
    {
     "ename": "KeyError",
     "evalue": "0",
     "output_type": "error",
     "traceback": [
      "\u001b[0;31m---------------------------------------------------------------------------\u001b[0m",
      "\u001b[0;31mKeyError\u001b[0m                                  Traceback (most recent call last)",
      "\u001b[0;32m/var/folders/9s/j9tqx4617_jg3hnd11b6g4080000gn/T/ipykernel_7492/3629782281.py\u001b[0m in \u001b[0;36m<module>\u001b[0;34m\u001b[0m\n\u001b[0;32m----> 1\u001b[0;31m \u001b[0mx\u001b[0m\u001b[0;34m[\u001b[0m\u001b[0;36m0\u001b[0m\u001b[0;34m]\u001b[0m\u001b[0;34m\u001b[0m\u001b[0;34m\u001b[0m\u001b[0m\n\u001b[0m",
      "\u001b[0;31mKeyError\u001b[0m: 0"
     ]
    }
   ],
   "source": [
    "x[0]"
   ]
  },
  {
   "cell_type": "code",
   "execution_count": 31,
   "id": "db3ec103",
   "metadata": {},
   "outputs": [],
   "source": [
    "x = {'python':3,'java':3}"
   ]
  },
  {
   "cell_type": "code",
   "execution_count": 32,
   "id": "a5f84a0d",
   "metadata": {},
   "outputs": [],
   "source": [
    "x['java'] = 8"
   ]
  },
  {
   "cell_type": "code",
   "execution_count": 33,
   "id": "c4c53129",
   "metadata": {},
   "outputs": [
    {
     "name": "stdout",
     "output_type": "stream",
     "text": [
      "{'python': 3, 'java': 8}\n"
     ]
    }
   ],
   "source": [
    "print(x)"
   ]
  },
  {
   "cell_type": "code",
   "execution_count": 34,
   "id": "12991d6d",
   "metadata": {},
   "outputs": [],
   "source": [
    "x['numpy'] = 1"
   ]
  },
  {
   "cell_type": "code",
   "execution_count": 35,
   "id": "49d4a60e",
   "metadata": {},
   "outputs": [
    {
     "name": "stdout",
     "output_type": "stream",
     "text": [
      "{'python': 3, 'java': 8, 'numpy': 1}\n"
     ]
    }
   ],
   "source": [
    "print(x)"
   ]
  },
  {
   "cell_type": "code",
   "execution_count": null,
   "id": "59dfc1d8",
   "metadata": {},
   "outputs": [],
   "source": [
    ">> 2 most important things about dicts:\n",
    "    1) keys are unique\n",
    "    2) keys are immutable"
   ]
  },
  {
   "cell_type": "code",
   "execution_count": 36,
   "id": "08838cef",
   "metadata": {},
   "outputs": [],
   "source": [
    "x = {'python':3,'java':3,'python':500}"
   ]
  },
  {
   "cell_type": "code",
   "execution_count": 37,
   "id": "0bcdb0e6",
   "metadata": {},
   "outputs": [
    {
     "name": "stdout",
     "output_type": "stream",
     "text": [
      "{'python': 500, 'java': 3}\n"
     ]
    }
   ],
   "source": [
    "print(x)"
   ]
  },
  {
   "cell_type": "code",
   "execution_count": 38,
   "id": "79cc9729",
   "metadata": {},
   "outputs": [],
   "source": [
    "x = {'python':3,'java':3,'python':0}"
   ]
  },
  {
   "cell_type": "code",
   "execution_count": 39,
   "id": "755972d2",
   "metadata": {},
   "outputs": [
    {
     "name": "stdout",
     "output_type": "stream",
     "text": [
      "{'python': 0, 'java': 3}\n"
     ]
    }
   ],
   "source": [
    "print(x)"
   ]
  },
  {
   "cell_type": "code",
   "execution_count": 40,
   "id": "526bbe70",
   "metadata": {},
   "outputs": [],
   "source": [
    "x = {'python':3,'java':3}"
   ]
  },
  {
   "cell_type": "code",
   "execution_count": 41,
   "id": "d81775d1",
   "metadata": {},
   "outputs": [],
   "source": [
    "x['java'] = 4000"
   ]
  },
  {
   "cell_type": "code",
   "execution_count": 42,
   "id": "5eedfb0a",
   "metadata": {},
   "outputs": [
    {
     "name": "stdout",
     "output_type": "stream",
     "text": [
      "{'python': 3, 'java': 4000}\n"
     ]
    }
   ],
   "source": [
    "print(x)"
   ]
  },
  {
   "cell_type": "code",
   "execution_count": 43,
   "id": "d0f003bd",
   "metadata": {},
   "outputs": [],
   "source": [
    "# 2) keys are immutable"
   ]
  },
  {
   "cell_type": "code",
   "execution_count": null,
   "id": "a179fd16",
   "metadata": {},
   "outputs": [],
   "source": [
    "mutable:\n",
    "    list\n",
    "    dict\n",
    "    set\n",
    "    \n",
    "list,set,dict can never be keys in a dictionary in python."
   ]
  },
  {
   "cell_type": "code",
   "execution_count": 44,
   "id": "5c9a1376",
   "metadata": {},
   "outputs": [
    {
     "ename": "TypeError",
     "evalue": "unhashable type: 'list'",
     "output_type": "error",
     "traceback": [
      "\u001b[0;31m---------------------------------------------------------------------------\u001b[0m",
      "\u001b[0;31mTypeError\u001b[0m                                 Traceback (most recent call last)",
      "\u001b[0;32m/var/folders/9s/j9tqx4617_jg3hnd11b6g4080000gn/T/ipykernel_7492/1959824727.py\u001b[0m in \u001b[0;36m<module>\u001b[0;34m\u001b[0m\n\u001b[0;32m----> 1\u001b[0;31m \u001b[0mx\u001b[0m \u001b[0;34m=\u001b[0m \u001b[0;34m{\u001b[0m\u001b[0;34m'python'\u001b[0m\u001b[0;34m:\u001b[0m\u001b[0;36m3\u001b[0m\u001b[0;34m,\u001b[0m\u001b[0;34m'java'\u001b[0m\u001b[0;34m:\u001b[0m\u001b[0;36m3\u001b[0m\u001b[0;34m,\u001b[0m\u001b[0;34m[\u001b[0m\u001b[0;36m1\u001b[0m\u001b[0;34m,\u001b[0m\u001b[0;36m2\u001b[0m\u001b[0;34m,\u001b[0m\u001b[0;36m3\u001b[0m\u001b[0;34m]\u001b[0m\u001b[0;34m:\u001b[0m\u001b[0;36m4000\u001b[0m\u001b[0;34m}\u001b[0m\u001b[0;34m\u001b[0m\u001b[0;34m\u001b[0m\u001b[0m\n\u001b[0m",
      "\u001b[0;31mTypeError\u001b[0m: unhashable type: 'list'"
     ]
    }
   ],
   "source": [
    "x = {'python':3,'java':3,[1,2,3]:4000}"
   ]
  },
  {
   "cell_type": "code",
   "execution_count": 45,
   "id": "31c22190",
   "metadata": {},
   "outputs": [
    {
     "ename": "TypeError",
     "evalue": "unhashable type: 'dict'",
     "output_type": "error",
     "traceback": [
      "\u001b[0;31m---------------------------------------------------------------------------\u001b[0m",
      "\u001b[0;31mTypeError\u001b[0m                                 Traceback (most recent call last)",
      "\u001b[0;32m/var/folders/9s/j9tqx4617_jg3hnd11b6g4080000gn/T/ipykernel_7492/3640951189.py\u001b[0m in \u001b[0;36m<module>\u001b[0;34m\u001b[0m\n\u001b[0;32m----> 1\u001b[0;31m \u001b[0mx\u001b[0m \u001b[0;34m=\u001b[0m \u001b[0;34m{\u001b[0m\u001b[0;34m'python'\u001b[0m\u001b[0;34m:\u001b[0m\u001b[0;36m3\u001b[0m\u001b[0;34m,\u001b[0m\u001b[0;34m'java'\u001b[0m\u001b[0;34m:\u001b[0m\u001b[0;36m3\u001b[0m\u001b[0;34m,\u001b[0m\u001b[0;34m{\u001b[0m\u001b[0;34m'a'\u001b[0m\u001b[0;34m:\u001b[0m\u001b[0;36m4\u001b[0m\u001b[0;34m,\u001b[0m\u001b[0;34m'b'\u001b[0m\u001b[0;34m:\u001b[0m\u001b[0;36m6\u001b[0m\u001b[0;34m}\u001b[0m\u001b[0;34m:\u001b[0m\u001b[0;36m4000\u001b[0m\u001b[0;34m}\u001b[0m\u001b[0;34m\u001b[0m\u001b[0;34m\u001b[0m\u001b[0m\n\u001b[0m",
      "\u001b[0;31mTypeError\u001b[0m: unhashable type: 'dict'"
     ]
    }
   ],
   "source": [
    "x = {'python':3,'java':3,{'a':4,'b':6}:4000}"
   ]
  },
  {
   "cell_type": "code",
   "execution_count": 46,
   "id": "10d53542",
   "metadata": {},
   "outputs": [
    {
     "ename": "TypeError",
     "evalue": "unhashable type: 'set'",
     "output_type": "error",
     "traceback": [
      "\u001b[0;31m---------------------------------------------------------------------------\u001b[0m",
      "\u001b[0;31mTypeError\u001b[0m                                 Traceback (most recent call last)",
      "\u001b[0;32m/var/folders/9s/j9tqx4617_jg3hnd11b6g4080000gn/T/ipykernel_7492/4226437600.py\u001b[0m in \u001b[0;36m<module>\u001b[0;34m\u001b[0m\n\u001b[0;32m----> 1\u001b[0;31m \u001b[0mx\u001b[0m \u001b[0;34m=\u001b[0m \u001b[0;34m{\u001b[0m\u001b[0;34m'python'\u001b[0m\u001b[0;34m:\u001b[0m\u001b[0;36m3\u001b[0m\u001b[0;34m,\u001b[0m\u001b[0;34m'java'\u001b[0m\u001b[0;34m:\u001b[0m\u001b[0;36m3\u001b[0m\u001b[0;34m,\u001b[0m\u001b[0;34m{\u001b[0m\u001b[0;36m4\u001b[0m\u001b[0;34m,\u001b[0m\u001b[0;36m6\u001b[0m\u001b[0;34m}\u001b[0m\u001b[0;34m:\u001b[0m\u001b[0;36m4000\u001b[0m\u001b[0;34m}\u001b[0m\u001b[0;34m\u001b[0m\u001b[0;34m\u001b[0m\u001b[0m\n\u001b[0m",
      "\u001b[0;31mTypeError\u001b[0m: unhashable type: 'set'"
     ]
    }
   ],
   "source": [
    "x = {'python':3,'java':3,{4,6}:4000}"
   ]
  },
  {
   "cell_type": "code",
   "execution_count": 47,
   "id": "cf8d29dc",
   "metadata": {},
   "outputs": [],
   "source": [
    "# Builtins of dict"
   ]
  },
  {
   "cell_type": "code",
   "execution_count": null,
   "id": "6ec7ec7d",
   "metadata": {},
   "outputs": [],
   "source": [
    "# get\n",
    "\n",
    "if key exist: returns the value\n",
    "else: returns none or specified value"
   ]
  },
  {
   "cell_type": "code",
   "execution_count": 48,
   "id": "93a6b694",
   "metadata": {},
   "outputs": [
    {
     "data": {
      "text/plain": [
       "3"
      ]
     },
     "execution_count": 48,
     "metadata": {},
     "output_type": "execute_result"
    }
   ],
   "source": [
    "x = {'python':3,'java':400,'magic':56}\n",
    "\n",
    "x.get('python')"
   ]
  },
  {
   "cell_type": "code",
   "execution_count": 50,
   "id": "5721076b",
   "metadata": {},
   "outputs": [
    {
     "name": "stdout",
     "output_type": "stream",
     "text": [
      "None\n"
     ]
    }
   ],
   "source": [
    "x = {'python':3,'java':400,'magic':56}\n",
    "\n",
    "print(x.get('maggi'))"
   ]
  },
  {
   "cell_type": "code",
   "execution_count": 51,
   "id": "e9063af2",
   "metadata": {},
   "outputs": [
    {
     "name": "stdout",
     "output_type": "stream",
     "text": [
      "The key is not present\n"
     ]
    }
   ],
   "source": [
    "x = {'python':3,'java':400,'magic':56}\n",
    "\n",
    "print(x.get('maggi','The key is not present'))"
   ]
  },
  {
   "cell_type": "code",
   "execution_count": 52,
   "id": "5010aaa5",
   "metadata": {},
   "outputs": [
    {
     "name": "stdout",
     "output_type": "stream",
     "text": [
      "400\n"
     ]
    }
   ],
   "source": [
    "x = {'python':3,'java':400,'magic':56}\n",
    "\n",
    "print(x.get('java','The key is not present'))"
   ]
  },
  {
   "cell_type": "code",
   "execution_count": 53,
   "id": "5fb8d75e",
   "metadata": {},
   "outputs": [],
   "source": [
    "# set default\n",
    "\n",
    "if key exist: returns the value\n",
    "else: inserts the key:value pair and returns the value"
   ]
  },
  {
   "cell_type": "code",
   "execution_count": 55,
   "id": "771b91b9",
   "metadata": {},
   "outputs": [
    {
     "data": {
      "text/plain": [
       "3"
      ]
     },
     "execution_count": 55,
     "metadata": {},
     "output_type": "execute_result"
    }
   ],
   "source": [
    "x = {'python':3,'java':400,'magic':56}\n",
    "\n",
    "x.setdefault('python',690000)"
   ]
  },
  {
   "cell_type": "code",
   "execution_count": 56,
   "id": "b8725bd9",
   "metadata": {},
   "outputs": [
    {
     "data": {
      "text/plain": [
       "690000"
      ]
     },
     "execution_count": 56,
     "metadata": {},
     "output_type": "execute_result"
    }
   ],
   "source": [
    "x = {'python':3,'java':400,'magic':56}\n",
    "\n",
    "x.setdefault('maggii',690000)"
   ]
  },
  {
   "cell_type": "code",
   "execution_count": 57,
   "id": "233f0ae3",
   "metadata": {},
   "outputs": [
    {
     "name": "stdout",
     "output_type": "stream",
     "text": [
      "{'python': 3, 'java': 400, 'magic': 56, 'maggii': 690000}\n"
     ]
    }
   ],
   "source": [
    "print(x)"
   ]
  },
  {
   "cell_type": "code",
   "execution_count": null,
   "id": "9e303568",
   "metadata": {},
   "outputs": [],
   "source": [
    "# deletion in dict\n",
    "\n",
    "pop => it takes key, deletes that key:value pair in the dict\n",
    "popitem\n",
    "clear"
   ]
  },
  {
   "cell_type": "code",
   "execution_count": 58,
   "id": "22acbabe",
   "metadata": {},
   "outputs": [
    {
     "data": {
      "text/plain": [
       "3"
      ]
     },
     "execution_count": 58,
     "metadata": {},
     "output_type": "execute_result"
    }
   ],
   "source": [
    "x = {'python':3,'java':400,'magic':56}\n",
    "\n",
    "x.pop('python')"
   ]
  },
  {
   "cell_type": "code",
   "execution_count": 59,
   "id": "361a340f",
   "metadata": {},
   "outputs": [
    {
     "name": "stdout",
     "output_type": "stream",
     "text": [
      "{'java': 400, 'magic': 56}\n"
     ]
    }
   ],
   "source": [
    "print(x)"
   ]
  },
  {
   "cell_type": "code",
   "execution_count": 60,
   "id": "27e9c2fa",
   "metadata": {},
   "outputs": [
    {
     "name": "stdout",
     "output_type": "stream",
     "text": [
      "{'python': 3, 'java': 400}\n"
     ]
    }
   ],
   "source": [
    "x = {'python':3,'java':400,'magic':56}\n",
    "\n",
    "x.popitem()\n",
    "# came in python 3.5+ \n",
    "# from python 3.5 version, dicts are insertion ordered.\n",
    "\n",
    "print(x)"
   ]
  },
  {
   "cell_type": "code",
   "execution_count": 61,
   "id": "52e6d5f8",
   "metadata": {},
   "outputs": [
    {
     "name": "stdout",
     "output_type": "stream",
     "text": [
      "{}\n"
     ]
    }
   ],
   "source": [
    "x = {'python':3,'java':400,'magic':56}\n",
    "x.clear()\n",
    "print(x)"
   ]
  },
  {
   "cell_type": "code",
   "execution_count": 62,
   "id": "e39eeb27",
   "metadata": {},
   "outputs": [],
   "source": [
    "del x"
   ]
  },
  {
   "cell_type": "code",
   "execution_count": 63,
   "id": "94d13fce",
   "metadata": {},
   "outputs": [
    {
     "ename": "NameError",
     "evalue": "name 'x' is not defined",
     "output_type": "error",
     "traceback": [
      "\u001b[0;31m---------------------------------------------------------------------------\u001b[0m",
      "\u001b[0;31mNameError\u001b[0m                                 Traceback (most recent call last)",
      "\u001b[0;32m/var/folders/9s/j9tqx4617_jg3hnd11b6g4080000gn/T/ipykernel_7492/1353120783.py\u001b[0m in \u001b[0;36m<module>\u001b[0;34m\u001b[0m\n\u001b[0;32m----> 1\u001b[0;31m \u001b[0mprint\u001b[0m\u001b[0;34m(\u001b[0m\u001b[0mx\u001b[0m\u001b[0;34m)\u001b[0m\u001b[0;34m\u001b[0m\u001b[0;34m\u001b[0m\u001b[0m\n\u001b[0m",
      "\u001b[0;31mNameError\u001b[0m: name 'x' is not defined"
     ]
    }
   ],
   "source": [
    "print(x)"
   ]
  },
  {
   "cell_type": "code",
   "execution_count": null,
   "id": "819e4f1e",
   "metadata": {},
   "outputs": [],
   "source": [
    "# Sets"
   ]
  },
  {
   "cell_type": "code",
   "execution_count": null,
   "id": "06fb4cda",
   "metadata": {},
   "outputs": [],
   "source": [
    ">> mutable (editable)\n",
    ">> unordered: does not support indexing and slicing\n",
    ">> 2 most imp things about sets:\n",
    "    1) keys(set element) are unique\n",
    "    2) keys(set element) are immutable"
   ]
  },
  {
   "cell_type": "code",
   "execution_count": 64,
   "id": "52f742ff",
   "metadata": {},
   "outputs": [],
   "source": [
    "x = {4,4,4,4,4,4,4,4}"
   ]
  },
  {
   "cell_type": "code",
   "execution_count": 65,
   "id": "0a9b688e",
   "metadata": {},
   "outputs": [
    {
     "name": "stdout",
     "output_type": "stream",
     "text": [
      "{4}\n"
     ]
    }
   ],
   "source": [
    "print(x)"
   ]
  },
  {
   "cell_type": "code",
   "execution_count": 66,
   "id": "9a2d05e4",
   "metadata": {},
   "outputs": [
    {
     "ename": "TypeError",
     "evalue": "unhashable type: 'list'",
     "output_type": "error",
     "traceback": [
      "\u001b[0;31m---------------------------------------------------------------------------\u001b[0m",
      "\u001b[0;31mTypeError\u001b[0m                                 Traceback (most recent call last)",
      "\u001b[0;32m/var/folders/9s/j9tqx4617_jg3hnd11b6g4080000gn/T/ipykernel_7492/557176929.py\u001b[0m in \u001b[0;36m<module>\u001b[0;34m\u001b[0m\n\u001b[1;32m      3\u001b[0m \u001b[0;31m#     dict\u001b[0m\u001b[0;34m\u001b[0m\u001b[0;34m\u001b[0m\u001b[0;34m\u001b[0m\u001b[0m\n\u001b[1;32m      4\u001b[0m \u001b[0;31m#     set\u001b[0m\u001b[0;34m\u001b[0m\u001b[0;34m\u001b[0m\u001b[0;34m\u001b[0m\u001b[0m\n\u001b[0;32m----> 5\u001b[0;31m \u001b[0mx\u001b[0m \u001b[0;34m=\u001b[0m \u001b[0;34m{\u001b[0m\u001b[0;34m[\u001b[0m\u001b[0;36m1\u001b[0m\u001b[0;34m,\u001b[0m\u001b[0;36m2\u001b[0m\u001b[0;34m,\u001b[0m\u001b[0;36m3\u001b[0m\u001b[0;34m]\u001b[0m\u001b[0;34m}\u001b[0m\u001b[0;34m\u001b[0m\u001b[0;34m\u001b[0m\u001b[0m\n\u001b[0m",
      "\u001b[0;31mTypeError\u001b[0m: unhashable type: 'list'"
     ]
    }
   ],
   "source": [
    "# mutable:\n",
    "#     list\n",
    "#     dict\n",
    "#     set\n",
    "x = {[1,2,3]}\n",
    "\n",
    "# keys can never be list,dict or set"
   ]
  },
  {
   "cell_type": "code",
   "execution_count": 67,
   "id": "da3b010a",
   "metadata": {},
   "outputs": [
    {
     "ename": "TypeError",
     "evalue": "unhashable type: 'dict'",
     "output_type": "error",
     "traceback": [
      "\u001b[0;31m---------------------------------------------------------------------------\u001b[0m",
      "\u001b[0;31mTypeError\u001b[0m                                 Traceback (most recent call last)",
      "\u001b[0;32m/var/folders/9s/j9tqx4617_jg3hnd11b6g4080000gn/T/ipykernel_7492/2404718534.py\u001b[0m in \u001b[0;36m<module>\u001b[0;34m\u001b[0m\n\u001b[0;32m----> 1\u001b[0;31m \u001b[0mx\u001b[0m \u001b[0;34m=\u001b[0m \u001b[0;34m{\u001b[0m\u001b[0;34m{\u001b[0m\u001b[0;34m'python'\u001b[0m\u001b[0;34m:\u001b[0m\u001b[0;36m3\u001b[0m\u001b[0;34m}\u001b[0m\u001b[0;34m,\u001b[0m\u001b[0;36m400\u001b[0m\u001b[0;34m}\u001b[0m\u001b[0;34m\u001b[0m\u001b[0;34m\u001b[0m\u001b[0m\n\u001b[0m",
      "\u001b[0;31mTypeError\u001b[0m: unhashable type: 'dict'"
     ]
    }
   ],
   "source": [
    "x = {{'python':3},400}"
   ]
  },
  {
   "cell_type": "code",
   "execution_count": 68,
   "id": "a7551177",
   "metadata": {},
   "outputs": [
    {
     "ename": "TypeError",
     "evalue": "unhashable type: 'set'",
     "output_type": "error",
     "traceback": [
      "\u001b[0;31m---------------------------------------------------------------------------\u001b[0m",
      "\u001b[0;31mTypeError\u001b[0m                                 Traceback (most recent call last)",
      "\u001b[0;32m/var/folders/9s/j9tqx4617_jg3hnd11b6g4080000gn/T/ipykernel_7492/2462670842.py\u001b[0m in \u001b[0;36m<module>\u001b[0;34m\u001b[0m\n\u001b[0;32m----> 1\u001b[0;31m \u001b[0mx\u001b[0m \u001b[0;34m=\u001b[0m \u001b[0;34m{\u001b[0m\u001b[0;34m{\u001b[0m\u001b[0;36m1\u001b[0m\u001b[0;34m,\u001b[0m\u001b[0;36m2\u001b[0m\u001b[0;34m,\u001b[0m\u001b[0;36m3\u001b[0m\u001b[0;34m}\u001b[0m\u001b[0;34m,\u001b[0m\u001b[0;36m400\u001b[0m\u001b[0;34m}\u001b[0m\u001b[0;34m\u001b[0m\u001b[0;34m\u001b[0m\u001b[0m\n\u001b[0m",
      "\u001b[0;31mTypeError\u001b[0m: unhashable type: 'set'"
     ]
    }
   ],
   "source": [
    "x = {{1,2,3},400}"
   ]
  },
  {
   "cell_type": "code",
   "execution_count": 74,
   "id": "24cde74f",
   "metadata": {},
   "outputs": [],
   "source": [
    "# Builtins of set\n",
    "\n",
    "# add"
   ]
  },
  {
   "cell_type": "code",
   "execution_count": 69,
   "id": "1ac146cd",
   "metadata": {},
   "outputs": [],
   "source": [
    "vikas_set = {4,5,69,786,420}\n",
    "\n",
    "vikas_set.add(3000)"
   ]
  },
  {
   "cell_type": "code",
   "execution_count": 70,
   "id": "0d1270ad",
   "metadata": {},
   "outputs": [
    {
     "name": "stdout",
     "output_type": "stream",
     "text": [
      "{420, 69, 4, 5, 786, 3000}\n"
     ]
    }
   ],
   "source": [
    "print(vikas_set)"
   ]
  },
  {
   "cell_type": "code",
   "execution_count": 72,
   "id": "91a9949b",
   "metadata": {},
   "outputs": [],
   "source": [
    "vikas_set.add(-90)"
   ]
  },
  {
   "cell_type": "code",
   "execution_count": 73,
   "id": "76e2829a",
   "metadata": {},
   "outputs": [
    {
     "name": "stdout",
     "output_type": "stream",
     "text": [
      "{420, 69, 4, 5, -90, 786, 3000}\n"
     ]
    }
   ],
   "source": [
    "print(vikas_set)"
   ]
  },
  {
   "cell_type": "code",
   "execution_count": 75,
   "id": "ecade038",
   "metadata": {},
   "outputs": [],
   "source": [
    "# update"
   ]
  },
  {
   "cell_type": "code",
   "execution_count": 76,
   "id": "c2f338c6",
   "metadata": {},
   "outputs": [
    {
     "name": "stdout",
     "output_type": "stream",
     "text": [
      "{1200, 7200, 6900, -10, -40, -20}\n"
     ]
    }
   ],
   "source": [
    "set1 = {1200,6900,7200}\n",
    "set2 = {-40,-20,-10}\n",
    "\n",
    "set1.update(set2)\n",
    "print(set1)\n",
    "\n",
    "# Sets are mutable"
   ]
  },
  {
   "cell_type": "code",
   "execution_count": null,
   "id": "101cfbab",
   "metadata": {},
   "outputs": [],
   "source": [
    "# deletion operations on sets\n",
    "pop\n",
    "remove\n",
    "discard\n",
    "clear"
   ]
  },
  {
   "cell_type": "code",
   "execution_count": 77,
   "id": "7da20a5c",
   "metadata": {},
   "outputs": [],
   "source": [
    "set1 = {1200,6900,7200}"
   ]
  },
  {
   "cell_type": "code",
   "execution_count": 78,
   "id": "91a86293",
   "metadata": {},
   "outputs": [
    {
     "data": {
      "text/plain": [
       "1200"
      ]
     },
     "execution_count": 78,
     "metadata": {},
     "output_type": "execute_result"
    }
   ],
   "source": [
    "set1.pop()"
   ]
  },
  {
   "cell_type": "code",
   "execution_count": 79,
   "id": "3346517b",
   "metadata": {},
   "outputs": [
    {
     "name": "stdout",
     "output_type": "stream",
     "text": [
      "{7200, 6900}\n"
     ]
    }
   ],
   "source": [
    "print(set1)"
   ]
  },
  {
   "cell_type": "code",
   "execution_count": 80,
   "id": "3e64ab09",
   "metadata": {},
   "outputs": [],
   "source": [
    "set1 = {1200,6900,7200}"
   ]
  },
  {
   "cell_type": "code",
   "execution_count": 81,
   "id": "dc9407f4",
   "metadata": {},
   "outputs": [],
   "source": [
    "set1.remove(6900)"
   ]
  },
  {
   "cell_type": "code",
   "execution_count": 82,
   "id": "a4c8f6f4",
   "metadata": {},
   "outputs": [
    {
     "name": "stdout",
     "output_type": "stream",
     "text": [
      "{1200, 7200}\n"
     ]
    }
   ],
   "source": [
    "print(set1)"
   ]
  },
  {
   "cell_type": "code",
   "execution_count": 83,
   "id": "fb8e4e60",
   "metadata": {},
   "outputs": [
    {
     "ename": "KeyError",
     "evalue": "69000",
     "output_type": "error",
     "traceback": [
      "\u001b[0;31m---------------------------------------------------------------------------\u001b[0m",
      "\u001b[0;31mKeyError\u001b[0m                                  Traceback (most recent call last)",
      "\u001b[0;32m/var/folders/9s/j9tqx4617_jg3hnd11b6g4080000gn/T/ipykernel_7492/160023284.py\u001b[0m in \u001b[0;36m<module>\u001b[0;34m\u001b[0m\n\u001b[0;32m----> 1\u001b[0;31m \u001b[0mset1\u001b[0m\u001b[0;34m.\u001b[0m\u001b[0mremove\u001b[0m\u001b[0;34m(\u001b[0m\u001b[0;36m69000\u001b[0m\u001b[0;34m)\u001b[0m\u001b[0;34m\u001b[0m\u001b[0;34m\u001b[0m\u001b[0m\n\u001b[0m",
      "\u001b[0;31mKeyError\u001b[0m: 69000"
     ]
    }
   ],
   "source": [
    "set1.remove(69000)"
   ]
  },
  {
   "cell_type": "code",
   "execution_count": 84,
   "id": "f4d14670",
   "metadata": {},
   "outputs": [],
   "source": [
    "set1 = {1200,6900,7200}\n",
    "\n",
    "set1.discard(6900)"
   ]
  },
  {
   "cell_type": "code",
   "execution_count": 85,
   "id": "a5daa388",
   "metadata": {},
   "outputs": [
    {
     "name": "stdout",
     "output_type": "stream",
     "text": [
      "{1200, 7200}\n"
     ]
    }
   ],
   "source": [
    "print(set1)"
   ]
  },
  {
   "cell_type": "code",
   "execution_count": 86,
   "id": "fd1c9e5c",
   "metadata": {},
   "outputs": [],
   "source": [
    "set1 = {1200,6900,7200}\n",
    "\n",
    "set1.discard(69000)"
   ]
  },
  {
   "cell_type": "code",
   "execution_count": 87,
   "id": "37ea0a02",
   "metadata": {},
   "outputs": [],
   "source": [
    "set1 = {1200,6900,7200}\n",
    "\n",
    "set1.clear()"
   ]
  },
  {
   "cell_type": "code",
   "execution_count": 88,
   "id": "c6365b0e",
   "metadata": {},
   "outputs": [
    {
     "name": "stdout",
     "output_type": "stream",
     "text": [
      "set()\n"
     ]
    }
   ],
   "source": [
    "print(set1)"
   ]
  },
  {
   "cell_type": "code",
   "execution_count": null,
   "id": "98d426f7",
   "metadata": {},
   "outputs": [],
   "source": []
  }
 ],
 "metadata": {
  "kernelspec": {
   "display_name": "Python 3 (ipykernel)",
   "language": "python",
   "name": "python3"
  },
  "language_info": {
   "codemirror_mode": {
    "name": "ipython",
    "version": 3
   },
   "file_extension": ".py",
   "mimetype": "text/x-python",
   "name": "python",
   "nbconvert_exporter": "python",
   "pygments_lexer": "ipython3",
   "version": "3.8.9"
  }
 },
 "nbformat": 4,
 "nbformat_minor": 5
}
