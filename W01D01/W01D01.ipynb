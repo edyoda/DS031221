{
 "cells": [
  {
   "cell_type": "code",
   "execution_count": null,
   "id": "f18d2678",
   "metadata": {},
   "outputs": [],
   "source": [
    "# -Python Installation -> https://www.python.org/downloads/\n",
    "# -Jupyter notebook Installation -> pip install notebook\n",
    "\n",
    "Facing issues?\n",
    "->https://jupyter.org/try\n",
    "    click on try classic jupyter notebook\n",
    "    \n",
    "-> raise a query on teams channel(where you will be added soon!!)\n",
    "\n",
    "1st week is about setting up python and jupyter notebook.\n",
    "and getting a hang of what this is course is about and start learning \n",
    "python."
   ]
  },
  {
   "cell_type": "code",
   "execution_count": 3,
   "id": "fecf6df0",
   "metadata": {},
   "outputs": [
    {
     "name": "stdout",
     "output_type": "stream",
     "text": [
      "1\n",
      "2\n",
      "3\n",
      "4\n",
      "5\n",
      "6\n",
      "7\n",
      "8\n",
      "9\n",
      "10\n"
     ]
    }
   ],
   "source": [
    "for i in range(1,11):\n",
    "    print(i)"
   ]
  },
  {
   "cell_type": "code",
   "execution_count": null,
   "id": "96d249ef",
   "metadata": {},
   "outputs": [],
   "source": []
  }
 ],
 "metadata": {
  "kernelspec": {
   "display_name": "Python 3 (ipykernel)",
   "language": "python",
   "name": "python3"
  },
  "language_info": {
   "codemirror_mode": {
    "name": "ipython",
    "version": 3
   },
   "file_extension": ".py",
   "mimetype": "text/x-python",
   "name": "python",
   "nbconvert_exporter": "python",
   "pygments_lexer": "ipython3",
   "version": "3.8.9"
  }
 },
 "nbformat": 4,
 "nbformat_minor": 5
}
