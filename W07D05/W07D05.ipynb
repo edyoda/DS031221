{
 "cells": [
  {
   "cell_type": "code",
   "execution_count": null,
   "id": "e29bf8c4",
   "metadata": {},
   "outputs": [],
   "source": [
    "API:APPLICATION PROGRAMMING INTERFACE"
   ]
  },
  {
   "cell_type": "code",
   "execution_count": null,
   "id": "6aead4d7",
   "metadata": {},
   "outputs": [],
   "source": [
    "1) UNDERSTANDING THE WEB DEV ARCHITECTURE:\n",
    "    FRONT END\n",
    "    BACK END\n",
    "    WHERE ARE API?\n",
    "2) CREATE OUR SERVER"
   ]
  },
  {
   "cell_type": "code",
   "execution_count": 2,
   "id": "368b0834",
   "metadata": {},
   "outputs": [],
   "source": [
    "# 3rd party library/module: sanic\n",
    "# sanic helps us create api and a server to expose those api very\n",
    "# easily."
   ]
  },
  {
   "cell_type": "code",
   "execution_count": 3,
   "id": "d1c7c727",
   "metadata": {},
   "outputs": [
    {
     "name": "stdout",
     "output_type": "stream",
     "text": [
      "Defaulting to user installation because normal site-packages is not writeable\n",
      "Collecting sanic\n",
      "  Downloading sanic-21.12.1-py3-none-any.whl (139 kB)\n",
      "\u001b[K     |████████████████████████████████| 139 kB 6.4 MB/s eta 0:00:01\n",
      "\u001b[?25hCollecting sanic-routing~=0.7\n",
      "  Downloading sanic_routing-0.7.2-py3-none-any.whl (23 kB)\n",
      "Collecting aiofiles>=0.6.0\n",
      "  Downloading aiofiles-0.8.0-py3-none-any.whl (13 kB)\n",
      "Collecting ujson>=1.35; sys_platform != \"win32\" and implementation_name == \"cpython\"\n",
      "  Downloading ujson-5.1.0.tar.gz (7.1 MB)\n",
      "\u001b[K     |████████████████████████████████| 7.1 MB 3.6 MB/s eta 0:00:011\n",
      "\u001b[?25h  Installing build dependencies ... \u001b[?25ldone\n",
      "\u001b[?25h  Getting requirements to build wheel ... \u001b[?25ldone\n",
      "\u001b[?25h    Preparing wheel metadata ... \u001b[?25ldone\n",
      "\u001b[?25hCollecting httptools>=0.0.10\n",
      "  Downloading httptools-0.3.0.tar.gz (170 kB)\n",
      "\u001b[K     |████████████████████████████████| 170 kB 5.5 MB/s eta 0:00:01\n",
      "\u001b[?25hCollecting uvloop>=0.5.3; sys_platform != \"win32\" and implementation_name == \"cpython\"\n",
      "  Downloading uvloop-0.16.0.tar.gz (2.1 MB)\n",
      "\u001b[K     |████████████████████████████████| 2.1 MB 31.6 MB/s eta 0:00:01\n",
      "\u001b[?25hCollecting websockets>=10.0\n",
      "  Downloading websockets-10.1.tar.gz (83 kB)\n",
      "\u001b[K     |████████████████████████████████| 83 kB 4.2 MB/s eta 0:00:01\n",
      "\u001b[?25hCollecting multidict<6.0,>=5.0\n",
      "  Downloading multidict-5.2.0.tar.gz (49 kB)\n",
      "\u001b[K     |████████████████████████████████| 49 kB 31.1 MB/s eta 0:00:01\n",
      "\u001b[?25h  Installing build dependencies ... \u001b[?25ldone\n",
      "\u001b[?25h  Getting requirements to build wheel ... \u001b[?25ldone\n",
      "\u001b[?25h    Preparing wheel metadata ... \u001b[?25ldone\n",
      "\u001b[?25hBuilding wheels for collected packages: ujson, httptools, uvloop, websockets, multidict\n",
      "  Building wheel for ujson (PEP 517) ... \u001b[?25ldone\n",
      "\u001b[?25h  Created wheel for ujson: filename=ujson-5.1.0-cp38-cp38-macosx_10_14_arm64.whl size=84959 sha256=9a17319bc2ab768adf9aef28e300afac8d32a18a2bb6e7030877c188583ba299\n",
      "  Stored in directory: /Users/mohitchouhan/Library/Caches/pip/wheels/f4/d9/cf/cf53920862cc5ca56331b4764235bf232e6909cd5390844fd7\n",
      "  Building wheel for httptools (setup.py) ... \u001b[?25ldone\n",
      "\u001b[?25h  Created wheel for httptools: filename=httptools-0.3.0-cp38-cp38-macosx_10_14_arm64.whl size=223469 sha256=5566ce788c38c4ef0beab546c85374c5d0327d47455c9c5178f2da1bd1facd10\n",
      "  Stored in directory: /Users/mohitchouhan/Library/Caches/pip/wheels/80/07/94/9dbf70b1c75621464897394171494f0c5f4b81f2a9b25ac2e8\n",
      "  Building wheel for uvloop (setup.py) ... \u001b[?25ldone\n",
      "\u001b[?25h  Created wheel for uvloop: filename=uvloop-0.16.0-cp38-cp38-macosx_10_14_arm64.whl size=2048038 sha256=33aa0e14dafad0202079a72706dc8393aba2a472a14b9bc83f98b30d98b1807b\n",
      "  Stored in directory: /Users/mohitchouhan/Library/Caches/pip/wheels/4b/be/00/02d65fc293a0a2f7578d274ea90b5e64ed510ff75b4b8e583a\n",
      "  Building wheel for websockets (setup.py) ... \u001b[?25ldone\n",
      "\u001b[?25h  Created wheel for websockets: filename=websockets-10.1-cp38-cp38-macosx_10_14_arm64.whl size=98952 sha256=c691f47e2779774fa224e06eb2c5ad98a467c922ad26b0ef634d2bd76eca1a50\n",
      "  Stored in directory: /Users/mohitchouhan/Library/Caches/pip/wheels/cf/1a/3f/a03e5b2247d302b323e4c52aaaecd6ccddbabc1d797f746db2\n",
      "  Building wheel for multidict (PEP 517) ... \u001b[?25ldone\n",
      "\u001b[?25h  Created wheel for multidict: filename=multidict-5.2.0-cp38-cp38-macosx_10_14_arm64.whl size=64370 sha256=89799d6f9dcbf7b04ab17b395087bbbb34756b11a940e325fe2368f5f5803222\n",
      "  Stored in directory: /Users/mohitchouhan/Library/Caches/pip/wheels/cb/1d/38/bdfe293de7fdfdd2a0bd91c93059ffd2eb3f747a63d6018629\n",
      "Successfully built ujson httptools uvloop websockets multidict\n",
      "Installing collected packages: sanic-routing, aiofiles, ujson, httptools, uvloop, websockets, multidict, sanic\n",
      "Successfully installed aiofiles-0.8.0 httptools-0.3.0 multidict-5.2.0 sanic-21.12.1 sanic-routing-0.7.2 ujson-5.1.0 uvloop-0.16.0 websockets-10.1\n",
      "\u001b[33mWARNING: You are using pip version 20.2.3; however, version 21.3.1 is available.\n",
      "You should consider upgrading via the '/Library/Developer/CommandLineTools/usr/bin/python3 -m pip install --upgrade pip' command.\u001b[0m\n",
      "Note: you may need to restart the kernel to use updated packages.\n"
     ]
    }
   ],
   "source": [
    "pip install sanic"
   ]
  },
  {
   "cell_type": "code",
   "execution_count": null,
   "id": "53262f76",
   "metadata": {},
   "outputs": [],
   "source": [
    "## step by step process of using public apis\n",
    "\n",
    "# reading the documentation and finding api that you want to use."
   ]
  },
  {
   "cell_type": "code",
   "execution_count": 10,
   "id": "7ddd9f1b",
   "metadata": {},
   "outputs": [],
   "source": [
    "host = \"https://api.covidtracking.com\"\n",
    "uri = \"/v1/us/current.json\"\n",
    "url = host+uri"
   ]
  },
  {
   "cell_type": "code",
   "execution_count": null,
   "id": "bc2c44fa",
   "metadata": {},
   "outputs": [],
   "source": [
    "# a library/module to make a request to the api have to be used.\n",
    "\n",
    "# requests is a library to make those request."
   ]
  },
  {
   "cell_type": "code",
   "execution_count": 6,
   "id": "9a347f45",
   "metadata": {},
   "outputs": [
    {
     "name": "stdout",
     "output_type": "stream",
     "text": [
      "Defaulting to user installation because normal site-packages is not writeable\n",
      "Requirement already satisfied: requests in /Users/mohitchouhan/Library/Python/3.8/lib/python/site-packages (2.26.0)\n",
      "Requirement already satisfied: idna<4,>=2.5; python_version >= \"3\" in /Users/mohitchouhan/Library/Python/3.8/lib/python/site-packages (from requests) (3.2)\n",
      "Requirement already satisfied: certifi>=2017.4.17 in /Users/mohitchouhan/Library/Python/3.8/lib/python/site-packages (from requests) (2021.5.30)\n",
      "Requirement already satisfied: urllib3<1.27,>=1.21.1 in /Users/mohitchouhan/Library/Python/3.8/lib/python/site-packages (from requests) (1.26.7)\n",
      "Requirement already satisfied: charset-normalizer~=2.0.0; python_version >= \"3\" in /Users/mohitchouhan/Library/Python/3.8/lib/python/site-packages (from requests) (2.0.6)\n",
      "\u001b[33mWARNING: You are using pip version 20.2.3; however, version 21.3.1 is available.\n",
      "You should consider upgrading via the '/Library/Developer/CommandLineTools/usr/bin/python3 -m pip install --upgrade pip' command.\u001b[0m\n",
      "Note: you may need to restart the kernel to use updated packages.\n"
     ]
    }
   ],
   "source": [
    "pip install requests"
   ]
  },
  {
   "cell_type": "code",
   "execution_count": null,
   "id": "6c2681d2",
   "metadata": {},
   "outputs": [],
   "source": [
    "# different kinds of requests\n",
    "https://docs.python-requests.org/en/master/user/quickstart/"
   ]
  },
  {
   "cell_type": "code",
   "execution_count": 5,
   "id": "2bc6327e",
   "metadata": {},
   "outputs": [],
   "source": [
    "import requests"
   ]
  },
  {
   "cell_type": "code",
   "execution_count": 20,
   "id": "a330c690",
   "metadata": {},
   "outputs": [],
   "source": [
    "response = requests.get(url=url)"
   ]
  },
  {
   "cell_type": "code",
   "execution_count": 21,
   "id": "37ec5c66",
   "metadata": {},
   "outputs": [
    {
     "name": "stdout",
     "output_type": "stream",
     "text": [
      "200\n"
     ]
    }
   ],
   "source": [
    "print(response.status_code)"
   ]
  },
  {
   "cell_type": "code",
   "execution_count": 22,
   "id": "3e90c819",
   "metadata": {},
   "outputs": [
    {
     "data": {
      "text/plain": [
       "[{'date': 20210307,\n",
       "  'states': 56,\n",
       "  'positive': 28756489,\n",
       "  'negative': 74582825,\n",
       "  'pending': 11808,\n",
       "  'hospitalizedCurrently': 40199,\n",
       "  'hospitalizedCumulative': 776361,\n",
       "  'inIcuCurrently': 8134,\n",
       "  'inIcuCumulative': 45475,\n",
       "  'onVentilatorCurrently': 2802,\n",
       "  'onVentilatorCumulative': 4281,\n",
       "  'dateChecked': '2021-03-07T24:00:00Z',\n",
       "  'death': 515151,\n",
       "  'hospitalized': 776361,\n",
       "  'totalTestResults': 363825123,\n",
       "  'lastModified': '2021-03-07T24:00:00Z',\n",
       "  'recovered': None,\n",
       "  'total': 0,\n",
       "  'posNeg': 0,\n",
       "  'deathIncrease': 842,\n",
       "  'hospitalizedIncrease': 726,\n",
       "  'negativeIncrease': 131835,\n",
       "  'positiveIncrease': 41835,\n",
       "  'totalTestResultsIncrease': 1170059,\n",
       "  'hash': 'a80d0063822e251249fd9a44730c49cb23defd83'}]"
      ]
     },
     "execution_count": 22,
     "metadata": {},
     "output_type": "execute_result"
    }
   ],
   "source": [
    "response.json()"
   ]
  },
  {
   "cell_type": "code",
   "execution_count": null,
   "id": "f31e835f",
   "metadata": {},
   "outputs": [],
   "source": [
    "# status codes: tells us wheter the request returned back the result\n",
    "# or not, if not than why not?\n",
    "# https://developer.mozilla.org/en-US/docs/Web/HTTP/Status#client_error_responses\n",
    "# 200: successfully returned response."
   ]
  },
  {
   "cell_type": "code",
   "execution_count": 1,
   "id": "67eb29fc",
   "metadata": {},
   "outputs": [],
   "source": [
    "import random"
   ]
  },
  {
   "cell_type": "code",
   "execution_count": 23,
   "id": "f61bac39",
   "metadata": {},
   "outputs": [
    {
     "name": "stdout",
     "output_type": "stream",
     "text": [
      "556\n"
     ]
    }
   ],
   "source": [
    "food_items = {794:{'name':'malaikofta','price':1000}}\n",
    "while food_id in food_items:\n",
    "    food_id = random.randint(4,1000)\n",
    "print(food_id)"
   ]
  },
  {
   "cell_type": "code",
   "execution_count": null,
   "id": "e46fd580",
   "metadata": {},
   "outputs": [],
   "source": []
  }
 ],
 "metadata": {
  "kernelspec": {
   "display_name": "Python 3 (ipykernel)",
   "language": "python",
   "name": "python3"
  },
  "language_info": {
   "codemirror_mode": {
    "name": "ipython",
    "version": 3
   },
   "file_extension": ".py",
   "mimetype": "text/x-python",
   "name": "python",
   "nbconvert_exporter": "python",
   "pygments_lexer": "ipython3",
   "version": "3.8.9"
  }
 },
 "nbformat": 4,
 "nbformat_minor": 5
}
