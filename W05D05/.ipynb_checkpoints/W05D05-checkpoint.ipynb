{
 "cells": [
  {
   "cell_type": "code",
   "execution_count": 1,
   "id": "07288386",
   "metadata": {},
   "outputs": [],
   "source": [
    "a = [1,2,3,4]\n",
    "a = [4,3,2,1]\n",
    "a = [1,2,4,2,1]\n",
    "a = [1,1,1,1]\n",
    "a = [0,-1,2,3,3]\n",
    "a = [1,2,1,3,2,4]"
   ]
  },
  {
   "cell_type": "code",
   "execution_count": 8,
   "id": "7049780a",
   "metadata": {},
   "outputs": [
    {
     "name": "stdout",
     "output_type": "stream",
     "text": [
      "3\n"
     ]
    }
   ],
   "source": [
    "# corner elements\n",
    "n = 4\n",
    "first = a[0]\n",
    "last = a[n-1]\n",
    "\n",
    "if a[0] > a[1]:\n",
    "    print(0)\n",
    "if a[n-1] > a[n-2]:\n",
    "    print(n-1)\n",
    "else:\n",
    "    print('nope')"
   ]
  },
  {
   "cell_type": "code",
   "execution_count": 5,
   "id": "30582bfc",
   "metadata": {},
   "outputs": [
    {
     "name": "stdout",
     "output_type": "stream",
     "text": [
      "nope\n"
     ]
    }
   ],
   "source": [
    "current_index = 2\n",
    "# a[current_index]\n",
    "if a[current_index] > a[current_index+1] and a[current_index] > a[current_index-1]:\n",
    "    print(current_index)\n",
    "else:\n",
    "    print('nope')"
   ]
  },
  {
   "cell_type": "code",
   "execution_count": 15,
   "id": "95dc3c87",
   "metadata": {},
   "outputs": [
    {
     "name": "stdout",
     "output_type": "stream",
     "text": [
      "apple\n",
      "mango\n",
      "banana\n",
      "banana\n",
      "mango\n",
      "apple\n"
     ]
    }
   ],
   "source": [
    "# Index out of range error\n",
    "\n",
    "x = ['apple','mango','banana']\n",
    "for i in [0,1,2,-1,-2,-3]:\n",
    "    print(x[i])"
   ]
  },
  {
   "cell_type": "code",
   "execution_count": 16,
   "id": "9220600f",
   "metadata": {},
   "outputs": [
    {
     "ename": "IndexError",
     "evalue": "list index out of range",
     "output_type": "error",
     "traceback": [
      "\u001b[0;31m---------------------------------------------------------------------------\u001b[0m",
      "\u001b[0;31mIndexError\u001b[0m                                Traceback (most recent call last)",
      "\u001b[0;32m/var/folders/9s/j9tqx4617_jg3hnd11b6g4080000gn/T/ipykernel_37180/2374535372.py\u001b[0m in \u001b[0;36m<module>\u001b[0;34m\u001b[0m\n\u001b[0;32m----> 1\u001b[0;31m \u001b[0mx\u001b[0m\u001b[0;34m[\u001b[0m\u001b[0;36m4\u001b[0m\u001b[0;34m]\u001b[0m\u001b[0;34m\u001b[0m\u001b[0;34m\u001b[0m\u001b[0m\n\u001b[0m",
      "\u001b[0;31mIndexError\u001b[0m: list index out of range"
     ]
    }
   ],
   "source": [
    "x[4]"
   ]
  },
  {
   "cell_type": "code",
   "execution_count": 17,
   "id": "bdcd726d",
   "metadata": {},
   "outputs": [
    {
     "ename": "IndexError",
     "evalue": "list index out of range",
     "output_type": "error",
     "traceback": [
      "\u001b[0;31m---------------------------------------------------------------------------\u001b[0m",
      "\u001b[0;31mIndexError\u001b[0m                                Traceback (most recent call last)",
      "\u001b[0;32m/var/folders/9s/j9tqx4617_jg3hnd11b6g4080000gn/T/ipykernel_37180/3014917204.py\u001b[0m in \u001b[0;36m<module>\u001b[0;34m\u001b[0m\n\u001b[0;32m----> 1\u001b[0;31m \u001b[0mx\u001b[0m\u001b[0;34m[\u001b[0m\u001b[0;34m-\u001b[0m\u001b[0;36m6\u001b[0m\u001b[0;34m]\u001b[0m\u001b[0;34m\u001b[0m\u001b[0;34m\u001b[0m\u001b[0m\n\u001b[0m",
      "\u001b[0;31mIndexError\u001b[0m: list index out of range"
     ]
    }
   ],
   "source": [
    "x[-6]"
   ]
  },
  {
   "cell_type": "code",
   "execution_count": 30,
   "id": "d8247e57",
   "metadata": {},
   "outputs": [],
   "source": [
    "def find_peak_element(a,n):\n",
    "    if n == 1:\n",
    "        return 0\n",
    "    if a[0] > a[1]:\n",
    "        return 0\n",
    "    if a[n-1] > a[n-2]:\n",
    "        return n-1\n",
    "    for current_index in range(1,n-1):\n",
    "        if (a[current_index] > a[current_index+1]) and (a[current_index] > a[current_index-1]):\n",
    "            return current_index"
   ]
  },
  {
   "cell_type": "code",
   "execution_count": 37,
   "id": "e2b8b821",
   "metadata": {},
   "outputs": [
    {
     "data": {
      "text/plain": [
       "1"
      ]
     },
     "execution_count": 37,
     "metadata": {},
     "output_type": "execute_result"
    }
   ],
   "source": [
    "arr = [5,6]\n",
    "find_peak_element(arr,len(arr))"
   ]
  },
  {
   "cell_type": "code",
   "execution_count": null,
   "id": "9bd86b07",
   "metadata": {},
   "outputs": [],
   "source": [
    "# Edge Cases/ Corner Cases\n",
    "# Where there is a high chance of error."
   ]
  },
  {
   "cell_type": "markdown",
   "id": "9feedc7c",
   "metadata": {},
   "source": [
    "# sort012"
   ]
  },
  {
   "cell_type": "code",
   "execution_count": 41,
   "id": "9f2d587a",
   "metadata": {},
   "outputs": [],
   "source": [
    "def sort012(arr,n):\n",
    "    count_0 = 0\n",
    "    count_1 = 0\n",
    "    count_2 = 0\n",
    "    for item in arr:\n",
    "        if item == 0:\n",
    "            count_0+=1\n",
    "        elif item == 1:\n",
    "            count_1+=1\n",
    "        else:\n",
    "            count_2+=1\n",
    "    arr = []\n",
    "    for i in range(count_0):\n",
    "        arr.append(0)\n",
    "    for i in range(count_1):\n",
    "        arr.append(1)\n",
    "    for i in range(count_2):\n",
    "        arr.append(2)\n",
    "    return arr"
   ]
  },
  {
   "cell_type": "code",
   "execution_count": 43,
   "id": "0d0669c7",
   "metadata": {},
   "outputs": [],
   "source": [
    "fp1 = open('output.txt','w+')\n",
    "with open('fileInput.txt','r') as fp:\n",
    "    n = int(fp.readline())\n",
    "    inputvalues = fp.read()\n",
    "    a = list(map(int,inputvalues.split(' ')))\n",
    "    sorted_array = list(map(str,sort012(a,n)))\n",
    "    fp1.write(''.join(sorted_array))"
   ]
  },
  {
   "cell_type": "code",
   "execution_count": 44,
   "id": "e34a0672",
   "metadata": {},
   "outputs": [],
   "source": [
    "fp1.close()"
   ]
  },
  {
   "cell_type": "code",
   "execution_count": 47,
   "id": "d1e29289",
   "metadata": {},
   "outputs": [
    {
     "data": {
      "text/plain": [
       "[1, 1, 0, 2, 2]"
      ]
     },
     "execution_count": 47,
     "metadata": {},
     "output_type": "execute_result"
    }
   ],
   "source": [
    "list(map(int,\"1 1 0 2 2\".split(' ')))"
   ]
  },
  {
   "cell_type": "code",
   "execution_count": 48,
   "id": "0422d2d9",
   "metadata": {},
   "outputs": [
    {
     "name": "stdout",
     "output_type": "stream",
     "text": [
      "[0, 0, 0, 0, 0, 0, 1, 1, 1, 1, 1, 1, 1, 2, 2]\n"
     ]
    }
   ],
   "source": [
    "arr = [0,0,0,0,1,1,2,1,1,1,1,0,0,1,2]\n",
    "c0 = arr.count(0)\n",
    "c1 = arr.count(1)\n",
    "c2 = arr.count(2)\n",
    "arr.clear()\n",
    "arr = [0]*c0 + [1]*c1 + [2]*c2\n",
    "print(arr)"
   ]
  },
  {
   "cell_type": "code",
   "execution_count": null,
   "id": "91a0b031",
   "metadata": {},
   "outputs": [],
   "source": []
  }
 ],
 "metadata": {
  "kernelspec": {
   "display_name": "Python 3 (ipykernel)",
   "language": "python",
   "name": "python3"
  },
  "language_info": {
   "codemirror_mode": {
    "name": "ipython",
    "version": 3
   },
   "file_extension": ".py",
   "mimetype": "text/x-python",
   "name": "python",
   "nbconvert_exporter": "python",
   "pygments_lexer": "ipython3",
   "version": "3.8.9"
  }
 },
 "nbformat": 4,
 "nbformat_minor": 5
}
