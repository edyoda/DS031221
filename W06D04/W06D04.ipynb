{
 "cells": [
  {
   "cell_type": "code",
   "execution_count": null,
   "id": "cbe92f92",
   "metadata": {},
   "outputs": [],
   "source": [
    "Class methods and Object Methods\n",
    "Static Methods: which do not access either class or object attributes.\n",
    "but behave as if they just take a value and do something with it\n",
    "and return like a normal function"
   ]
  },
  {
   "cell_type": "code",
   "execution_count": null,
   "id": "10b41a87",
   "metadata": {},
   "outputs": [],
   "source": [
    "Static Methods are used by all the objects but does not need any class reference."
   ]
  },
  {
   "cell_type": "code",
   "execution_count": 5,
   "id": "68948c8e",
   "metadata": {},
   "outputs": [],
   "source": [
    "class college_form:\n",
    "    def __init__(self, firstname, lastname, marks_of_10, marks_of_12, subject):\n",
    "        self.first_name = firstname\n",
    "        self.last_name = lastname\n",
    "        self.marks_of_12 = marks_of_12\n",
    "        self.marks_of_10 = marks_of_10\n",
    "        self.subject = subject\n",
    "        \n",
    "    def get_full_name(self):\n",
    "        return self.first_name + ' ' + self.last_name\n",
    "    \n",
    "    def is_cut_off_clear(self, cut_off_marks):\n",
    "        print(self.first_name,self)\n",
    "        if self.calculate_weighted_average(self.marks_of_10,self.marks_of_12) > cut_off_marks:\n",
    "            return True\n",
    "        else:\n",
    "            return False\n",
    "    \n",
    "    @staticmethod\n",
    "    def calculate_weighted_average(marks_10,marks_12):\n",
    "        weighted_average = 0.6*marks_12 + 0.4*marks_10\n",
    "        return weighted_average\n",
    "    \n",
    "    # utility function"
   ]
  },
  {
   "cell_type": "code",
   "execution_count": 6,
   "id": "3722338a",
   "metadata": {},
   "outputs": [],
   "source": [
    "jatin = college_form('Jatin','Sharma',75,89,'Computer Science')\n",
    "mohitbhatt = college_form('Mohit','Bhatt',63,79,'Computer Science')\n",
    "sajaltiwari = college_form('Sajal','Tiwari',78,81,'Computer Science')\n",
    "zaffar_abbas = college_form('Zafar','Abbas',38,83,'Computer Science')"
   ]
  },
  {
   "cell_type": "code",
   "execution_count": 7,
   "id": "63f61117",
   "metadata": {},
   "outputs": [
    {
     "name": "stdout",
     "output_type": "stream",
     "text": [
      "Zafar <__main__.college_form object at 0x10586b6a0>\n"
     ]
    },
    {
     "data": {
      "text/plain": [
       "True"
      ]
     },
     "execution_count": 7,
     "metadata": {},
     "output_type": "execute_result"
    }
   ],
   "source": [
    "zaffar_abbas.is_cut_off_clear(60)"
   ]
  },
  {
   "cell_type": "code",
   "execution_count": 8,
   "id": "afa26dd0",
   "metadata": {},
   "outputs": [
    {
     "name": "stdout",
     "output_type": "stream",
     "text": [
      "Mohit <__main__.college_form object at 0x10586b5e0>\n"
     ]
    },
    {
     "data": {
      "text/plain": [
       "True"
      ]
     },
     "execution_count": 8,
     "metadata": {},
     "output_type": "execute_result"
    }
   ],
   "source": [
    "mohitbhatt.is_cut_off_clear(60)"
   ]
  },
  {
   "cell_type": "code",
   "execution_count": 9,
   "id": "8fbbbc71",
   "metadata": {},
   "outputs": [],
   "source": [
    "import math"
   ]
  },
  {
   "cell_type": "code",
   "execution_count": 12,
   "id": "63bc962a",
   "metadata": {},
   "outputs": [
    {
     "data": {
      "text/plain": [
       "1.0"
      ]
     },
     "execution_count": 12,
     "metadata": {},
     "output_type": "execute_result"
    }
   ],
   "source": [
    "math.sin(math.radians(90))"
   ]
  },
  {
   "cell_type": "code",
   "execution_count": null,
   "id": "e17b222b",
   "metadata": {},
   "outputs": [],
   "source": [
    "Question) Create Class Animal, and Implement following things:-\n",
    "    animal_obj = Animal(...)\n",
    "    if i call animal_obj.eat() => obj_name is eating\n",
    "    animal_obj.walk() => walking with no_of_legs\n",
    "    getter for name and setter for name\n",
    "5 mins\n",
    "    \n",
    "Create a Class BullFight, and take animal_obj from above to use here to fight"
   ]
  },
  {
   "cell_type": "code",
   "execution_count": 113,
   "id": "1f62eae6",
   "metadata": {},
   "outputs": [],
   "source": [
    "import random\n",
    "class Animal:\n",
    "    def __init__(self, name, no_of_legs):\n",
    "        self.name_of_animal = name\n",
    "        self.no_of_legs= no_of_legs\n",
    "        self.strength = random.randint(2000,4000)\n",
    "    def eat(self):\n",
    "        print(f\"{self.name_of_animal} is eating.\")\n",
    "    def walk(self):\n",
    "        print(f\"{self.name_of_animal} walk with {self.no_of_legs} legs.\")\n",
    "    def get_name(self):\n",
    "        return self.name\n",
    "    def set_name(self, name):\n",
    "        self.name = name"
   ]
  },
  {
   "cell_type": "code",
   "execution_count": 114,
   "id": "aae23fc8",
   "metadata": {},
   "outputs": [],
   "source": [
    "dog = Animal('yuki',4)"
   ]
  },
  {
   "cell_type": "code",
   "execution_count": 115,
   "id": "92b434b4",
   "metadata": {},
   "outputs": [],
   "source": [
    "cow = Animal('malaika',4)"
   ]
  },
  {
   "cell_type": "code",
   "execution_count": 119,
   "id": "733f8b06",
   "metadata": {},
   "outputs": [],
   "source": [
    "giraffe = Animal('shera',4)"
   ]
  },
  {
   "cell_type": "code",
   "execution_count": 69,
   "id": "fbc1e47d",
   "metadata": {},
   "outputs": [
    {
     "name": "stdout",
     "output_type": "stream",
     "text": [
      "malaika is eating.\n"
     ]
    }
   ],
   "source": [
    "cow.eat()"
   ]
  },
  {
   "cell_type": "code",
   "execution_count": 70,
   "id": "c7760a8b",
   "metadata": {},
   "outputs": [
    {
     "name": "stdout",
     "output_type": "stream",
     "text": [
      "yuki walk with 4 legs.\n"
     ]
    }
   ],
   "source": [
    "dog.walk()"
   ]
  },
  {
   "cell_type": "code",
   "execution_count": 71,
   "id": "26f026dd",
   "metadata": {},
   "outputs": [],
   "source": [
    "dog.set_name('Yuki Sharma')"
   ]
  },
  {
   "cell_type": "code",
   "execution_count": 72,
   "id": "e4eea713",
   "metadata": {},
   "outputs": [
    {
     "data": {
      "text/plain": [
       "'Yuki Sharma'"
      ]
     },
     "execution_count": 72,
     "metadata": {},
     "output_type": "execute_result"
    }
   ],
   "source": [
    "dog.get_name()"
   ]
  },
  {
   "cell_type": "code",
   "execution_count": 73,
   "id": "cd743f3b",
   "metadata": {},
   "outputs": [
    {
     "data": {
      "text/plain": [
       "3359"
      ]
     },
     "execution_count": 73,
     "metadata": {},
     "output_type": "execute_result"
    }
   ],
   "source": [
    "dog.strength"
   ]
  },
  {
   "cell_type": "code",
   "execution_count": 74,
   "id": "9db415d3",
   "metadata": {},
   "outputs": [
    {
     "data": {
      "text/plain": [
       "3248"
      ]
     },
     "execution_count": 74,
     "metadata": {},
     "output_type": "execute_result"
    }
   ],
   "source": [
    "cow.strength"
   ]
  },
  {
   "cell_type": "code",
   "execution_count": 75,
   "id": "d77080cb",
   "metadata": {},
   "outputs": [
    {
     "name": "stdout",
     "output_type": "stream",
     "text": [
      "['dog']\n"
     ]
    },
    {
     "data": {
      "text/plain": [
       "{'a': 24, 'b': 'dragonfruit'}"
      ]
     },
     "execution_count": 75,
     "metadata": {},
     "output_type": "execute_result"
    }
   ],
   "source": [
    "x = ['cow','dog']\n",
    "x.remove('cow')\n",
    "print(x)\n",
    "\n",
    "max([{'a':10,'b':'mango'},{'a':20,'b':'orange'},{'a':15,'b':'kiwi'},{'a':24,'b':'dragonfruit'}],key=lambda dic: dic['a'])"
   ]
  },
  {
   "cell_type": "code",
   "execution_count": 76,
   "id": "cca7dfe0",
   "metadata": {},
   "outputs": [
    {
     "name": "stdout",
     "output_type": "stream",
     "text": [
      "Help on built-in function max in module builtins:\n",
      "\n",
      "max(...)\n",
      "    max(iterable, *[, default=obj, key=func]) -> value\n",
      "    max(arg1, arg2, *args, *[, key=func]) -> value\n",
      "    \n",
      "    With a single iterable argument, return its biggest item. The\n",
      "    default keyword-only argument specifies an object to return if\n",
      "    the provided iterable is empty.\n",
      "    With two or more arguments, return the largest argument.\n",
      "\n"
     ]
    }
   ],
   "source": [
    "help(max)"
   ]
  },
  {
   "cell_type": "code",
   "execution_count": 130,
   "id": "554203dc",
   "metadata": {},
   "outputs": [],
   "source": [
    "import copy\n",
    "class BullFight:\n",
    "    stadium = 'Eden Garden'\n",
    "    def __init__(self, list_of_animals):\n",
    "        self.animals = list_of_animals\n",
    "    \n",
    "    def fight_start(self, rounds):\n",
    "        for punch in range(rounds):\n",
    "            curren_round_animals = copy.deepcopy(self.animals)\n",
    "            prey = random.choice(curren_round_animals)\n",
    "            curren_round_animals.remove(prey)\n",
    "            predator = random.choice(curren_round_animals)\n",
    "            print('prey',prey.name_of_animal,'predator',predator.name_of_animal)\n",
    "            power = random.randint(5,1000)\n",
    "            predator.strength += power\n",
    "            prey.strength -= power\n",
    "            print(max(self.animals,key=lambda animal_obj : animal_obj.strength).name_of_animal)\n",
    "        print('Final Result')\n",
    "        print(max(self.animals,key=lambda animal_obj : animal_obj.strength).name_of_animal)\n",
    "            "
   ]
  },
  {
   "cell_type": "code",
   "execution_count": 131,
   "id": "1f955870",
   "metadata": {},
   "outputs": [],
   "source": [
    "figth_1 = BullFight([dog,cow,giraffe])"
   ]
  },
  {
   "cell_type": "code",
   "execution_count": 132,
   "id": "dc605d62",
   "metadata": {},
   "outputs": [
    {
     "name": "stdout",
     "output_type": "stream",
     "text": [
      "prey shera predator malaika\n",
      "shera\n",
      "prey shera predator yuki\n",
      "shera\n",
      "prey shera predator yuki\n",
      "shera\n",
      "prey malaika predator shera\n",
      "shera\n",
      "prey yuki predator shera\n",
      "shera\n",
      "prey malaika predator shera\n",
      "shera\n",
      "prey shera predator malaika\n",
      "shera\n",
      "prey shera predator yuki\n",
      "shera\n",
      "prey yuki predator shera\n",
      "shera\n",
      "prey malaika predator shera\n",
      "shera\n",
      "Final Result\n",
      "shera\n"
     ]
    }
   ],
   "source": [
    "figth_1.fight_start(10)"
   ]
  },
  {
   "cell_type": "code",
   "execution_count": 133,
   "id": "fbc49796",
   "metadata": {},
   "outputs": [
    {
     "data": {
      "text/plain": [
       "3345"
      ]
     },
     "execution_count": 133,
     "metadata": {},
     "output_type": "execute_result"
    }
   ],
   "source": [
    "giraffe.strength"
   ]
  },
  {
   "cell_type": "code",
   "execution_count": 134,
   "id": "35cf724b",
   "metadata": {},
   "outputs": [
    {
     "data": {
      "text/plain": [
       "3073"
      ]
     },
     "execution_count": 134,
     "metadata": {},
     "output_type": "execute_result"
    }
   ],
   "source": [
    "dog.strength"
   ]
  },
  {
   "cell_type": "code",
   "execution_count": 135,
   "id": "d7bdc92f",
   "metadata": {},
   "outputs": [
    {
     "data": {
      "text/plain": [
       "2579"
      ]
     },
     "execution_count": 135,
     "metadata": {},
     "output_type": "execute_result"
    }
   ],
   "source": [
    "cow.strength"
   ]
  },
  {
   "cell_type": "code",
   "execution_count": 80,
   "id": "eda765ff",
   "metadata": {},
   "outputs": [],
   "source": [
    "x = ['animal','telephone','tv','laptop','bed']\n",
    "y = x\n",
    "\n",
    "y.remove('animal')"
   ]
  },
  {
   "cell_type": "code",
   "execution_count": 81,
   "id": "7e004d95",
   "metadata": {},
   "outputs": [
    {
     "name": "stdout",
     "output_type": "stream",
     "text": [
      "['telephone', 'tv', 'laptop', 'bed']\n"
     ]
    }
   ],
   "source": [
    "print(x)"
   ]
  },
  {
   "cell_type": "code",
   "execution_count": 91,
   "id": "03e350ed",
   "metadata": {},
   "outputs": [
    {
     "name": "stdout",
     "output_type": "stream",
     "text": [
      "4386602752\n"
     ]
    }
   ],
   "source": [
    "x = [100,200,300]\n",
    "y = x\n",
    "print(id(x))"
   ]
  },
  {
   "cell_type": "code",
   "execution_count": 92,
   "id": "874d69ae",
   "metadata": {},
   "outputs": [
    {
     "name": "stdout",
     "output_type": "stream",
     "text": [
      "4386602752\n"
     ]
    }
   ],
   "source": [
    "print(id(y))"
   ]
  },
  {
   "cell_type": "code",
   "execution_count": 93,
   "id": "61e185d1",
   "metadata": {},
   "outputs": [],
   "source": [
    "import copy"
   ]
  },
  {
   "cell_type": "code",
   "execution_count": 94,
   "id": "14448c6e",
   "metadata": {},
   "outputs": [],
   "source": [
    "y = copy.deepcopy(x)"
   ]
  },
  {
   "cell_type": "code",
   "execution_count": 95,
   "id": "c115358a",
   "metadata": {},
   "outputs": [
    {
     "name": "stdout",
     "output_type": "stream",
     "text": [
      "4388465984\n"
     ]
    }
   ],
   "source": [
    "print(id(y))"
   ]
  },
  {
   "cell_type": "code",
   "execution_count": null,
   "id": "3e8554db",
   "metadata": {},
   "outputs": [],
   "source": [
    "Homework: make the game look correct."
   ]
  },
  {
   "cell_type": "code",
   "execution_count": null,
   "id": "e77f4a32",
   "metadata": {},
   "outputs": [],
   "source": [
    "## Magic or Dunder methods"
   ]
  },
  {
   "cell_type": "code",
   "execution_count": 145,
   "id": "a42d94be",
   "metadata": {},
   "outputs": [],
   "source": [
    "class point_in_xy:\n",
    "    def __init__(self,x,y):\n",
    "        self.x = x\n",
    "        self.y = y\n",
    "    \n",
    "    def __add__(self,other):\n",
    "        return point_in_xy(self.x+other.x,self.y+other.y)"
   ]
  },
  {
   "cell_type": "code",
   "execution_count": 146,
   "id": "08e53316",
   "metadata": {},
   "outputs": [],
   "source": [
    "point_1 = point_in_xy(3,4)\n",
    "point_2 = point_in_xy(2,5)"
   ]
  },
  {
   "cell_type": "code",
   "execution_count": 147,
   "id": "ba0a83b5",
   "metadata": {},
   "outputs": [],
   "source": [
    "point_3 = point_1+point_2"
   ]
  },
  {
   "cell_type": "code",
   "execution_count": 148,
   "id": "ea315027",
   "metadata": {},
   "outputs": [
    {
     "data": {
      "text/plain": [
       "5"
      ]
     },
     "execution_count": 148,
     "metadata": {},
     "output_type": "execute_result"
    }
   ],
   "source": [
    "point_3.x"
   ]
  },
  {
   "cell_type": "code",
   "execution_count": 149,
   "id": "f47303b0",
   "metadata": {},
   "outputs": [
    {
     "data": {
      "text/plain": [
       "9"
      ]
     },
     "execution_count": 149,
     "metadata": {},
     "output_type": "execute_result"
    }
   ],
   "source": [
    "point_3.y"
   ]
  },
  {
   "cell_type": "code",
   "execution_count": 150,
   "id": "f77fbd0b",
   "metadata": {},
   "outputs": [
    {
     "data": {
      "text/plain": [
       "'mohit singh'"
      ]
     },
     "execution_count": 150,
     "metadata": {},
     "output_type": "execute_result"
    }
   ],
   "source": [
    "'mohit ' + 'singh'"
   ]
  },
  {
   "cell_type": "code",
   "execution_count": 152,
   "id": "827faa48",
   "metadata": {},
   "outputs": [],
   "source": [
    "class dream_world:\n",
    "    def __init__(self, name):\n",
    "        self.name = name\n",
    "        \n",
    "    def __add__(self,other):\n",
    "        if self.name == 'bat' and other.name == 'ball':\n",
    "            return dream_world('cricket')\n",
    "        elif self.name == 'jalebi' and other.name == 'fafra':\n",
    "            return dream_world('gujrat')\n",
    "        elif self.name == 'virat' and other.name == 'anushka':\n",
    "            return dream_world('virushka')\n",
    "        elif self.name == 'litti' and other.name == 'chokha':\n",
    "            return dream_world('bihar')\n",
    "        elif self.name == 'idli' and other.name == 'sambhar':\n",
    "            return dream_world('bangalore')"
   ]
  },
  {
   "cell_type": "code",
   "execution_count": 153,
   "id": "5f078b5d",
   "metadata": {},
   "outputs": [],
   "source": [
    "jalebi = dream_world('jalebi')"
   ]
  },
  {
   "cell_type": "code",
   "execution_count": 154,
   "id": "dbf3df21",
   "metadata": {},
   "outputs": [],
   "source": [
    "fafra = dream_world('fafra')"
   ]
  },
  {
   "cell_type": "code",
   "execution_count": 156,
   "id": "3ceeda10",
   "metadata": {},
   "outputs": [
    {
     "data": {
      "text/plain": [
       "'gujrat'"
      ]
     },
     "execution_count": 156,
     "metadata": {},
     "output_type": "execute_result"
    }
   ],
   "source": [
    "(jalebi+fafra).name"
   ]
  }
 ],
 "metadata": {
  "kernelspec": {
   "display_name": "Python 3 (ipykernel)",
   "language": "python",
   "name": "python3"
  },
  "language_info": {
   "codemirror_mode": {
    "name": "ipython",
    "version": 3
   },
   "file_extension": ".py",
   "mimetype": "text/x-python",
   "name": "python",
   "nbconvert_exporter": "python",
   "pygments_lexer": "ipython3",
   "version": "3.8.9"
  }
 },
 "nbformat": 4,
 "nbformat_minor": 5
}
