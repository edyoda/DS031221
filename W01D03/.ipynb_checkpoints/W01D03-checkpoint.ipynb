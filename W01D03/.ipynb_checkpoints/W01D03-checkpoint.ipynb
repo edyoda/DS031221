{
 "cells": [
  {
   "cell_type": "code",
   "execution_count": null,
   "id": "fd09eef5",
   "metadata": {},
   "outputs": [],
   "source": [
    "JUPYTER NOTEBOOK:\n",
    "    WHAT IS IT? IT IS A TOOL WHICH HELPS STUDENTS AND PROFESSIONALS\n",
    "    TO LEARN PYTHON AS WELL AS DO DATA SCIENCE STUFF.\n",
    "    \n",
    "    YOU CAN WRITE PYTHON CODE, TEXT RELATED TO PYTHON CODE AND USE IT\n",
    "    TO MAKE NOTES FOR STUDY\n",
    "    \n",
    "    IT MAKES LEARNING PYTHON EASY."
   ]
  },
  {
   "cell_type": "code",
   "execution_count": null,
   "id": "d3d443d2",
   "metadata": {},
   "outputs": [],
   "source": [
    "Cell => Single rectangular box\n",
    "\n",
    "Outline color of a cell\n",
    "Green=> Typing mode\n",
    "Blue=>command mode\n",
    "\n",
    "How to run a cell?\n",
    "Shift+Enter\n",
    "# happy"
   ]
  },
  {
   "cell_type": "markdown",
   "id": "106c3db2",
   "metadata": {},
   "source": [
    "# Introduction to Python\n",
    "### what is python\n",
    "### why learn python\n",
    "### why it is best programming language for DS.\n",
    "\n",
    "Delete a cell\n",
    "1)Press Esc\n",
    "2)press dd"
   ]
  },
  {
   "cell_type": "code",
   "execution_count": null,
   "id": "1ddb1f89",
   "metadata": {},
   "outputs": [],
   "source": [
    "# print function"
   ]
  },
  {
   "cell_type": "code",
   "execution_count": 1,
   "id": "f5209644",
   "metadata": {},
   "outputs": [
    {
     "name": "stdout",
     "output_type": "stream",
     "text": [
      "hello world!\n"
     ]
    }
   ],
   "source": [
    "print('hello world!')"
   ]
  },
  {
   "cell_type": "code",
   "execution_count": 2,
   "id": "f64ae65e",
   "metadata": {},
   "outputs": [
    {
     "name": "stdout",
     "output_type": "stream",
     "text": [
      "I am happy that I will be learning the most usefull skill of 21st century.\n"
     ]
    }
   ],
   "source": [
    "print(\"I am happy that I will be learning the most usefull skill of 21st century.\")"
   ]
  },
  {
   "cell_type": "code",
   "execution_count": 3,
   "id": "8bbb64d1",
   "metadata": {},
   "outputs": [
    {
     "name": "stdout",
     "output_type": "stream",
     "text": [
      "45\n"
     ]
    }
   ],
   "source": [
    "print(45)"
   ]
  },
  {
   "cell_type": "code",
   "execution_count": 4,
   "id": "2bd7cd63",
   "metadata": {},
   "outputs": [
    {
     "name": "stdout",
     "output_type": "stream",
     "text": [
      "68\n"
     ]
    }
   ],
   "source": [
    "print(23+45)"
   ]
  },
  {
   "cell_type": "code",
   "execution_count": 7,
   "id": "361be09a",
   "metadata": {},
   "outputs": [
    {
     "name": "stdout",
     "output_type": "stream",
     "text": [
      "68\n",
      "Wow Python is really easy\n"
     ]
    }
   ],
   "source": [
    "x = 34\n",
    "y = 78\n",
    "z = x+y\n",
    "m = 2*x\n",
    "print(m)\n",
    "print('Wow Python is really easy')"
   ]
  },
  {
   "cell_type": "markdown",
   "id": "0f482815",
   "metadata": {},
   "source": [
    "# Data Types in Python"
   ]
  },
  {
   "cell_type": "code",
   "execution_count": 8,
   "id": "d203da3d",
   "metadata": {},
   "outputs": [
    {
     "name": "stdout",
     "output_type": "stream",
     "text": [
      "hello world\n"
     ]
    }
   ],
   "source": [
    "What is Data?\n",
    "Phone no\n",
    "name,city,etc\n",
    "shopping list\n",
    "images\n",
    "your mutual friends on facebook\n",
    "your insta dp is data"
   ]
  },
  {
   "cell_type": "code",
   "execution_count": null,
   "id": "cdf8c4c1",
   "metadata": {},
   "outputs": [],
   "source": [
    "Data Types in Python\n",
    "1) Integer (int) => (-9,8,0,33,-455,67)\n",
    "2) Float (float) => (8.9,55.43,-89.32,67.08,0.005,-0.32,4.0)\n",
    "Bank Balance? float => Rupees 0.05\n",
    "Data Balance in your Jio Sim => float => 300.5 mb\n",
    "No of students in DS031221 BATCH? => int => 81\n",
    "\n",
    "Numbers(int , float)"
   ]
  },
  {
   "cell_type": "code",
   "execution_count": 9,
   "id": "debd5d41",
   "metadata": {},
   "outputs": [],
   "source": [
    "x = 45"
   ]
  },
  {
   "cell_type": "code",
   "execution_count": 10,
   "id": "d3e120f1",
   "metadata": {},
   "outputs": [
    {
     "name": "stdout",
     "output_type": "stream",
     "text": [
      "45\n"
     ]
    }
   ],
   "source": [
    "print(x)"
   ]
  },
  {
   "cell_type": "code",
   "execution_count": 11,
   "id": "8f2bdc6e",
   "metadata": {},
   "outputs": [
    {
     "name": "stdout",
     "output_type": "stream",
     "text": [
      "5.5\n"
     ]
    }
   ],
   "source": [
    "m = 5.5\n",
    "print(m)"
   ]
  },
  {
   "cell_type": "code",
   "execution_count": 15,
   "id": "8132a35f",
   "metadata": {},
   "outputs": [],
   "source": [
    "z = 34000000000"
   ]
  },
  {
   "cell_type": "code",
   "execution_count": 16,
   "id": "eeab25a1",
   "metadata": {},
   "outputs": [
    {
     "name": "stdout",
     "output_type": "stream",
     "text": [
      "34000000000\n"
     ]
    }
   ],
   "source": [
    "print(z)"
   ]
  },
  {
   "cell_type": "code",
   "execution_count": 14,
   "id": "bec57e9f",
   "metadata": {},
   "outputs": [],
   "source": [
    "x = 5.5"
   ]
  },
  {
   "cell_type": "code",
   "execution_count": 17,
   "id": "20f82328",
   "metadata": {},
   "outputs": [],
   "source": [
    "aman = 56"
   ]
  },
  {
   "cell_type": "code",
   "execution_count": 18,
   "id": "662bb5fd",
   "metadata": {},
   "outputs": [
    {
     "name": "stdout",
     "output_type": "stream",
     "text": [
      "56\n"
     ]
    }
   ],
   "source": [
    "print(aman)"
   ]
  },
  {
   "cell_type": "code",
   "execution_count": 22,
   "id": "3b6cd88e",
   "metadata": {},
   "outputs": [],
   "source": [
    "3) String (str) => Any names, addresses, phone numbers\n",
    "'aman umang' , \"aadil khan\" , \"\"\"merin kumar\"\"\",'''jazz brown munde'''"
   ]
  },
  {
   "cell_type": "code",
   "execution_count": 31,
   "id": "71cc800a",
   "metadata": {},
   "outputs": [],
   "source": [
    "x = 'aman umang'\n",
    "y = \"aadil khan\"\n",
    "mery = \"\"\"merin kumar\"\"\"\n",
    "jazz = '''jazz brown munde'''\n",
    "patilNo = '8990045321'"
   ]
  },
  {
   "cell_type": "code",
   "execution_count": 32,
   "id": "3ccaaa56",
   "metadata": {},
   "outputs": [
    {
     "name": "stdout",
     "output_type": "stream",
     "text": [
      "8990045321\n"
     ]
    }
   ],
   "source": [
    "print(patilNo)"
   ]
  },
  {
   "cell_type": "code",
   "execution_count": 23,
   "id": "60743e43",
   "metadata": {},
   "outputs": [
    {
     "name": "stdout",
     "output_type": "stream",
     "text": [
      "jazz brown munde\n"
     ]
    }
   ],
   "source": [
    "print(jazz)"
   ]
  },
  {
   "cell_type": "code",
   "execution_count": 24,
   "id": "28fec2ae",
   "metadata": {},
   "outputs": [],
   "source": [
    "chetan = \"\"\"Mishti doi (Bengali: মিষ্টি দই) or Mitha Dahi \n",
    "(Odia: ମିଠା ଦହି) is a fermented sweet dahi (yogurt) originating \n",
    "from the Bogra District in Bangladesh[1][2] \n",
    "and is a very popular dessert throughout the country.\"\"\""
   ]
  },
  {
   "cell_type": "code",
   "execution_count": 25,
   "id": "52202811",
   "metadata": {},
   "outputs": [
    {
     "name": "stdout",
     "output_type": "stream",
     "text": [
      "Mishti doi (Bengali: মিষ্টি দই) or Mitha Dahi \n",
      "(Odia: ମିଠା ଦହି) is a fermented sweet dahi (yogurt) originating \n",
      "from the Bogra District in Bangladesh[1][2] \n",
      "and is a very popular dessert throughout the country.\n"
     ]
    }
   ],
   "source": [
    "print(chetan)"
   ]
  },
  {
   "cell_type": "code",
   "execution_count": 26,
   "id": "4f0d1751",
   "metadata": {},
   "outputs": [
    {
     "name": "stdout",
     "output_type": "stream",
     "text": [
      "40\n"
     ]
    }
   ],
   "source": [
    "avanika = 18\n",
    "mahi = 22\n",
    "print(avanika+mahi)"
   ]
  },
  {
   "cell_type": "code",
   "execution_count": 28,
   "id": "10762917",
   "metadata": {},
   "outputs": [
    {
     "name": "stdout",
     "output_type": "stream",
     "text": [
      "1822\n"
     ]
    }
   ],
   "source": [
    "avanika = '18'\n",
    "mahi = '22'\n",
    "print(avanika+mahi)"
   ]
  },
  {
   "cell_type": "code",
   "execution_count": 29,
   "id": "a6aedb73",
   "metadata": {},
   "outputs": [
    {
     "name": "stdout",
     "output_type": "stream",
     "text": [
      "mohit singh\n"
     ]
    }
   ],
   "source": [
    "avanika = 'mohit '\n",
    "mahi = 'singh'\n",
    "print(avanika+mahi)"
   ]
  },
  {
   "cell_type": "code",
   "execution_count": 34,
   "id": "97a9f4be",
   "metadata": {},
   "outputs": [],
   "source": [
    "chetan2 = '''happy\n",
    "coding'''"
   ]
  },
  {
   "cell_type": "code",
   "execution_count": 38,
   "id": "b732a5a8",
   "metadata": {},
   "outputs": [],
   "source": [
    "random_string = \"\"\"I'm learning python.\n",
    "Python is great for \"Data Science\".We are learning it.\"\"\"\n",
    "print(random_string)"
   ]
  },
  {
   "cell_type": "code",
   "execution_count": 44,
   "id": "fe8416b6",
   "metadata": {},
   "outputs": [
    {
     "name": "stdout",
     "output_type": "stream",
     "text": [
      "!@#$%^&*()-_=+~{}[]:;?/., 500 45.67\n"
     ]
    }
   ],
   "source": [
    "pavan = '!@#$%^&*()-_=+~{}[]:;?/.,'\n",
    "aman = 45.67\n",
    "umang = 500\n",
    "print(pavan,umang,aman)"
   ]
  },
  {
   "cell_type": "code",
   "execution_count": 48,
   "id": "25fad98d",
   "metadata": {},
   "outputs": [
    {
     "name": "stdout",
     "output_type": "stream",
     "text": [
      "rock singh\n"
     ]
    }
   ],
   "source": [
    "x = 'rock '\n",
    "y = 'singh'\n",
    "print(x+y)"
   ]
  },
  {
   "cell_type": "code",
   "execution_count": 49,
   "id": "43c82ab5",
   "metadata": {},
   "outputs": [],
   "source": [
    "x = 500"
   ]
  },
  {
   "cell_type": "code",
   "execution_count": 50,
   "id": "d2ddb78e",
   "metadata": {},
   "outputs": [],
   "source": [
    "x = 'happy'"
   ]
  },
  {
   "cell_type": "markdown",
   "id": "fc606de6",
   "metadata": {},
   "source": [
    "# names/variables in python"
   ]
  },
  {
   "cell_type": "code",
   "execution_count": null,
   "id": "509a1805",
   "metadata": {},
   "outputs": [],
   "source": [
    "x = 'mango'\n",
    "What is x?\n",
    "name/variable\n",
    "x is pointing to an string data type. The value of the string is mango.\n",
    "\n",
    "yippy = 'goa is fun.'\n",
    "what is yippy?\n",
    "name\n",
    "yippy is pointing to an string data type.goa is fun is the value.\n",
    "\n",
    "kalyani = 189\n",
    "what is kalyani?\n",
    "name\n",
    "kalyani is pointing to an integer data type.189 is the value\n",
    "\n",
    "distance_from_sun = 65000.900\n",
    "what is distance_from_sun?\n",
    "name\n",
    "distance_from_sun is pointing to an float data type.65000.900 is the value."
   ]
  },
  {
   "cell_type": "code",
   "execution_count": null,
   "id": "e58d7fa0",
   "metadata": {},
   "outputs": [],
   "source": [
    "rules for names:-\n",
    "    1) you can not use space\n",
    "    2) you can not start a name with a number, but you can use number\n",
    "    anywhere other than first position.\n",
    "    3) you can not start a name with special character other than \n",
    "    underscore(_)\n",
    "    \n",
    "conventions:-\n",
    "    1) distance_from_sun => name should be meaningfull, \n",
    "    2) Separate different words of name with underscore.\n",
    "    3) start a name with small alphabet"
   ]
  },
  {
   "cell_type": "markdown",
   "id": "6fac1127",
   "metadata": {},
   "source": [
    "# type() function\n",
    "\n",
    "### it tells me data type of that name."
   ]
  },
  {
   "cell_type": "code",
   "execution_count": 56,
   "id": "0f4486e2",
   "metadata": {},
   "outputs": [
    {
     "name": "stdout",
     "output_type": "stream",
     "text": [
      "<class 'str'>\n"
     ]
    }
   ],
   "source": [
    "sajal = 'tiwari sahab'\n",
    "print(type(sajal))"
   ]
  },
  {
   "cell_type": "code",
   "execution_count": 57,
   "id": "c3fc272b",
   "metadata": {},
   "outputs": [
    {
     "name": "stdout",
     "output_type": "stream",
     "text": [
      "<class 'int'>\n"
     ]
    }
   ],
   "source": [
    "aman = 68\n",
    "print(type(aman))"
   ]
  },
  {
   "cell_type": "code",
   "execution_count": 58,
   "id": "3ef9a8ff",
   "metadata": {},
   "outputs": [
    {
     "name": "stdout",
     "output_type": "stream",
     "text": [
      "<class 'float'>\n"
     ]
    }
   ],
   "source": [
    "srinathanr = 786.786\n",
    "print(type(srinathanr))"
   ]
  },
  {
   "cell_type": "code",
   "execution_count": null,
   "id": "601dd0df",
   "metadata": {},
   "outputs": [],
   "source": [
    "press shift+enter in jupyter notebook cell"
   ]
  },
  {
   "cell_type": "code",
   "execution_count": 59,
   "id": "85a17260",
   "metadata": {},
   "outputs": [],
   "source": [
    "aman = 'happy'"
   ]
  },
  {
   "cell_type": "code",
   "execution_count": 61,
   "id": "4333b4c9",
   "metadata": {},
   "outputs": [
    {
     "name": "stdout",
     "output_type": "stream",
     "text": [
      "happy\n"
     ]
    }
   ],
   "source": [
    "print(aman)"
   ]
  },
  {
   "cell_type": "code",
   "execution_count": null,
   "id": "4733f056",
   "metadata": {},
   "outputs": [],
   "source": [
    "Homework:-\n",
    "    1) Write 10 names and define data types for them with some values.\n",
    "    2) Calculate Total Income from various profits and loss that you\n",
    "    have.\n",
    "    rent = 3000\n",
    "    electricity_bill = -5000"
   ]
  }
 ],
 "metadata": {
  "kernelspec": {
   "display_name": "Python 3 (ipykernel)",
   "language": "python",
   "name": "python3"
  },
  "language_info": {
   "codemirror_mode": {
    "name": "ipython",
    "version": 3
   },
   "file_extension": ".py",
   "mimetype": "text/x-python",
   "name": "python",
   "nbconvert_exporter": "python",
   "pygments_lexer": "ipython3",
   "version": "3.8.9"
  }
 },
 "nbformat": 4,
 "nbformat_minor": 5
}
