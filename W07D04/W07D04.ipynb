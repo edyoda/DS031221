{
 "cells": [
  {
   "cell_type": "markdown",
   "id": "58744e56",
   "metadata": {},
   "source": [
    "# JSON, CSV, XML"
   ]
  },
  {
   "cell_type": "code",
   "execution_count": null,
   "id": "e47d8866",
   "metadata": {},
   "outputs": [],
   "source": [
    "# JSON\n",
    "Javascript Object Notation\n",
    "\n",
    "JSON is a format which is used for data exchange among API's\n",
    "and various programs.\n",
    "\n",
    "It is universal and thus used by all the programming languages.\n",
    "Content in the file will be present according to javascript types.\n",
    "true in js, True in python"
   ]
  },
  {
   "cell_type": "code",
   "execution_count": null,
   "id": "ab16d8c0",
   "metadata": {},
   "outputs": [],
   "source": [
    "In Python terms it contains an dictionary with nested list and dict."
   ]
  },
  {
   "cell_type": "code",
   "execution_count": 1,
   "id": "9f8d587b",
   "metadata": {},
   "outputs": [],
   "source": [
    "import json\n",
    "\n",
    "# json.loads convert a json string into python dict"
   ]
  },
  {
   "cell_type": "code",
   "execution_count": 3,
   "id": "477b9f86",
   "metadata": {},
   "outputs": [
    {
     "data": {
      "text/plain": [
       "{'python': 3, 'java': True}"
      ]
     },
     "execution_count": 3,
     "metadata": {},
     "output_type": "execute_result"
    }
   ],
   "source": [
    "json.loads('{\"python\":3,\"java\":true}')"
   ]
  },
  {
   "cell_type": "code",
   "execution_count": 4,
   "id": "78ebd63f",
   "metadata": {},
   "outputs": [],
   "source": [
    "fp = open('space_astro.json','r')\n",
    "content = fp.read()\n",
    "fp.close()"
   ]
  },
  {
   "cell_type": "code",
   "execution_count": 7,
   "id": "9423fd43",
   "metadata": {},
   "outputs": [
    {
     "name": "stdout",
     "output_type": "stream",
     "text": [
      "{\"number\": 4, \"people\": [{\"craft\": \"ISS\", \"name\": \"Chris Cassidy\"}, {\"craft\": \"rock\", \"name\": \"Rahul Dey\"}], \"message\": \"success\", \"Yogesh_Vaidya\": true}\n"
     ]
    }
   ],
   "source": [
    "print(content)"
   ]
  },
  {
   "cell_type": "code",
   "execution_count": 8,
   "id": "14f29fe6",
   "metadata": {},
   "outputs": [
    {
     "data": {
      "text/plain": [
       "{'number': 4,\n",
       " 'people': [{'craft': 'ISS', 'name': 'Chris Cassidy'},\n",
       "  {'craft': 'rock', 'name': 'Rahul Dey'}],\n",
       " 'message': 'success',\n",
       " 'Yogesh_Vaidya': True}"
      ]
     },
     "execution_count": 8,
     "metadata": {},
     "output_type": "execute_result"
    }
   ],
   "source": [
    "json.loads(content)"
   ]
  },
  {
   "cell_type": "code",
   "execution_count": null,
   "id": "b15ebd75",
   "metadata": {},
   "outputs": [],
   "source": [
    "1) How to read content of a json file and convert it into python dict?"
   ]
  },
  {
   "cell_type": "code",
   "execution_count": null,
   "id": "37eb6bfc",
   "metadata": {},
   "outputs": [],
   "source": [
    "2) How to convert a python dict into json file?"
   ]
  },
  {
   "cell_type": "code",
   "execution_count": 13,
   "id": "5060cf22",
   "metadata": {},
   "outputs": [],
   "source": [
    "my_dict = {'nikhil': 'KC','naman':'SHARMA','is_python_expert':True,\n",
    "          'subjects':[{'name':'maths','marks':59},\n",
    "                      {'name':'english','marks':78}],\n",
    "          'is_java_expert':False,\n",
    "          'universe_size':None}"
   ]
  },
  {
   "cell_type": "code",
   "execution_count": 14,
   "id": "6e5c32ec",
   "metadata": {},
   "outputs": [],
   "source": [
    "json_string = json.dumps(my_dict)"
   ]
  },
  {
   "cell_type": "code",
   "execution_count": 15,
   "id": "f48f953b",
   "metadata": {},
   "outputs": [],
   "source": [
    "fp = open('chetan.json','w+')\n",
    "fp.write(json_string)\n",
    "fp.close()"
   ]
  },
  {
   "cell_type": "code",
   "execution_count": null,
   "id": "65ba070a",
   "metadata": {},
   "outputs": [],
   "source": [
    "rules of json:\n",
    "    string must use double quotes.\n",
    "    boolean should be true and false.\n",
    "    \n",
    "Json have:\n",
    "    dict\n",
    "    boolean like true and false\n",
    "    strings with double quotes\n",
    "    list\n",
    "    int\n",
    "    float\n",
    "    None is used like null\n",
    "    \n",
    "Json don't have:\n",
    "    1) tuple\n",
    "    2) set"
   ]
  },
  {
   "cell_type": "code",
   "execution_count": null,
   "id": "3820178c",
   "metadata": {},
   "outputs": [],
   "source": [
    "Question: Read this json file and create some data in a website like\n",
    "    amazon."
   ]
  },
  {
   "cell_type": "code",
   "execution_count": 18,
   "id": "050ce6c3",
   "metadata": {},
   "outputs": [],
   "source": [
    "class Product:\n",
    "    def __init__(self, name,price):\n",
    "        self.name = name\n",
    "        self.price = price\n",
    "    def get_price(self):\n",
    "        return self.price\n",
    "    \n",
    "    \n",
    "class PaymentMode:\n",
    "    def __init__(self, name, requirements):\n",
    "        self.name = name\n",
    "        self.requirements = requirements\n",
    "    def get_requirements(self):\n",
    "        return self.requirements\n",
    "\n",
    "class User:\n",
    "    key_lock_pairs = {} # class attribute\n",
    "    def __init__(self, name, password):\n",
    "        self.name = name\n",
    "        self.password = password\n",
    "        User.key_lock_pairs[name] = password\n",
    "    \n",
    "    @classmethod\n",
    "    def validate_user(cls,name,password):\n",
    "        if cls.key_lock_pairs.get(name) == password:\n",
    "            return True\n",
    "        else:\n",
    "            return False"
   ]
  },
  {
   "cell_type": "code",
   "execution_count": 20,
   "id": "d00d570a",
   "metadata": {},
   "outputs": [],
   "source": [
    "import json\n",
    "fp = open(\"amazon_data.json\",\"r\")\n",
    "content = fp.read()\n",
    "fp.close()\n",
    "amazon_dict = json.loads(content)"
   ]
  },
  {
   "cell_type": "code",
   "execution_count": 21,
   "id": "8915d658",
   "metadata": {},
   "outputs": [
    {
     "data": {
      "text/plain": [
       "{'products': [{'name': 'Iphone 13', 'price': 100000},\n",
       "  {'name': 'Macbook Pro', 'price': 220000},\n",
       "  {'name': 'Sky Bag A1trio', 'price': 4000},\n",
       "  {'name': 'Nivea Aloe Hydration', 'price': 430}],\n",
       " 'payment_methods': [{'name': 'UPI', 'requirements': ['upi_id', 'upi_pin']},\n",
       "  {'name': 'netbanking', 'requirements': ['username', 'password', 'otp']},\n",
       "  {'name': 'cod', 'requirements': ['eligibility']}],\n",
       " 'users': [{'name': 'Jazz', 'password': 'brown'},\n",
       "  {'name': 'Nikhil', 'password': 'kc'},\n",
       "  {'name': 'Mohit', 'password': '123'}]}"
      ]
     },
     "execution_count": 21,
     "metadata": {},
     "output_type": "execute_result"
    }
   ],
   "source": [
    "amazon_dict"
   ]
  },
  {
   "cell_type": "code",
   "execution_count": 28,
   "id": "c9c195fb",
   "metadata": {},
   "outputs": [],
   "source": [
    "# pro1 = Product()\n",
    "product_list = []\n",
    "for product in amazon_dict.get(\"products\"):\n",
    "    product_object = Product(product.get('name'),product.get('price'))\n",
    "    product_list.append(product_object)\n",
    "    \n",
    "paymentmode_list = []\n",
    "for pm in amazon_dict.get(\"payment_methods\"):\n",
    "    paymentmode_object = PaymentMode(pm.get('name'),pm.get('requirements'))\n",
    "    paymentmode_list.append(paymentmode_object)\n",
    "    \n",
    "users_list = []\n",
    "for u in amazon_dict.get(\"users\"):\n",
    "    user_object = PaymentMode(u.get('name'),u.get('password'))\n",
    "    users_list.append(user_object)\n",
    "    "
   ]
  },
  {
   "cell_type": "code",
   "execution_count": 29,
   "id": "6092cf63",
   "metadata": {},
   "outputs": [
    {
     "name": "stdout",
     "output_type": "stream",
     "text": [
      "Defaulting to user installation because normal site-packages is not writeable\n",
      "Requirement already satisfied: icecream in /Users/mohitchouhan/Library/Python/3.8/lib/python/site-packages (2.1.1)\n",
      "Requirement already satisfied: pygments>=2.2.0 in /Users/mohitchouhan/Library/Python/3.8/lib/python/site-packages (from icecream) (2.10.0)\n",
      "Requirement already satisfied: asttokens>=2.0.1 in /Users/mohitchouhan/Library/Python/3.8/lib/python/site-packages (from icecream) (2.0.5)\n",
      "Requirement already satisfied: executing>=0.3.1 in /Users/mohitchouhan/Library/Python/3.8/lib/python/site-packages (from icecream) (0.8.2)\n",
      "Requirement already satisfied: colorama>=0.3.9 in /Users/mohitchouhan/Library/Python/3.8/lib/python/site-packages (from icecream) (0.4.4)\n",
      "Requirement already satisfied: six in /Library/Developer/CommandLineTools/Library/Frameworks/Python3.framework/Versions/3.8/lib/python3.8/site-packages (from asttokens>=2.0.1->icecream) (1.15.0)\n",
      "\u001b[33mWARNING: You are using pip version 20.2.3; however, version 21.3.1 is available.\n",
      "You should consider upgrading via the '/Library/Developer/CommandLineTools/usr/bin/python3 -m pip install --upgrade pip' command.\u001b[0m\n",
      "Note: you may need to restart the kernel to use updated packages.\n"
     ]
    }
   ],
   "source": [
    "pip install icecream"
   ]
  },
  {
   "cell_type": "code",
   "execution_count": 30,
   "id": "979ad629",
   "metadata": {},
   "outputs": [],
   "source": [
    "from icecream import ic"
   ]
  },
  {
   "cell_type": "code",
   "execution_count": 35,
   "id": "7a7192a4",
   "metadata": {},
   "outputs": [
    {
     "name": "stdout",
     "output_type": "stream",
     "text": [
      "**********************\n",
      "Iphone 13 100000\n",
      "Macbook Pro 220000\n",
      "Sky Bag A1trio 4000\n",
      "Nivea Aloe Hydration 430\n",
      "Choose a product or Exit by typing 03\n"
     ]
    }
   ],
   "source": [
    "print('**********************')\n",
    "for pro in product_list:\n",
    "    print(pro.name,pro.get_price())\n",
    "user_input = input('Choose a product or Exit by typing 0')"
   ]
  },
  {
   "cell_type": "code",
   "execution_count": 36,
   "id": "4f5a3a2d",
   "metadata": {},
   "outputs": [
    {
     "name": "stderr",
     "output_type": "stream",
     "text": [
      "ic| my_dict: {'java': 8, 'python': 3}\n"
     ]
    },
    {
     "data": {
      "text/plain": [
       "{'python': 3, 'java': 8}"
      ]
     },
     "execution_count": 36,
     "metadata": {},
     "output_type": "execute_result"
    }
   ],
   "source": [
    "my_dict = {'python':3,'java':8}\n",
    "ic(my_dict)"
   ]
  },
  {
   "cell_type": "code",
   "execution_count": null,
   "id": "d6dd3049",
   "metadata": {},
   "outputs": [],
   "source": [
    "# XML Files\n",
    "\n",
    "Interchane the data\n",
    "like html we have tags.\n",
    "\n",
    "xml tags are not predefined. you can create your own.\n",
    "\n",
    "RULES:-\n",
    "    1) THERE SHOULD BE A ROOT TAG\n",
    "    2) CASE SENSITIVE\n",
    "    3) OPENING AND CLOSING TAGS SHOULD BE SAME"
   ]
  },
  {
   "cell_type": "code",
   "execution_count": null,
   "id": "66d3cd88",
   "metadata": {},
   "outputs": [],
   "source": [
    "<USER> OPENING TAG\n",
    "\n",
    "</USER> CLOSING TAG"
   ]
  },
  {
   "cell_type": "code",
   "execution_count": null,
   "id": "1f8c832b",
   "metadata": {},
   "outputs": [],
   "source": [
    "<MOHIT>\n",
    "\n",
    "</MOHIT>"
   ]
  },
  {
   "cell_type": "code",
   "execution_count": null,
   "id": "1b0f26a6",
   "metadata": {},
   "outputs": [],
   "source": [
    "<USER>\n",
    " <NAME>MOHIT SINGH CHOUHAN</NAME>\n",
    " <GENDER>MALE</GENDER>\n",
    " <SUBJECT>PYTHON</SUBJECT>\n",
    "</USER>\n",
    "\n",
    "ROOT TAG = USER\n",
    "3 TAGS INSIDE USER - NAME,GENDER,SUBJECT"
   ]
  },
  {
   "cell_type": "code",
   "execution_count": null,
   "id": "75d3d3fa",
   "metadata": {},
   "outputs": [],
   "source": [
    "<name>mohit</name>\n",
    "<Name>mohit</Name>\n",
    "<NAME>mohit</NAME>\n",
    "<NaMe>mohit</NaMe> etc etc\n",
    "all of the above are different tags."
   ]
  },
  {
   "cell_type": "code",
   "execution_count": 37,
   "id": "a2fcb103",
   "metadata": {},
   "outputs": [
    {
     "name": "stdout",
     "output_type": "stream",
     "text": [
      "Defaulting to user installation because normal site-packages is not writeable\n",
      "Requirement already satisfied: beautifulsoup4 in /Users/mohitchouhan/Library/Python/3.8/lib/python/site-packages (4.10.0)\n",
      "Requirement already satisfied: soupsieve>1.2 in /Users/mohitchouhan/Library/Python/3.8/lib/python/site-packages (from beautifulsoup4) (2.2.1)\n",
      "WARNING: You are using pip version 20.2.3; however, version 21.3.1 is available.\n",
      "You should consider upgrading via the '/Library/Developer/CommandLineTools/usr/bin/python3 -m pip install --upgrade pip' command.\n",
      "Note: you may need to restart the kernel to use updated packages.\n"
     ]
    }
   ],
   "source": [
    "pip install beautifulsoup4"
   ]
  },
  {
   "cell_type": "code",
   "execution_count": 38,
   "id": "63d94e9a",
   "metadata": {},
   "outputs": [],
   "source": [
    "from bs4 import BeautifulSoup"
   ]
  },
  {
   "cell_type": "code",
   "execution_count": 39,
   "id": "6279ca6f",
   "metadata": {},
   "outputs": [],
   "source": [
    "fp = open('test_file.xml','r')\n",
    "soup = BeautifulSoup(fp, 'html.parser')"
   ]
  },
  {
   "cell_type": "code",
   "execution_count": 40,
   "id": "aa5d229c",
   "metadata": {},
   "outputs": [],
   "source": [
    "fp.close()"
   ]
  },
  {
   "cell_type": "code",
   "execution_count": 42,
   "id": "86fadafa",
   "metadata": {},
   "outputs": [],
   "source": [
    "# soup"
   ]
  },
  {
   "cell_type": "code",
   "execution_count": 43,
   "id": "a483a6ae",
   "metadata": {},
   "outputs": [],
   "source": [
    "list_of_foods = soup.find_all('food')"
   ]
  },
  {
   "cell_type": "code",
   "execution_count": 45,
   "id": "15aee4e2",
   "metadata": {},
   "outputs": [],
   "source": [
    "# list_of_foods"
   ]
  },
  {
   "cell_type": "code",
   "execution_count": 48,
   "id": "dd61c5b5",
   "metadata": {},
   "outputs": [
    {
     "name": "stdout",
     "output_type": "stream",
     "text": [
      "Belgian Waffles\n",
      "Strawberry Belgian Waffles\n",
      "Berry-Berry Belgian Waffles\n",
      "French Toast\n",
      "Homestyle Breakfast\n"
     ]
    }
   ],
   "source": [
    "for food in list_of_foods:\n",
    "    print(food.find('name').text)"
   ]
  },
  {
   "cell_type": "code",
   "execution_count": 49,
   "id": "46180846",
   "metadata": {},
   "outputs": [
    {
     "name": "stdout",
     "output_type": "stream",
     "text": [
      "-------------Waffles ka Dhaba----------------------\n",
      "Belgian Waffles $5.95\n",
      "Strawberry Belgian Waffles $7.95\n",
      "Berry-Berry Belgian Waffles $8.95\n",
      "French Toast $4.50\n",
      "Homestyle Breakfast $6.95\n"
     ]
    }
   ],
   "source": [
    "print('-------------Waffles ka Dhaba----------------------')\n",
    "list_of_foods = soup.find_all('food')\n",
    "for food in list_of_foods:\n",
    "    print(food.find('name').text,food.find('price').text)"
   ]
  },
  {
   "cell_type": "markdown",
   "id": "3c461a69",
   "metadata": {},
   "source": [
    "# CSV FILES"
   ]
  },
  {
   "cell_type": "code",
   "execution_count": null,
   "id": "04027c97",
   "metadata": {},
   "outputs": [],
   "source": [
    "comma separated values.\n",
    "->. these are used in various work related to data science and \n",
    "normal office work in excel files."
   ]
  },
  {
   "cell_type": "code",
   "execution_count": null,
   "id": "72b48171",
   "metadata": {},
   "outputs": [],
   "source": [
    "Name,Subject,Marks\n",
    "'roy','pyth',45\n",
    "'toy','trio',34"
   ]
  },
  {
   "cell_type": "code",
   "execution_count": null,
   "id": "ae7ce55d",
   "metadata": {},
   "outputs": [],
   "source": [
    "# using pandas - which you will learn later"
   ]
  },
  {
   "cell_type": "code",
   "execution_count": 52,
   "id": "4ee6afde",
   "metadata": {},
   "outputs": [
    {
     "name": "stdout",
     "output_type": "stream",
     "text": [
      "['name', 'department', 'birthday month']\n",
      "['John Smith', 'Accounting', 'November']\n",
      "['Erica Meyers', 'IT', 'March']\n",
      "['Vishal Gupta', 'Comp. Sci', 'Feb']\n"
     ]
    }
   ],
   "source": [
    "import csv\n",
    "fp = open('test.csv')\n",
    "csv_reader = csv.reader(fp, delimiter=\",\")\n",
    "for row in csv_reader:\n",
    "    print(row)"
   ]
  },
  {
   "cell_type": "code",
   "execution_count": 53,
   "id": "db11cdc5",
   "metadata": {},
   "outputs": [],
   "source": [
    "fp = open('test2.csv','w+')\n",
    "fp.write(\"Name,Age,Marks\")\n",
    "fp.write('\\n')\n",
    "fp.write(\"Mohit,25,100\")\n",
    "fp.close()"
   ]
  },
  {
   "cell_type": "code",
   "execution_count": null,
   "id": "798f3f52",
   "metadata": {},
   "outputs": [],
   "source": [
    "HOW TO READ AND WRITE INTO A CSV FILE."
   ]
  }
 ],
 "metadata": {
  "kernelspec": {
   "display_name": "Python 3 (ipykernel)",
   "language": "python",
   "name": "python3"
  },
  "language_info": {
   "codemirror_mode": {
    "name": "ipython",
    "version": 3
   },
   "file_extension": ".py",
   "mimetype": "text/x-python",
   "name": "python",
   "nbconvert_exporter": "python",
   "pygments_lexer": "ipython3",
   "version": "3.8.9"
  }
 },
 "nbformat": 4,
 "nbformat_minor": 5
}
