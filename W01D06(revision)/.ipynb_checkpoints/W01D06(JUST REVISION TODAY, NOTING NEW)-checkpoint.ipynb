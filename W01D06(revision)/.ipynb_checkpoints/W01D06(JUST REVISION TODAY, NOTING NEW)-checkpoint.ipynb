{
 "cells": [
  {
   "cell_type": "code",
   "execution_count": 9,
   "id": "34228a58",
   "metadata": {},
   "outputs": [],
   "source": [
    "FirstNames_dict = {'Mickey':0, 'Bat':1, 'Wonder':2,'Donald':3}\n",
    "LastNames_dict = {'Mouse':0, 'Man':1, 'Woman':2, 'Duck':3}\n",
    "Address_dict = {'123 Fantasy Way':0 , '321 Cavem Ave':1 ,\n",
    "'987 Truth Way':2 , '555 Quack Street':3}\n",
    "City_dict = {\"Anaheim\":0,\"Gotham\":1,\"Paradise\":2,\"Mallard\":3}\n",
    "Age_dict = {73:0,54:1,39:2,65:3}"
   ]
  },
  {
   "cell_type": "code",
   "execution_count": 10,
   "id": "b7b337f1",
   "metadata": {},
   "outputs": [],
   "source": [
    "FirstNames = ['Mickey', 'Bat', 'Wonder','Donald']\n",
    "LastNames = ['Mouse', 'Man', 'Woman', 'Duck']\n",
    "Address = ['123 Fantasy Way' , '321 Cavem Ave' ,\n",
    "'987 Truth Way' , '555 Quack Street']\n",
    "City = [\"Anaheim\",\"Gotham\",\"Paradise\",\"Mallard\"]\n",
    "Age = [73,54,39,65]"
   ]
  },
  {
   "cell_type": "code",
   "execution_count": 11,
   "id": "d7a4a711",
   "metadata": {},
   "outputs": [
    {
     "data": {
      "text/plain": [
       "0"
      ]
     },
     "execution_count": 11,
     "metadata": {},
     "output_type": "execute_result"
    }
   ],
   "source": [
    "# AGE IS GIVEN\n",
    "AGE = 73\n",
    "Age_dict[AGE]"
   ]
  },
  {
   "cell_type": "code",
   "execution_count": 12,
   "id": "84437d5e",
   "metadata": {},
   "outputs": [
    {
     "data": {
      "text/plain": [
       "'Mouse'"
      ]
     },
     "execution_count": 12,
     "metadata": {},
     "output_type": "execute_result"
    }
   ],
   "source": [
    "LastNames[0]"
   ]
  },
  {
   "cell_type": "code",
   "execution_count": 18,
   "id": "41c1e3c7",
   "metadata": {},
   "outputs": [],
   "source": [
    "SALES = [\n",
    "    {\n",
    "        'purchase_number':1,\n",
    "        'date_of_purchase':'03/09/2016',\n",
    "        'customer_id':1,\n",
    "        'item_code':'A_1'\n",
    "    },\n",
    "        {\n",
    "        'purchase_number':2,\n",
    "        'date_of_purchase':'02/12/2016',\n",
    "        'customer_id':2,\n",
    "        'item_code':'C_1'\n",
    "    },\n",
    "        {\n",
    "        'purchase_number':3,\n",
    "        'date_of_purchase':'15/04/2017',\n",
    "        'customer_id':3,\n",
    "        'item_code':'D_1'\n",
    "    },\n",
    "        {\n",
    "        'purchase_number':4,\n",
    "        'date_of_purchase':'24/05/2017',\n",
    "        'customer_id':1,\n",
    "        'item_code':'B_2'\n",
    "    },\n",
    "        {\n",
    "        'purchase_number':5,\n",
    "        'date_of_purchase':'25/05/2017',\n",
    "        'customer_id':4,\n",
    "        'item_code':'B_2'\n",
    "    }\n",
    "]"
   ]
  },
  {
   "cell_type": "code",
   "execution_count": 19,
   "id": "5093428a",
   "metadata": {},
   "outputs": [
    {
     "name": "stdout",
     "output_type": "stream",
     "text": [
      "1|03/09/2016|1|A_1\n",
      "2|02/12/2016|2|C_1\n",
      "3|15/04/2017|3|D_1\n",
      "4|24/05/2017|1|B_2\n",
      "5|25/05/2017|4|B_2\n"
     ]
    }
   ],
   "source": [
    "for row in SALES:\n",
    "    print(row['purchase_number'],row['date_of_purchase'],row['customer_id'],row['item_code'],sep=\"|\")"
   ]
  },
  {
   "cell_type": "code",
   "execution_count": null,
   "id": "9b823492",
   "metadata": {},
   "outputs": [],
   "source": []
  }
 ],
 "metadata": {
  "kernelspec": {
   "display_name": "Python 3 (ipykernel)",
   "language": "python",
   "name": "python3"
  },
  "language_info": {
   "codemirror_mode": {
    "name": "ipython",
    "version": 3
   },
   "file_extension": ".py",
   "mimetype": "text/x-python",
   "name": "python",
   "nbconvert_exporter": "python",
   "pygments_lexer": "ipython3",
   "version": "3.8.9"
  }
 },
 "nbformat": 4,
 "nbformat_minor": 5
}
