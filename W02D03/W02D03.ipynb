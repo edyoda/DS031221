{
 "cells": [
  {
   "cell_type": "code",
   "execution_count": null,
   "id": "f0491441",
   "metadata": {},
   "outputs": [],
   "source": [
    "len() builtin function\n",
    "range() builtin function\n",
    "help() builtin function"
   ]
  },
  {
   "cell_type": "code",
   "execution_count": null,
   "id": "f2e52531",
   "metadata": {},
   "outputs": [],
   "source": [
    "len() function => It tells the length of the Iterable.\n",
    "\n",
    "Iterable Data Types:\n",
    "    list\n",
    "    str\n",
    "    dict\n",
    "    set\n",
    "    tuple"
   ]
  },
  {
   "cell_type": "code",
   "execution_count": 1,
   "id": "93cadd89",
   "metadata": {},
   "outputs": [
    {
     "data": {
      "text/plain": [
       "4"
      ]
     },
     "execution_count": 1,
     "metadata": {},
     "output_type": "execute_result"
    }
   ],
   "source": [
    "fruits = ['apple','mango','kiwi','banana']\n",
    "len(fruits)"
   ]
  },
  {
   "cell_type": "code",
   "execution_count": 2,
   "id": "4bf4b652",
   "metadata": {},
   "outputs": [
    {
     "data": {
      "text/plain": [
       "2"
      ]
     },
     "execution_count": 2,
     "metadata": {},
     "output_type": "execute_result"
    }
   ],
   "source": [
    "waka = {'python':3, 'java':8}\n",
    "len(waka)\n",
    "# There are 2 key-value pairs"
   ]
  },
  {
   "cell_type": "code",
   "execution_count": 3,
   "id": "3c51e985",
   "metadata": {},
   "outputs": [
    {
     "data": {
      "text/plain": [
       "6"
      ]
     },
     "execution_count": 3,
     "metadata": {},
     "output_type": "execute_result"
    }
   ],
   "source": [
    "x = 'python'\n",
    "len(x)"
   ]
  },
  {
   "cell_type": "code",
   "execution_count": 4,
   "id": "d64980f5",
   "metadata": {},
   "outputs": [
    {
     "data": {
      "text/plain": [
       "4"
      ]
     },
     "execution_count": 4,
     "metadata": {},
     "output_type": "execute_result"
    }
   ],
   "source": [
    "y = 'kiwi'\n",
    "len(y)"
   ]
  },
  {
   "cell_type": "code",
   "execution_count": 5,
   "id": "d6e8261a",
   "metadata": {},
   "outputs": [],
   "source": [
    "# range() builtin function"
   ]
  },
  {
   "cell_type": "code",
   "execution_count": null,
   "id": "eee91234",
   "metadata": {},
   "outputs": [],
   "source": [
    "start, stop, jump\n",
    "\n",
    "stop-> It is never reached.\n",
    "by default jump is 1."
   ]
  },
  {
   "cell_type": "code",
   "execution_count": 6,
   "id": "1c8f2143",
   "metadata": {},
   "outputs": [
    {
     "name": "stdout",
     "output_type": "stream",
     "text": [
      "3\n",
      "4\n",
      "5\n",
      "6\n",
      "7\n",
      "8\n",
      "9\n",
      "10\n",
      "11\n",
      "12\n",
      "13\n",
      "14\n",
      "15\n",
      "16\n",
      "17\n",
      "18\n",
      "19\n",
      "20\n",
      "21\n"
     ]
    }
   ],
   "source": [
    "for i in range(3,22):\n",
    "    print(i)"
   ]
  },
  {
   "cell_type": "code",
   "execution_count": 7,
   "id": "589820a9",
   "metadata": {},
   "outputs": [
    {
     "name": "stdout",
     "output_type": "stream",
     "text": [
      "1\n",
      "3\n",
      "5\n",
      "7\n",
      "9\n",
      "11\n",
      "13\n",
      "15\n",
      "17\n",
      "19\n",
      "21\n"
     ]
    }
   ],
   "source": [
    "for i in range(1,22,2):\n",
    "    print(i)"
   ]
  },
  {
   "cell_type": "code",
   "execution_count": 8,
   "id": "d52979de",
   "metadata": {},
   "outputs": [
    {
     "name": "stdout",
     "output_type": "stream",
     "text": [
      "5\n",
      "11\n",
      "17\n"
     ]
    }
   ],
   "source": [
    "for i in range(5,22,6):\n",
    "    print(i)"
   ]
  },
  {
   "cell_type": "code",
   "execution_count": null,
   "id": "25881f62",
   "metadata": {},
   "outputs": [],
   "source": [
    "# help() builtin function"
   ]
  },
  {
   "cell_type": "code",
   "execution_count": 23,
   "id": "8fbfbfd3",
   "metadata": {},
   "outputs": [],
   "source": [
    "x = {'happy','puppy','kissi','mussi','munchi'}\n",
    "# help(x)"
   ]
  },
  {
   "cell_type": "code",
   "execution_count": 13,
   "id": "afddfa90",
   "metadata": {},
   "outputs": [
    {
     "name": "stdout",
     "output_type": "stream",
     "text": [
      "{'munchi', 'mussi', 'happy', 'puppy', 'kissi'}\n",
      "4386369824\n"
     ]
    }
   ],
   "source": [
    "x = {'happy','puppy','kissi','mussi','munchi'}\n",
    "print(x)\n",
    "print(id(x))"
   ]
  },
  {
   "cell_type": "code",
   "execution_count": 14,
   "id": "b05f9c73",
   "metadata": {},
   "outputs": [],
   "source": [
    "x.discard('kissi')"
   ]
  },
  {
   "cell_type": "code",
   "execution_count": 15,
   "id": "a65e9247",
   "metadata": {},
   "outputs": [
    {
     "name": "stdout",
     "output_type": "stream",
     "text": [
      "{'munchi', 'mussi', 'happy', 'puppy'}\n",
      "4386369824\n"
     ]
    }
   ],
   "source": [
    "print(x)\n",
    "print(id(x))\n",
    "\n",
    "# hence sets are mutable(editable)"
   ]
  },
  {
   "cell_type": "code",
   "execution_count": null,
   "id": "d2a84fc2",
   "metadata": {},
   "outputs": [],
   "source": [
    "# range(start,stop,jump)\n",
    "# stop is necesaary/mandatory"
   ]
  },
  {
   "cell_type": "code",
   "execution_count": 19,
   "id": "76920675",
   "metadata": {},
   "outputs": [
    {
     "name": "stdout",
     "output_type": "stream",
     "text": [
      "3\n",
      "6\n",
      "9\n",
      "12\n"
     ]
    }
   ],
   "source": [
    "for i in range(3,13,3):\n",
    "    print(i)"
   ]
  },
  {
   "cell_type": "code",
   "execution_count": 20,
   "id": "fd5f565a",
   "metadata": {},
   "outputs": [
    {
     "name": "stdout",
     "output_type": "stream",
     "text": [
      "13\n",
      "17\n",
      "21\n"
     ]
    }
   ],
   "source": [
    "for i in range(13,23,4):\n",
    "    print(i)"
   ]
  },
  {
   "cell_type": "code",
   "execution_count": 22,
   "id": "53824ef4",
   "metadata": {},
   "outputs": [],
   "source": [
    "x = {'python':4,'numpy':1}\n",
    "# help(x)"
   ]
  },
  {
   "cell_type": "markdown",
   "id": "1ad7a9e4",
   "metadata": {},
   "source": [
    "## Q1Make a list of numbers from 1 to 10 and loop over them and print ('yes') if it is a even number and ('no') if it is odd."
   ]
  },
  {
   "cell_type": "code",
   "execution_count": 24,
   "id": "c03b8455",
   "metadata": {},
   "outputs": [
    {
     "name": "stdout",
     "output_type": "stream",
     "text": [
      "1  odd\n",
      "2  even\n",
      "3  odd\n",
      "4  even\n",
      "5  odd\n",
      "6  even\n",
      "7  odd\n",
      "8  even\n",
      "9  odd\n",
      "10  even\n"
     ]
    }
   ],
   "source": [
    "x = [1,2,3,4,5,6,7,8,9,10]\n",
    "for no in x:\n",
    "    if no%2 == 0:\n",
    "        print(no,' even')\n",
    "    else:\n",
    "        print(no,' odd')"
   ]
  },
  {
   "cell_type": "markdown",
   "id": "6b424a79",
   "metadata": {},
   "source": [
    "## Q2) Print multiplication table of 5\n",
    "\n",
    "### Pseudocode:\n",
    "    1)loop from 1 to 10\n",
    "    2)for each item, print * of 5 with it."
   ]
  },
  {
   "cell_type": "code",
   "execution_count": 27,
   "id": "07d5f7d6",
   "metadata": {},
   "outputs": [
    {
     "name": "stdout",
     "output_type": "stream",
     "text": [
      "5\n",
      "10\n",
      "15\n",
      "20\n",
      "25\n",
      "30\n",
      "35\n",
      "40\n",
      "45\n",
      "50\n"
     ]
    }
   ],
   "source": [
    "for i in range(1,11):\n",
    "    print(i*5)"
   ]
  },
  {
   "cell_type": "markdown",
   "id": "62fc5b12",
   "metadata": {},
   "source": [
    "## Q3 Find out the sum of the numbers without using any builtin function and compulary use a for loop\n",
    "numbersList = [23,25,-43,0,-56]"
   ]
  },
  {
   "cell_type": "code",
   "execution_count": 33,
   "id": "15a690d2",
   "metadata": {},
   "outputs": [
    {
     "name": "stdout",
     "output_type": "stream",
     "text": [
      "-51\n"
     ]
    }
   ],
   "source": [
    "# numbersList = [300,400,50,-20]\n",
    "numbersList = [23,25,-43,0,-56]\n",
    "\n",
    "sum1 = 0\n",
    "\n",
    "for i in numbersList:\n",
    "    sum1 = sum1 + i\n",
    "print(sum1)"
   ]
  },
  {
   "cell_type": "markdown",
   "id": "2c0a4ed3",
   "metadata": {},
   "source": [
    "## Q1 Make a list of numbers from 1 to 5 and print their value using for loop"
   ]
  },
  {
   "cell_type": "code",
   "execution_count": 34,
   "id": "c749d2d7",
   "metadata": {},
   "outputs": [
    {
     "name": "stdout",
     "output_type": "stream",
     "text": [
      "1\n",
      "2\n",
      "3\n",
      "4\n",
      "5\n"
     ]
    }
   ],
   "source": [
    "# 3 minutes\n",
    "xlist = [1,2,3,4,5]\n",
    "for i in xlist:\n",
    "    print(i)"
   ]
  },
  {
   "cell_type": "code",
   "execution_count": null,
   "id": "773ac108",
   "metadata": {},
   "outputs": [],
   "source": [
    "Conditional Statements with AND,OR"
   ]
  },
  {
   "cell_type": "code",
   "execution_count": 35,
   "id": "4cc39d86",
   "metadata": {},
   "outputs": [],
   "source": [
    "employees = [ \n",
    " {'name': 'Aman',\n",
    " 'emp_id': 37,\n",
    " 'sallary': 1900,\n",
    " 'isMarried': True},\n",
    "{'name': 'Rohan',\n",
    " 'emp_id': 29,\n",
    " 'sallary': 33000,\n",
    " 'isMarried': False},\n",
    "{'name': 'Aadil',\n",
    " 'emp_id': 69,\n",
    " 'sallary': 121000,\n",
    " 'isMarried': True},\n",
    "{'name': 'Mohammed',\n",
    " 'emp_id': 53,\n",
    " 'sallary': 50000,\n",
    " 'isMarried': True}\n",
    "]"
   ]
  },
  {
   "cell_type": "code",
   "execution_count": 37,
   "id": "f2ac4309",
   "metadata": {},
   "outputs": [
    {
     "name": "stdout",
     "output_type": "stream",
     "text": [
      "Rohan\n"
     ]
    }
   ],
   "source": [
    "for emp in employees:\n",
    "    if emp['emp_id'] <= 40 and emp['isMarried'] == False:\n",
    "        print(emp['name'])"
   ]
  },
  {
   "cell_type": "code",
   "execution_count": null,
   "id": "bfc375d3",
   "metadata": {},
   "outputs": [],
   "source": [
    "Find out the employees who is either not married OR whose emp_id > 60"
   ]
  },
  {
   "cell_type": "code",
   "execution_count": 38,
   "id": "f2e578cc",
   "metadata": {},
   "outputs": [
    {
     "name": "stdout",
     "output_type": "stream",
     "text": [
      "Rohan\n",
      "Aadil\n"
     ]
    }
   ],
   "source": [
    "for emp in employees:\n",
    "    if emp['emp_id'] > 60 or emp['isMarried'] == False:\n",
    "        print(emp['name'])"
   ]
  },
  {
   "cell_type": "code",
   "execution_count": 39,
   "id": "ea95898f",
   "metadata": {},
   "outputs": [],
   "source": [
    "# Nested if else"
   ]
  },
  {
   "cell_type": "code",
   "execution_count": 44,
   "id": "cd08c877",
   "metadata": {},
   "outputs": [
    {
     "name": "stdout",
     "output_type": "stream",
     "text": [
      "Will you marry me?\n",
      "I need more time\n",
      "How much more time?\n",
      "2 days\n",
      "Take your time!\n"
     ]
    }
   ],
   "source": [
    "print('Will you marry me?')\n",
    "reply = input()\n",
    "if reply == 'I need more time':\n",
    "    print('How much more time?')\n",
    "    reply2 = input()\n",
    "    if reply2 == \"I don't know\":\n",
    "        print('Oh God! How much more, we are together for 5 years')\n",
    "    else:\n",
    "        print('Take your time!')\n",
    "        \n",
    "elif reply == 'Yes':\n",
    "    print('Feeling bad for my PS4')\n",
    "else:\n",
    "    print('Wohooooo !! PS4 is coming!')"
   ]
  },
  {
   "cell_type": "code",
   "execution_count": 45,
   "id": "977983fe",
   "metadata": {},
   "outputs": [],
   "source": [
    "# Nested for loop"
   ]
  },
  {
   "cell_type": "code",
   "execution_count": 46,
   "id": "e218c72c",
   "metadata": {},
   "outputs": [
    {
     "name": "stdout",
     "output_type": "stream",
     "text": [
      "[{'name': 'Aman', 'emp_id': 37, 'sallary': 1900, 'isMarried': True}, {'name': 'Rohan', 'emp_id': 29, 'sallary': 33000, 'isMarried': False}, {'name': 'Aadil', 'emp_id': 69, 'sallary': 121000, 'isMarried': True}, {'name': 'Mohammed', 'emp_id': 53, 'sallary': 50000, 'isMarried': True}]\n"
     ]
    }
   ],
   "source": [
    "print(employees)"
   ]
  },
  {
   "cell_type": "code",
   "execution_count": 48,
   "id": "721b3633",
   "metadata": {},
   "outputs": [
    {
     "name": "stdout",
     "output_type": "stream",
     "text": [
      "Rohan 33000\n",
      "Aadil 121000\n"
     ]
    }
   ],
   "source": [
    "for emp_name in ['Rohan','Aadil']:\n",
    "    for emp_dict in employees:\n",
    "        if emp_dict['name'] == emp_name:\n",
    "            print(emp_name,emp_dict['sallary'])"
   ]
  },
  {
   "cell_type": "code",
   "execution_count": 49,
   "id": "e5ed1ff3",
   "metadata": {},
   "outputs": [
    {
     "name": "stdout",
     "output_type": "stream",
     "text": [
      "Rohan\n",
      "Aadil\n"
     ]
    }
   ],
   "source": [
    "for emp_name in ['Rohan','Aadil']:\n",
    "    print(emp_name)"
   ]
  },
  {
   "cell_type": "code",
   "execution_count": 50,
   "id": "2bf7af6c",
   "metadata": {},
   "outputs": [
    {
     "name": "stdout",
     "output_type": "stream",
     "text": [
      "Rohan 33000\n"
     ]
    }
   ],
   "source": [
    "emp_name = 'Rohan'\n",
    "for emp_dict in employees:\n",
    "    if emp_dict['name'] == emp_name:\n",
    "        print(emp_name,emp_dict['sallary'])"
   ]
  },
  {
   "cell_type": "code",
   "execution_count": 54,
   "id": "3d90b2f8",
   "metadata": {},
   "outputs": [
    {
     "name": "stdout",
     "output_type": "stream",
     "text": [
      "value of i is 1\n",
      "1 hello\n",
      "value of i is 2\n",
      "2 hello\n",
      "2 hello\n"
     ]
    }
   ],
   "source": [
    "for i in range(1,3):\n",
    "    print('value of i is',i)\n",
    "    for j in range(0,i):\n",
    "        print(i,'hello')"
   ]
  },
  {
   "cell_type": "code",
   "execution_count": 58,
   "id": "8d284b27",
   "metadata": {},
   "outputs": [
    {
     "name": "stdout",
     "output_type": "stream",
     "text": [
      "1 0 hello\n"
     ]
    }
   ],
   "source": [
    "i = 1\n",
    "for j in range(0,i):\n",
    "    print(i,j,'hello')"
   ]
  },
  {
   "cell_type": "code",
   "execution_count": 57,
   "id": "38940399",
   "metadata": {},
   "outputs": [
    {
     "name": "stdout",
     "output_type": "stream",
     "text": [
      "2 0 hello\n",
      "2 1 hello\n"
     ]
    }
   ],
   "source": [
    "i = 2\n",
    "for j in range(0,i):\n",
    "    print(i,j,'hello')"
   ]
  },
  {
   "cell_type": "code",
   "execution_count": null,
   "id": "87f2a49b",
   "metadata": {},
   "outputs": [],
   "source": [
    "\n",
    "\n",
    "\n",
    "i = 2\n",
    "for j in range(0,i):\n",
    "    print(i,j,'hello')"
   ]
  },
  {
   "cell_type": "code",
   "execution_count": 62,
   "id": "7b132dcf",
   "metadata": {},
   "outputs": [
    {
     "name": "stdout",
     "output_type": "stream",
     "text": [
      "0 5\n",
      "1 5\n",
      "2 5\n",
      "3 5\n",
      "4 5\n"
     ]
    }
   ],
   "source": [
    "x = 5\n",
    "for i in range(0,x):\n",
    "    print(i,x)"
   ]
  },
  {
   "cell_type": "code",
   "execution_count": 63,
   "id": "060c8c40",
   "metadata": {},
   "outputs": [
    {
     "name": "stdout",
     "output_type": "stream",
     "text": [
      "0 5\n",
      "1 5\n",
      "2 5\n",
      "3 5\n",
      "4 5\n",
      "0 10\n",
      "1 10\n",
      "2 10\n",
      "3 10\n",
      "4 10\n",
      "5 10\n",
      "6 10\n",
      "7 10\n",
      "8 10\n",
      "9 10\n"
     ]
    }
   ],
   "source": [
    "for x in [5,10]:\n",
    "    for i in range(0,x):\n",
    "        print(i,x)\n",
    "        \n",
    "# how many times the outer for loop will run?"
   ]
  },
  {
   "cell_type": "markdown",
   "id": "ac982c77",
   "metadata": {},
   "source": [
    "## Q2) Print yes if x is divisible by 3 and 5 both\n",
    "\n",
    "### Intuition: since 4 is divisible by 2 it outputs remainder = 0\n",
    "\n",
    "### PseudoCode:\n",
    "    1)Check if remainder obtained by 3 is 0\n",
    "    2)Check if remainder obtained by 5 is 0\n",
    "    3)If anyone of the above 2 are false, than print False.\n",
    "    4)If both are True, print True.\n",
    "    \n",
    "5 minutes\n",
    "9:10"
   ]
  },
  {
   "cell_type": "code",
   "execution_count": 66,
   "id": "de1354e0",
   "metadata": {},
   "outputs": [
    {
     "name": "stdout",
     "output_type": "stream",
     "text": [
      "300\n",
      "True\n"
     ]
    }
   ],
   "source": [
    "x = int(input())\n",
    "\n",
    "if x%3 == 0 and x%5 == 0:\n",
    "    print('True')\n",
    "else:\n",
    "    print('False')"
   ]
  },
  {
   "cell_type": "code",
   "execution_count": 73,
   "id": "d30a617d",
   "metadata": {},
   "outputs": [
    {
     "name": "stdout",
     "output_type": "stream",
     "text": [
      "78\n",
      "False\n"
     ]
    }
   ],
   "source": [
    "x= int(input())\n",
    "if x%3==0 and x%5==0:\n",
    "    print(True)\n",
    "else:\n",
    "    print(False)"
   ]
  },
  {
   "cell_type": "markdown",
   "id": "b92ede68",
   "metadata": {},
   "source": [
    "\n",
    "## Q5: In the following list of Person Informations.\n",
    " persons = [{'Name':'Mohit','Gender':'M','Profession':'teacher'},{'Name':\n",
    ",'Kunal','Gender':'M','Profession':'engineer'},\n",
    "{'Name':'Rashmi','Gender':'F','Profession':'doctor'}]\n",
    "\n",
    "## if the profession is doctor check if the name starts with M print 'doctor M' else print 'doctor' \n",
    "## if the professtion is engineer, check if the gender is M, if yes print 'engineer bhaiyya' else print 'engineer didi' \n",
    "\n",
    "## if the profeesion is actor , check if the last char of name is h, if yes print 'actor' or print 'lier' \n",
    "\n",
    "## if the profession is none of the above print('Wow what do you actually do??')\n"
   ]
  },
  {
   "cell_type": "code",
   "execution_count": 76,
   "id": "ebd6fdaf",
   "metadata": {},
   "outputs": [],
   "source": [
    "persons = [{'Name':'Mohit','Gender':'M','Profession':'teacher'},\n",
    "           {'Name': 'Kunal','Gender':'M','Profession':'engineer'},\n",
    "           {'Name':'Rashmi','Gender':'F','Profession':'doctor'}]"
   ]
  },
  {
   "cell_type": "code",
   "execution_count": 77,
   "id": "7199fcee",
   "metadata": {},
   "outputs": [
    {
     "name": "stdout",
     "output_type": "stream",
     "text": [
      "m\n"
     ]
    }
   ],
   "source": [
    "x = 'mango'\n",
    "print(x[0])"
   ]
  },
  {
   "cell_type": "code",
   "execution_count": 78,
   "id": "3ef7a3f3",
   "metadata": {},
   "outputs": [
    {
     "data": {
      "text/plain": [
       "True"
      ]
     },
     "execution_count": 78,
     "metadata": {},
     "output_type": "execute_result"
    }
   ],
   "source": [
    "x[0] == 'm'"
   ]
  },
  {
   "cell_type": "code",
   "execution_count": null,
   "id": "570b222c",
   "metadata": {},
   "outputs": [],
   "source": []
  }
 ],
 "metadata": {
  "kernelspec": {
   "display_name": "Python 3 (ipykernel)",
   "language": "python",
   "name": "python3"
  },
  "language_info": {
   "codemirror_mode": {
    "name": "ipython",
    "version": 3
   },
   "file_extension": ".py",
   "mimetype": "text/x-python",
   "name": "python",
   "nbconvert_exporter": "python",
   "pygments_lexer": "ipython3",
   "version": "3.8.9"
  }
 },
 "nbformat": 4,
 "nbformat_minor": 5
}
