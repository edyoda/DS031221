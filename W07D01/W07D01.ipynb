{
 "cells": [
  {
   "cell_type": "code",
   "execution_count": 48,
   "id": "cc93f6ab",
   "metadata": {},
   "outputs": [],
   "source": [
    "class shapes:\n",
    "    def __init__(self, name, sides_length, radius):\n",
    "        self.radius = radius\n",
    "        self.name = name\n",
    "        self.sides_length = sides_length\n",
    "    \n",
    "    def get_radius(self):\n",
    "        return self.radius\n",
    "    \n",
    "    def get_highest_side(self):\n",
    "        if self.sides_length:\n",
    "            return max(self.sides_length.values())\n",
    "        else:\n",
    "            return 0\n",
    "        \n",
    "    def get_sides_length(self):\n",
    "        return self.sides_length"
   ]
  },
  {
   "cell_type": "code",
   "execution_count": 49,
   "id": "fd1c7bf4",
   "metadata": {},
   "outputs": [],
   "source": [
    "import math\n",
    "class triangle(shapes):\n",
    "    def __init__(self,s1,s2,s3):\n",
    "        super().__init__('triangle' ,{'s1':s1,'s2':s2,'s3':s3},0)\n",
    "    \n",
    "    def get_area(self):\n",
    "        a = super().get_sides_length().get('s1')\n",
    "        b = super().get_sides_length().get('s2')\n",
    "        c = super().get_sides_length().get('s3')\n",
    "        s = sum(super().get_sides_length().values())/2 # semi_perimeter\n",
    "        print(s)\n",
    "        before_underroot = s*(s-a)*(s-b)*(s-c)\n",
    "        area = math.sqrt(before_underroot)\n",
    "        return area\n"
   ]
  },
  {
   "cell_type": "code",
   "execution_count": 45,
   "id": "50bae13c",
   "metadata": {},
   "outputs": [
    {
     "name": "stdout",
     "output_type": "stream",
     "text": [
      "we are here  {'s1': 3, 's2': 4, 's3': 5}\n"
     ]
    }
   ],
   "source": [
    "good_tri = triangle(3,4,5)"
   ]
  },
  {
   "cell_type": "code",
   "execution_count": 46,
   "id": "597852dd",
   "metadata": {},
   "outputs": [
    {
     "data": {
      "text/plain": [
       "5"
      ]
     },
     "execution_count": 46,
     "metadata": {},
     "output_type": "execute_result"
    }
   ],
   "source": [
    "good_tri.get_highest_side()"
   ]
  },
  {
   "cell_type": "code",
   "execution_count": 47,
   "id": "5faa2885",
   "metadata": {},
   "outputs": [
    {
     "name": "stdout",
     "output_type": "stream",
     "text": [
      "6.0\n"
     ]
    },
    {
     "data": {
      "text/plain": [
       "6.0"
      ]
     },
     "execution_count": 47,
     "metadata": {},
     "output_type": "execute_result"
    }
   ],
   "source": [
    "good_tri.get_area()"
   ]
  },
  {
   "cell_type": "code",
   "execution_count": 54,
   "id": "0ef8bdde",
   "metadata": {},
   "outputs": [],
   "source": [
    "class shapes:\n",
    "    def __init__(self, name, sides_length, radius=False):\n",
    "        self.radius = radius\n",
    "        self.name = name\n",
    "        self.sides_length = sides_length\n",
    "    \n",
    "    def get_radius(self):\n",
    "        return self.radius\n",
    "    \n",
    "    def get_highest_side(self):\n",
    "        if self.sides_length:\n",
    "            return max(self.sides_length.values())\n",
    "        else:\n",
    "            return 0\n",
    "        \n",
    "    def get_sides_length(self):\n",
    "        return self.sides_length"
   ]
  },
  {
   "cell_type": "code",
   "execution_count": 55,
   "id": "684133c2",
   "metadata": {},
   "outputs": [],
   "source": [
    "class square(shapes):\n",
    "    def __init__(self, side):\n",
    "        super().__init__('square',{'s1':side})\n",
    "    \n",
    "    def get_side(self):\n",
    "        return super().get_sides_length().get('s1')\n",
    "    \n",
    "    def get_area(self):\n",
    "        side = super().get_sides_length().get('s1')\n",
    "        return side**2"
   ]
  },
  {
   "cell_type": "code",
   "execution_count": 58,
   "id": "8ab48de5",
   "metadata": {},
   "outputs": [],
   "source": [
    "class circle(shapes):\n",
    "    def __init__(self, radius):\n",
    "        super().__init__('circle',None,radius)\n",
    "        \n",
    "    def get_area(self):\n",
    "        return math.pi*(super().get_radius())**2"
   ]
  },
  {
   "cell_type": "code",
   "execution_count": 56,
   "id": "7374ff0a",
   "metadata": {},
   "outputs": [],
   "source": [
    "sq = square(4)"
   ]
  },
  {
   "cell_type": "code",
   "execution_count": 57,
   "id": "b0867fc4",
   "metadata": {},
   "outputs": [
    {
     "data": {
      "text/plain": [
       "16"
      ]
     },
     "execution_count": 57,
     "metadata": {},
     "output_type": "execute_result"
    }
   ],
   "source": [
    "sq.get_area()"
   ]
  },
  {
   "cell_type": "code",
   "execution_count": 59,
   "id": "8c1b121b",
   "metadata": {},
   "outputs": [],
   "source": [
    "ci = circle(3)"
   ]
  },
  {
   "cell_type": "code",
   "execution_count": 60,
   "id": "1d4c03b0",
   "metadata": {},
   "outputs": [
    {
     "data": {
      "text/plain": [
       "28.274333882308138"
      ]
     },
     "execution_count": 60,
     "metadata": {},
     "output_type": "execute_result"
    }
   ],
   "source": [
    "ci.get_area()"
   ]
  },
  {
   "cell_type": "code",
   "execution_count": 61,
   "id": "33018c0b",
   "metadata": {},
   "outputs": [],
   "source": [
    "class Animal:\n",
    "    def __init__(self,name,type_of_animal,speed):\n",
    "        self.name = name\n",
    "        self.type_of_animal = type_of_animal\n",
    "        self.speed = speed\n",
    "    \n",
    "    def eat(self):\n",
    "        return f'{self.name} is eating'\n",
    "    \n",
    "    def walk(self):\n",
    "        return f'{self.name} with speed {self.speed} is walking'"
   ]
  },
  {
   "cell_type": "code",
   "execution_count": 62,
   "id": "6ada7ed0",
   "metadata": {},
   "outputs": [],
   "source": [
    "class cat(Animal):\n",
    "    def __init__(self,name,fur_size):\n",
    "        self.fur_size = fur_size\n",
    "        super().__init__(name,'omni',100)\n",
    "        \n",
    "    def fight(self):\n",
    "        return f'{self.name} likes to fight with the claws'"
   ]
  },
  {
   "cell_type": "code",
   "execution_count": 63,
   "id": "a2eaef8c",
   "metadata": {},
   "outputs": [],
   "source": [
    "class dog(Animal):\n",
    "    def __init__(self,name,color, breed):\n",
    "        self.color = color\n",
    "        self.breed = breed\n",
    "        super().__init__(name,'omni',70)\n",
    "    \n",
    "    def eat(self):\n",
    "        return f'{self.breed} is eating loudly'"
   ]
  },
  {
   "cell_type": "code",
   "execution_count": 64,
   "id": "bb198407",
   "metadata": {},
   "outputs": [],
   "source": [
    "chummy = cat('Chow Mow',10)"
   ]
  },
  {
   "cell_type": "code",
   "execution_count": 65,
   "id": "0b665c83",
   "metadata": {},
   "outputs": [
    {
     "data": {
      "text/plain": [
       "'Chow Mow likes to fight with the claws'"
      ]
     },
     "execution_count": 65,
     "metadata": {},
     "output_type": "execute_result"
    }
   ],
   "source": [
    "chummy.fight()"
   ]
  },
  {
   "cell_type": "code",
   "execution_count": 66,
   "id": "849567e3",
   "metadata": {},
   "outputs": [
    {
     "data": {
      "text/plain": [
       "'Chow Mow is eating'"
      ]
     },
     "execution_count": 66,
     "metadata": {},
     "output_type": "execute_result"
    }
   ],
   "source": [
    "chummy.eat()"
   ]
  },
  {
   "cell_type": "code",
   "execution_count": 67,
   "id": "2678ddda",
   "metadata": {},
   "outputs": [],
   "source": [
    "koti = dog('Kotlin','White','Pug')"
   ]
  },
  {
   "cell_type": "code",
   "execution_count": 68,
   "id": "cf10b785",
   "metadata": {},
   "outputs": [
    {
     "data": {
      "text/plain": [
       "'Pug is eating loudly'"
      ]
     },
     "execution_count": 68,
     "metadata": {},
     "output_type": "execute_result"
    }
   ],
   "source": [
    "koti.eat()"
   ]
  },
  {
   "cell_type": "code",
   "execution_count": null,
   "id": "ee39e156",
   "metadata": {},
   "outputs": [],
   "source": [
    "-> First it tries to search it in the same class.\n",
    "-> If not found, than it goes to the parent class."
   ]
  },
  {
   "cell_type": "code",
   "execution_count": 69,
   "id": "30e925ab",
   "metadata": {},
   "outputs": [
    {
     "data": {
      "text/plain": [
       "'Kotlin with speed 70 is walking'"
      ]
     },
     "execution_count": 69,
     "metadata": {},
     "output_type": "execute_result"
    }
   ],
   "source": [
    "koti.walk()"
   ]
  },
  {
   "cell_type": "code",
   "execution_count": 70,
   "id": "fd9d1818",
   "metadata": {},
   "outputs": [
    {
     "data": {
      "text/plain": [
       "'Chow Mow with speed 100 is walking'"
      ]
     },
     "execution_count": 70,
     "metadata": {},
     "output_type": "execute_result"
    }
   ],
   "source": [
    "chummy.walk()"
   ]
  },
  {
   "cell_type": "code",
   "execution_count": 72,
   "id": "68abe31e",
   "metadata": {},
   "outputs": [],
   "source": [
    "class P1:\n",
    "    def __init__(self):\n",
    "        print('P1')\n",
    "class P2:\n",
    "    def __init__(self):\n",
    "        print('P2')\n",
    "class P3:\n",
    "    def __init__(self):\n",
    "        print('P3')"
   ]
  },
  {
   "cell_type": "code",
   "execution_count": 75,
   "id": "1bbc744f",
   "metadata": {},
   "outputs": [],
   "source": [
    "class C(P1,P3,P2):\n",
    "    def __init__(self,name):\n",
    "        print('C')\n",
    "        self.name = name\n",
    "        super().__init__()"
   ]
  },
  {
   "cell_type": "code",
   "execution_count": 76,
   "id": "5047cd7c",
   "metadata": {},
   "outputs": [
    {
     "name": "stdout",
     "output_type": "stream",
     "text": [
      "C\n",
      "P1\n"
     ]
    }
   ],
   "source": [
    "obj = C('Mango')"
   ]
  },
  {
   "cell_type": "code",
   "execution_count": 77,
   "id": "9e5a2446",
   "metadata": {},
   "outputs": [
    {
     "name": "stdout",
     "output_type": "stream",
     "text": [
      "C\n",
      "P2\n"
     ]
    }
   ],
   "source": [
    "class C(P2,P3,P1):\n",
    "    def __init__(self,name):\n",
    "        print('C')\n",
    "        self.name = name\n",
    "        super().__init__()\n",
    "obj = C('Mango')"
   ]
  },
  {
   "cell_type": "code",
   "execution_count": 78,
   "id": "29012b13",
   "metadata": {},
   "outputs": [
    {
     "name": "stdout",
     "output_type": "stream",
     "text": [
      "Help on C in module __main__ object:\n",
      "\n",
      "class C(P2, P3, P1)\n",
      " |  C(name)\n",
      " |  \n",
      " |  Method resolution order:\n",
      " |      C\n",
      " |      P2\n",
      " |      P3\n",
      " |      P1\n",
      " |      builtins.object\n",
      " |  \n",
      " |  Methods defined here:\n",
      " |  \n",
      " |  __init__(self, name)\n",
      " |      Initialize self.  See help(type(self)) for accurate signature.\n",
      " |  \n",
      " |  ----------------------------------------------------------------------\n",
      " |  Data descriptors inherited from P2:\n",
      " |  \n",
      " |  __dict__\n",
      " |      dictionary for instance variables (if defined)\n",
      " |  \n",
      " |  __weakref__\n",
      " |      list of weak references to the object (if defined)\n",
      "\n"
     ]
    }
   ],
   "source": [
    "help(obj)"
   ]
  },
  {
   "cell_type": "code",
   "execution_count": 82,
   "id": "0bf47fbd",
   "metadata": {},
   "outputs": [],
   "source": [
    "class P1:\n",
    "    def __init__(self):\n",
    "        print('P1')\n",
    "        self.pokemon = 'Pickachoo'\n",
    "        super().__init__()\n",
    "class P2:\n",
    "    def __init__(self):\n",
    "        print('P2')\n",
    "class P3:\n",
    "    def __init__(self):\n",
    "        print('P3')"
   ]
  },
  {
   "cell_type": "code",
   "execution_count": 83,
   "id": "ebb781f7",
   "metadata": {},
   "outputs": [
    {
     "name": "stdout",
     "output_type": "stream",
     "text": [
      "C\n",
      "P1\n",
      "P3\n",
      "Pickachoo\n"
     ]
    }
   ],
   "source": [
    "class C(P1,P3,P2):\n",
    "    def __init__(self,name):\n",
    "        print('C')\n",
    "        self.name = name\n",
    "        super().__init__()\n",
    "        print(self.pokemon)\n",
    "obj = C('Mango')"
   ]
  },
  {
   "cell_type": "code",
   "execution_count": null,
   "id": "d6af4516",
   "metadata": {},
   "outputs": [],
   "source": [
    "Object Oriented Programming:-\n",
    "    1 Inheritance\n",
    "    2 Abstraction: Showing essential thing and hiding the details that how this is done.\n",
    "    3 Encapsulation: Binding of Attributes of Object with thier Operations.\n",
    "    4 Polymorphism: Operator Overloading, Method Overriding"
   ]
  },
  {
   "cell_type": "code",
   "execution_count": null,
   "id": "faae20f4",
   "metadata": {},
   "outputs": [],
   "source": [
    "__add__"
   ]
  },
  {
   "cell_type": "code",
   "execution_count": null,
   "id": "3a6931db",
   "metadata": {},
   "outputs": [],
   "source": [
    "obj1 + obj2"
   ]
  },
  {
   "cell_type": "code",
   "execution_count": 84,
   "id": "dff53a76",
   "metadata": {},
   "outputs": [
    {
     "data": {
      "text/plain": [
       "9"
      ]
     },
     "execution_count": 84,
     "metadata": {},
     "output_type": "execute_result"
    }
   ],
   "source": [
    "5 + 4"
   ]
  },
  {
   "cell_type": "code",
   "execution_count": 85,
   "id": "7ffc759e",
   "metadata": {},
   "outputs": [
    {
     "data": {
      "text/plain": [
       "'apple juice'"
      ]
     },
     "execution_count": 85,
     "metadata": {},
     "output_type": "execute_result"
    }
   ],
   "source": [
    "'apple ' + 'juice'"
   ]
  },
  {
   "cell_type": "code",
   "execution_count": null,
   "id": "a9abbff1",
   "metadata": {},
   "outputs": [],
   "source": []
  }
 ],
 "metadata": {
  "kernelspec": {
   "display_name": "Python 3 (ipykernel)",
   "language": "python",
   "name": "python3"
  },
  "language_info": {
   "codemirror_mode": {
    "name": "ipython",
    "version": 3
   },
   "file_extension": ".py",
   "mimetype": "text/x-python",
   "name": "python",
   "nbconvert_exporter": "python",
   "pygments_lexer": "ipython3",
   "version": "3.8.9"
  }
 },
 "nbformat": 4,
 "nbformat_minor": 5
}
