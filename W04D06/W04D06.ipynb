{
 "cells": [
  {
   "cell_type": "code",
   "execution_count": 2,
   "id": "7f20b01a",
   "metadata": {},
   "outputs": [
    {
     "name": "stdout",
     "output_type": "stream",
     "text": [
      "34\n"
     ]
    }
   ],
   "source": [
    "# Revision\n",
    "\n",
    "def mango(x):\n",
    "    print(x)\n",
    "    \n",
    "mango(34)\n",
    "\n",
    "# x here is a local variable"
   ]
  },
  {
   "cell_type": "code",
   "execution_count": 5,
   "id": "9a86c203",
   "metadata": {},
   "outputs": [
    {
     "name": "stdout",
     "output_type": "stream",
     "text": [
      "34\n",
      "45\n"
     ]
    }
   ],
   "source": [
    "def mango(x):\n",
    "    print(x)\n",
    "    def tomato():\n",
    "        y = 45\n",
    "        print(y)\n",
    "    tomato()\n",
    "\n",
    "mango(34)"
   ]
  },
  {
   "cell_type": "code",
   "execution_count": null,
   "id": "6ac3c1d9",
   "metadata": {},
   "outputs": [],
   "source": [
    "Local Namespace=>Global namespace=>Builtin Namespace"
   ]
  },
  {
   "cell_type": "code",
   "execution_count": null,
   "id": "db8fe32b",
   "metadata": {},
   "outputs": [],
   "source": [
    "Module? .py file : it's going to contain python code\n",
    "\n",
    "Package? is a folder: it contains various modules and other files.\n",
    "    \n",
    "Both module and package are used for making the code modular."
   ]
  },
  {
   "cell_type": "code",
   "execution_count": null,
   "id": "b113f78c",
   "metadata": {},
   "outputs": [],
   "source": [
    "import numpy\n",
    "import math as mt"
   ]
  },
  {
   "cell_type": "code",
   "execution_count": null,
   "id": "376a2440",
   "metadata": {},
   "outputs": [],
   "source": [
    "from package import module"
   ]
  },
  {
   "cell_type": "code",
   "execution_count": null,
   "id": "ca1581bd",
   "metadata": {},
   "outputs": [],
   "source": [
    "locals() and globals() ?"
   ]
  },
  {
   "cell_type": "code",
   "execution_count": 6,
   "id": "9fd91867",
   "metadata": {},
   "outputs": [
    {
     "name": "stdout",
     "output_type": "stream",
     "text": [
      "{'z': 10000, 'x': 45, 'y': 23}\n"
     ]
    }
   ],
   "source": [
    "def mango(z):\n",
    "    x = 45\n",
    "    y = 23\n",
    "    print(locals())\n",
    "    \n",
    "mango(10000)"
   ]
  },
  {
   "cell_type": "code",
   "execution_count": 7,
   "id": "85ef14de",
   "metadata": {},
   "outputs": [],
   "source": [
    "# File Handling"
   ]
  },
  {
   "cell_type": "code",
   "execution_count": null,
   "id": "a44e95d0",
   "metadata": {},
   "outputs": [],
   "source": [
    "Why do we need files in Programming(Python) , Coding(Python) ?"
   ]
  },
  {
   "cell_type": "code",
   "execution_count": null,
   "id": "1621cf8a",
   "metadata": {},
   "outputs": [],
   "source": [
    "# Text Files\n",
    "\n",
    "# it will contain text"
   ]
  },
  {
   "cell_type": "code",
   "execution_count": null,
   "id": "2439b65e",
   "metadata": {},
   "outputs": [],
   "source": [
    "File Operations Modes:\n",
    "    w : for writing\n",
    "    w+ : for wrting + reading\n",
    "    r : for reading\n",
    "    r+: for reading + writing\n",
    "    a : for appending\n",
    "    a+ : for appending + reading"
   ]
  },
  {
   "cell_type": "code",
   "execution_count": null,
   "id": "3941cf6c",
   "metadata": {},
   "outputs": [],
   "source": [
    "# How do you create a file using code?"
   ]
  },
  {
   "cell_type": "code",
   "execution_count": 8,
   "id": "f7e2b908",
   "metadata": {},
   "outputs": [],
   "source": [
    "fp = open('firstFile.txt','w+')"
   ]
  },
  {
   "cell_type": "code",
   "execution_count": 9,
   "id": "8f885809",
   "metadata": {},
   "outputs": [
    {
     "data": {
      "text/plain": [
       "14"
      ]
     },
     "execution_count": 9,
     "metadata": {},
     "output_type": "execute_result"
    }
   ],
   "source": [
    "fp.write('Happy New Year')"
   ]
  },
  {
   "cell_type": "code",
   "execution_count": 10,
   "id": "b8da9f68",
   "metadata": {},
   "outputs": [],
   "source": [
    "fp.close()"
   ]
  },
  {
   "cell_type": "code",
   "execution_count": 11,
   "id": "3fba8828",
   "metadata": {},
   "outputs": [],
   "source": [
    "# Why Closing the file is important?\n",
    "1) You can not see the changes in the file, untill and unless you close it.\n",
    "2) Save Resources, what if the file is very big,"
   ]
  },
  {
   "cell_type": "code",
   "execution_count": 12,
   "id": "a209a7a1",
   "metadata": {},
   "outputs": [],
   "source": [
    "fp = open('second_file.txt','w+')"
   ]
  },
  {
   "cell_type": "code",
   "execution_count": 13,
   "id": "0a8dc75d",
   "metadata": {},
   "outputs": [
    {
     "data": {
      "text/plain": [
       "20"
      ]
     },
     "execution_count": 13,
     "metadata": {},
     "output_type": "execute_result"
    }
   ],
   "source": [
    "fp.write('Manoj Kumar M V test')"
   ]
  },
  {
   "cell_type": "code",
   "execution_count": 14,
   "id": "5472e9d5",
   "metadata": {},
   "outputs": [],
   "source": [
    "fp.close()"
   ]
  },
  {
   "cell_type": "markdown",
   "id": "827f1ba5",
   "metadata": {},
   "source": [
    "# r mode: just for reading"
   ]
  },
  {
   "cell_type": "code",
   "execution_count": 18,
   "id": "8ac21043",
   "metadata": {},
   "outputs": [],
   "source": [
    "fp_aadil = open('reading_test.txt','r')"
   ]
  },
  {
   "cell_type": "code",
   "execution_count": 20,
   "id": "cdc4eea1",
   "metadata": {},
   "outputs": [
    {
     "data": {
      "text/plain": [
       "'I am inside a file.\\nI am writing things'"
      ]
     },
     "execution_count": 20,
     "metadata": {},
     "output_type": "execute_result"
    }
   ],
   "source": [
    "fp_aadil.read()"
   ]
  },
  {
   "cell_type": "code",
   "execution_count": null,
   "id": "0d942ea6",
   "metadata": {},
   "outputs": [],
   "source": [
    "# \\n means a new line in programming"
   ]
  },
  {
   "cell_type": "code",
   "execution_count": 21,
   "id": "6b521d30",
   "metadata": {},
   "outputs": [
    {
     "ename": "UnsupportedOperation",
     "evalue": "not writable",
     "output_type": "error",
     "traceback": [
      "\u001b[0;31m---------------------------------------------------------------------------\u001b[0m",
      "\u001b[0;31mUnsupportedOperation\u001b[0m                      Traceback (most recent call last)",
      "\u001b[0;32m/var/folders/9s/j9tqx4617_jg3hnd11b6g4080000gn/T/ipykernel_62874/2183973126.py\u001b[0m in \u001b[0;36m<module>\u001b[0;34m\u001b[0m\n\u001b[0;32m----> 1\u001b[0;31m \u001b[0mfp_aadil\u001b[0m\u001b[0;34m.\u001b[0m\u001b[0mwrite\u001b[0m\u001b[0;34m(\u001b[0m\u001b[0;34m'some blah blah'\u001b[0m\u001b[0;34m)\u001b[0m\u001b[0;34m\u001b[0m\u001b[0;34m\u001b[0m\u001b[0m\n\u001b[0m",
      "\u001b[0;31mUnsupportedOperation\u001b[0m: not writable"
     ]
    }
   ],
   "source": [
    "fp_aadil.write('some blah blah')"
   ]
  },
  {
   "cell_type": "markdown",
   "id": "c5ab20d7",
   "metadata": {},
   "source": [
    "# w: writing in the file\n",
    "- overwrites the content of the file.\n",
    "- If a file does not exist, it will create a new file."
   ]
  },
  {
   "cell_type": "code",
   "execution_count": 60,
   "id": "ee35fd0f",
   "metadata": {},
   "outputs": [],
   "source": [
    "fp_vikas = open('example.txt','w')"
   ]
  },
  {
   "cell_type": "code",
   "execution_count": 61,
   "id": "3c6f8e49",
   "metadata": {},
   "outputs": [],
   "source": [
    "fp_vikas.close()"
   ]
  },
  {
   "cell_type": "code",
   "execution_count": 25,
   "id": "b3003a4d",
   "metadata": {},
   "outputs": [],
   "source": [
    "fp_aadil = open('reading_test.txt','w')"
   ]
  },
  {
   "cell_type": "code",
   "execution_count": 26,
   "id": "c5e48214",
   "metadata": {},
   "outputs": [
    {
     "data": {
      "text/plain": [
       "11"
      ]
     },
     "execution_count": 26,
     "metadata": {},
     "output_type": "execute_result"
    }
   ],
   "source": [
    "fp_aadil.write('mango chips')"
   ]
  },
  {
   "cell_type": "code",
   "execution_count": 27,
   "id": "d89f705f",
   "metadata": {},
   "outputs": [
    {
     "ename": "UnsupportedOperation",
     "evalue": "not readable",
     "output_type": "error",
     "traceback": [
      "\u001b[0;31m---------------------------------------------------------------------------\u001b[0m",
      "\u001b[0;31mUnsupportedOperation\u001b[0m                      Traceback (most recent call last)",
      "\u001b[0;32m/var/folders/9s/j9tqx4617_jg3hnd11b6g4080000gn/T/ipykernel_62874/3015466969.py\u001b[0m in \u001b[0;36m<module>\u001b[0;34m\u001b[0m\n\u001b[0;32m----> 1\u001b[0;31m \u001b[0mfp_aadil\u001b[0m\u001b[0;34m.\u001b[0m\u001b[0mread\u001b[0m\u001b[0;34m(\u001b[0m\u001b[0;34m)\u001b[0m\u001b[0;34m\u001b[0m\u001b[0;34m\u001b[0m\u001b[0m\n\u001b[0m",
      "\u001b[0;31mUnsupportedOperation\u001b[0m: not readable"
     ]
    }
   ],
   "source": [
    "fp_aadil.read()"
   ]
  },
  {
   "cell_type": "code",
   "execution_count": 28,
   "id": "00c9b2db",
   "metadata": {},
   "outputs": [],
   "source": [
    "fp_aadil.close()"
   ]
  },
  {
   "cell_type": "markdown",
   "id": "756e1cf3",
   "metadata": {},
   "source": [
    "# r+\n",
    "- it allows writing.\n",
    "- It does not overwrite the file when we open the file.\n",
    "- It will overwrite if we start writing without reading or moving the file pointer somewhere else.\n",
    "- It will not create a file, if it does not exist."
   ]
  },
  {
   "cell_type": "code",
   "execution_count": 62,
   "id": "46739806",
   "metadata": {},
   "outputs": [
    {
     "ename": "FileNotFoundError",
     "evalue": "[Errno 2] No such file or directory: 'squid_game.txt'",
     "output_type": "error",
     "traceback": [
      "\u001b[0;31m---------------------------------------------------------------------------\u001b[0m",
      "\u001b[0;31mFileNotFoundError\u001b[0m                         Traceback (most recent call last)",
      "\u001b[0;32m/var/folders/9s/j9tqx4617_jg3hnd11b6g4080000gn/T/ipykernel_62874/3396129987.py\u001b[0m in \u001b[0;36m<module>\u001b[0;34m\u001b[0m\n\u001b[0;32m----> 1\u001b[0;31m \u001b[0mfp_in_rplus\u001b[0m \u001b[0;34m=\u001b[0m \u001b[0mopen\u001b[0m\u001b[0;34m(\u001b[0m\u001b[0;34m'squid_game.txt'\u001b[0m\u001b[0;34m,\u001b[0m\u001b[0;34m'r+'\u001b[0m\u001b[0;34m)\u001b[0m\u001b[0;34m\u001b[0m\u001b[0;34m\u001b[0m\u001b[0m\n\u001b[0m",
      "\u001b[0;31mFileNotFoundError\u001b[0m: [Errno 2] No such file or directory: 'squid_game.txt'"
     ]
    }
   ],
   "source": [
    "fp_in_rplus = open('squid_game.txt','r+')"
   ]
  },
  {
   "cell_type": "code",
   "execution_count": 36,
   "id": "9dad5695",
   "metadata": {},
   "outputs": [],
   "source": [
    "fp_patil = open('reading_test.txt','r+')"
   ]
  },
  {
   "cell_type": "code",
   "execution_count": 37,
   "id": "ec1c9777",
   "metadata": {},
   "outputs": [
    {
     "data": {
      "text/plain": [
       "'Nachos\\nhipsPotato Chips'"
      ]
     },
     "execution_count": 37,
     "metadata": {},
     "output_type": "execute_result"
    }
   ],
   "source": [
    "fp_patil.read()"
   ]
  },
  {
   "cell_type": "code",
   "execution_count": 38,
   "id": "dbdf6f05",
   "metadata": {},
   "outputs": [
    {
     "data": {
      "text/plain": [
       "12"
      ]
     },
     "execution_count": 38,
     "metadata": {},
     "output_type": "execute_result"
    }
   ],
   "source": [
    "fp_patil.write('Kuala Lumpur')"
   ]
  },
  {
   "cell_type": "code",
   "execution_count": 39,
   "id": "0f911035",
   "metadata": {},
   "outputs": [],
   "source": [
    "fp_patil.close()"
   ]
  },
  {
   "cell_type": "code",
   "execution_count": 40,
   "id": "98ac77ad",
   "metadata": {},
   "outputs": [],
   "source": [
    "fp_patil = open('reading_test.txt','r+')"
   ]
  },
  {
   "cell_type": "code",
   "execution_count": 41,
   "id": "43124273",
   "metadata": {},
   "outputs": [
    {
     "data": {
      "text/plain": [
       "4"
      ]
     },
     "execution_count": 41,
     "metadata": {},
     "output_type": "execute_result"
    }
   ],
   "source": [
    "fp_patil.write('Kiwi')"
   ]
  },
  {
   "cell_type": "code",
   "execution_count": 42,
   "id": "a0545a92",
   "metadata": {},
   "outputs": [],
   "source": [
    "fp_patil.close()"
   ]
  },
  {
   "cell_type": "markdown",
   "id": "16101644",
   "metadata": {},
   "source": [
    "# w+ mode\n",
    "\n",
    "- it overwrites the file\n",
    "- If a file does not exist, it will create a new file.\n",
    "- reading also allowed."
   ]
  },
  {
   "cell_type": "code",
   "execution_count": 43,
   "id": "b1e74360",
   "metadata": {},
   "outputs": [],
   "source": [
    "fp = open('mangodolly.txt','w+')"
   ]
  },
  {
   "cell_type": "code",
   "execution_count": 44,
   "id": "b89e21a8",
   "metadata": {},
   "outputs": [
    {
     "data": {
      "text/plain": [
       "13"
      ]
     },
     "execution_count": 44,
     "metadata": {},
     "output_type": "execute_result"
    }
   ],
   "source": [
    "fp.write('Dark Choclate')"
   ]
  },
  {
   "cell_type": "code",
   "execution_count": 45,
   "id": "d8b2039e",
   "metadata": {},
   "outputs": [
    {
     "data": {
      "text/plain": [
       "''"
      ]
     },
     "execution_count": 45,
     "metadata": {},
     "output_type": "execute_result"
    }
   ],
   "source": [
    "fp.read()"
   ]
  },
  {
   "cell_type": "code",
   "execution_count": 46,
   "id": "f1abf5b7",
   "metadata": {},
   "outputs": [],
   "source": [
    "fp.close()"
   ]
  },
  {
   "cell_type": "code",
   "execution_count": null,
   "id": "c1346169",
   "metadata": {},
   "outputs": [],
   "source": [
    "fp.tell() and fp.seek() which will move the fp some where else. This way\n",
    "we will be able to read from the file as well."
   ]
  },
  {
   "cell_type": "code",
   "execution_count": 47,
   "id": "03866028",
   "metadata": {},
   "outputs": [],
   "source": [
    "list_of_fruits = ['apple','mango','kiwi']\n",
    "list_of_fruits.append('dragonfruit')"
   ]
  },
  {
   "cell_type": "code",
   "execution_count": 48,
   "id": "8d24118f",
   "metadata": {},
   "outputs": [
    {
     "name": "stdout",
     "output_type": "stream",
     "text": [
      "['apple', 'mango', 'kiwi', 'dragonfruit']\n"
     ]
    }
   ],
   "source": [
    "print(list_of_fruits)"
   ]
  },
  {
   "cell_type": "markdown",
   "id": "33173a74",
   "metadata": {},
   "source": [
    "# a mode: just for adding content at the end\n",
    "- fp is present at the end of the file  when you open it.\n",
    "- reading is not allowed"
   ]
  },
  {
   "cell_type": "code",
   "execution_count": 52,
   "id": "ec2eff7e",
   "metadata": {},
   "outputs": [],
   "source": [
    "fp = open('mangodolly.txt','a')"
   ]
  },
  {
   "cell_type": "code",
   "execution_count": 53,
   "id": "5a59581d",
   "metadata": {},
   "outputs": [
    {
     "data": {
      "text/plain": [
       "24"
      ]
     },
     "execution_count": 53,
     "metadata": {},
     "output_type": "execute_result"
    }
   ],
   "source": [
    "fp.write(' and What about Nutella?')"
   ]
  },
  {
   "cell_type": "code",
   "execution_count": 54,
   "id": "9bfb20ec",
   "metadata": {},
   "outputs": [
    {
     "ename": "UnsupportedOperation",
     "evalue": "not readable",
     "output_type": "error",
     "traceback": [
      "\u001b[0;31m---------------------------------------------------------------------------\u001b[0m",
      "\u001b[0;31mUnsupportedOperation\u001b[0m                      Traceback (most recent call last)",
      "\u001b[0;32m/var/folders/9s/j9tqx4617_jg3hnd11b6g4080000gn/T/ipykernel_62874/3668392485.py\u001b[0m in \u001b[0;36m<module>\u001b[0;34m\u001b[0m\n\u001b[0;32m----> 1\u001b[0;31m \u001b[0mfp\u001b[0m\u001b[0;34m.\u001b[0m\u001b[0mread\u001b[0m\u001b[0;34m(\u001b[0m\u001b[0;34m)\u001b[0m\u001b[0;34m\u001b[0m\u001b[0;34m\u001b[0m\u001b[0m\n\u001b[0m",
      "\u001b[0;31mUnsupportedOperation\u001b[0m: not readable"
     ]
    }
   ],
   "source": [
    "fp.read()"
   ]
  },
  {
   "cell_type": "code",
   "execution_count": 55,
   "id": "630d41c7",
   "metadata": {},
   "outputs": [],
   "source": [
    "fp.close()"
   ]
  },
  {
   "cell_type": "markdown",
   "id": "cd95358e",
   "metadata": {},
   "source": [
    "# a+ mode\n",
    "- fp is present at the end of the file, so starts writing at the end.\n",
    "- it allows to read also."
   ]
  },
  {
   "cell_type": "code",
   "execution_count": 56,
   "id": "9958e498",
   "metadata": {},
   "outputs": [],
   "source": [
    "fp = open('mangodolly.txt','a+')"
   ]
  },
  {
   "cell_type": "code",
   "execution_count": 57,
   "id": "0f429d0d",
   "metadata": {},
   "outputs": [
    {
     "data": {
      "text/plain": [
       "''"
      ]
     },
     "execution_count": 57,
     "metadata": {},
     "output_type": "execute_result"
    }
   ],
   "source": [
    "fp.read()"
   ]
  },
  {
   "cell_type": "code",
   "execution_count": null,
   "id": "5fee9121",
   "metadata": {},
   "outputs": [],
   "source": [
    "fp.seek() and fp.tell() can be used to like in the beginning of the file\n",
    "and than the read function will have some work to do."
   ]
  },
  {
   "cell_type": "code",
   "execution_count": 58,
   "id": "b785214b",
   "metadata": {},
   "outputs": [
    {
     "data": {
      "text/plain": [
       "10"
      ]
     },
     "execution_count": 58,
     "metadata": {},
     "output_type": "execute_result"
    }
   ],
   "source": [
    "fp.write('at the end')"
   ]
  },
  {
   "cell_type": "code",
   "execution_count": 59,
   "id": "833c3419",
   "metadata": {},
   "outputs": [],
   "source": [
    "fp.close()"
   ]
  },
  {
   "cell_type": "code",
   "execution_count": 65,
   "id": "0e244bd7",
   "metadata": {},
   "outputs": [],
   "source": [
    "items = (8, 2, 3, 0, 7)\n",
    "items_in_str = []\n",
    "for i in items:\n",
    "    items_in_str.append(str(i))"
   ]
  },
  {
   "cell_type": "code",
   "execution_count": null,
   "id": "6eeb7b38",
   "metadata": {},
   "outputs": [],
   "source": [
    "split and join?"
   ]
  },
  {
   "cell_type": "code",
   "execution_count": 68,
   "id": "98c552f3",
   "metadata": {},
   "outputs": [],
   "source": [
    "lhs = '+'.join(items_in_str)"
   ]
  },
  {
   "cell_type": "code",
   "execution_count": 69,
   "id": "57ed5f49",
   "metadata": {},
   "outputs": [],
   "source": [
    "rhs = sum(items)"
   ]
  },
  {
   "cell_type": "code",
   "execution_count": 70,
   "id": "b13c5a02",
   "metadata": {},
   "outputs": [
    {
     "data": {
      "text/plain": [
       "'8+2+3+0+7=20'"
      ]
     },
     "execution_count": 70,
     "metadata": {},
     "output_type": "execute_result"
    }
   ],
   "source": [
    "lhs+'='+str(rhs)"
   ]
  },
  {
   "cell_type": "code",
   "execution_count": null,
   "id": "83635258",
   "metadata": {},
   "outputs": [],
   "source": []
  }
 ],
 "metadata": {
  "kernelspec": {
   "display_name": "Python 3 (ipykernel)",
   "language": "python",
   "name": "python3"
  },
  "language_info": {
   "codemirror_mode": {
    "name": "ipython",
    "version": 3
   },
   "file_extension": ".py",
   "mimetype": "text/x-python",
   "name": "python",
   "nbconvert_exporter": "python",
   "pygments_lexer": "ipython3",
   "version": "3.8.9"
  }
 },
 "nbformat": 4,
 "nbformat_minor": 5
}
