{
 "cells": [
  {
   "cell_type": "code",
   "execution_count": null,
   "id": "5cad8c75",
   "metadata": {},
   "outputs": [],
   "source": [
    "file operation modes:\n",
    "    r => reading,\n",
    "    - fp is at the beginning\n",
    "    - if the file is not present, it will NOT create it.(ERROR)\n",
    "    r+ => reading + writing\n",
    "    - if the file is not present, it will NOT create it.(ERROR)\n",
    "    - fp is at the beginning\n",
    "    - DO NOT deletes all the data if you open an existing file\n",
    "    w => writing\n",
    "    - if the file is not present, it will create it.\n",
    "    - deletes all the data if you open an existing file\n",
    "    w+ => writing + reading\n",
    "    - if the file is not present, it will create it.\n",
    "    - deletes all the data if you open an existing file\n",
    "    a => appending\n",
    "    - if the file is not present, it will create it.\n",
    "    - writing at the end of the file.\n",
    "    - DO NOT deletes all the data if you open an existing file\n",
    "    a+ = appending + reading\n",
    "    - if the file is not present, it will create it.\n",
    "    - writing at the end of the file.\n",
    "    - DO NOT deletes all the data if you open an existing file\n",
    "    - it can read also."
   ]
  },
  {
   "cell_type": "code",
   "execution_count": 12,
   "id": "bb99de63",
   "metadata": {},
   "outputs": [],
   "source": [
    "fp = open('batman.txt','a')\n",
    "\n",
    "fp.write('Come to Marvel!')\n",
    "\n",
    "# What is \\n?\n",
    "fp.close()"
   ]
  },
  {
   "cell_type": "markdown",
   "id": "518b5d1c",
   "metadata": {},
   "source": [
    "## How to move the file pointer?"
   ]
  },
  {
   "cell_type": "markdown",
   "id": "388a2fdb",
   "metadata": {},
   "source": [
    "# fp.tell()\n",
    "tells the position of the filepointer"
   ]
  },
  {
   "cell_type": "code",
   "execution_count": 13,
   "id": "65f05619",
   "metadata": {},
   "outputs": [],
   "source": [
    "fp = open('batman.txt','r+')"
   ]
  },
  {
   "cell_type": "code",
   "execution_count": 14,
   "id": "fa12b43a",
   "metadata": {},
   "outputs": [
    {
     "data": {
      "text/plain": [
       "0"
      ]
     },
     "execution_count": 14,
     "metadata": {},
     "output_type": "execute_result"
    }
   ],
   "source": [
    "fp.tell()"
   ]
  },
  {
   "cell_type": "code",
   "execution_count": 15,
   "id": "6ba27728",
   "metadata": {},
   "outputs": [
    {
     "data": {
      "text/plain": [
       "'I love you200Come to Marvel!'"
      ]
     },
     "execution_count": 15,
     "metadata": {},
     "output_type": "execute_result"
    }
   ],
   "source": [
    "fp.read()"
   ]
  },
  {
   "cell_type": "code",
   "execution_count": 16,
   "id": "8e61c4b5",
   "metadata": {},
   "outputs": [
    {
     "data": {
      "text/plain": [
       "28"
      ]
     },
     "execution_count": 16,
     "metadata": {},
     "output_type": "execute_result"
    }
   ],
   "source": [
    "fp.tell()"
   ]
  },
  {
   "cell_type": "code",
   "execution_count": 17,
   "id": "65ae44f8",
   "metadata": {},
   "outputs": [],
   "source": [
    "fp.close()"
   ]
  },
  {
   "cell_type": "markdown",
   "id": "45ea3bd4",
   "metadata": {},
   "source": [
    "## fp.read(no_of_chars)"
   ]
  },
  {
   "cell_type": "code",
   "execution_count": 18,
   "id": "2a640370",
   "metadata": {},
   "outputs": [],
   "source": [
    "fp = open('batman.txt','r+')"
   ]
  },
  {
   "cell_type": "code",
   "execution_count": 19,
   "id": "477f132d",
   "metadata": {},
   "outputs": [
    {
     "data": {
      "text/plain": [
       "'I love you'"
      ]
     },
     "execution_count": 19,
     "metadata": {},
     "output_type": "execute_result"
    }
   ],
   "source": [
    "fp.read(10)"
   ]
  },
  {
   "cell_type": "code",
   "execution_count": 20,
   "id": "610577cc",
   "metadata": {},
   "outputs": [
    {
     "data": {
      "text/plain": [
       "10"
      ]
     },
     "execution_count": 20,
     "metadata": {},
     "output_type": "execute_result"
    }
   ],
   "source": [
    "fp.tell()"
   ]
  },
  {
   "cell_type": "code",
   "execution_count": 21,
   "id": "db975421",
   "metadata": {},
   "outputs": [
    {
     "data": {
      "text/plain": [
       "'200Co'"
      ]
     },
     "execution_count": 21,
     "metadata": {},
     "output_type": "execute_result"
    }
   ],
   "source": [
    "fp.read(5)"
   ]
  },
  {
   "cell_type": "code",
   "execution_count": 22,
   "id": "5053de99",
   "metadata": {},
   "outputs": [
    {
     "data": {
      "text/plain": [
       "15"
      ]
     },
     "execution_count": 22,
     "metadata": {},
     "output_type": "execute_result"
    }
   ],
   "source": [
    "fp.tell()"
   ]
  },
  {
   "cell_type": "code",
   "execution_count": 23,
   "id": "df89ac83",
   "metadata": {},
   "outputs": [],
   "source": [
    "fp.close()"
   ]
  },
  {
   "cell_type": "markdown",
   "id": "30d624ee",
   "metadata": {},
   "source": [
    "# fp.readline() and fp.readlines()"
   ]
  },
  {
   "cell_type": "code",
   "execution_count": 24,
   "id": "06075d3c",
   "metadata": {},
   "outputs": [],
   "source": [
    "fp = open('lines.txt','r+')"
   ]
  },
  {
   "cell_type": "code",
   "execution_count": 25,
   "id": "f716ab8e",
   "metadata": {},
   "outputs": [
    {
     "data": {
      "text/plain": [
       "'line4\\n'"
      ]
     },
     "execution_count": 25,
     "metadata": {},
     "output_type": "execute_result"
    }
   ],
   "source": [
    "fp.readline()"
   ]
  },
  {
   "cell_type": "code",
   "execution_count": 26,
   "id": "c9c95c5d",
   "metadata": {},
   "outputs": [
    {
     "data": {
      "text/plain": [
       "'line2\\n'"
      ]
     },
     "execution_count": 26,
     "metadata": {},
     "output_type": "execute_result"
    }
   ],
   "source": [
    "fp.readline()"
   ]
  },
  {
   "cell_type": "code",
   "execution_count": 27,
   "id": "0c772abe",
   "metadata": {},
   "outputs": [
    {
     "data": {
      "text/plain": [
       "'line3line5'"
      ]
     },
     "execution_count": 27,
     "metadata": {},
     "output_type": "execute_result"
    }
   ],
   "source": [
    "fp.readline()"
   ]
  },
  {
   "cell_type": "code",
   "execution_count": 30,
   "id": "8193ab26",
   "metadata": {},
   "outputs": [],
   "source": [
    "fp.close()"
   ]
  },
  {
   "cell_type": "code",
   "execution_count": 31,
   "id": "102d35bb",
   "metadata": {},
   "outputs": [],
   "source": [
    "fp = open('lines.txt','r+')"
   ]
  },
  {
   "cell_type": "code",
   "execution_count": 32,
   "id": "5e720973",
   "metadata": {},
   "outputs": [],
   "source": [
    "lines = fp.readlines()"
   ]
  },
  {
   "cell_type": "code",
   "execution_count": 33,
   "id": "3cabbc68",
   "metadata": {},
   "outputs": [
    {
     "data": {
      "text/plain": [
       "list"
      ]
     },
     "execution_count": 33,
     "metadata": {},
     "output_type": "execute_result"
    }
   ],
   "source": [
    "type(lines)"
   ]
  },
  {
   "cell_type": "code",
   "execution_count": 34,
   "id": "b11b99ee",
   "metadata": {},
   "outputs": [
    {
     "name": "stdout",
     "output_type": "stream",
     "text": [
      "['line4\\n', 'line2\\n', 'line3line5']\n"
     ]
    }
   ],
   "source": [
    "print(lines)"
   ]
  },
  {
   "cell_type": "markdown",
   "id": "ef0b1c3c",
   "metadata": {},
   "source": [
    "# Closing a file is important but we might forgot to use fp.close() again and again"
   ]
  },
  {
   "cell_type": "markdown",
   "id": "e1ec9b66",
   "metadata": {},
   "source": [
    "## with open method"
   ]
  },
  {
   "cell_type": "code",
   "execution_count": 35,
   "id": "7b6a4d85",
   "metadata": {},
   "outputs": [
    {
     "name": "stdout",
     "output_type": "stream",
     "text": [
      "I love you200Come to Marvel!\n"
     ]
    }
   ],
   "source": [
    "# Automatically close the file, once you are outside the indentation.\n",
    "with open('batman.txt') as fp:\n",
    "    print(fp.readline())\n"
   ]
  },
  {
   "cell_type": "code",
   "execution_count": 37,
   "id": "2908a8e3",
   "metadata": {},
   "outputs": [
    {
     "ename": "ValueError",
     "evalue": "I/O operation on closed file.",
     "output_type": "error",
     "traceback": [
      "\u001b[0;31m---------------------------------------------------------------------------\u001b[0m",
      "\u001b[0;31mValueError\u001b[0m                                Traceback (most recent call last)",
      "\u001b[0;32m/var/folders/9s/j9tqx4617_jg3hnd11b6g4080000gn/T/ipykernel_66914/3668392485.py\u001b[0m in \u001b[0;36m<module>\u001b[0;34m\u001b[0m\n\u001b[0;32m----> 1\u001b[0;31m \u001b[0mfp\u001b[0m\u001b[0;34m.\u001b[0m\u001b[0mread\u001b[0m\u001b[0;34m(\u001b[0m\u001b[0;34m)\u001b[0m\u001b[0;34m\u001b[0m\u001b[0;34m\u001b[0m\u001b[0m\n\u001b[0m",
      "\u001b[0;31mValueError\u001b[0m: I/O operation on closed file."
     ]
    }
   ],
   "source": [
    "fp.read()"
   ]
  },
  {
   "cell_type": "markdown",
   "id": "297e549a",
   "metadata": {},
   "source": [
    "# fp.seek(offset,relative_position)\n",
    "- relative_position => 0 for beginning, 2 for end.\n",
    "\n",
    "Imp Note about seek:-\n",
    "\n",
    "- Only Seeks relative to the beginning of the file are allowed except \n",
    "seeking towards the end of the file using fp.seek(0,2)\n",
    "\n",
    "- Only valid offset values are those returned from the fp.tell()"
   ]
  },
  {
   "cell_type": "code",
   "execution_count": 42,
   "id": "72b82772",
   "metadata": {},
   "outputs": [
    {
     "name": "stdout",
     "output_type": "stream",
     "text": [
      "28\n"
     ]
    }
   ],
   "source": [
    "with open('batman.txt','r+') as fp:\n",
    "    print(fp.tell())\n",
    "    fp.seek(fp.tell()+10,0)\n",
    "    print(fp.tell())\n",
    "    fp.seek(fp.tell()-3,0)\n",
    "    print(fp.tell())"
   ]
  },
  {
   "cell_type": "code",
   "execution_count": 43,
   "id": "b1b37ba2",
   "metadata": {},
   "outputs": [
    {
     "name": "stdout",
     "output_type": "stream",
     "text": [
      "28\n"
     ]
    }
   ],
   "source": [
    "with open('batman.txt','r+') as fp:\n",
    "    fp.seek(0,2)\n",
    "    print(fp.tell())"
   ]
  },
  {
   "cell_type": "code",
   "execution_count": null,
   "id": "ddd3f911",
   "metadata": {},
   "outputs": [],
   "source": [
    "# Homework: Create a new file, and write some data into it.\n",
    "# Read the data and create a list and than print integers from\n",
    "# the data."
   ]
  },
  {
   "cell_type": "markdown",
   "id": "ac2c7dbc",
   "metadata": {},
   "source": [
    "# Regular Expressions\n",
    "\n",
    "# What is it?\n",
    "# Why do we need to know or learn this?"
   ]
  },
  {
   "cell_type": "markdown",
   "id": "8e02e5c2",
   "metadata": {},
   "source": [
    "### it's like a mini programming language for string searching and pattern matching"
   ]
  },
  {
   "cell_type": "code",
   "execution_count": 48,
   "id": "629961f8",
   "metadata": {},
   "outputs": [
    {
     "name": "stdout",
     "output_type": "stream",
     "text": [
      "Mark Benioff\n"
     ]
    }
   ],
   "source": [
    "import re\n",
    "list_of_strings = ['Mark Benioff','Adam Eve','Gatsby','Yolo',\n",
    "                   'solo','Mark Zukerberg','Elon Musk']\n",
    "\n",
    "for string in list_of_strings:\n",
    "    match_obj = re.search('^M.*f$',string)\n",
    "    if match_obj:\n",
    "        print(string)\n",
    "    \n",
    "# Only that str which is starting from M, and ending with f"
   ]
  },
  {
   "cell_type": "code",
   "execution_count": 57,
   "id": "ec9ffbf2",
   "metadata": {},
   "outputs": [
    {
     "name": "stdout",
     "output_type": "stream",
     "text": [
      "Msol##0o\n",
      "Mark2 Zukerberg\n",
      "MElon7 Musk\n"
     ]
    }
   ],
   "source": [
    "import re\n",
    "list_of_strings = ['Mark 45Benioff','Madam %EvE','MGats$by','MYolo',\n",
    "                   'Msol##0o','Mark2 Zukerberg','MElon7 Musk']\n",
    "\n",
    "for string in list_of_strings:\n",
    "    match_obj = re.search('^M[^0-9]*[0-9][^0-9]*[a-z]$',string)\n",
    "    if match_obj:\n",
    "        print(string)\n",
    "    \n",
    "# Only that str which is starting with M and \n",
    "# ending with small case letter. and contains exactly 1 digit"
   ]
  },
  {
   "cell_type": "code",
   "execution_count": 53,
   "id": "7bd87a21",
   "metadata": {},
   "outputs": [],
   "source": [
    "# for i in range(255):\n",
    "#     print(chr(i))"
   ]
  },
  {
   "cell_type": "markdown",
   "id": "da005e22",
   "metadata": {},
   "source": [
    "# Metachracters"
   ]
  },
  {
   "cell_type": "code",
   "execution_count": null,
   "id": "55f292c9",
   "metadata": {},
   "outputs": [],
   "source": [
    ". -> it could be anything, except a new line char\n",
    "[] -> character class\n",
    "[A-Z] -> ALL THE UPPERCASE ALPHABETS\n",
    "[0-9] -> ALL NUMBERS FROM 0 TO 9\n",
    "[a-z] -> ALL SMALLCASE ALPHABETS\n",
    "[A-Z0-9]-> all the uppercase alphabets and numbers from 0 to 9"
   ]
  },
  {
   "cell_type": "code",
   "execution_count": 63,
   "id": "3df28950",
   "metadata": {},
   "outputs": [
    {
     "name": "stdout",
     "output_type": "stream",
     "text": [
      "['1', '2', '3']\n"
     ]
    }
   ],
   "source": [
    "import re\n",
    "string = 'Apple##@woo$%&*123'\n",
    "list_of_match = re.findall('[0-9]',string)\n",
    "print(list_of_match)"
   ]
  },
  {
   "cell_type": "code",
   "execution_count": null,
   "id": "aab93410",
   "metadata": {},
   "outputs": [],
   "source": []
  }
 ],
 "metadata": {
  "kernelspec": {
   "display_name": "Python 3 (ipykernel)",
   "language": "python",
   "name": "python3"
  },
  "language_info": {
   "codemirror_mode": {
    "name": "ipython",
    "version": 3
   },
   "file_extension": ".py",
   "mimetype": "text/x-python",
   "name": "python",
   "nbconvert_exporter": "python",
   "pygments_lexer": "ipython3",
   "version": "3.8.9"
  }
 },
 "nbformat": 4,
 "nbformat_minor": 5
}
