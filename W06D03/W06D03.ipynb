{
 "cells": [
  {
   "cell_type": "code",
   "execution_count": null,
   "id": "965d1a3f",
   "metadata": {},
   "outputs": [],
   "source": [
    "OBJECT ORIENTED PROGRAMMING\n",
    "\n",
    "CLASS? > BLUEPRINT/STRUCTURE\n",
    "OBJECT? > actual thing created from the blueprint/class\n",
    "__init__ method? : Object Method (self)\n",
    "This gets invoked/called whenever you make an object of that class.\n",
    "self? => first argument in every object method/function"
   ]
  },
  {
   "cell_type": "code",
   "execution_count": 1,
   "id": "be306c8d",
   "metadata": {},
   "outputs": [],
   "source": [
    "class college_form:\n",
    "    def __init__(self, firstname, lastname, marks_of_12, subject):\n",
    "        self.first_name = firstname\n",
    "        self.last_name = lastname\n",
    "        self.marks_of_12 = marks_of_12\n",
    "        self.subject = subject"
   ]
  },
  {
   "cell_type": "code",
   "execution_count": 4,
   "id": "f320ad56",
   "metadata": {},
   "outputs": [],
   "source": [
    "jatin = college_form('Jatin','Sharma',89,'Computer Science')\n",
    "mohitbhatt = college_form('Mohit','Bhatt',79,'Computer Science')\n",
    "sajaltiwari = college_form('Sajal','Tiwari',81,'Computer Science')\n",
    "zaffar_abbas = college_form('Zafar','Abbas',83,'Computer Science')"
   ]
  },
  {
   "cell_type": "code",
   "execution_count": 13,
   "id": "bc570c10",
   "metadata": {},
   "outputs": [
    {
     "name": "stdout",
     "output_type": "stream",
     "text": [
      "JatinSharma 89\n",
      "ZafarAbbas 83\n",
      "SajalTiwari 81\n"
     ]
    }
   ],
   "source": [
    "seats_available = 3\n",
    "marks_list = []\n",
    "student_list = [jatin,mohitbhatt,sajaltiwari,zaffar_abbas]\n",
    "for student in student_list:\n",
    "    marks_list.append(student.marks_of_12)\n",
    "marks_list = sorted(marks_list, reverse=True)\n",
    "\n",
    "for index in range(seats_available):\n",
    "    mark = marks_list[index]\n",
    "    for student in student_list:\n",
    "        if student.marks_of_12 == mark:\n",
    "            print(student.first_name+student.last_name, mark)"
   ]
  },
  {
   "cell_type": "code",
   "execution_count": 26,
   "id": "18a611ce",
   "metadata": {},
   "outputs": [],
   "source": [
    "class college_form:\n",
    "    def __init__(self, firstname, lastname, marks_of_12, subject):\n",
    "        self.first_name = firstname\n",
    "        self.last_name = lastname\n",
    "        self.marks_of_12 = marks_of_12\n",
    "        self.subject = subject\n",
    "        \n",
    "    def get_full_name(self):\n",
    "        return self.first_name + ' ' + self.last_name\n",
    "    \n",
    "    def is_cut_off_clear(self, cut_off_marks):\n",
    "        print(self.first_name,self)\n",
    "        if self.marks_of_12 > cut_off_marks:\n",
    "            return True\n",
    "        else:\n",
    "            return False"
   ]
  },
  {
   "cell_type": "code",
   "execution_count": 27,
   "id": "3b8ab536",
   "metadata": {},
   "outputs": [],
   "source": [
    "# self takes the reference automatically when we call the object method\n",
    "# for that object\n",
    "jatin = college_form('Jatin','Sharma',89,'Computer Science')\n",
    "mohitbhatt = college_form('Mohit','Bhatt',79,'Computer Science')\n",
    "sajaltiwari = college_form('Sajal','Tiwari',81,'Computer Science')\n",
    "zaffar_abbas = college_form('Zafar','Abbas',83,'Computer Science')"
   ]
  },
  {
   "cell_type": "code",
   "execution_count": 28,
   "id": "42388345",
   "metadata": {},
   "outputs": [
    {
     "data": {
      "text/plain": [
       "'Jatin Sharma'"
      ]
     },
     "execution_count": 28,
     "metadata": {},
     "output_type": "execute_result"
    }
   ],
   "source": [
    "jatin.get_full_name()\n",
    "# is same as get_full_name(jatin)"
   ]
  },
  {
   "cell_type": "code",
   "execution_count": 29,
   "id": "0c9b16cd",
   "metadata": {},
   "outputs": [
    {
     "name": "stdout",
     "output_type": "stream",
     "text": [
      "Jatin <__main__.college_form object at 0x107329af0>\n"
     ]
    },
    {
     "data": {
      "text/plain": [
       "True"
      ]
     },
     "execution_count": 29,
     "metadata": {},
     "output_type": "execute_result"
    }
   ],
   "source": [
    "jatin.is_cut_off_clear(81)"
   ]
  },
  {
   "cell_type": "code",
   "execution_count": 30,
   "id": "0cd86d3e",
   "metadata": {},
   "outputs": [
    {
     "name": "stdout",
     "output_type": "stream",
     "text": [
      "Mohit <__main__.college_form object at 0x107329460>\n"
     ]
    },
    {
     "data": {
      "text/plain": [
       "False"
      ]
     },
     "execution_count": 30,
     "metadata": {},
     "output_type": "execute_result"
    }
   ],
   "source": [
    "mohitbhatt.is_cut_off_clear(81)\n",
    "# is_cut_off_clear(mohitbhatt,81)"
   ]
  },
  {
   "cell_type": "code",
   "execution_count": 31,
   "id": "c1b17c9b",
   "metadata": {},
   "outputs": [
    {
     "name": "stdout",
     "output_type": "stream",
     "text": [
      "<__main__.college_form object at 0x107329460>\n"
     ]
    }
   ],
   "source": [
    "print(mohitbhatt)"
   ]
  },
  {
   "cell_type": "code",
   "execution_count": 32,
   "id": "3bc6629a",
   "metadata": {},
   "outputs": [],
   "source": [
    "# Class Attribute Vs Object Attribute"
   ]
  },
  {
   "cell_type": "code",
   "execution_count": null,
   "id": "c4395d5a",
   "metadata": {},
   "outputs": [],
   "source": [
    "Class Attribute: It is common for all the objects.\n",
    "                 If it changes, it will be changed for everybody.\n",
    "                 Access it via Class name.\n",
    "        \n",
    "Object Attribute: It is personal for every object.\n",
    "                  If it changes , it will be changed for that specific\n",
    "                  object.\n",
    "                  Access it via Object name\n",
    "                \n",
    "Class Method: It is called by class name\n",
    "              the first argument in class method is cls, and it\n",
    "              automatically takes the reference of the class.\n",
    "              We define the class method with decorator @classmethod\n",
    "                we generally access class attributes\n",
    "    \n",
    "Object Method: It is called by object name\n",
    "               the first argument in object method is self, and it\n",
    "               automatically takes the reference of the object.\n",
    "               We do not use any decorator for defining object method.\n",
    "                we generally access object attributes"
   ]
  },
  {
   "cell_type": "code",
   "execution_count": 55,
   "id": "d7ead092",
   "metadata": {},
   "outputs": [],
   "source": [
    "class gokul_dham_apartment:\n",
    "    playground_space = [] # class attribute\n",
    "    shop = [] # class attribute\n",
    "    key_lock_pair = {} # class attribute\n",
    "    \n",
    "    def __init__(self, key, flat_no, name):\n",
    "        self.owner = name # owner is object attribute\n",
    "        gokul_dham_apartment.key_lock_pair[key] = flat_no\n",
    "        \n",
    "    def get_owner(self):\n",
    "        return self.owner\n",
    "    \n",
    "    def play_in_palyground(self):\n",
    "        gokul_dham_apartment.playground_space.append(self.owner)\n",
    "        \n",
    "    def go_to_shop(self):\n",
    "        gokul_dham_apartment.shop.append(self.owner)\n",
    "        \n",
    "    @classmethod\n",
    "    def unlockflat(cls,given_key,given_flat_no):\n",
    "        for key,flat_no in cls.key_lock_pair.items():\n",
    "            if key == given_key and flat_no == given_flat_no:\n",
    "                return 'Flat Unlocked!'\n",
    "        return 'Wrong key'\n",
    "    \n",
    "    @classmethod\n",
    "    def count_people_in_palyground(cls):\n",
    "        return len(cls.playground_space)"
   ]
  },
  {
   "cell_type": "code",
   "execution_count": 56,
   "id": "b660e631",
   "metadata": {},
   "outputs": [],
   "source": [
    "taraksflat = gokul_dham_apartment('@123A', 3, 'Tarak Mehta')\n",
    "jethasflat = gokul_dham_apartment('@123B', 2, 'Mr Jetha Laal')\n",
    "bidesflat = gokul_dham_apartment('@123C', 5, 'Mr Bide Master')\n",
    "babitajisflat = gokul_dham_apartment('@123D', 1, 'Babita Jee')"
   ]
  },
  {
   "cell_type": "code",
   "execution_count": 57,
   "id": "b2729626",
   "metadata": {},
   "outputs": [
    {
     "data": {
      "text/plain": [
       "[]"
      ]
     },
     "execution_count": 57,
     "metadata": {},
     "output_type": "execute_result"
    }
   ],
   "source": [
    "gokul_dham_apartment.playground_space"
   ]
  },
  {
   "cell_type": "code",
   "execution_count": 58,
   "id": "a2526d18",
   "metadata": {},
   "outputs": [],
   "source": [
    "babitajisflat.play_in_palyground()"
   ]
  },
  {
   "cell_type": "code",
   "execution_count": 59,
   "id": "ff88f943",
   "metadata": {},
   "outputs": [],
   "source": [
    "jethasflat.play_in_palyground()"
   ]
  },
  {
   "cell_type": "code",
   "execution_count": 60,
   "id": "20e81bf1",
   "metadata": {},
   "outputs": [
    {
     "data": {
      "text/plain": [
       "['Babita Jee', 'Mr Jetha Laal']"
      ]
     },
     "execution_count": 60,
     "metadata": {},
     "output_type": "execute_result"
    }
   ],
   "source": [
    "gokul_dham_apartment.playground_space"
   ]
  },
  {
   "cell_type": "code",
   "execution_count": 61,
   "id": "ec44f1ce",
   "metadata": {},
   "outputs": [
    {
     "data": {
      "text/plain": [
       "'Flat Unlocked!'"
      ]
     },
     "execution_count": 61,
     "metadata": {},
     "output_type": "execute_result"
    }
   ],
   "source": [
    "gokul_dham_apartment.unlockflat('@123A',3)"
   ]
  },
  {
   "cell_type": "code",
   "execution_count": 62,
   "id": "de7cee71",
   "metadata": {},
   "outputs": [
    {
     "data": {
      "text/plain": [
       "2"
      ]
     },
     "execution_count": 62,
     "metadata": {},
     "output_type": "execute_result"
    }
   ],
   "source": [
    "gokul_dham_apartment.count_people_in_palyground()"
   ]
  },
  {
   "cell_type": "code",
   "execution_count": null,
   "id": "27877369",
   "metadata": {},
   "outputs": [],
   "source": [
    "Create a class Paytm App, objects will be different paytm apps installed on different mobile \n",
    "phones\n",
    "\n",
    "Write your own imagination\n",
    "\n",
    "15 minutes."
   ]
  },
  {
   "cell_type": "code",
   "execution_count": 79,
   "id": "ea109c5c",
   "metadata": {},
   "outputs": [],
   "source": [
    "import random\n",
    "class Paytm:\n",
    "    telecom_operators_prices = {'JIO':[719,2999,666,299], 'AIRTEL':[719,479,299]}\n",
    "    telecom_detect = {'JIO':['99','71','90'],'AIRTEL':['80','81','98']}\n",
    "    def __init__(self, phone_no, username, password):\n",
    "        self.phone = phone_no\n",
    "        self.username = username\n",
    "        self.password = password\n",
    "        self.validate_otp()\n",
    "        self.loggedin = False\n",
    "        \n",
    "    def validate_otp(self):\n",
    "        otp_on_system = str(random.randint(1000,2000))\n",
    "        print('Mobile Phone Message = '+ otp_on_system)\n",
    "        otp_from_user = input('Enter Otp')\n",
    "        if otp_from_user == otp_on_system:\n",
    "            self.loggedin = True\n",
    "            print('Successfully Logged in')\n",
    "        else:\n",
    "            print('Wrong OTP')\n",
    "    \n",
    "    def recharge(self, phone, amount):\n",
    "        first_two_digit = phone[0:2]\n",
    "        found_telecom = None\n",
    "        for telecom,list_of_2_digits in Paytm.telecom_detect.items():\n",
    "            if first_two_digit in list_of_2_digits:\n",
    "                found_telecom = telecom\n",
    "        if not found_telecom:\n",
    "            print('Wrong Phone Number')\n",
    "            return\n",
    "        for telecom,amounts_possible in Paytm.telecom_operators_prices.items():\n",
    "            if telecom == found_telecom:\n",
    "                if amount in amounts_possible:\n",
    "                    print('Recharge Successfull')\n",
    "                else:\n",
    "                    print('Amount not possible.')"
   ]
  },
  {
   "cell_type": "code",
   "execution_count": 80,
   "id": "2ea8e41c",
   "metadata": {},
   "outputs": [
    {
     "name": "stdout",
     "output_type": "stream",
     "text": [
      "Mobile Phone Message = 1930\n",
      "Enter Otp1930\n",
      "Successfully Logged in\n"
     ]
    }
   ],
   "source": [
    "mohitsPaytm = Paytm(4002623868, 'mohitmohit','rohitrohit')"
   ]
  },
  {
   "cell_type": "code",
   "execution_count": 75,
   "id": "0a66da10",
   "metadata": {},
   "outputs": [],
   "source": [
    "x = '89912345'"
   ]
  },
  {
   "cell_type": "code",
   "execution_count": 76,
   "id": "0cc2459a",
   "metadata": {},
   "outputs": [
    {
     "data": {
      "text/plain": [
       "'89'"
      ]
     },
     "execution_count": 76,
     "metadata": {},
     "output_type": "execute_result"
    }
   ],
   "source": [
    "x[0:2]"
   ]
  },
  {
   "cell_type": "code",
   "execution_count": 81,
   "id": "2dc7819e",
   "metadata": {},
   "outputs": [
    {
     "name": "stdout",
     "output_type": "stream",
     "text": [
      "Amount not possible.\n"
     ]
    }
   ],
   "source": [
    "mohitsPaytm.recharge('8001234567',2999)"
   ]
  },
  {
   "cell_type": "code",
   "execution_count": 82,
   "id": "41823978",
   "metadata": {},
   "outputs": [
    {
     "name": "stdout",
     "output_type": "stream",
     "text": [
      "Recharge Successfull\n"
     ]
    }
   ],
   "source": [
    "mohitsPaytm.recharge('8001234567',479)"
   ]
  },
  {
   "cell_type": "code",
   "execution_count": null,
   "id": "d1d961a8",
   "metadata": {},
   "outputs": [],
   "source": [
    "# homework: Bank as an Class."
   ]
  }
 ],
 "metadata": {
  "kernelspec": {
   "display_name": "Python 3 (ipykernel)",
   "language": "python",
   "name": "python3"
  },
  "language_info": {
   "codemirror_mode": {
    "name": "ipython",
    "version": 3
   },
   "file_extension": ".py",
   "mimetype": "text/x-python",
   "name": "python",
   "nbconvert_exporter": "python",
   "pygments_lexer": "ipython3",
   "version": "3.8.9"
  }
 },
 "nbformat": 4,
 "nbformat_minor": 5
}
