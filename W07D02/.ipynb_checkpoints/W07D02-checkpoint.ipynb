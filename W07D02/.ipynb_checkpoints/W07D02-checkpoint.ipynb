{
 "cells": [
  {
   "cell_type": "code",
   "execution_count": null,
   "id": "9dff717c",
   "metadata": {},
   "outputs": [],
   "source": [
    "# Object Oriented Programming\n",
    "\n",
    "Class: Blueprint\n",
    "Objects: Actual thing created according to the blueprint(class)\n",
    "\n",
    "Attributes:\n",
    "    Object: which are unique for every object, for eg:-color of the car(where car is the class)\n",
    "    Class: which are common for all the objects. for eg:-no_of_wheels in car\n",
    "    \n",
    "    \n",
    "Methods(Functions):\n",
    "    Object Methods: which are accessed by the object, for changing or accessing object attributes.\n",
    "    All the dunder/magic methods like __init__, __add___,__sub__,etc are object methods.\n",
    "    Class Methods: which are accessed by the class name, for changing and accessing the \n",
    "    class attributes\n",
    "    Static Methods: These can be accessed either using object attr, class attr, but do not\n",
    "    interfere with object or class attribute. They are generally used for utility purpose,\n",
    "    or helper purpose.\n",
    "\n",
    "Inheritance: Inheriting properties of a class in another class for reusablity.\n",
    "    \n",
    "types of inheritance:\n",
    "    1) single\n",
    "    2) multiple\n",
    "    3) multilevel\n",
    "    4) hierarchical\n",
    "    5) hybrid\n",
    "\n",
    "MRO(Method Resolution Order): It is the order in which methods will be accessed when you\n",
    "    call a method from a class which is participating in inheritance.\n",
    "    \n",
    "super() : It is used to call the method of higher order MRO from the existing class."
   ]
  },
  {
   "cell_type": "code",
   "execution_count": 7,
   "id": "3176d199",
   "metadata": {},
   "outputs": [],
   "source": [
    "class Furniture:\n",
    "    def __init__(self,name,l,b,h,price_per_cube):\n",
    "        self.name = name\n",
    "        self.l = l\n",
    "        self.b = b\n",
    "        self.h = h\n",
    "        self.price_factor = price_per_cube\n",
    "        \n",
    "    def get_price(self):\n",
    "        return self.l*self.b*self.h*self.price_factor"
   ]
  },
  {
   "cell_type": "code",
   "execution_count": 8,
   "id": "e4bd0c56",
   "metadata": {},
   "outputs": [],
   "source": [
    "bed_modi = Furniture('Bed by Modi Furnitures',4,50,23,10)"
   ]
  },
  {
   "cell_type": "code",
   "execution_count": 9,
   "id": "4a5e1d46",
   "metadata": {},
   "outputs": [
    {
     "data": {
      "text/plain": [
       "46000"
      ]
     },
     "execution_count": 9,
     "metadata": {},
     "output_type": "execute_result"
    }
   ],
   "source": [
    "bed_modi.get_price()"
   ]
  },
  {
   "cell_type": "code",
   "execution_count": 10,
   "id": "f236ba8e",
   "metadata": {},
   "outputs": [],
   "source": [
    "bed_mohit = Furniture('Bed by Mohit Furnitures',4,50,23,7)"
   ]
  },
  {
   "cell_type": "code",
   "execution_count": 11,
   "id": "8f4e230e",
   "metadata": {},
   "outputs": [
    {
     "data": {
      "text/plain": [
       "32200"
      ]
     },
     "execution_count": 11,
     "metadata": {},
     "output_type": "execute_result"
    }
   ],
   "source": [
    "bed_mohit.get_price()"
   ]
  },
  {
   "cell_type": "markdown",
   "id": "487eabca",
   "metadata": {},
   "source": [
    "# Collections\n",
    "\n",
    "It is a builtin library for various data types which are helpfull in doing complex things"
   ]
  },
  {
   "cell_type": "markdown",
   "id": "7c8dbb1f",
   "metadata": {},
   "source": [
    "## Deque"
   ]
  },
  {
   "cell_type": "code",
   "execution_count": 12,
   "id": "cfa958b2",
   "metadata": {},
   "outputs": [],
   "source": [
    "from collections import deque"
   ]
  },
  {
   "cell_type": "code",
   "execution_count": 13,
   "id": "376891d5",
   "metadata": {},
   "outputs": [],
   "source": [
    "obj1 = deque([1,2,3,4])"
   ]
  },
  {
   "cell_type": "code",
   "execution_count": 14,
   "id": "99c13a53",
   "metadata": {},
   "outputs": [
    {
     "name": "stdout",
     "output_type": "stream",
     "text": [
      "deque([1, 2, 3, 4])\n"
     ]
    }
   ],
   "source": [
    "print(obj1)"
   ]
  },
  {
   "cell_type": "code",
   "execution_count": 15,
   "id": "9a0fd588",
   "metadata": {},
   "outputs": [],
   "source": [
    "obj1.append(5)"
   ]
  },
  {
   "cell_type": "code",
   "execution_count": 16,
   "id": "12d9eba7",
   "metadata": {},
   "outputs": [
    {
     "name": "stdout",
     "output_type": "stream",
     "text": [
      "deque([1, 2, 3, 4, 5])\n"
     ]
    }
   ],
   "source": [
    "print(obj1)"
   ]
  },
  {
   "cell_type": "code",
   "execution_count": 17,
   "id": "02c6fd4d",
   "metadata": {},
   "outputs": [],
   "source": [
    "obj1.appendleft(0)"
   ]
  },
  {
   "cell_type": "code",
   "execution_count": 18,
   "id": "bc489213",
   "metadata": {},
   "outputs": [
    {
     "name": "stdout",
     "output_type": "stream",
     "text": [
      "deque([0, 1, 2, 3, 4, 5])\n"
     ]
    }
   ],
   "source": [
    "print(obj1)"
   ]
  },
  {
   "cell_type": "code",
   "execution_count": 19,
   "id": "f9e46e28",
   "metadata": {},
   "outputs": [
    {
     "data": {
      "text/plain": [
       "5"
      ]
     },
     "execution_count": 19,
     "metadata": {},
     "output_type": "execute_result"
    }
   ],
   "source": [
    "obj1.pop()"
   ]
  },
  {
   "cell_type": "code",
   "execution_count": 20,
   "id": "80988002",
   "metadata": {},
   "outputs": [
    {
     "name": "stdout",
     "output_type": "stream",
     "text": [
      "deque([0, 1, 2, 3, 4])\n"
     ]
    }
   ],
   "source": [
    "print(obj1)"
   ]
  },
  {
   "cell_type": "code",
   "execution_count": 21,
   "id": "0a45a83e",
   "metadata": {},
   "outputs": [
    {
     "data": {
      "text/plain": [
       "0"
      ]
     },
     "execution_count": 21,
     "metadata": {},
     "output_type": "execute_result"
    }
   ],
   "source": [
    "obj1.popleft()"
   ]
  },
  {
   "cell_type": "code",
   "execution_count": 22,
   "id": "5545ff0b",
   "metadata": {},
   "outputs": [
    {
     "name": "stdout",
     "output_type": "stream",
     "text": [
      "deque([1, 2, 3, 4])\n"
     ]
    }
   ],
   "source": [
    "print(obj1)"
   ]
  },
  {
   "cell_type": "code",
   "execution_count": 23,
   "id": "a2b627ca",
   "metadata": {},
   "outputs": [],
   "source": [
    "list1 = list(obj1)"
   ]
  },
  {
   "cell_type": "code",
   "execution_count": 24,
   "id": "c8452764",
   "metadata": {},
   "outputs": [
    {
     "name": "stdout",
     "output_type": "stream",
     "text": [
      "[1, 2, 3, 4]\n"
     ]
    }
   ],
   "source": [
    "print(list1)"
   ]
  },
  {
   "cell_type": "code",
   "execution_count": 25,
   "id": "b22d42b9",
   "metadata": {},
   "outputs": [
    {
     "data": {
      "text/plain": [
       "deque([1, 2, 3, 4])"
      ]
     },
     "execution_count": 25,
     "metadata": {},
     "output_type": "execute_result"
    }
   ],
   "source": [
    "obj1"
   ]
  },
  {
   "cell_type": "code",
   "execution_count": 26,
   "id": "22c23730",
   "metadata": {},
   "outputs": [],
   "source": [
    "obj2 = deque(['mango','apple'])"
   ]
  },
  {
   "cell_type": "code",
   "execution_count": 27,
   "id": "755df2bd",
   "metadata": {},
   "outputs": [],
   "source": [
    "obj1.extend(obj2)"
   ]
  },
  {
   "cell_type": "code",
   "execution_count": 28,
   "id": "61e992b9",
   "metadata": {},
   "outputs": [
    {
     "name": "stdout",
     "output_type": "stream",
     "text": [
      "deque([1, 2, 3, 4, 'mango', 'apple'])\n"
     ]
    }
   ],
   "source": [
    "print(obj1)"
   ]
  },
  {
   "cell_type": "code",
   "execution_count": 29,
   "id": "3a127826",
   "metadata": {},
   "outputs": [],
   "source": [
    "obj1.extendleft(obj2)"
   ]
  },
  {
   "cell_type": "code",
   "execution_count": 30,
   "id": "2b7796c3",
   "metadata": {},
   "outputs": [
    {
     "name": "stdout",
     "output_type": "stream",
     "text": [
      "deque(['apple', 'mango', 1, 2, 3, 4, 'mango', 'apple'])\n"
     ]
    }
   ],
   "source": [
    "print(obj1)"
   ]
  },
  {
   "cell_type": "code",
   "execution_count": 31,
   "id": "702847af",
   "metadata": {},
   "outputs": [],
   "source": [
    "# indexing is also possible like list"
   ]
  },
  {
   "cell_type": "code",
   "execution_count": 32,
   "id": "c77de68a",
   "metadata": {},
   "outputs": [
    {
     "data": {
      "text/plain": [
       "'apple'"
      ]
     },
     "execution_count": 32,
     "metadata": {},
     "output_type": "execute_result"
    }
   ],
   "source": [
    "obj1[0]"
   ]
  },
  {
   "cell_type": "code",
   "execution_count": 33,
   "id": "300f4870",
   "metadata": {},
   "outputs": [
    {
     "data": {
      "text/plain": [
       "'apple'"
      ]
     },
     "execution_count": 33,
     "metadata": {},
     "output_type": "execute_result"
    }
   ],
   "source": [
    "obj1[-1]"
   ]
  },
  {
   "cell_type": "code",
   "execution_count": 34,
   "id": "37cb9d03",
   "metadata": {},
   "outputs": [
    {
     "data": {
      "text/plain": [
       "4"
      ]
     },
     "execution_count": 34,
     "metadata": {},
     "output_type": "execute_result"
    }
   ],
   "source": [
    "obj1[-3]"
   ]
  },
  {
   "cell_type": "code",
   "execution_count": 36,
   "id": "daaf0e12",
   "metadata": {},
   "outputs": [
    {
     "data": {
      "text/plain": [
       "3"
      ]
     },
     "execution_count": 36,
     "metadata": {},
     "output_type": "execute_result"
    }
   ],
   "source": [
    "obj1[4]"
   ]
  },
  {
   "cell_type": "code",
   "execution_count": 37,
   "id": "5ebb9529",
   "metadata": {},
   "outputs": [],
   "source": [
    "obj1.insert(0,'kiwi')"
   ]
  },
  {
   "cell_type": "code",
   "execution_count": 38,
   "id": "4368301f",
   "metadata": {},
   "outputs": [
    {
     "data": {
      "text/plain": [
       "deque(['kiwi', 'apple', 'mango', 1, 2, 3, 4, 'mango', 'apple'])"
      ]
     },
     "execution_count": 38,
     "metadata": {},
     "output_type": "execute_result"
    }
   ],
   "source": [
    "obj1"
   ]
  },
  {
   "cell_type": "markdown",
   "id": "889ddd9a",
   "metadata": {},
   "source": [
    "# counter"
   ]
  },
  {
   "cell_type": "code",
   "execution_count": 39,
   "id": "728daf6c",
   "metadata": {},
   "outputs": [],
   "source": [
    "from collections import Counter"
   ]
  },
  {
   "cell_type": "code",
   "execution_count": 40,
   "id": "3eb14227",
   "metadata": {},
   "outputs": [],
   "source": [
    "l = [10,'kiwi','apple','peach',10,'apple','kiwi',10,'kiwi','kiwi',10,10,7]"
   ]
  },
  {
   "cell_type": "code",
   "execution_count": 41,
   "id": "543c96e8",
   "metadata": {},
   "outputs": [],
   "source": [
    "c = Counter(l)"
   ]
  },
  {
   "cell_type": "code",
   "execution_count": 42,
   "id": "bdc7f240",
   "metadata": {},
   "outputs": [
    {
     "name": "stdout",
     "output_type": "stream",
     "text": [
      "Counter({10: 5, 'kiwi': 4, 'apple': 2, 'peach': 1, 7: 1})\n"
     ]
    }
   ],
   "source": [
    "print(c)"
   ]
  },
  {
   "cell_type": "code",
   "execution_count": 43,
   "id": "ea4b239c",
   "metadata": {},
   "outputs": [],
   "source": [
    "xmen = 'XXXXXXXXXXXXXXWolverineXXXXXXXXXXXXXXXXXX'"
   ]
  },
  {
   "cell_type": "code",
   "execution_count": 44,
   "id": "e47cc22a",
   "metadata": {},
   "outputs": [],
   "source": [
    "xmen_counter = Counter(xmen)"
   ]
  },
  {
   "cell_type": "code",
   "execution_count": 45,
   "id": "b5cfc0e2",
   "metadata": {},
   "outputs": [
    {
     "name": "stdout",
     "output_type": "stream",
     "text": [
      "Counter({'X': 32, 'e': 2, 'W': 1, 'o': 1, 'l': 1, 'v': 1, 'r': 1, 'i': 1, 'n': 1})\n"
     ]
    }
   ],
   "source": [
    "print(xmen_counter)"
   ]
  },
  {
   "cell_type": "code",
   "execution_count": 46,
   "id": "baa0b522",
   "metadata": {},
   "outputs": [],
   "source": [
    "xmen_counter.subtract('XXXX')"
   ]
  },
  {
   "cell_type": "code",
   "execution_count": 47,
   "id": "54b0ee20",
   "metadata": {},
   "outputs": [
    {
     "data": {
      "text/plain": [
       "Counter({'X': 28,\n",
       "         'W': 1,\n",
       "         'o': 1,\n",
       "         'l': 1,\n",
       "         'v': 1,\n",
       "         'e': 2,\n",
       "         'r': 1,\n",
       "         'i': 1,\n",
       "         'n': 1})"
      ]
     },
     "execution_count": 47,
     "metadata": {},
     "output_type": "execute_result"
    }
   ],
   "source": [
    "xmen_counter"
   ]
  },
  {
   "cell_type": "code",
   "execution_count": 48,
   "id": "7e91db57",
   "metadata": {},
   "outputs": [
    {
     "data": {
      "text/plain": [
       "{'X': 28, 'W': 1, 'o': 1, 'l': 1, 'v': 1, 'e': 2, 'r': 1, 'i': 1, 'n': 1}"
      ]
     },
     "execution_count": 48,
     "metadata": {},
     "output_type": "execute_result"
    }
   ],
   "source": [
    "dict(xmen_counter)"
   ]
  },
  {
   "cell_type": "code",
   "execution_count": 49,
   "id": "c281561d",
   "metadata": {},
   "outputs": [],
   "source": [
    "sentence = 'the quick brown fox jumps over a laxy dog'\n",
    "# if it contains all the 26 alphabets\n",
    "sentence_counter = Counter(sentence)"
   ]
  },
  {
   "cell_type": "code",
   "execution_count": 50,
   "id": "fce2c375",
   "metadata": {},
   "outputs": [
    {
     "name": "stdout",
     "output_type": "stream",
     "text": [
      "Counter({' ': 8, 'o': 4, 'e': 2, 'u': 2, 'r': 2, 'x': 2, 'a': 2, 't': 1, 'h': 1, 'q': 1, 'i': 1, 'c': 1, 'k': 1, 'b': 1, 'w': 1, 'n': 1, 'f': 1, 'j': 1, 'm': 1, 'p': 1, 's': 1, 'v': 1, 'l': 1, 'y': 1, 'd': 1, 'g': 1})\n"
     ]
    }
   ],
   "source": [
    "print(sentence_counter)"
   ]
  },
  {
   "cell_type": "markdown",
   "id": "7ff89c5a",
   "metadata": {},
   "source": [
    "# OrderedDict"
   ]
  },
  {
   "cell_type": "code",
   "execution_count": 51,
   "id": "bd85ac92",
   "metadata": {},
   "outputs": [],
   "source": [
    "from collections import OrderedDict"
   ]
  },
  {
   "cell_type": "code",
   "execution_count": 52,
   "id": "4f241e08",
   "metadata": {},
   "outputs": [],
   "source": [
    "obj = OrderedDict()"
   ]
  },
  {
   "cell_type": "code",
   "execution_count": 53,
   "id": "6668ca81",
   "metadata": {},
   "outputs": [],
   "source": [
    "obj['pytohn'] = 3\n",
    "obj['java'] = 8\n",
    "obj['c'] = 4"
   ]
  },
  {
   "cell_type": "code",
   "execution_count": 54,
   "id": "dee4007f",
   "metadata": {},
   "outputs": [
    {
     "name": "stdout",
     "output_type": "stream",
     "text": [
      "OrderedDict([('pytohn', 3), ('java', 8), ('c', 4)])\n"
     ]
    }
   ],
   "source": [
    "print(obj)"
   ]
  },
  {
   "cell_type": "code",
   "execution_count": 55,
   "id": "eca24caa",
   "metadata": {},
   "outputs": [
    {
     "data": {
      "text/plain": [
       "8"
      ]
     },
     "execution_count": 55,
     "metadata": {},
     "output_type": "execute_result"
    }
   ],
   "source": [
    "obj['java']"
   ]
  },
  {
   "cell_type": "code",
   "execution_count": 62,
   "id": "1d1e9e46",
   "metadata": {},
   "outputs": [],
   "source": [
    "x = {}\n",
    "x['a'] = 1\n",
    "x['b'] = 2"
   ]
  },
  {
   "cell_type": "code",
   "execution_count": 63,
   "id": "c4de5273",
   "metadata": {},
   "outputs": [
    {
     "name": "stdout",
     "output_type": "stream",
     "text": [
      "{'a': 1, 'b': 2}\n"
     ]
    }
   ],
   "source": [
    "print(x)"
   ]
  },
  {
   "cell_type": "code",
   "execution_count": 64,
   "id": "c3692233",
   "metadata": {},
   "outputs": [],
   "source": [
    "y = {}\n",
    "y['b'] = 2\n",
    "y['a'] = 1"
   ]
  },
  {
   "cell_type": "code",
   "execution_count": 65,
   "id": "2cebf0ee",
   "metadata": {},
   "outputs": [
    {
     "name": "stdout",
     "output_type": "stream",
     "text": [
      "{'b': 2, 'a': 1}\n"
     ]
    }
   ],
   "source": [
    "print(y)"
   ]
  },
  {
   "cell_type": "code",
   "execution_count": 66,
   "id": "955a1ecd",
   "metadata": {},
   "outputs": [
    {
     "data": {
      "text/plain": [
       "True"
      ]
     },
     "execution_count": 66,
     "metadata": {},
     "output_type": "execute_result"
    }
   ],
   "source": [
    "x == y"
   ]
  },
  {
   "cell_type": "code",
   "execution_count": null,
   "id": "40336f0a",
   "metadata": {},
   "outputs": [],
   "source": [
    "# Because normal dictionary considers that order does not matter."
   ]
  },
  {
   "cell_type": "code",
   "execution_count": 99,
   "id": "21e85e07",
   "metadata": {},
   "outputs": [
    {
     "name": "stdout",
     "output_type": "stream",
     "text": [
      "OrderedDict([('a', 1), ('b', 2)])\n"
     ]
    }
   ],
   "source": [
    "x = OrderedDict()\n",
    "x['a'] = 1\n",
    "x['b'] = 2\n",
    "print(x)"
   ]
  },
  {
   "cell_type": "code",
   "execution_count": 100,
   "id": "22f9bd80",
   "metadata": {},
   "outputs": [
    {
     "name": "stdout",
     "output_type": "stream",
     "text": [
      "OrderedDict([('b', 2), ('a', 1)])\n"
     ]
    }
   ],
   "source": [
    "y = OrderedDict()\n",
    "y['b'] = 2\n",
    "y['a'] = 1\n",
    "print(y)"
   ]
  },
  {
   "cell_type": "code",
   "execution_count": 69,
   "id": "82cd9b28",
   "metadata": {},
   "outputs": [
    {
     "data": {
      "text/plain": [
       "False"
      ]
     },
     "execution_count": 69,
     "metadata": {},
     "output_type": "execute_result"
    }
   ],
   "source": [
    "x == y"
   ]
  },
  {
   "cell_type": "code",
   "execution_count": null,
   "id": "bc0ecb11",
   "metadata": {},
   "outputs": [],
   "source": [
    "Because OrderedDict considers that order matters."
   ]
  },
  {
   "cell_type": "code",
   "execution_count": null,
   "id": "a677a731",
   "metadata": {},
   "outputs": [],
   "source": [
    ".items(),.keys(),.values() methods here in OrdredDict"
   ]
  },
  {
   "cell_type": "markdown",
   "id": "382b1a3c",
   "metadata": {},
   "source": [
    "# ChainMap"
   ]
  },
  {
   "cell_type": "code",
   "execution_count": 70,
   "id": "7d3fd114",
   "metadata": {},
   "outputs": [],
   "source": [
    "from collections import ChainMap"
   ]
  },
  {
   "cell_type": "code",
   "execution_count": 89,
   "id": "62253b77",
   "metadata": {},
   "outputs": [],
   "source": [
    "dict1 = {'apple':2,'mango':3}\n",
    "dict2 = {'brown':'sugar','black':'mamba'}"
   ]
  },
  {
   "cell_type": "code",
   "execution_count": 90,
   "id": "13918c50",
   "metadata": {},
   "outputs": [],
   "source": [
    "c = ChainMap(dict1,dict2)\n",
    "# c is just an interface object, it only accesses the dict1 and dict2\n",
    "# if we update dict1 and/or dict2 changes will be seen via c also, as\n",
    "# it is just an interface for both of them."
   ]
  },
  {
   "cell_type": "code",
   "execution_count": 91,
   "id": "2d9e292d",
   "metadata": {},
   "outputs": [
    {
     "data": {
      "text/plain": [
       "2"
      ]
     },
     "execution_count": 91,
     "metadata": {},
     "output_type": "execute_result"
    }
   ],
   "source": [
    "c['apple']"
   ]
  },
  {
   "cell_type": "code",
   "execution_count": 92,
   "id": "15a49441",
   "metadata": {},
   "outputs": [
    {
     "data": {
      "text/plain": [
       "'mamba'"
      ]
     },
     "execution_count": 92,
     "metadata": {},
     "output_type": "execute_result"
    }
   ],
   "source": [
    "c['black']"
   ]
  },
  {
   "cell_type": "code",
   "execution_count": 93,
   "id": "f9680d22",
   "metadata": {},
   "outputs": [],
   "source": [
    "dict1['apple'] = 786"
   ]
  },
  {
   "cell_type": "code",
   "execution_count": 94,
   "id": "c99fa411",
   "metadata": {},
   "outputs": [
    {
     "data": {
      "text/plain": [
       "786"
      ]
     },
     "execution_count": 94,
     "metadata": {},
     "output_type": "execute_result"
    }
   ],
   "source": [
    "c['apple']"
   ]
  },
  {
   "cell_type": "code",
   "execution_count": 95,
   "id": "59f296d7",
   "metadata": {},
   "outputs": [
    {
     "data": {
      "text/plain": [
       "ItemsView(ChainMap({'apple': 786, 'mango': 3}, {'brown': 'sugar', 'black': 'mamba'}))"
      ]
     },
     "execution_count": 95,
     "metadata": {},
     "output_type": "execute_result"
    }
   ],
   "source": [
    "c.items()"
   ]
  },
  {
   "cell_type": "code",
   "execution_count": 96,
   "id": "d4b5480c",
   "metadata": {},
   "outputs": [
    {
     "data": {
      "text/plain": [
       "ValuesView(ChainMap({'apple': 786, 'mango': 3}, {'brown': 'sugar', 'black': 'mamba'}))"
      ]
     },
     "execution_count": 96,
     "metadata": {},
     "output_type": "execute_result"
    }
   ],
   "source": [
    "c.values()"
   ]
  },
  {
   "cell_type": "code",
   "execution_count": 98,
   "id": "e096fd3c",
   "metadata": {},
   "outputs": [
    {
     "name": "stdout",
     "output_type": "stream",
     "text": [
      "('brown', 'sugar')\n",
      "('black', 'mamba')\n",
      "('apple', 786)\n",
      "('mango', 3)\n"
     ]
    }
   ],
   "source": [
    "for x in c.items():\n",
    "    print(x)"
   ]
  },
  {
   "cell_type": "code",
   "execution_count": 103,
   "id": "0c6bf67b",
   "metadata": {},
   "outputs": [],
   "source": [
    "dict1 = {'mohit':'bhatt','jazz':'brown'}\n",
    "dict2 = {'high':'heels','love':'dose'}"
   ]
  },
  {
   "cell_type": "code",
   "execution_count": 104,
   "id": "4f6f11a3",
   "metadata": {},
   "outputs": [],
   "source": [
    "dict_view = ChainMap(dict1,dict2)"
   ]
  },
  {
   "cell_type": "code",
   "execution_count": 105,
   "id": "809f47c1",
   "metadata": {},
   "outputs": [
    {
     "data": {
      "text/plain": [
       "'bhatt'"
      ]
     },
     "execution_count": 105,
     "metadata": {},
     "output_type": "execute_result"
    }
   ],
   "source": [
    "dict_view['mohit']"
   ]
  },
  {
   "cell_type": "code",
   "execution_count": 106,
   "id": "a5c06042",
   "metadata": {},
   "outputs": [
    {
     "data": {
      "text/plain": [
       "'brown'"
      ]
     },
     "execution_count": 106,
     "metadata": {},
     "output_type": "execute_result"
    }
   ],
   "source": [
    "dict_view['jazz']"
   ]
  },
  {
   "cell_type": "code",
   "execution_count": 107,
   "id": "d51210e4",
   "metadata": {},
   "outputs": [
    {
     "data": {
      "text/plain": [
       "'heels'"
      ]
     },
     "execution_count": 107,
     "metadata": {},
     "output_type": "execute_result"
    }
   ],
   "source": [
    "dict_view['high']"
   ]
  },
  {
   "cell_type": "code",
   "execution_count": 108,
   "id": "b9f40504",
   "metadata": {},
   "outputs": [
    {
     "data": {
      "text/plain": [
       "'dose'"
      ]
     },
     "execution_count": 108,
     "metadata": {},
     "output_type": "execute_result"
    }
   ],
   "source": [
    "dict_view['love']"
   ]
  },
  {
   "cell_type": "code",
   "execution_count": 109,
   "id": "13730477",
   "metadata": {},
   "outputs": [],
   "source": [
    "dict2['love'] = 'petrol in car'"
   ]
  },
  {
   "cell_type": "code",
   "execution_count": 110,
   "id": "6edbb53d",
   "metadata": {},
   "outputs": [
    {
     "data": {
      "text/plain": [
       "'petrol in car'"
      ]
     },
     "execution_count": 110,
     "metadata": {},
     "output_type": "execute_result"
    }
   ],
   "source": [
    "dict_view['love']"
   ]
  },
  {
   "cell_type": "code",
   "execution_count": 111,
   "id": "d47947f6",
   "metadata": {},
   "outputs": [],
   "source": [
    "dict2['blue'] = 'eyes'"
   ]
  },
  {
   "cell_type": "code",
   "execution_count": 112,
   "id": "ad078300",
   "metadata": {},
   "outputs": [
    {
     "data": {
      "text/plain": [
       "'eyes'"
      ]
     },
     "execution_count": 112,
     "metadata": {},
     "output_type": "execute_result"
    }
   ],
   "source": [
    "dict_view['blue']"
   ]
  },
  {
   "cell_type": "markdown",
   "id": "bc1104f6",
   "metadata": {},
   "source": [
    "# DATETIME"
   ]
  },
  {
   "cell_type": "code",
   "execution_count": 113,
   "id": "f58a671c",
   "metadata": {},
   "outputs": [],
   "source": [
    "# -> Very Very Important"
   ]
  },
  {
   "cell_type": "code",
   "execution_count": 114,
   "id": "0b2aa6ba",
   "metadata": {},
   "outputs": [],
   "source": [
    "import datetime"
   ]
  },
  {
   "cell_type": "code",
   "execution_count": 115,
   "id": "3a60a7ea",
   "metadata": {},
   "outputs": [],
   "source": [
    "datetime_obj = datetime.datetime.now()"
   ]
  },
  {
   "cell_type": "code",
   "execution_count": 116,
   "id": "6d070439",
   "metadata": {},
   "outputs": [
    {
     "name": "stdout",
     "output_type": "stream",
     "text": [
      "2022-01-18 20:42:58.292948\n"
     ]
    }
   ],
   "source": [
    "print(datetime_obj)"
   ]
  },
  {
   "cell_type": "code",
   "execution_count": 117,
   "id": "e2396c62",
   "metadata": {},
   "outputs": [],
   "source": [
    "date_obj = datetime.date.today()"
   ]
  },
  {
   "cell_type": "code",
   "execution_count": 118,
   "id": "2c4c6966",
   "metadata": {},
   "outputs": [
    {
     "name": "stdout",
     "output_type": "stream",
     "text": [
      "2022-01-18\n"
     ]
    }
   ],
   "source": [
    "print(date_obj)"
   ]
  },
  {
   "cell_type": "code",
   "execution_count": 120,
   "id": "4020c818",
   "metadata": {},
   "outputs": [],
   "source": [
    "d = datetime.date(1969,5,20)"
   ]
  },
  {
   "cell_type": "code",
   "execution_count": 133,
   "id": "deb2e1c4",
   "metadata": {},
   "outputs": [
    {
     "data": {
      "text/plain": [
       "5"
      ]
     },
     "execution_count": 133,
     "metadata": {},
     "output_type": "execute_result"
    }
   ],
   "source": [
    "d.month"
   ]
  },
  {
   "cell_type": "code",
   "execution_count": 134,
   "id": "6dd11f13",
   "metadata": {},
   "outputs": [
    {
     "data": {
      "text/plain": [
       "20"
      ]
     },
     "execution_count": 134,
     "metadata": {},
     "output_type": "execute_result"
    }
   ],
   "source": [
    "d.day"
   ]
  },
  {
   "cell_type": "code",
   "execution_count": 135,
   "id": "302fede9",
   "metadata": {},
   "outputs": [
    {
     "data": {
      "text/plain": [
       "1969"
      ]
     },
     "execution_count": 135,
     "metadata": {},
     "output_type": "execute_result"
    }
   ],
   "source": [
    "d.year"
   ]
  },
  {
   "cell_type": "code",
   "execution_count": 121,
   "id": "2dc7d610",
   "metadata": {},
   "outputs": [
    {
     "name": "stdout",
     "output_type": "stream",
     "text": [
      "1969-05-20\n"
     ]
    }
   ],
   "source": [
    "print(d)"
   ]
  },
  {
   "cell_type": "code",
   "execution_count": 122,
   "id": "3ebba84a",
   "metadata": {},
   "outputs": [],
   "source": [
    "# today's date is a bigger value compared to a date in the past? True"
   ]
  },
  {
   "cell_type": "code",
   "execution_count": 127,
   "id": "a49000a0",
   "metadata": {},
   "outputs": [],
   "source": [
    "delta = date_obj - d"
   ]
  },
  {
   "cell_type": "code",
   "execution_count": 136,
   "id": "1551b364",
   "metadata": {},
   "outputs": [
    {
     "data": {
      "text/plain": [
       "datetime.timedelta"
      ]
     },
     "execution_count": 136,
     "metadata": {},
     "output_type": "execute_result"
    }
   ],
   "source": [
    "type(delta)"
   ]
  },
  {
   "cell_type": "code",
   "execution_count": 132,
   "id": "464c2b43",
   "metadata": {},
   "outputs": [
    {
     "name": "stdout",
     "output_type": "stream",
     "text": [
      "52.701369863013696\n"
     ]
    }
   ],
   "source": [
    "print(delta.days/365)"
   ]
  },
  {
   "cell_type": "code",
   "execution_count": null,
   "id": "e6d214b4",
   "metadata": {},
   "outputs": [],
   "source": [
    "# Timestamp"
   ]
  },
  {
   "cell_type": "code",
   "execution_count": 137,
   "id": "214a9a21",
   "metadata": {},
   "outputs": [],
   "source": [
    "unix_time_stamp_today = 1642519781"
   ]
  },
  {
   "cell_type": "code",
   "execution_count": 138,
   "id": "00786685",
   "metadata": {},
   "outputs": [],
   "source": [
    "today_date = datetime.date.fromtimestamp(unix_time_stamp_today)"
   ]
  },
  {
   "cell_type": "code",
   "execution_count": 139,
   "id": "020af83a",
   "metadata": {},
   "outputs": [
    {
     "name": "stdout",
     "output_type": "stream",
     "text": [
      "2022-01-18\n"
     ]
    }
   ],
   "source": [
    "print(today_date)"
   ]
  },
  {
   "cell_type": "code",
   "execution_count": 140,
   "id": "f7adfe2f",
   "metadata": {},
   "outputs": [
    {
     "data": {
      "text/plain": [
       "2022"
      ]
     },
     "execution_count": 140,
     "metadata": {},
     "output_type": "execute_result"
    }
   ],
   "source": [
    "today_date.year"
   ]
  },
  {
   "cell_type": "code",
   "execution_count": 141,
   "id": "f7090f4b",
   "metadata": {},
   "outputs": [
    {
     "data": {
      "text/plain": [
       "1"
      ]
     },
     "execution_count": 141,
     "metadata": {},
     "output_type": "execute_result"
    }
   ],
   "source": [
    "today_date.month"
   ]
  },
  {
   "cell_type": "code",
   "execution_count": 142,
   "id": "92cefad5",
   "metadata": {},
   "outputs": [
    {
     "data": {
      "text/plain": [
       "18"
      ]
     },
     "execution_count": 142,
     "metadata": {},
     "output_type": "execute_result"
    }
   ],
   "source": [
    "today_date.day"
   ]
  },
  {
   "cell_type": "code",
   "execution_count": 143,
   "id": "c00a4dbe",
   "metadata": {},
   "outputs": [],
   "source": [
    "today_datetime = datetime.datetime.fromtimestamp(unix_time_stamp_today)"
   ]
  },
  {
   "cell_type": "code",
   "execution_count": 144,
   "id": "0aab6895",
   "metadata": {},
   "outputs": [
    {
     "data": {
      "text/plain": [
       "datetime.datetime(2022, 1, 18, 20, 59, 41)"
      ]
     },
     "execution_count": 144,
     "metadata": {},
     "output_type": "execute_result"
    }
   ],
   "source": [
    "today_datetime"
   ]
  },
  {
   "cell_type": "code",
   "execution_count": 145,
   "id": "af0d5711",
   "metadata": {},
   "outputs": [
    {
     "data": {
      "text/plain": [
       "20"
      ]
     },
     "execution_count": 145,
     "metadata": {},
     "output_type": "execute_result"
    }
   ],
   "source": [
    "today_datetime.hour"
   ]
  },
  {
   "cell_type": "code",
   "execution_count": 146,
   "id": "7bee5041",
   "metadata": {},
   "outputs": [
    {
     "data": {
      "text/plain": [
       "41"
      ]
     },
     "execution_count": 146,
     "metadata": {},
     "output_type": "execute_result"
    }
   ],
   "source": [
    "today_datetime.second"
   ]
  },
  {
   "cell_type": "code",
   "execution_count": 147,
   "id": "542f72aa",
   "metadata": {},
   "outputs": [
    {
     "data": {
      "text/plain": [
       "59"
      ]
     },
     "execution_count": 147,
     "metadata": {},
     "output_type": "execute_result"
    }
   ],
   "source": [
    "today_datetime.minute"
   ]
  },
  {
   "cell_type": "code",
   "execution_count": 148,
   "id": "664be168",
   "metadata": {},
   "outputs": [
    {
     "data": {
      "text/plain": [
       "datetime.date(2022, 1, 18)"
      ]
     },
     "execution_count": 148,
     "metadata": {},
     "output_type": "execute_result"
    }
   ],
   "source": [
    "today_datetime.date()"
   ]
  },
  {
   "cell_type": "code",
   "execution_count": 150,
   "id": "7f9871f4",
   "metadata": {},
   "outputs": [
    {
     "data": {
      "text/plain": [
       "1"
      ]
     },
     "execution_count": 150,
     "metadata": {},
     "output_type": "execute_result"
    }
   ],
   "source": [
    "today_datetime.date().weekday()"
   ]
  },
  {
   "cell_type": "code",
   "execution_count": 151,
   "id": "55401eba",
   "metadata": {},
   "outputs": [
    {
     "data": {
      "text/plain": [
       "1"
      ]
     },
     "execution_count": 151,
     "metadata": {},
     "output_type": "execute_result"
    }
   ],
   "source": [
    "datetime.date.today().weekday()"
   ]
  },
  {
   "cell_type": "code",
   "execution_count": null,
   "id": "5e555f9d",
   "metadata": {},
   "outputs": [],
   "source": [
    "0 - Mon\n",
    "1 - Tue\n",
    "2 - Wed\n",
    "3 - Thur\n",
    "4 - Fri\n",
    "5 - Sat\n",
    "6 - Sun"
   ]
  },
  {
   "cell_type": "code",
   "execution_count": 152,
   "id": "14d032c3",
   "metadata": {},
   "outputs": [],
   "source": [
    "mon_date = datetime.date(2022,1,17)"
   ]
  },
  {
   "cell_type": "code",
   "execution_count": 153,
   "id": "82357100",
   "metadata": {},
   "outputs": [
    {
     "data": {
      "text/plain": [
       "0"
      ]
     },
     "execution_count": 153,
     "metadata": {},
     "output_type": "execute_result"
    }
   ],
   "source": [
    "mon_date.weekday()"
   ]
  },
  {
   "cell_type": "code",
   "execution_count": 154,
   "id": "ce35c7a4",
   "metadata": {},
   "outputs": [],
   "source": [
    "sun_date = datetime.date(2022,1,16)"
   ]
  },
  {
   "cell_type": "code",
   "execution_count": 156,
   "id": "9e74fb04",
   "metadata": {},
   "outputs": [
    {
     "data": {
      "text/plain": [
       "6"
      ]
     },
     "execution_count": 156,
     "metadata": {},
     "output_type": "execute_result"
    }
   ],
   "source": [
    "sun_date.weekday()"
   ]
  },
  {
   "cell_type": "code",
   "execution_count": 162,
   "id": "f8e57afe",
   "metadata": {},
   "outputs": [
    {
     "data": {
      "text/plain": [
       "'28 April 1996 was a Sunday'"
      ]
     },
     "execution_count": 162,
     "metadata": {},
     "output_type": "execute_result"
    }
   ],
   "source": [
    "my_dob = datetime.date(1996,4,28)\n",
    "\n",
    "my_dob.strftime(\"%d %B %Y was a %A\")"
   ]
  },
  {
   "cell_type": "code",
   "execution_count": 159,
   "id": "8e2b9c39",
   "metadata": {},
   "outputs": [],
   "source": [
    "my_other_dob = datetime.date(month=8,year=1997,day=14)"
   ]
  },
  {
   "cell_type": "code",
   "execution_count": 161,
   "id": "3b10a3f8",
   "metadata": {},
   "outputs": [
    {
     "data": {
      "text/plain": [
       "datetime.date(1997, 8, 14)"
      ]
     },
     "execution_count": 161,
     "metadata": {},
     "output_type": "execute_result"
    }
   ],
   "source": [
    "my_other_dob"
   ]
  },
  {
   "cell_type": "code",
   "execution_count": null,
   "id": "a8b87d3f",
   "metadata": {},
   "outputs": [],
   "source": []
  }
 ],
 "metadata": {
  "kernelspec": {
   "display_name": "Python 3 (ipykernel)",
   "language": "python",
   "name": "python3"
  },
  "language_info": {
   "codemirror_mode": {
    "name": "ipython",
    "version": 3
   },
   "file_extension": ".py",
   "mimetype": "text/x-python",
   "name": "python",
   "nbconvert_exporter": "python",
   "pygments_lexer": "ipython3",
   "version": "3.8.9"
  }
 },
 "nbformat": 4,
 "nbformat_minor": 5
}
