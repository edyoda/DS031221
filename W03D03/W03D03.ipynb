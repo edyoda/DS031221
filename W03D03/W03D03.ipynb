{
 "cells": [
  {
   "cell_type": "code",
   "execution_count": null,
   "id": "321bad2f",
   "metadata": {},
   "outputs": [],
   "source": [
    "# delete operations in lists\n",
    "\n",
    "# pop => takes index, by default it has the index of last element in the list.\n",
    "# It also returns the element which is removed."
   ]
  },
  {
   "cell_type": "code",
   "execution_count": 1,
   "id": "4e3c50df",
   "metadata": {},
   "outputs": [],
   "source": [
    "fruits = ['apple','grapes','orange']\n",
    "ayush = fruits.pop(1)"
   ]
  },
  {
   "cell_type": "code",
   "execution_count": 2,
   "id": "35a26cd2",
   "metadata": {},
   "outputs": [
    {
     "name": "stdout",
     "output_type": "stream",
     "text": [
      "grapes\n"
     ]
    }
   ],
   "source": [
    "print(ayush)"
   ]
  },
  {
   "cell_type": "code",
   "execution_count": 3,
   "id": "2dc33d9b",
   "metadata": {},
   "outputs": [
    {
     "name": "stdout",
     "output_type": "stream",
     "text": [
      "['apple', 'orange']\n"
     ]
    }
   ],
   "source": [
    "print(fruits)"
   ]
  },
  {
   "cell_type": "code",
   "execution_count": 4,
   "id": "7e1b1aec",
   "metadata": {},
   "outputs": [
    {
     "name": "stdout",
     "output_type": "stream",
     "text": [
      "420\n"
     ]
    }
   ],
   "source": [
    "numbers = [40,33,600,69,420,786,23]\n",
    "krishna = numbers.pop(4)\n",
    "print(krishna)"
   ]
  },
  {
   "cell_type": "code",
   "execution_count": 5,
   "id": "7cd7b9fe",
   "metadata": {},
   "outputs": [
    {
     "name": "stdout",
     "output_type": "stream",
     "text": [
      "[40, 33, 600, 69, 786, 23]\n"
     ]
    }
   ],
   "source": [
    "print(numbers)"
   ]
  },
  {
   "cell_type": "code",
   "execution_count": 6,
   "id": "231e322f",
   "metadata": {},
   "outputs": [
    {
     "name": "stdout",
     "output_type": "stream",
     "text": [
      "banana\n",
      "['kiwi', 'orange', 'apple']\n"
     ]
    }
   ],
   "source": [
    "fruits = ['kiwi','orange','apple','banana']\n",
    "naman = fruits.pop()\n",
    "print(naman)\n",
    "print(fruits)"
   ]
  },
  {
   "cell_type": "code",
   "execution_count": null,
   "id": "e8a59b15",
   "metadata": {},
   "outputs": [],
   "source": [
    "# remove\n",
    "Takes the value which needs to be find and deleted. It will not return \n",
    "anything. (None type)"
   ]
  },
  {
   "cell_type": "code",
   "execution_count": 7,
   "id": "083119d4",
   "metadata": {},
   "outputs": [
    {
     "name": "stdout",
     "output_type": "stream",
     "text": [
      "None\n",
      "['kiwi', 'orange', 'banana']\n"
     ]
    }
   ],
   "source": [
    "fruits = ['kiwi','orange','apple','banana']\n",
    "naman = fruits.remove('apple')\n",
    "print(naman)\n",
    "print(fruits)"
   ]
  },
  {
   "cell_type": "code",
   "execution_count": 9,
   "id": "1d6e880e",
   "metadata": {},
   "outputs": [
    {
     "name": "stdout",
     "output_type": "stream",
     "text": [
      "None\n",
      "[40, 33, 69, 420, 786, 23]\n"
     ]
    }
   ],
   "source": [
    "numbers = [40,33,600,69,420,786,23]\n",
    "krishna = numbers.remove(600)\n",
    "print(krishna)\n",
    "print(numbers)"
   ]
  },
  {
   "cell_type": "code",
   "execution_count": 10,
   "id": "3a5795ba",
   "metadata": {},
   "outputs": [
    {
     "name": "stdout",
     "output_type": "stream",
     "text": [
      "None\n",
      "[40, 33, 69, 420, 786, 23, 600, 600]\n"
     ]
    }
   ],
   "source": [
    "numbers = [40,33,600,69,420,786,23,600,600]\n",
    "krishna = numbers.remove(600)\n",
    "print(krishna)\n",
    "print(numbers)"
   ]
  },
  {
   "cell_type": "code",
   "execution_count": null,
   "id": "1ea3bc84",
   "metadata": {},
   "outputs": [],
   "source": [
    "# clear\n",
    "\n",
    "it removes all the element in the list.\n",
    "makes the list empty\n",
    "does not return anything"
   ]
  },
  {
   "cell_type": "code",
   "execution_count": 11,
   "id": "c013342d",
   "metadata": {},
   "outputs": [
    {
     "name": "stdout",
     "output_type": "stream",
     "text": [
      "[]\n"
     ]
    }
   ],
   "source": [
    "numbers = [40,33,600,69,420,786,23,600,600]\n",
    "numbers.clear()\n",
    "print(numbers)"
   ]
  },
  {
   "cell_type": "code",
   "execution_count": 12,
   "id": "a3e96534",
   "metadata": {},
   "outputs": [
    {
     "name": "stdout",
     "output_type": "stream",
     "text": [
      "[]\n"
     ]
    }
   ],
   "source": [
    "fruits = ['kiwi','orange','apple','banana']\n",
    "fruits.clear()\n",
    "print(fruits)"
   ]
  },
  {
   "cell_type": "code",
   "execution_count": null,
   "id": "b86c3810",
   "metadata": {},
   "outputs": [],
   "source": [
    "# del => common to all the data types"
   ]
  },
  {
   "cell_type": "code",
   "execution_count": 14,
   "id": "bfffbcf7",
   "metadata": {},
   "outputs": [
    {
     "ename": "NameError",
     "evalue": "name 'fruits' is not defined",
     "output_type": "error",
     "traceback": [
      "\u001b[0;31m---------------------------------------------------------------------------\u001b[0m",
      "\u001b[0;31mNameError\u001b[0m                                 Traceback (most recent call last)",
      "\u001b[0;32m/var/folders/9s/j9tqx4617_jg3hnd11b6g4080000gn/T/ipykernel_98178/2704883554.py\u001b[0m in \u001b[0;36m<module>\u001b[0;34m\u001b[0m\n\u001b[1;32m      1\u001b[0m \u001b[0mfruits\u001b[0m \u001b[0;34m=\u001b[0m \u001b[0;34m[\u001b[0m\u001b[0;34m'kiwi'\u001b[0m\u001b[0;34m,\u001b[0m\u001b[0;34m'orange'\u001b[0m\u001b[0;34m,\u001b[0m\u001b[0;34m'apple'\u001b[0m\u001b[0;34m,\u001b[0m\u001b[0;34m'banana'\u001b[0m\u001b[0;34m]\u001b[0m\u001b[0;34m\u001b[0m\u001b[0;34m\u001b[0m\u001b[0m\n\u001b[1;32m      2\u001b[0m \u001b[0;32mdel\u001b[0m \u001b[0mfruits\u001b[0m\u001b[0;34m\u001b[0m\u001b[0;34m\u001b[0m\u001b[0m\n\u001b[0;32m----> 3\u001b[0;31m \u001b[0mprint\u001b[0m\u001b[0;34m(\u001b[0m\u001b[0mfruits\u001b[0m\u001b[0;34m)\u001b[0m\u001b[0;34m\u001b[0m\u001b[0;34m\u001b[0m\u001b[0m\n\u001b[0m",
      "\u001b[0;31mNameError\u001b[0m: name 'fruits' is not defined"
     ]
    }
   ],
   "source": [
    "fruits = ['kiwi','orange','apple','banana']\n",
    "del fruits\n",
    "print(fruits)"
   ]
  },
  {
   "cell_type": "code",
   "execution_count": 15,
   "id": "01ade987",
   "metadata": {},
   "outputs": [
    {
     "ename": "NameError",
     "evalue": "name 'x' is not defined",
     "output_type": "error",
     "traceback": [
      "\u001b[0;31m---------------------------------------------------------------------------\u001b[0m",
      "\u001b[0;31mNameError\u001b[0m                                 Traceback (most recent call last)",
      "\u001b[0;32m/var/folders/9s/j9tqx4617_jg3hnd11b6g4080000gn/T/ipykernel_98178/749200518.py\u001b[0m in \u001b[0;36m<module>\u001b[0;34m\u001b[0m\n\u001b[1;32m      1\u001b[0m \u001b[0mx\u001b[0m \u001b[0;34m=\u001b[0m \u001b[0;34m{\u001b[0m\u001b[0;34m'python'\u001b[0m\u001b[0;34m:\u001b[0m\u001b[0;36m3\u001b[0m\u001b[0;34m,\u001b[0m\u001b[0;34m'java'\u001b[0m\u001b[0;34m:\u001b[0m\u001b[0;36m8\u001b[0m\u001b[0;34m}\u001b[0m\u001b[0;34m\u001b[0m\u001b[0;34m\u001b[0m\u001b[0m\n\u001b[1;32m      2\u001b[0m \u001b[0;32mdel\u001b[0m \u001b[0mx\u001b[0m\u001b[0;34m\u001b[0m\u001b[0;34m\u001b[0m\u001b[0m\n\u001b[0;32m----> 3\u001b[0;31m \u001b[0mprint\u001b[0m\u001b[0;34m(\u001b[0m\u001b[0mx\u001b[0m\u001b[0;34m)\u001b[0m\u001b[0;34m\u001b[0m\u001b[0;34m\u001b[0m\u001b[0m\n\u001b[0m",
      "\u001b[0;31mNameError\u001b[0m: name 'x' is not defined"
     ]
    }
   ],
   "source": [
    "x = {'python':3,'java':8}\n",
    "del x\n",
    "print(x)"
   ]
  },
  {
   "cell_type": "code",
   "execution_count": null,
   "id": "4609a20c",
   "metadata": {},
   "outputs": [],
   "source": [
    "List Builtin functions:\n",
    "    append >> add element to the last\n",
    "    insert >> insert an element at the given index position\n",
    "    extend >> add all list elements to the existing list at last\n",
    "    index  >> find the index value of an item\n",
    "    count  >> counts the element\n",
    "    sort   >> Arrange the elements in ascending or descending order\n",
    "    pop\n",
    "    remove\n",
    "    clear\n",
    "    del"
   ]
  },
  {
   "cell_type": "code",
   "execution_count": null,
   "id": "5383a760",
   "metadata": {},
   "outputs": [],
   "source": [
    "String Builtin functions:\n",
    "    split >> breaks the string(based on a character) into list of words\n",
    "    join  >> it joins the list of words into a string (based on char)\n",
    "    find,rfind,index,rindex >> to finding index position of substring\n",
    "    isalpha,isdigit,isalnum,isspace\n",
    "    upper,lower,title,capitalise\n",
    "    isupper,islower,istitle\n",
    "    count,replace,\n",
    "    strip,lstrip,rstrip"
   ]
  },
  {
   "cell_type": "markdown",
   "id": "a5f766e9",
   "metadata": {},
   "source": [
    "# strip,lstrip,rstrip in Strings"
   ]
  },
  {
   "cell_type": "code",
   "execution_count": 17,
   "id": "a269faca",
   "metadata": {},
   "outputs": [
    {
     "ename": "TypeError",
     "evalue": "strip expected at most 1 argument, got 2",
     "output_type": "error",
     "traceback": [
      "\u001b[0;31m---------------------------------------------------------------------------\u001b[0m",
      "\u001b[0;31mTypeError\u001b[0m                                 Traceback (most recent call last)",
      "\u001b[0;32m/var/folders/9s/j9tqx4617_jg3hnd11b6g4080000gn/T/ipykernel_98178/789619793.py\u001b[0m in \u001b[0;36m<module>\u001b[0;34m\u001b[0m\n\u001b[0;32m----> 1\u001b[0;31m \u001b[0;34m\"Python\"\u001b[0m\u001b[0;34m.\u001b[0m\u001b[0mstrip\u001b[0m\u001b[0;34m(\u001b[0m\u001b[0;34m'*'\u001b[0m\u001b[0;34m,\u001b[0m\u001b[0;36m10\u001b[0m\u001b[0;34m)\u001b[0m\u001b[0;34m\u001b[0m\u001b[0;34m\u001b[0m\u001b[0m\n\u001b[0m",
      "\u001b[0;31mTypeError\u001b[0m: strip expected at most 1 argument, got 2"
     ]
    }
   ],
   "source": [
    "\"Python\".strip('*',10)"
   ]
  },
  {
   "cell_type": "code",
   "execution_count": 34,
   "id": "41fb0f0e",
   "metadata": {},
   "outputs": [],
   "source": [
    "# x = 'python'\n",
    "# help(str)"
   ]
  },
  {
   "cell_type": "code",
   "execution_count": 28,
   "id": "10a8cc7f",
   "metadata": {},
   "outputs": [
    {
     "name": "stdout",
     "output_type": "stream",
     "text": [
      "15\n",
      "10\n",
      "pyt    hon\n"
     ]
    }
   ],
   "source": [
    "# removes extra spaces in a string\n",
    "# removes only starting or ending spaces.\n",
    "\n",
    "x = '  pyt    hon   '\n",
    "print(len(x))\n",
    "y = x.strip()\n",
    "print(len(y))\n",
    "print(y)"
   ]
  },
  {
   "cell_type": "code",
   "execution_count": 26,
   "id": "b55d189a",
   "metadata": {},
   "outputs": [
    {
     "name": "stdout",
     "output_type": "stream",
     "text": [
      "11\n",
      "9\n",
      "python   \n"
     ]
    }
   ],
   "source": [
    "# removes starting spaces only\n",
    "x = '  python   '\n",
    "print(len(x))\n",
    "y = x.lstrip()\n",
    "print(len(y))\n",
    "print(y)"
   ]
  },
  {
   "cell_type": "code",
   "execution_count": 27,
   "id": "8648550f",
   "metadata": {},
   "outputs": [
    {
     "name": "stdout",
     "output_type": "stream",
     "text": [
      "11\n",
      "8\n",
      "  python\n"
     ]
    }
   ],
   "source": [
    "# removes ending spaces only\n",
    "x = '  python   '\n",
    "print(len(x))\n",
    "y = x.rstrip()\n",
    "print(len(y))\n",
    "print(y)"
   ]
  },
  {
   "cell_type": "markdown",
   "id": "e14196b2",
   "metadata": {},
   "source": [
    "# tuples"
   ]
  },
  {
   "cell_type": "code",
   "execution_count": null,
   "id": "6e957adb",
   "metadata": {},
   "outputs": [],
   "source": [
    ">> Immutable: No method like append,pop,insert,extend,remove,clear,etc\n",
    "              for updating,deleting,and adding elements.\n",
    "        \n",
    ">> Ordered: They support indexing and slicing.\n",
    "    \n",
    ">> Heterogenous - any kind of dataype can be stored inside.\n",
    "\n",
    ">> Duplicates are allowed in tuples.\n",
    "\n",
    ">> Most of the operations which does not violate the immutable property \n",
    "of tuples, they are same as they are in lists."
   ]
  },
  {
   "cell_type": "code",
   "execution_count": 29,
   "id": "7a9c49ee",
   "metadata": {},
   "outputs": [
    {
     "name": "stdout",
     "output_type": "stream",
     "text": [
      "23\n"
     ]
    }
   ],
   "source": [
    "x = (4,5,500,23)\n",
    "print(x[3])"
   ]
  },
  {
   "cell_type": "code",
   "execution_count": 30,
   "id": "6e1ce3a6",
   "metadata": {},
   "outputs": [
    {
     "name": "stdout",
     "output_type": "stream",
     "text": [
      "(5, 500)\n"
     ]
    }
   ],
   "source": [
    "x = (4,5,500,23)\n",
    "print(x[1:3])"
   ]
  },
  {
   "cell_type": "code",
   "execution_count": 31,
   "id": "9547678c",
   "metadata": {},
   "outputs": [
    {
     "name": "stdout",
     "output_type": "stream",
     "text": [
      "(3, 3, 3, 3, 3, 3, 3, 2, 2, 2, 5, 5, 5, 6, 6, 6, 6)\n"
     ]
    }
   ],
   "source": [
    "x = (3,3,3,3,3,3,3,2,2,2,5,5,5,6,6,6,6)\n",
    "print(x)"
   ]
  },
  {
   "cell_type": "code",
   "execution_count": 32,
   "id": "561e19b5",
   "metadata": {},
   "outputs": [
    {
     "ename": "TypeError",
     "evalue": "'tuple' object does not support item assignment",
     "output_type": "error",
     "traceback": [
      "\u001b[0;31m---------------------------------------------------------------------------\u001b[0m",
      "\u001b[0;31mTypeError\u001b[0m                                 Traceback (most recent call last)",
      "\u001b[0;32m/var/folders/9s/j9tqx4617_jg3hnd11b6g4080000gn/T/ipykernel_98178/2241054815.py\u001b[0m in \u001b[0;36m<module>\u001b[0;34m\u001b[0m\n\u001b[0;32m----> 1\u001b[0;31m \u001b[0mx\u001b[0m\u001b[0;34m[\u001b[0m\u001b[0;36m0\u001b[0m\u001b[0;34m]\u001b[0m \u001b[0;34m=\u001b[0m \u001b[0;36m300\u001b[0m\u001b[0;34m\u001b[0m\u001b[0;34m\u001b[0m\u001b[0m\n\u001b[0m",
      "\u001b[0;31mTypeError\u001b[0m: 'tuple' object does not support item assignment"
     ]
    }
   ],
   "source": [
    "x[0] = 300\n",
    "\n",
    "# tuples are immutable."
   ]
  },
  {
   "cell_type": "code",
   "execution_count": 33,
   "id": "1fb8e682",
   "metadata": {},
   "outputs": [
    {
     "ename": "AttributeError",
     "evalue": "'tuple' object has no attribute 'pop'",
     "output_type": "error",
     "traceback": [
      "\u001b[0;31m---------------------------------------------------------------------------\u001b[0m",
      "\u001b[0;31mAttributeError\u001b[0m                            Traceback (most recent call last)",
      "\u001b[0;32m/var/folders/9s/j9tqx4617_jg3hnd11b6g4080000gn/T/ipykernel_98178/3757347420.py\u001b[0m in \u001b[0;36m<module>\u001b[0;34m\u001b[0m\n\u001b[1;32m      1\u001b[0m \u001b[0mx\u001b[0m \u001b[0;34m=\u001b[0m \u001b[0;34m(\u001b[0m\u001b[0;36m3\u001b[0m\u001b[0;34m,\u001b[0m\u001b[0;36m3\u001b[0m\u001b[0;34m,\u001b[0m\u001b[0;36m3\u001b[0m\u001b[0;34m,\u001b[0m\u001b[0;36m3\u001b[0m\u001b[0;34m,\u001b[0m\u001b[0;36m3\u001b[0m\u001b[0;34m,\u001b[0m\u001b[0;36m3\u001b[0m\u001b[0;34m,\u001b[0m\u001b[0;36m3\u001b[0m\u001b[0;34m,\u001b[0m\u001b[0;36m2\u001b[0m\u001b[0;34m,\u001b[0m\u001b[0;36m2\u001b[0m\u001b[0;34m,\u001b[0m\u001b[0;36m2\u001b[0m\u001b[0;34m,\u001b[0m\u001b[0;36m5\u001b[0m\u001b[0;34m,\u001b[0m\u001b[0;36m5\u001b[0m\u001b[0;34m,\u001b[0m\u001b[0;36m5\u001b[0m\u001b[0;34m,\u001b[0m\u001b[0;36m6\u001b[0m\u001b[0;34m,\u001b[0m\u001b[0;36m6\u001b[0m\u001b[0;34m,\u001b[0m\u001b[0;36m6\u001b[0m\u001b[0;34m,\u001b[0m\u001b[0;36m6\u001b[0m\u001b[0;34m)\u001b[0m\u001b[0;34m\u001b[0m\u001b[0;34m\u001b[0m\u001b[0m\n\u001b[0;32m----> 2\u001b[0;31m \u001b[0mx\u001b[0m\u001b[0;34m.\u001b[0m\u001b[0mpop\u001b[0m\u001b[0;34m(\u001b[0m\u001b[0;34m)\u001b[0m\u001b[0;34m\u001b[0m\u001b[0;34m\u001b[0m\u001b[0m\n\u001b[0m",
      "\u001b[0;31mAttributeError\u001b[0m: 'tuple' object has no attribute 'pop'"
     ]
    }
   ],
   "source": [
    "x = (3,3,3,3,3,3,3,2,2,2,5,5,5,6,6,6,6)\n",
    "x.pop()"
   ]
  },
  {
   "cell_type": "code",
   "execution_count": null,
   "id": "5352b434",
   "metadata": {},
   "outputs": [],
   "source": [
    "# count,index,del are allowed in tuples."
   ]
  },
  {
   "cell_type": "code",
   "execution_count": 35,
   "id": "a81d361b",
   "metadata": {},
   "outputs": [
    {
     "data": {
      "text/plain": [
       "7"
      ]
     },
     "execution_count": 35,
     "metadata": {},
     "output_type": "execute_result"
    }
   ],
   "source": [
    "x = (3,3,3,3,3,3,3,2,2,2,5,5,5,6,6,6,6)\n",
    "x.count(3)"
   ]
  },
  {
   "cell_type": "code",
   "execution_count": 39,
   "id": "76473e0e",
   "metadata": {},
   "outputs": [
    {
     "data": {
      "text/plain": [
       "1"
      ]
     },
     "execution_count": 39,
     "metadata": {},
     "output_type": "execute_result"
    }
   ],
   "source": [
    "fruits = ('apple','mango','banana')\n",
    "fruits.index('mango')"
   ]
  },
  {
   "cell_type": "code",
   "execution_count": 40,
   "id": "c65b2915",
   "metadata": {},
   "outputs": [],
   "source": [
    "del fruits"
   ]
  },
  {
   "cell_type": "code",
   "execution_count": 41,
   "id": "49d67dcb",
   "metadata": {},
   "outputs": [
    {
     "ename": "NameError",
     "evalue": "name 'fruits' is not defined",
     "output_type": "error",
     "traceback": [
      "\u001b[0;31m---------------------------------------------------------------------------\u001b[0m",
      "\u001b[0;31mNameError\u001b[0m                                 Traceback (most recent call last)",
      "\u001b[0;32m/var/folders/9s/j9tqx4617_jg3hnd11b6g4080000gn/T/ipykernel_98178/708514525.py\u001b[0m in \u001b[0;36m<module>\u001b[0;34m\u001b[0m\n\u001b[0;32m----> 1\u001b[0;31m \u001b[0mprint\u001b[0m\u001b[0;34m(\u001b[0m\u001b[0mfruits\u001b[0m\u001b[0;34m)\u001b[0m\u001b[0;34m\u001b[0m\u001b[0;34m\u001b[0m\u001b[0m\n\u001b[0m",
      "\u001b[0;31mNameError\u001b[0m: name 'fruits' is not defined"
     ]
    }
   ],
   "source": [
    "print(fruits)"
   ]
  },
  {
   "cell_type": "code",
   "execution_count": null,
   "id": "fe2c76dd",
   "metadata": {},
   "outputs": [],
   "source": [
    "Data Types discussed in detail:\n",
    "    list\n",
    "    tuple\n",
    "    str\n",
    "    Numbers(int and float)\n",
    "    None\n",
    "    bool"
   ]
  },
  {
   "cell_type": "markdown",
   "id": "83630559",
   "metadata": {},
   "source": [
    "# questions on lists and tuples"
   ]
  },
  {
   "cell_type": "markdown",
   "id": "4c45abbb",
   "metadata": {},
   "source": [
    "## Q3.) Find the maximum appearing alphabet in the string \"apple is apple\"\n",
    "### Intuition: Use the learn count function learnt in the previous lesson\n",
    "\n",
    "### Pseudocode:\n",
    "    every char \n",
    "    check if already present in the list or not \n",
    "         if not present :\n",
    "            calculate count \n",
    "            check max count condition \n",
    "    8:35"
   ]
  },
  {
   "cell_type": "code",
   "execution_count": null,
   "id": "2fbfb75b",
   "metadata": {},
   "outputs": [],
   "source": [
    "# strip,lstrip,rstrip\n",
    "\n",
    "# strip removes spaces from starting, and ending of the stirng."
   ]
  },
  {
   "cell_type": "code",
   "execution_count": 44,
   "id": "08134f83",
   "metadata": {},
   "outputs": [
    {
     "name": "stdout",
     "output_type": "stream",
     "text": [
      "9\n",
      "pluto\n",
      "5\n"
     ]
    }
   ],
   "source": [
    "x = '  pluto  '\n",
    "print(len(x))\n",
    "y = x.strip()\n",
    "print(y)\n",
    "print(len(y))"
   ]
  },
  {
   "cell_type": "code",
   "execution_count": 51,
   "id": "33dfc9e0",
   "metadata": {},
   "outputs": [
    {
     "name": "stdout",
     "output_type": "stream",
     "text": [
      "{'a': 2, 'p': 4, 'l': 2, 'e': 2, 'i': 1, 's': 1}\n",
      "p\n"
     ]
    }
   ],
   "source": [
    "x = \"apple is apple\"\n",
    "y = {}\n",
    "\n",
    "for alphabet in x:\n",
    "    if alphabet != \" \":\n",
    "        y[alphabet] = x.count(alphabet)\n",
    "print(y)\n",
    "maximum_alphabet = None\n",
    "maximum_occurence = float('-inf')\n",
    "for key in y:\n",
    "    if maximum_occurence < y[key]:\n",
    "        maximum_occurence = y[key]\n",
    "        maximum_alphabet = key\n",
    "print(maximum_alphabet)"
   ]
  },
  {
   "cell_type": "code",
   "execution_count": 52,
   "id": "a6a239c1",
   "metadata": {},
   "outputs": [
    {
     "name": "stdout",
     "output_type": "stream",
     "text": [
      "786\n"
     ]
    }
   ],
   "source": [
    "x = [40,23,400,29,786,420,37,98]\n",
    "\n",
    "t = max(x)\n",
    "\n",
    "print(t)"
   ]
  },
  {
   "cell_type": "code",
   "execution_count": 53,
   "id": "838c996e",
   "metadata": {},
   "outputs": [
    {
     "name": "stdout",
     "output_type": "stream",
     "text": [
      "23\n"
     ]
    }
   ],
   "source": [
    "x = [40,23,400,29,786,420,37,98]\n",
    "\n",
    "t = min(x)\n",
    "\n",
    "print(t)"
   ]
  },
  {
   "cell_type": "code",
   "execution_count": 72,
   "id": "3ffc599d",
   "metadata": {},
   "outputs": [
    {
     "data": {
      "text/plain": [
       "'p'"
      ]
     },
     "execution_count": 72,
     "metadata": {},
     "output_type": "execute_result"
    }
   ],
   "source": [
    "x = \"apple is good apple\"\n",
    "alphabet_list = list(set(x))\n",
    "alphabet_list.remove(' ')\n",
    "count_list = []\n",
    "for alphabet in alphabet_list:\n",
    "    count_list.append(x.count(alphabet))\n",
    "\n",
    "max_index = count_list.index(max(count_list))\n",
    "\n",
    "alphabet_list[max_index]"
   ]
  },
  {
   "cell_type": "markdown",
   "id": "04ba6a4d",
   "metadata": {},
   "source": [
    "## Q4.) Use range(1,21) make two list, one should contain even numbers and the other should contain odd numbers"
   ]
  },
  {
   "cell_type": "code",
   "execution_count": 73,
   "id": "4adaeb9f",
   "metadata": {},
   "outputs": [
    {
     "name": "stdout",
     "output_type": "stream",
     "text": [
      "[1, 3, 5, 7, 9, 11, 13, 15, 17, 19]\n",
      "[2, 4, 6, 8, 10, 12, 14, 16, 18, 20]\n"
     ]
    }
   ],
   "source": [
    "odd = []\n",
    "even = []\n",
    "\n",
    "for i in range(1,21):\n",
    "    if i%2 == 0:\n",
    "        even.append(i)\n",
    "    else:\n",
    "        odd.append(i)\n",
    "        \n",
    "print(odd)\n",
    "print(even)"
   ]
  },
  {
   "cell_type": "markdown",
   "id": "1aff5fb8",
   "metadata": {},
   "source": [
    "## Q.5) given two tuples , arrange their unique elements in sorted order in a list\n",
    "\n",
    "### Intuition: Tuples are immutable, create an empty list to store the unique elements and sort them.\n",
    "\n",
    "### Pseudocode:\n",
    "    1.)Create a new tuple by adding them.\n",
    "    2.)loop through them to append only value not already present\n",
    "    3.)finally use sorted method on the list."
   ]
  },
  {
   "cell_type": "code",
   "execution_count": 78,
   "id": "ccd4693b",
   "metadata": {},
   "outputs": [
    {
     "name": "stdout",
     "output_type": "stream",
     "text": [
      "[18, 19, 23, 30, 35, 40, 82, 92, 420, 786]\n"
     ]
    }
   ],
   "source": [
    "x = (30,40,23,18,92,35,420)\n",
    "y = (23,40,82,19,92,30,786)\n",
    "\n",
    "t3 = list(set(x + y))\n",
    "t3.sort()\n",
    "print(t3)"
   ]
  },
  {
   "cell_type": "code",
   "execution_count": 79,
   "id": "95f1e536",
   "metadata": {},
   "outputs": [
    {
     "name": "stdout",
     "output_type": "stream",
     "text": [
      "[30, 40, 23, 18, 92, 35, 420]\n"
     ]
    }
   ],
   "source": [
    "x = (30,40,23,18,92,35,420)\n",
    "print(list(x))"
   ]
  },
  {
   "cell_type": "markdown",
   "id": "92105b6d",
   "metadata": {},
   "source": [
    "### Q.6): Do the following\n",
    "    a)Create a tuple with single item 2."
   ]
  },
  {
   "cell_type": "code",
   "execution_count": 81,
   "id": "c873d093",
   "metadata": {},
   "outputs": [
    {
     "name": "stdout",
     "output_type": "stream",
     "text": [
      "<class 'tuple'>\n"
     ]
    }
   ],
   "source": [
    "x = (2,)\n",
    "\n",
    "print(type(x))"
   ]
  },
  {
   "cell_type": "code",
   "execution_count": null,
   "id": "45306e69",
   "metadata": {},
   "outputs": [],
   "source": []
  }
 ],
 "metadata": {
  "kernelspec": {
   "display_name": "Python 3 (ipykernel)",
   "language": "python",
   "name": "python3"
  },
  "language_info": {
   "codemirror_mode": {
    "name": "ipython",
    "version": 3
   },
   "file_extension": ".py",
   "mimetype": "text/x-python",
   "name": "python",
   "nbconvert_exporter": "python",
   "pygments_lexer": "ipython3",
   "version": "3.8.9"
  }
 },
 "nbformat": 4,
 "nbformat_minor": 5
}
