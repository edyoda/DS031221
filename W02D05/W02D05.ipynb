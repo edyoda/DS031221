{
 "cells": [
  {
   "cell_type": "code",
   "execution_count": null,
   "id": "fe437627",
   "metadata": {},
   "outputs": [],
   "source": [
    "# while loop"
   ]
  },
  {
   "cell_type": "code",
   "execution_count": 3,
   "id": "73221bb9",
   "metadata": {},
   "outputs": [],
   "source": [
    "while True:\n",
    "    print('mango')\n",
    "# the above code will run infinite times."
   ]
  },
  {
   "cell_type": "code",
   "execution_count": null,
   "id": "def0b7c1",
   "metadata": {},
   "outputs": [],
   "source": [
    "syntax:\n",
    "\n",
    "while boolean_value:\n",
    "    python code\n",
    "    python code...\n",
    "    \n",
    "Flow of Execution:\n",
    "    1) It tests whether boolean_value is True.\n",
    "    2) If it is True, it runs the python code, after running all lines \n",
    "    inside the indented while loop, you go back to 1) step.\n",
    "How can you get a boolean_value?\n",
    "  1) Comparison Operators(==,<,>,<=,>=,!=)\n",
    "  2) Membership Operators(in,not in)\n",
    "  3) Identity Operators(is,is not)\n",
    "  4) Boolean Equivalents:['34',{'python':3,'java':8},{4,34,24},(6,8),None]\n",
    "  5) Logical Operators (and,not,or)"
   ]
  },
  {
   "cell_type": "code",
   "execution_count": 5,
   "id": "0f718c9b",
   "metadata": {},
   "outputs": [
    {
     "data": {
      "text/plain": [
       "False"
      ]
     },
     "execution_count": 5,
     "metadata": {},
     "output_type": "execute_result"
    }
   ],
   "source": [
    "x = 400\n",
    "x > 500"
   ]
  },
  {
   "cell_type": "code",
   "execution_count": 7,
   "id": "e932a04c",
   "metadata": {},
   "outputs": [
    {
     "data": {
      "text/plain": [
       "False"
      ]
     },
     "execution_count": 7,
     "metadata": {},
     "output_type": "execute_result"
    }
   ],
   "source": [
    "fruits = ['kiwi','apple','mango']\n",
    "'kiwi2' in fruits"
   ]
  },
  {
   "cell_type": "code",
   "execution_count": null,
   "id": "aaf33c6d",
   "metadata": {},
   "outputs": [],
   "source": [
    "if boolean_value:\n",
    "    python code\n",
    "else:\n",
    "    python code 2\n",
    "    \n",
    "When boolean_value is True, you run python code, else you run python code 2"
   ]
  },
  {
   "cell_type": "code",
   "execution_count": 10,
   "id": "92a0980a",
   "metadata": {},
   "outputs": [
    {
     "name": "stdout",
     "output_type": "stream",
     "text": [
      "20\n",
      "21\n",
      "22\n",
      "23\n",
      "24\n",
      "25\n",
      "26\n",
      "27\n",
      "28\n",
      "29\n"
     ]
    }
   ],
   "source": [
    "x = 20\n",
    "\n",
    "while x < 30:\n",
    "    print(x)\n",
    "    x = x + 1"
   ]
  },
  {
   "cell_type": "code",
   "execution_count": 11,
   "id": "c820ba2d",
   "metadata": {},
   "outputs": [
    {
     "name": "stdout",
     "output_type": "stream",
     "text": [
      "kiwi\n",
      "apple\n",
      "mango\n",
      "We are at the end\n"
     ]
    }
   ],
   "source": [
    "fruits = ['kiwi','apple','mango','pineapple','apricot',\n",
    "          'dragonfruit','fig']\n",
    "i = 0\n",
    "fr = fruits[i]\n",
    "while len(fr) <= 5:\n",
    "    print(fr)\n",
    "    i = i+1\n",
    "    fr = fruits[i]\n",
    "\n",
    "print('We are at the end')"
   ]
  },
  {
   "cell_type": "code",
   "execution_count": 14,
   "id": "724cbb3e",
   "metadata": {},
   "outputs": [
    {
     "name": "stdout",
     "output_type": "stream",
     "text": [
      "400\n",
      "55\n",
      "78\n",
      "30\n",
      "28\n",
      "-50\n",
      "Hi we are here\n"
     ]
    }
   ],
   "source": [
    "# break\n",
    "list_of_no = [400,55,78,30,28,-50,38,299,4887]\n",
    "\n",
    "for item in list_of_no:\n",
    "    print(item)\n",
    "    if item < 0:\n",
    "        break\n",
    "print('Hi we are here')\n",
    "\n",
    "d = 'mango apple'"
   ]
  },
  {
   "cell_type": "code",
   "execution_count": 15,
   "id": "dd0637cd",
   "metadata": {},
   "outputs": [],
   "source": [
    "employees = [ \n",
    " {'name': 'Aman',\n",
    " 'emp_id': 37,\n",
    " 'sallary': 1900,\n",
    " 'isMarried': True},\n",
    "{'name': 'Rohan',\n",
    " 'emp_id': 29,\n",
    " 'sallary': 33000,\n",
    " 'isMarried': True},\n",
    "{'name': 'Aadil',\n",
    " 'emp_id': 69,\n",
    " 'sallary': 121000,\n",
    " 'isMarried': True},\n",
    "{'name': 'Mohammed',\n",
    " 'emp_id': 53,\n",
    " 'sallary': 50000,\n",
    " 'isMarried': True}\n",
    "]"
   ]
  },
  {
   "cell_type": "code",
   "execution_count": 26,
   "id": "dacac637",
   "metadata": {},
   "outputs": [
    {
     "name": "stdout",
     "output_type": "stream",
     "text": [
      "Aman\n",
      "1\n",
      "I am at the last line\n",
      "Rohan\n",
      "2\n",
      "I am at the last line\n",
      "Aadil\n",
      "3\n",
      "I am at the last line\n",
      "Mohammed\n",
      "4\n"
     ]
    }
   ],
   "source": [
    "index = 0\n",
    "emp = employees[index]\n",
    "\n",
    "while index <= 3:\n",
    "    print(emp['name'])\n",
    "    index = index + 1\n",
    "    print(index)\n",
    "    if index > 3:\n",
    "        break\n",
    "    emp = employees[index]\n",
    "    print('I am at the last line')"
   ]
  },
  {
   "cell_type": "code",
   "execution_count": 30,
   "id": "cfd3358b",
   "metadata": {},
   "outputs": [
    {
     "name": "stdout",
     "output_type": "stream",
     "text": [
      "kiwi\n",
      "inside loop, last line\n",
      "apple\n",
      "inside loop, last line\n",
      "mango\n",
      "inside loop, last line\n",
      "pine\n",
      "We are at the end\n"
     ]
    }
   ],
   "source": [
    "fruits = ['kiwi','apple','mango','pine','apri',\n",
    "          'drogo','fig']\n",
    "i = 0\n",
    "fr = fruits[i]\n",
    "while len(fr) <= 5:\n",
    "    print(fr)\n",
    "    i = i+1\n",
    "    fr = fruits[i]\n",
    "    if fr == 'apri':\n",
    "        break\n",
    "    print('inside loop, last line')\n",
    "\n",
    "print('We are at the end')"
   ]
  },
  {
   "cell_type": "code",
   "execution_count": 34,
   "id": "ae4988a1",
   "metadata": {},
   "outputs": [
    {
     "name": "stdout",
     "output_type": "stream",
     "text": [
      "Lalalalalala salman khan katrina\n",
      "Lalalalalala ranbir kapoor katrina\n",
      "Lalalalalala vicky kaushal katrina\n"
     ]
    }
   ],
   "source": [
    "# break\n",
    "train = ['salman khan','ranbir kapoor','vicky kaushal','Hrithik']\n",
    "\n",
    "index = 0\n",
    "girl = 'katrina'\n",
    "boy = train[index]\n",
    "print('Lalalalalala',boy,girl)\n",
    "\n",
    "while index <= 2:\n",
    "    index = index + 1\n",
    "    boy = train[index]\n",
    "    print('Lalalalalala',boy,girl)\n",
    "    if boy == 'vicky kaushal':\n",
    "        break"
   ]
  },
  {
   "cell_type": "code",
   "execution_count": 39,
   "id": "c70ba30d",
   "metadata": {},
   "outputs": [
    {
     "name": "stdout",
     "output_type": "stream",
     "text": [
      "Invitation Letter\n",
      "Sir  salman khan  you are being invited for the baby shower of \n",
      " our new born baby girl shanaya on 11 September 2022\n",
      "*****************************\n",
      "Invitation Letter\n",
      "Sir  ranbir kapoor  you are being invited for the baby shower of \n",
      " our new born baby girl shanaya on 11 September 2022\n",
      "*****************************\n",
      "Invitation Letter\n",
      "Sir  Hrithik  you are being invited for the baby shower of \n",
      " our new born baby girl shanaya on 11 September 2022\n",
      "*****************************\n"
     ]
    }
   ],
   "source": [
    "# continue\n",
    "train = ['salman khan','ranbir kapoor','vicky kaushal','Hrithik']\n",
    "\n",
    "index = 0\n",
    "girl = 'katrina'\n",
    "boy = train[index]\n",
    "print('Invitation Letter')\n",
    "print('Sir ',boy,' you are being invited for the baby shower of ')\n",
    "print(' our new born baby girl shanaya on 11 September 2022')\n",
    "print('*****************************')\n",
    "while index <= 2:\n",
    "    index = index + 1\n",
    "    boy = train[index]\n",
    "    if boy == 'vicky kaushal':\n",
    "        continue\n",
    "    print('Invitation Letter')\n",
    "    print('Sir ',boy,' you are being invited for the baby shower of ')\n",
    "    print(' our new born baby girl shanaya on 11 September 2022')\n",
    "    print('*****************************')"
   ]
  },
  {
   "cell_type": "code",
   "execution_count": null,
   "id": "b87e7a68",
   "metadata": {},
   "outputs": [],
   "source": [
    "continue: skip rest of the lines, and move to the next iteration."
   ]
  },
  {
   "cell_type": "code",
   "execution_count": 41,
   "id": "46cbc398",
   "metadata": {},
   "outputs": [
    {
     "name": "stdout",
     "output_type": "stream",
     "text": [
      "it's magic, it's magic 400\n",
      "it's magic, it's magic 34\n",
      "it's magic, it's magic 567\n",
      "it's magic, it's magic 345\n",
      "it's magic, it's magic 79\n",
      "it's magic, it's magic 697\n"
     ]
    }
   ],
   "source": [
    "list_of_no = [400,34,567,892,345,79,697]\n",
    "\n",
    "for no in list_of_no:\n",
    "    if no == 892:\n",
    "        continue\n",
    "    print(\"it's magic, it's magic\",no)"
   ]
  },
  {
   "cell_type": "code",
   "execution_count": null,
   "id": "84909e57",
   "metadata": {},
   "outputs": [],
   "source": [
    "pass is used as an placeholder."
   ]
  },
  {
   "cell_type": "code",
   "execution_count": 42,
   "id": "df980723",
   "metadata": {},
   "outputs": [],
   "source": [
    "# input() function\n",
    "\n",
    "by default input function takes strings.\n",
    "if we want to take a specific data type, than\n",
    "we can convert it later."
   ]
  },
  {
   "cell_type": "code",
   "execution_count": 43,
   "id": "4a10b2b4",
   "metadata": {},
   "outputs": [
    {
     "name": "stdout",
     "output_type": "stream",
     "text": [
      "kjadlsfjklads98023908234!@#$%$#\n"
     ]
    }
   ],
   "source": [
    "x = input()"
   ]
  },
  {
   "cell_type": "code",
   "execution_count": 44,
   "id": "c03fc609",
   "metadata": {},
   "outputs": [
    {
     "name": "stdout",
     "output_type": "stream",
     "text": [
      "kjadlsfjklads98023908234!@#$%$#\n"
     ]
    }
   ],
   "source": [
    "print(x)"
   ]
  },
  {
   "cell_type": "code",
   "execution_count": 45,
   "id": "2b5a4ab7",
   "metadata": {},
   "outputs": [
    {
     "name": "stdout",
     "output_type": "stream",
     "text": [
      "<class 'str'>\n"
     ]
    }
   ],
   "source": [
    "print(type(x))"
   ]
  },
  {
   "cell_type": "code",
   "execution_count": 46,
   "id": "beaf8d5e",
   "metadata": {},
   "outputs": [
    {
     "name": "stdout",
     "output_type": "stream",
     "text": [
      "300\n"
     ]
    }
   ],
   "source": [
    "x = input()"
   ]
  },
  {
   "cell_type": "code",
   "execution_count": 47,
   "id": "3b0ca5b9",
   "metadata": {},
   "outputs": [
    {
     "name": "stdout",
     "output_type": "stream",
     "text": [
      "<class 'str'>\n"
     ]
    }
   ],
   "source": [
    "print(type(x))"
   ]
  },
  {
   "cell_type": "code",
   "execution_count": 48,
   "id": "ab50e991",
   "metadata": {},
   "outputs": [
    {
     "name": "stdout",
     "output_type": "stream",
     "text": [
      "300\n"
     ]
    }
   ],
   "source": [
    "x = int(input())"
   ]
  },
  {
   "cell_type": "code",
   "execution_count": 49,
   "id": "6cf78498",
   "metadata": {},
   "outputs": [
    {
     "name": "stdout",
     "output_type": "stream",
     "text": [
      "<class 'int'>\n"
     ]
    }
   ],
   "source": [
    "print(type(x))"
   ]
  },
  {
   "cell_type": "code",
   "execution_count": 50,
   "id": "885fbd74",
   "metadata": {},
   "outputs": [
    {
     "name": "stdout",
     "output_type": "stream",
     "text": [
      "456\n"
     ]
    }
   ],
   "source": [
    "x = float(input())"
   ]
  },
  {
   "cell_type": "code",
   "execution_count": 51,
   "id": "1a900bce",
   "metadata": {},
   "outputs": [
    {
     "name": "stdout",
     "output_type": "stream",
     "text": [
      "<class 'float'>\n"
     ]
    }
   ],
   "source": [
    "print(type(x))"
   ]
  },
  {
   "cell_type": "code",
   "execution_count": 52,
   "id": "e5480e29",
   "metadata": {},
   "outputs": [
    {
     "name": "stdout",
     "output_type": "stream",
     "text": [
      "456.0\n"
     ]
    }
   ],
   "source": [
    "print(x)"
   ]
  },
  {
   "cell_type": "code",
   "execution_count": 53,
   "id": "c181d8b1",
   "metadata": {},
   "outputs": [
    {
     "name": "stdout",
     "output_type": "stream",
     "text": [
      "56\n"
     ]
    }
   ],
   "source": [
    "x = bool(input())"
   ]
  },
  {
   "cell_type": "code",
   "execution_count": 54,
   "id": "97abaa5d",
   "metadata": {},
   "outputs": [
    {
     "name": "stdout",
     "output_type": "stream",
     "text": [
      "True\n"
     ]
    }
   ],
   "source": [
    "print(x)"
   ]
  },
  {
   "cell_type": "code",
   "execution_count": 66,
   "id": "81f11b61",
   "metadata": {},
   "outputs": [
    {
     "name": "stdout",
     "output_type": "stream",
     "text": [
      "0\n"
     ]
    }
   ],
   "source": [
    "x = bool(int(input()))"
   ]
  },
  {
   "cell_type": "code",
   "execution_count": 68,
   "id": "348305c0",
   "metadata": {},
   "outputs": [
    {
     "name": "stdout",
     "output_type": "stream",
     "text": [
      "False\n"
     ]
    }
   ],
   "source": [
    "print(x)\n",
    "# \"0\" -> bool true"
   ]
  },
  {
   "cell_type": "code",
   "execution_count": 61,
   "id": "7cbb496a",
   "metadata": {},
   "outputs": [
    {
     "name": "stdout",
     "output_type": "stream",
     "text": [
      "type cool stuff 56\n"
     ]
    }
   ],
   "source": [
    "x = int(input(\"type cool stuff \"))"
   ]
  },
  {
   "cell_type": "code",
   "execution_count": 62,
   "id": "d4e419a9",
   "metadata": {},
   "outputs": [
    {
     "name": "stdout",
     "output_type": "stream",
     "text": [
      "56\n"
     ]
    }
   ],
   "source": [
    "print(x)"
   ]
  },
  {
   "cell_type": "code",
   "execution_count": 63,
   "id": "2ed8b64a",
   "metadata": {},
   "outputs": [],
   "source": [
    "# print() function"
   ]
  },
  {
   "cell_type": "code",
   "execution_count": 72,
   "id": "002eed81",
   "metadata": {},
   "outputs": [
    {
     "name": "stdout",
     "output_type": "stream",
     "text": [
      "False okoaakeokokokoa happy\n",
      "False okoaakeokokokoa happy\n"
     ]
    }
   ],
   "source": [
    "print(x,'happy',sep=' okoaakeokokokoa ')\n",
    "print(x,'happy',sep=' okoaakeokokokoa ')"
   ]
  },
  {
   "cell_type": "code",
   "execution_count": 73,
   "id": "0f0f556f",
   "metadata": {},
   "outputs": [
    {
     "name": "stdout",
     "output_type": "stream",
     "text": [
      "False okoaakeokokokoa happy ## False okoaakeokokokoa happy\n"
     ]
    }
   ],
   "source": [
    "print(x,'happy',sep=' okoaakeokokokoa ',end=' ## ')\n",
    "print(x,'happy',sep=' okoaakeokokokoa ')"
   ]
  },
  {
   "cell_type": "code",
   "execution_count": 74,
   "id": "6c2f7013",
   "metadata": {},
   "outputs": [
    {
     "name": "stdout",
     "output_type": "stream",
     "text": [
      "\n",
      "\n"
     ]
    }
   ],
   "source": [
    "print('\\n')"
   ]
  },
  {
   "cell_type": "code",
   "execution_count": 75,
   "id": "81b5f7aa",
   "metadata": {},
   "outputs": [
    {
     "name": "stdout",
     "output_type": "stream",
     "text": [
      "\t\n"
     ]
    }
   ],
   "source": [
    "print('\\t')"
   ]
  },
  {
   "cell_type": "markdown",
   "id": "050101db",
   "metadata": {},
   "source": [
    "# Strings"
   ]
  },
  {
   "cell_type": "code",
   "execution_count": null,
   "id": "b5a0b1bd",
   "metadata": {},
   "outputs": [],
   "source": [
    "x = 'mango'\n",
    "x = \"kiwi\"\n",
    "x = \"\"\"blow horn\"\"\"\n",
    "x = '''triple H'''\n",
    "\n",
    "x = \"\"\"cool\n",
    "stuff\"\"\""
   ]
  },
  {
   "cell_type": "code",
   "execution_count": null,
   "id": "a21611a3",
   "metadata": {},
   "outputs": [],
   "source": [
    "str() -> to typecaste other datatypes into string."
   ]
  },
  {
   "cell_type": "code",
   "execution_count": 76,
   "id": "aace36ce",
   "metadata": {},
   "outputs": [],
   "source": [
    "# split and join"
   ]
  },
  {
   "cell_type": "code",
   "execution_count": 77,
   "id": "5f9e707b",
   "metadata": {},
   "outputs": [
    {
     "name": "stdout",
     "output_type": "stream",
     "text": [
      "['I', 'am', 'happy', 'to', 'help']\n"
     ]
    }
   ],
   "source": [
    "string1 = \"I am happy to help\"\n",
    "\n",
    "string1_list = string1.split() # by default we separate words\n",
    "# considering that space is the separator.\n",
    "\n",
    "print(string1_list)"
   ]
  },
  {
   "cell_type": "code",
   "execution_count": 87,
   "id": "0114fe05",
   "metadata": {},
   "outputs": [
    {
     "name": "stdout",
     "output_type": "stream",
     "text": [
      "[{'type': 'bike', 'brand': 'royalenfield', 'model': 'metor'}, {'type': 'car', 'brand': 'marutisuzuki', 'model': 'breeza'}]\n"
     ]
    }
   ],
   "source": [
    "list_of_vehicle = [\"bike_royalenfield_metor\",\n",
    "                  \"car_marutisuzuki_breeza\"]\n",
    "data = []\n",
    "for vehicle in list_of_vehicle:\n",
    "    data_of_vehicle = {}\n",
    "    vehicle_info = vehicle.split(\"_\")\n",
    "    data_of_vehicle['type'] = vehicle_info[0]\n",
    "    data_of_vehicle['brand'] = vehicle_info[1]\n",
    "    data_of_vehicle['model'] = vehicle_info[2]\n",
    "    data.append(data_of_vehicle)\n",
    "print(data)"
   ]
  },
  {
   "cell_type": "code",
   "execution_count": 92,
   "id": "0d775de1",
   "metadata": {},
   "outputs": [
    {
     "name": "stdout",
     "output_type": "stream",
     "text": [
      "I**am**happy**to**help\n"
     ]
    }
   ],
   "source": [
    "x = ['I', 'am', 'happy', 'to', 'help']\n",
    "\n",
    "y = ('**').join(x)\n",
    "\n",
    "print(y)"
   ]
  },
  {
   "cell_type": "markdown",
   "id": "dfcb088f",
   "metadata": {},
   "source": [
    "# builtin functions related to find"
   ]
  },
  {
   "cell_type": "code",
   "execution_count": null,
   "id": "6f997694",
   "metadata": {},
   "outputs": [],
   "source": [
    "find,rfind,"
   ]
  },
  {
   "cell_type": "code",
   "execution_count": 93,
   "id": "657e0742",
   "metadata": {},
   "outputs": [
    {
     "data": {
      "text/plain": [
       "6"
      ]
     },
     "execution_count": 93,
     "metadata": {},
     "output_type": "execute_result"
    }
   ],
   "source": [
    "s = 'PythonJavaPythonJava'\n",
    "s.find(\"Java\")"
   ]
  },
  {
   "cell_type": "code",
   "execution_count": 94,
   "id": "a132abeb",
   "metadata": {},
   "outputs": [
    {
     "data": {
      "text/plain": [
       "16"
      ]
     },
     "execution_count": 94,
     "metadata": {},
     "output_type": "execute_result"
    }
   ],
   "source": [
    "s = 'PythonJavaPythonJava'\n",
    "s.rfind(\"Java\")"
   ]
  },
  {
   "cell_type": "code",
   "execution_count": 95,
   "id": "03d96fc0",
   "metadata": {},
   "outputs": [
    {
     "data": {
      "text/plain": [
       "-1"
      ]
     },
     "execution_count": 95,
     "metadata": {},
     "output_type": "execute_result"
    }
   ],
   "source": [
    "s = 'PythonJavaPythonJava'\n",
    "s.find(\"mango\")"
   ]
  },
  {
   "cell_type": "code",
   "execution_count": null,
   "id": "8eb6d820",
   "metadata": {},
   "outputs": [],
   "source": [
    "index,rindex"
   ]
  },
  {
   "cell_type": "code",
   "execution_count": 96,
   "id": "52551d90",
   "metadata": {},
   "outputs": [
    {
     "data": {
      "text/plain": [
       "6"
      ]
     },
     "execution_count": 96,
     "metadata": {},
     "output_type": "execute_result"
    }
   ],
   "source": [
    "s = 'PythonJavaPythonJava'\n",
    "s.index(\"Java\")"
   ]
  },
  {
   "cell_type": "code",
   "execution_count": 97,
   "id": "04ee49a6",
   "metadata": {},
   "outputs": [
    {
     "data": {
      "text/plain": [
       "16"
      ]
     },
     "execution_count": 97,
     "metadata": {},
     "output_type": "execute_result"
    }
   ],
   "source": [
    "s = 'PythonJavaPythonJava'\n",
    "s.rindex(\"Java\")"
   ]
  },
  {
   "cell_type": "code",
   "execution_count": 98,
   "id": "c52657df",
   "metadata": {},
   "outputs": [
    {
     "ename": "ValueError",
     "evalue": "substring not found",
     "output_type": "error",
     "traceback": [
      "\u001b[0;31m---------------------------------------------------------------------------\u001b[0m",
      "\u001b[0;31mValueError\u001b[0m                                Traceback (most recent call last)",
      "\u001b[0;32m/var/folders/9s/j9tqx4617_jg3hnd11b6g4080000gn/T/ipykernel_56371/107765941.py\u001b[0m in \u001b[0;36m<module>\u001b[0;34m\u001b[0m\n\u001b[1;32m      1\u001b[0m \u001b[0ms\u001b[0m \u001b[0;34m=\u001b[0m \u001b[0;34m'PythonJavaPythonJava'\u001b[0m\u001b[0;34m\u001b[0m\u001b[0;34m\u001b[0m\u001b[0m\n\u001b[0;32m----> 2\u001b[0;31m \u001b[0ms\u001b[0m\u001b[0;34m.\u001b[0m\u001b[0mindex\u001b[0m\u001b[0;34m(\u001b[0m\u001b[0;34m\"mango\"\u001b[0m\u001b[0;34m)\u001b[0m\u001b[0;34m\u001b[0m\u001b[0;34m\u001b[0m\u001b[0m\n\u001b[0m",
      "\u001b[0;31mValueError\u001b[0m: substring not found"
     ]
    }
   ],
   "source": [
    "s = 'PythonJavaPythonJava'\n",
    "s.index(\"mango\")"
   ]
  },
  {
   "cell_type": "code",
   "execution_count": null,
   "id": "e503733c",
   "metadata": {},
   "outputs": [],
   "source": [
    "replace and count builtin funcitons"
   ]
  },
  {
   "cell_type": "code",
   "execution_count": 100,
   "id": "953cfce3",
   "metadata": {},
   "outputs": [
    {
     "data": {
      "text/plain": [
       "3"
      ]
     },
     "execution_count": 100,
     "metadata": {},
     "output_type": "execute_result"
    }
   ],
   "source": [
    "s = 'PythonJavaPythonJavauuu333Java'\n",
    "s.count(\"Java\")"
   ]
  },
  {
   "cell_type": "code",
   "execution_count": 101,
   "id": "2d53c1a9",
   "metadata": {},
   "outputs": [
    {
     "data": {
      "text/plain": [
       "0"
      ]
     },
     "execution_count": 101,
     "metadata": {},
     "output_type": "execute_result"
    }
   ],
   "source": [
    "s = 'PythonJavaPythonJavauuu333Java'\n",
    "s.count(\"mango\")"
   ]
  },
  {
   "cell_type": "code",
   "execution_count": 102,
   "id": "92dd6eaf",
   "metadata": {},
   "outputs": [
    {
     "data": {
      "text/plain": [
       "'PythonmangoPythonmangouuu333mango'"
      ]
     },
     "execution_count": 102,
     "metadata": {},
     "output_type": "execute_result"
    }
   ],
   "source": [
    "s = 'PythonJavaPythonJavauuu333Java'\n",
    "s.replace(\"Java\",\"mango\")"
   ]
  },
  {
   "cell_type": "code",
   "execution_count": null,
   "id": "d0806d12",
   "metadata": {},
   "outputs": [],
   "source": [
    "upper(),lower(),isupper(),islower(),title(),istitle(),capitalize()"
   ]
  },
  {
   "cell_type": "code",
   "execution_count": 104,
   "id": "bac1d27d",
   "metadata": {},
   "outputs": [
    {
     "data": {
      "text/plain": [
       "'APPLE CIDER VINEGAR'"
      ]
     },
     "execution_count": 104,
     "metadata": {},
     "output_type": "execute_result"
    }
   ],
   "source": [
    "'Apple Cider Vinegar'.upper()"
   ]
  },
  {
   "cell_type": "code",
   "execution_count": 107,
   "id": "3d3a0764",
   "metadata": {},
   "outputs": [
    {
     "data": {
      "text/plain": [
       "'apple cider vinegar'"
      ]
     },
     "execution_count": 107,
     "metadata": {},
     "output_type": "execute_result"
    }
   ],
   "source": [
    "'APPLE CIDER vINEGAR'.lower()"
   ]
  },
  {
   "cell_type": "code",
   "execution_count": 108,
   "id": "336275e9",
   "metadata": {},
   "outputs": [
    {
     "data": {
      "text/plain": [
       "False"
      ]
     },
     "execution_count": 108,
     "metadata": {},
     "output_type": "execute_result"
    }
   ],
   "source": [
    "'APPLE CIDER vINEGAR'.islower()"
   ]
  },
  {
   "cell_type": "code",
   "execution_count": 110,
   "id": "7f0cd1f1",
   "metadata": {},
   "outputs": [
    {
     "data": {
      "text/plain": [
       "True"
      ]
     },
     "execution_count": 110,
     "metadata": {},
     "output_type": "execute_result"
    }
   ],
   "source": [
    "'APPLE CIDER VINEGAR'.isupper()"
   ]
  },
  {
   "cell_type": "code",
   "execution_count": 111,
   "id": "3bc3ca97",
   "metadata": {},
   "outputs": [
    {
     "data": {
      "text/plain": [
       "'praduman rao kadam'"
      ]
     },
     "execution_count": 111,
     "metadata": {},
     "output_type": "execute_result"
    }
   ],
   "source": [
    "'Praduman Rao Kadam'.lower()"
   ]
  },
  {
   "cell_type": "code",
   "execution_count": 112,
   "id": "4ed9e795",
   "metadata": {},
   "outputs": [
    {
     "data": {
      "text/plain": [
       "'Apple Cider Vinegar'"
      ]
     },
     "execution_count": 112,
     "metadata": {},
     "output_type": "execute_result"
    }
   ],
   "source": [
    "'APPLE CIDER VINEGAR'.title()"
   ]
  },
  {
   "cell_type": "code",
   "execution_count": 113,
   "id": "caad5a58",
   "metadata": {},
   "outputs": [
    {
     "data": {
      "text/plain": [
       "True"
      ]
     },
     "execution_count": 113,
     "metadata": {},
     "output_type": "execute_result"
    }
   ],
   "source": [
    "'Praduman Rao Kadam'.istitle()"
   ]
  },
  {
   "cell_type": "code",
   "execution_count": 114,
   "id": "b57772cb",
   "metadata": {},
   "outputs": [
    {
     "data": {
      "text/plain": [
       "False"
      ]
     },
     "execution_count": 114,
     "metadata": {},
     "output_type": "execute_result"
    }
   ],
   "source": [
    "'Praduman rao Kadam'.istitle()"
   ]
  },
  {
   "cell_type": "code",
   "execution_count": 115,
   "id": "da9b0818",
   "metadata": {},
   "outputs": [
    {
     "data": {
      "text/plain": [
       "'Praduman rao kadam'"
      ]
     },
     "execution_count": 115,
     "metadata": {},
     "output_type": "execute_result"
    }
   ],
   "source": [
    "'Praduman rao Kadam'.capitalize()"
   ]
  },
  {
   "cell_type": "code",
   "execution_count": 116,
   "id": "6629ef0c",
   "metadata": {},
   "outputs": [
    {
     "data": {
      "text/plain": [
       "'Praduman rao kadam'"
      ]
     },
     "execution_count": 116,
     "metadata": {},
     "output_type": "execute_result"
    }
   ],
   "source": [
    "'praduman rao Kadam'.capitalize()"
   ]
  },
  {
   "cell_type": "code",
   "execution_count": null,
   "id": "149f09ef",
   "metadata": {},
   "outputs": [],
   "source": [
    "Homework:\n",
    "    isalpha()\n",
    "    isdigit()\n",
    "    isalnum()\n",
    "    isspace()"
   ]
  }
 ],
 "metadata": {
  "kernelspec": {
   "display_name": "Python 3 (ipykernel)",
   "language": "python",
   "name": "python3"
  },
  "language_info": {
   "codemirror_mode": {
    "name": "ipython",
    "version": 3
   },
   "file_extension": ".py",
   "mimetype": "text/x-python",
   "name": "python",
   "nbconvert_exporter": "python",
   "pygments_lexer": "ipython3",
   "version": "3.8.9"
  }
 },
 "nbformat": 4,
 "nbformat_minor": 5
}
