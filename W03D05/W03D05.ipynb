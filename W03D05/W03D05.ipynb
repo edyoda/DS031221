{
 "cells": [
  {
   "cell_type": "code",
   "execution_count": null,
   "id": "f24ba825",
   "metadata": {},
   "outputs": [],
   "source": [
    "REVISION OF BASICS OF PYTHON\n",
    "\n",
    "DATA TYPES:\n",
    "    INT\n",
    "    FLOAT\n",
    "    NONE\n",
    "    BOOL(TRUE AND FALSE)\n",
    "    STR\n",
    "    LIST\n",
    "    TUPLE\n",
    "    DICT\n",
    "    SET\n",
    "    \n",
    "ITERABLES: WHICH WE CAN LOOP OVER\n",
    "    STR\n",
    "    LIST\n",
    "    SET\n",
    "    DICT\n",
    "    TUPLE\n",
    "    \n",
    "IMMUTABLE: UNEDITABLE\n",
    "    INT\n",
    "    FLOAT\n",
    "    STR\n",
    "    NONE\n",
    "    BOOL(TRUE AND FALSE)\n",
    "    TUPLE\n",
    "    \n",
    "MUTABLE: EDITABLE\n",
    "    LIST\n",
    "    DICT\n",
    "    SET\n",
    "    \n",
    "ORDERED: SUPPORTS INDEXING AND SLICING\n",
    "    STR\n",
    "    LIST\n",
    "    TUPLE\n",
    "    \n",
    "INSERTION ORDRED FROM PYTHON 3.5 ONWARDS:\n",
    "    (IT STILL DOES NOT SUPPORT INDEXING AND SLICING, BUT\n",
    "    KEY:VALUE PAIRS ARE INSERTED IN A ORDER)\n",
    "    DICT"
   ]
  },
  {
   "cell_type": "code",
   "execution_count": 1,
   "id": "7908f231",
   "metadata": {},
   "outputs": [
    {
     "ename": "TypeError",
     "evalue": "'tuple' object does not support item assignment",
     "output_type": "error",
     "traceback": [
      "\u001b[0;31m---------------------------------------------------------------------------\u001b[0m",
      "\u001b[0;31mTypeError\u001b[0m                                 Traceback (most recent call last)",
      "\u001b[0;32m/var/folders/9s/j9tqx4617_jg3hnd11b6g4080000gn/T/ipykernel_18632/430224816.py\u001b[0m in \u001b[0;36m<module>\u001b[0;34m\u001b[0m\n\u001b[1;32m      1\u001b[0m \u001b[0mx\u001b[0m \u001b[0;34m=\u001b[0m \u001b[0;34m[\u001b[0m\u001b[0;34m(\u001b[0m\u001b[0;36m100\u001b[0m\u001b[0;34m,\u001b[0m\u001b[0;36m200\u001b[0m\u001b[0;34m)\u001b[0m\u001b[0;34m]\u001b[0m \u001b[0;31m# okay to do\u001b[0m\u001b[0;34m\u001b[0m\u001b[0;34m\u001b[0m\u001b[0m\n\u001b[1;32m      2\u001b[0m \u001b[0;34m\u001b[0m\u001b[0m\n\u001b[0;32m----> 3\u001b[0;31m \u001b[0mx\u001b[0m\u001b[0;34m[\u001b[0m\u001b[0;36m0\u001b[0m\u001b[0;34m]\u001b[0m\u001b[0;34m[\u001b[0m\u001b[0;36m0\u001b[0m\u001b[0;34m]\u001b[0m \u001b[0;34m=\u001b[0m \u001b[0;36m500\u001b[0m \u001b[0;31m# problamatic\u001b[0m\u001b[0;34m\u001b[0m\u001b[0;34m\u001b[0m\u001b[0m\n\u001b[0m\u001b[1;32m      4\u001b[0m \u001b[0;34m\u001b[0m\u001b[0m\n\u001b[1;32m      5\u001b[0m \u001b[0;31m# Can I do this?\u001b[0m\u001b[0;34m\u001b[0m\u001b[0;34m\u001b[0m\u001b[0;34m\u001b[0m\u001b[0m\n",
      "\u001b[0;31mTypeError\u001b[0m: 'tuple' object does not support item assignment"
     ]
    }
   ],
   "source": [
    "x = [(100,200)] # okay to do\n",
    "\n",
    "x[0][0] = 500 # problamatic\n",
    "\n",
    "# Can I do this?"
   ]
  },
  {
   "cell_type": "code",
   "execution_count": 2,
   "id": "e3759093",
   "metadata": {},
   "outputs": [],
   "source": [
    "x = (100,200,[69,420]) # okay to do\n",
    "\n",
    "x[2][0] = 786 # okay to do\n",
    "\n",
    "# Can I do this?"
   ]
  },
  {
   "cell_type": "code",
   "execution_count": 3,
   "id": "5f2e1b6f",
   "metadata": {},
   "outputs": [
    {
     "name": "stdout",
     "output_type": "stream",
     "text": [
      "(100, 200, [786, 420])\n"
     ]
    }
   ],
   "source": [
    "print(x)"
   ]
  },
  {
   "cell_type": "code",
   "execution_count": 6,
   "id": "388ca99f",
   "metadata": {},
   "outputs": [
    {
     "name": "stdout",
     "output_type": "stream",
     "text": [
      "4348137904\n",
      "4348168240\n",
      "mangojava\n"
     ]
    }
   ],
   "source": [
    "x = 'pythonjava'\n",
    "print(id(x))\n",
    "x = x.replace('python','mango')\n",
    "print(id(x))\n",
    "\n",
    "print(x)"
   ]
  },
  {
   "cell_type": "code",
   "execution_count": 7,
   "id": "8f302457",
   "metadata": {},
   "outputs": [
    {
     "name": "stdout",
     "output_type": "stream",
     "text": [
      "45.0\n"
     ]
    }
   ],
   "source": [
    "# type conversion/ type casting\n",
    "\n",
    "x = 45\n",
    "y = float(x)\n",
    "print(y)"
   ]
  },
  {
   "cell_type": "code",
   "execution_count": 9,
   "id": "31b2cb10",
   "metadata": {},
   "outputs": [
    {
     "name": "stdout",
     "output_type": "stream",
     "text": [
      "{'python': 3, 'java': 8}\n"
     ]
    }
   ],
   "source": [
    "x = [('python',3),('java',8)]\n",
    "y = dict(x)\n",
    "print(y)"
   ]
  },
  {
   "cell_type": "code",
   "execution_count": null,
   "id": "35cead10",
   "metadata": {},
   "outputs": [],
   "source": [
    "# int and float (numbers)\n",
    "# None\n",
    "# bool True and False"
   ]
  },
  {
   "cell_type": "code",
   "execution_count": 10,
   "id": "df09a8d6",
   "metadata": {},
   "outputs": [],
   "source": [
    "absent = True"
   ]
  },
  {
   "cell_type": "code",
   "execution_count": 11,
   "id": "0433e139",
   "metadata": {},
   "outputs": [],
   "source": [
    "absent = False"
   ]
  },
  {
   "cell_type": "code",
   "execution_count": 12,
   "id": "bf9b2dd3",
   "metadata": {},
   "outputs": [
    {
     "name": "stdout",
     "output_type": "stream",
     "text": [
      "False\n"
     ]
    }
   ],
   "source": [
    "print(absent)"
   ]
  },
  {
   "cell_type": "code",
   "execution_count": null,
   "id": "3f29d7f6",
   "metadata": {},
   "outputs": [],
   "source": [
    "# list\n",
    "    builtin functions:\n",
    "        append\n",
    "        extend\n",
    "        insert\n",
    "        pop\n",
    "        remove\n",
    "        sort\n",
    "        clear\n",
    "        count\n",
    "        find\n",
    "        index\n",
    "        del\n",
    "        \n",
    "# str\n",
    "    builtin funcitons:\n",
    "        split and join\n",
    "        index,rindex,find,rfind\n",
    "        upper,lower,title,capitalise\n",
    "        isupper,islower,istitle\n",
    "        isalpha,isdigit,isalnum,isspace\n",
    "        replace,count,\n",
    "        strip,lstrip,rstrip\n",
    "        \n",
    "# tuple\n",
    "  builtin funcitons:\n",
    "        count\n",
    "        index\n",
    "        \n",
    "# dict:\n",
    "2 most imp things about dict keys:\n",
    "    1) keys are unique\n",
    "    2) keys are immutable\n",
    "    \n",
    "    builtin funcitons for dict:\n",
    "        get\n",
    "        setdefault\n",
    "        pop\n",
    "        popitem\n",
    "        clear\n",
    "        remove\n",
    "        \n",
    "# sets:\n",
    "2 most imp things about set elements or keys:\n",
    "    1) elements are unique\n",
    "    2) elements are immutable\n",
    "    \n",
    "    builtin funcitons for sets:\n",
    "        add\n",
    "        discard\n",
    "        pop\n",
    "        remove\n",
    "        update\n",
    "        clear"
   ]
  },
  {
   "cell_type": "markdown",
   "id": "4586201e",
   "metadata": {},
   "source": [
    "## Q1) Store Alphabets as \"keys\" and their ASCII values as \"values\" to those keys.\n",
    "\n",
    "### Intuition: Use \"ord\" and \"chr\"\n",
    "\n",
    "### Pseudocode:\n",
    "    1.) Loop from a to z.\n",
    "    2.) store them as keys and find their ascii to store them as values."
   ]
  },
  {
   "cell_type": "code",
   "execution_count": 23,
   "id": "083a5e9d",
   "metadata": {},
   "outputs": [
    {
     "name": "stdout",
     "output_type": "stream",
     "text": [
      "{'a': 97, 'b': 98}\n"
     ]
    }
   ],
   "source": [
    "# {'a':97,'b':98,.....}\n",
    "\n",
    "x = {}\n",
    "\n",
    "x['a'] = 97\n",
    "x['b'] = 98\n",
    "print(x)"
   ]
  },
  {
   "cell_type": "code",
   "execution_count": 24,
   "id": "b452881f",
   "metadata": {},
   "outputs": [
    {
     "data": {
      "text/plain": [
       "'a'"
      ]
     },
     "execution_count": 24,
     "metadata": {},
     "output_type": "execute_result"
    }
   ],
   "source": [
    "chr(97)"
   ]
  },
  {
   "cell_type": "code",
   "execution_count": 21,
   "id": "9ac49b06",
   "metadata": {},
   "outputs": [
    {
     "name": "stdout",
     "output_type": "stream",
     "text": [
      "{'a': 97, 'b': 98, 'c': 99, 'd': 100, 'e': 101, 'f': 102, 'g': 103, 'h': 104, 'i': 105, 'j': 106, 'k': 107, 'l': 108, 'm': 109, 'n': 110, 'o': 111, 'p': 112, 'q': 113, 'r': 114, 's': 115, 't': 116, 'u': 117, 'v': 118, 'w': 119, 'x': 120, 'y': 121, 'z': 122}\n"
     ]
    }
   ],
   "source": [
    "x = {}\n",
    "for i in range(97,123):\n",
    "    x[chr(i)] = i\n",
    "print(x)"
   ]
  },
  {
   "cell_type": "code",
   "execution_count": 13,
   "id": "58c9a676",
   "metadata": {},
   "outputs": [
    {
     "name": "stdout",
     "output_type": "stream",
     "text": [
      "8\n"
     ]
    }
   ],
   "source": [
    "x = \"kadam   \"\n",
    "print(len(x))"
   ]
  },
  {
   "cell_type": "code",
   "execution_count": 14,
   "id": "b1964c6b",
   "metadata": {},
   "outputs": [
    {
     "name": "stdout",
     "output_type": "stream",
     "text": [
      "5\n"
     ]
    }
   ],
   "source": [
    "y = x.rstrip()\n",
    "print(len(y))"
   ]
  },
  {
   "cell_type": "code",
   "execution_count": 18,
   "id": "ac4b6343",
   "metadata": {},
   "outputs": [
    {
     "name": "stdout",
     "output_type": "stream",
     "text": [
      "python\n",
      "3\n",
      "java\n",
      "8\n"
     ]
    }
   ],
   "source": [
    "y = {'python':3,'java':8}\n",
    "\n",
    "for mohit in y:\n",
    "    print(mohit)\n",
    "    print(y[mohit])"
   ]
  },
  {
   "cell_type": "code",
   "execution_count": 16,
   "id": "6c65aff5",
   "metadata": {},
   "outputs": [
    {
     "name": "stdout",
     "output_type": "stream",
     "text": [
      "3\n"
     ]
    }
   ],
   "source": [
    "print(y['python'])"
   ]
  },
  {
   "cell_type": "markdown",
   "id": "469ee74b",
   "metadata": {},
   "source": [
    "## Q2) Count the number of occurrence of each letter in word \"apple\". Store count of every letter with the letter in a dictionary.\n",
    "\n",
    "### Intuition: Use in operator to check if it already exist.\n",
    "\n",
    "### Pseudocode:\n",
    "    1.)loop over all the chars in \"apple\".\n",
    "    2.)if char already exist, increase it's count, else give it count = 1"
   ]
  },
  {
   "cell_type": "code",
   "execution_count": null,
   "id": "80397298",
   "metadata": {},
   "outputs": [],
   "source": [
    "# 'apple'\n",
    "# {'a':1,'p':2,'l':1,'e':1}"
   ]
  },
  {
   "cell_type": "code",
   "execution_count": 31,
   "id": "80cf5640",
   "metadata": {},
   "outputs": [
    {
     "name": "stdout",
     "output_type": "stream",
     "text": [
      "{'a': 1, 'p': 2, 'l': 1, 'e': 1}\n"
     ]
    }
   ],
   "source": [
    "y = {}\n",
    "for alp in 'apple':\n",
    "    y[alp] = 'apple'.count(alp)\n",
    "    \n",
    "print(y)"
   ]
  },
  {
   "cell_type": "code",
   "execution_count": 33,
   "id": "fa51a866",
   "metadata": {},
   "outputs": [
    {
     "name": "stdout",
     "output_type": "stream",
     "text": [
      "False\n"
     ]
    }
   ],
   "source": [
    "x = {'python':3,'java':8}\n",
    "\n",
    "print(3 in x)"
   ]
  },
  {
   "cell_type": "code",
   "execution_count": 38,
   "id": "8004e533",
   "metadata": {},
   "outputs": [
    {
     "name": "stdout",
     "output_type": "stream",
     "text": [
      "{'a': 1, 'p': 2, 'l': 1, 'e': 1}\n"
     ]
    }
   ],
   "source": [
    "y = {}\n",
    "for alp in 'apple':\n",
    "    if alp in y:\n",
    "        y[alp] += 1\n",
    "    else:\n",
    "        y[alp] = 1\n",
    "print(y)"
   ]
  },
  {
   "cell_type": "markdown",
   "id": "71a06222",
   "metadata": {},
   "source": [
    "## Q4) Find the max appearing char by using sets.\n",
    "s = \"arrcaaaaccffffqqqqqqqqqqqqqqqqqqqqq\"\n",
    "\n",
    "### Pseudocode:\n",
    "    1.)Make a copy of unique elements from the string.\n",
    "    2.)Iterate over those and count the occurence in the string."
   ]
  },
  {
   "cell_type": "code",
   "execution_count": 50,
   "id": "76fbd74c",
   "metadata": {},
   "outputs": [
    {
     "name": "stdout",
     "output_type": "stream",
     "text": [
      "['f', 'c', 'q', 'a', 'r']\n",
      "[4, 3, 21, 5, 2]\n",
      "21\n",
      "2\n",
      "q\n"
     ]
    }
   ],
   "source": [
    "s = \"arrcaaaaccffffqqqqqqqqqqqqqqqqqqqqq\"\n",
    "alphabets = list(set(s))\n",
    "occurence_of_alphabets = []\n",
    "for alp in alphabets:\n",
    "    occurence_of_alphabets.append(s.count(alp)) \n",
    "print(alphabets)    \n",
    "print(occurence_of_alphabets)\n",
    "maximum_value = max(occurence_of_alphabets)\n",
    "print(maximum_value)\n",
    "index_position = occurence_of_alphabets.index(maximum_value)\n",
    "print(index_position)\n",
    "print(alphabets[index_position])"
   ]
  },
  {
   "cell_type": "code",
   "execution_count": null,
   "id": "e6af0b37",
   "metadata": {},
   "outputs": [],
   "source": [
    "# math builtin functions of sets\n",
    "1) union\n",
    "2) difference\n",
    "3) intersection\n",
    "4) symmetric_difference"
   ]
  },
  {
   "cell_type": "code",
   "execution_count": 40,
   "id": "c03c024c",
   "metadata": {},
   "outputs": [
    {
     "name": "stdout",
     "output_type": "stream",
     "text": [
      "{40, 10, 50, 20, 60, 30}\n"
     ]
    }
   ],
   "source": [
    "x = {10,20,30,40}\n",
    "y = {30,40,50,60}\n",
    "\n",
    "union_of_x_and_y = x.union(y)\n",
    "print(union_of_x_and_y)"
   ]
  },
  {
   "cell_type": "code",
   "execution_count": 42,
   "id": "557c0e0f",
   "metadata": {},
   "outputs": [
    {
     "name": "stdout",
     "output_type": "stream",
     "text": [
      "{40, 30}\n"
     ]
    }
   ],
   "source": [
    "x = {10,20,30,40}\n",
    "y = {30,40,50,60}\n",
    "\n",
    "intersection_of_x_and_y = x.intersection(y)\n",
    "print(intersection_of_x_and_y)"
   ]
  },
  {
   "cell_type": "code",
   "execution_count": 43,
   "id": "17381f7a",
   "metadata": {},
   "outputs": [
    {
     "name": "stdout",
     "output_type": "stream",
     "text": [
      "{10, 20}\n"
     ]
    }
   ],
   "source": [
    "x = {10,20,30,40}\n",
    "y = {30,40,50,60}\n",
    "\n",
    "x_minus_y = x.difference(y)\n",
    "print(x_minus_y)"
   ]
  },
  {
   "cell_type": "code",
   "execution_count": 44,
   "id": "4a6091e1",
   "metadata": {},
   "outputs": [
    {
     "name": "stdout",
     "output_type": "stream",
     "text": [
      "{50, 60}\n"
     ]
    }
   ],
   "source": [
    "x = {10,20,30,40}\n",
    "y = {30,40,50,60}\n",
    "\n",
    "y_minus_x = y.difference(x)\n",
    "print(y_minus_x)"
   ]
  },
  {
   "cell_type": "code",
   "execution_count": 45,
   "id": "fda3901c",
   "metadata": {},
   "outputs": [
    {
     "name": "stdout",
     "output_type": "stream",
     "text": [
      "{10, 50, 20, 60}\n"
     ]
    }
   ],
   "source": [
    "x = {10,20,30,40}\n",
    "y = {30,40,50,60}\n",
    "\n",
    "x_symmetric_difference_with_y = x.symmetric_difference(y)\n",
    "print(x_symmetric_difference_with_y)"
   ]
  },
  {
   "cell_type": "markdown",
   "id": "35aaafeb",
   "metadata": {},
   "source": [
    "## Q3) From the below data\n",
    "students = {\"a\",\"b\",\"c\",\"d\",\"e\",\"f\",\"g\",\"h\"}\n",
    "dance = {\"a\",\"b\",\"c\",\"d\"}\n",
    "music = {\"e\",\"f\",\"b\",\"c\"}\n",
    "\n",
    "## USE SET to solve:\n",
    "### a) which love both music and dance?\n",
    "### b) which love nothing?\n",
    "\n",
    "### Intuition: Use builtin set functions"
   ]
  },
  {
   "cell_type": "code",
   "execution_count": 51,
   "id": "9af18dc4",
   "metadata": {},
   "outputs": [],
   "source": [
    "students = {\"a\",\"b\",\"c\",\"d\",\"e\",\"f\",\"g\",\"h\"} \n",
    "dance = {\"a\",\"b\",\"c\",\"d\"} \n",
    "music = {\"e\",\"f\",\"b\",\"c\"}"
   ]
  },
  {
   "cell_type": "code",
   "execution_count": 52,
   "id": "7c40bed9",
   "metadata": {},
   "outputs": [
    {
     "data": {
      "text/plain": [
       "{'b', 'c'}"
      ]
     },
     "execution_count": 52,
     "metadata": {},
     "output_type": "execute_result"
    }
   ],
   "source": [
    "dance.intersection(music)"
   ]
  },
  {
   "cell_type": "code",
   "execution_count": 53,
   "id": "556b0dd2",
   "metadata": {},
   "outputs": [],
   "source": [
    "extracurricular = dance.union(music)"
   ]
  },
  {
   "cell_type": "code",
   "execution_count": 54,
   "id": "5dbb2277",
   "metadata": {},
   "outputs": [
    {
     "data": {
      "text/plain": [
       "{'g', 'h'}"
      ]
     },
     "execution_count": 54,
     "metadata": {},
     "output_type": "execute_result"
    }
   ],
   "source": [
    "students.difference(extracurricular)"
   ]
  },
  {
   "cell_type": "code",
   "execution_count": 55,
   "id": "e98d544a",
   "metadata": {},
   "outputs": [],
   "source": [
    "non_music_lovers = students.difference(music)"
   ]
  },
  {
   "cell_type": "code",
   "execution_count": 56,
   "id": "ee4eb683",
   "metadata": {},
   "outputs": [],
   "source": [
    "non_music_dance_lovers = non_music_lovers.difference(dance)"
   ]
  },
  {
   "cell_type": "code",
   "execution_count": 57,
   "id": "24e173ea",
   "metadata": {},
   "outputs": [
    {
     "name": "stdout",
     "output_type": "stream",
     "text": [
      "{'h', 'g'}\n"
     ]
    }
   ],
   "source": [
    "print(non_music_dance_lovers)"
   ]
  },
  {
   "cell_type": "code",
   "execution_count": 59,
   "id": "33119d44",
   "metadata": {},
   "outputs": [
    {
     "data": {
      "text/plain": [
       "{'g', 'h'}"
      ]
     },
     "execution_count": 59,
     "metadata": {},
     "output_type": "execute_result"
    }
   ],
   "source": [
    "students - dance - music"
   ]
  },
  {
   "cell_type": "code",
   "execution_count": null,
   "id": "4b1a5233",
   "metadata": {},
   "outputs": [],
   "source": []
  }
 ],
 "metadata": {
  "kernelspec": {
   "display_name": "Python 3 (ipykernel)",
   "language": "python",
   "name": "python3"
  },
  "language_info": {
   "codemirror_mode": {
    "name": "ipython",
    "version": 3
   },
   "file_extension": ".py",
   "mimetype": "text/x-python",
   "name": "python",
   "nbconvert_exporter": "python",
   "pygments_lexer": "ipython3",
   "version": "3.8.9"
  }
 },
 "nbformat": 4,
 "nbformat_minor": 5
}
