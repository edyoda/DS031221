{
 "cells": [
  {
   "cell_type": "code",
   "execution_count": null,
   "id": "c3ea0e87",
   "metadata": {},
   "outputs": [],
   "source": [
    "# Functions\n",
    "# Parameter Passing Techniques\n",
    "# What is Parameter?"
   ]
  },
  {
   "cell_type": "code",
   "execution_count": 1,
   "id": "e00ac1a9",
   "metadata": {},
   "outputs": [],
   "source": [
    "def happy(a,b):\n",
    "    print(a+b)"
   ]
  },
  {
   "cell_type": "code",
   "execution_count": 2,
   "id": "7b1dbacc",
   "metadata": {},
   "outputs": [
    {
     "name": "stdout",
     "output_type": "stream",
     "text": [
      "mango juice\n"
     ]
    }
   ],
   "source": [
    "happy('mango ','juice')"
   ]
  },
  {
   "cell_type": "markdown",
   "id": "803f0482",
   "metadata": {},
   "source": [
    "# Default Arguments"
   ]
  },
  {
   "cell_type": "code",
   "execution_count": 3,
   "id": "38a52e90",
   "metadata": {},
   "outputs": [],
   "source": [
    "def happy(a,b='juice'):\n",
    "    print(a+b)\n",
    "\n",
    "# b will be juice if nothing is given."
   ]
  },
  {
   "cell_type": "code",
   "execution_count": 6,
   "id": "3084918a",
   "metadata": {},
   "outputs": [
    {
     "name": "stdout",
     "output_type": "stream",
     "text": [
      "mango juice\n"
     ]
    }
   ],
   "source": [
    "happy('mango ')"
   ]
  },
  {
   "cell_type": "code",
   "execution_count": 7,
   "id": "ec335000",
   "metadata": {},
   "outputs": [
    {
     "name": "stdout",
     "output_type": "stream",
     "text": [
      "mango shake\n"
     ]
    }
   ],
   "source": [
    "happy('mango ','shake')"
   ]
  },
  {
   "cell_type": "code",
   "execution_count": 15,
   "id": "a2a0ef27",
   "metadata": {},
   "outputs": [],
   "source": [
    "def teajuice(a='tea',b='juice'):\n",
    "    print(a+b)\n",
    "\n",
    "# b will be juice if nothing is given."
   ]
  },
  {
   "cell_type": "code",
   "execution_count": 17,
   "id": "696676cd",
   "metadata": {},
   "outputs": [
    {
     "name": "stdout",
     "output_type": "stream",
     "text": [
      "shakejuice\n"
     ]
    }
   ],
   "source": [
    "teajuice('shake')"
   ]
  },
  {
   "cell_type": "markdown",
   "id": "7751237c",
   "metadata": {},
   "source": [
    "# NAMED ARGUMENTS"
   ]
  },
  {
   "cell_type": "code",
   "execution_count": 8,
   "id": "fdb6defe",
   "metadata": {},
   "outputs": [],
   "source": [
    "def juice_shop(name,cold,small):\n",
    "    if cold == True:\n",
    "        if small == True:\n",
    "            return 'Cold '+name+' Small Size is ready'\n",
    "        else:\n",
    "            return 'Cold '+name+' Big Size is ready'\n",
    "    else:\n",
    "        if small == True:\n",
    "            return 'Hot '+name+' Small Size is ready'\n",
    "        else:\n",
    "            return 'Hot '+name+' Big Size is ready'"
   ]
  },
  {
   "cell_type": "code",
   "execution_count": 9,
   "id": "18a1dbbb",
   "metadata": {},
   "outputs": [
    {
     "data": {
      "text/plain": [
       "'Cold Kiwi Big Size is ready'"
      ]
     },
     "execution_count": 9,
     "metadata": {},
     "output_type": "execute_result"
    }
   ],
   "source": [
    "juice_shop(name='Kiwi',small=False,cold=True)"
   ]
  },
  {
   "cell_type": "code",
   "execution_count": 10,
   "id": "5ea23864",
   "metadata": {},
   "outputs": [
    {
     "data": {
      "text/plain": [
       "'Hot Pineapple Small Size is ready'"
      ]
     },
     "execution_count": 10,
     "metadata": {},
     "output_type": "execute_result"
    }
   ],
   "source": [
    "juice_shop(small=True,cold=False,name='Pineapple')"
   ]
  },
  {
   "cell_type": "code",
   "execution_count": 11,
   "id": "8d9373da",
   "metadata": {},
   "outputs": [],
   "source": [
    "def task(name,college,stream):\n",
    "    print(name, ' is studying at ',college,' with stream = ',stream)"
   ]
  },
  {
   "cell_type": "code",
   "execution_count": 12,
   "id": "af343dc7",
   "metadata": {},
   "outputs": [
    {
     "name": "stdout",
     "output_type": "stream",
     "text": [
      "Sajal Tiwari  is studying at  MIT  with stream =  Artificial Intelligence\n"
     ]
    }
   ],
   "source": [
    "task('Sajal Tiwari','MIT','Artificial Intelligence')"
   ]
  },
  {
   "cell_type": "code",
   "execution_count": 13,
   "id": "8132e40c",
   "metadata": {},
   "outputs": [
    {
     "name": "stdout",
     "output_type": "stream",
     "text": [
      "MIT  is studying at  AI  with stream =  Sajal\n"
     ]
    }
   ],
   "source": [
    "task('MIT','AI','Sajal')"
   ]
  },
  {
   "cell_type": "code",
   "execution_count": 14,
   "id": "46b590dd",
   "metadata": {},
   "outputs": [
    {
     "name": "stdout",
     "output_type": "stream",
     "text": [
      "Sajal Tiwari  is studying at  MIT  with stream =  AI\n"
     ]
    }
   ],
   "source": [
    "task(college = 'MIT',stream='AI',name='Sajal Tiwari')"
   ]
  },
  {
   "cell_type": "markdown",
   "id": "6c69164f",
   "metadata": {},
   "source": [
    "# Variable Arguments"
   ]
  },
  {
   "cell_type": "markdown",
   "id": "8289a1dc",
   "metadata": {},
   "source": [
    "# Packing: Pack variable no of arguments into a collection of one.\n",
    "    \n",
    "Any no of arguments can come here."
   ]
  },
  {
   "cell_type": "code",
   "execution_count": 23,
   "id": "a8ba70e2",
   "metadata": {},
   "outputs": [],
   "source": [
    "def mycollectionofcars(*collection):\n",
    "    print(type(collection))\n",
    "    print(collection)\n",
    "    for car in collection:\n",
    "        print(car)"
   ]
  },
  {
   "cell_type": "code",
   "execution_count": 26,
   "id": "2f74e763",
   "metadata": {},
   "outputs": [
    {
     "name": "stdout",
     "output_type": "stream",
     "text": [
      "<class 'tuple'>\n",
      "('Ferrari', 'Bugati', 'Gt Mustang', 'Lambo', 'Lambo')\n",
      "Ferrari\n",
      "Bugati\n",
      "Gt Mustang\n",
      "Lambo\n",
      "Lambo\n"
     ]
    }
   ],
   "source": [
    "mycollectionofcars('Ferrari','Bugati','Gt Mustang','Lambo','Lambo')"
   ]
  },
  {
   "cell_type": "code",
   "execution_count": 25,
   "id": "9c629da7",
   "metadata": {},
   "outputs": [
    {
     "name": "stdout",
     "output_type": "stream",
     "text": [
      "<class 'tuple'>\n",
      "('Ferrari', 'Bugati')\n",
      "Ferrari\n",
      "Bugati\n"
     ]
    }
   ],
   "source": [
    "mycollectionofcars('Ferrari','Bugati')"
   ]
  },
  {
   "cell_type": "markdown",
   "id": "f72bdadc",
   "metadata": {},
   "source": [
    "# Unpacking"
   ]
  },
  {
   "cell_type": "code",
   "execution_count": 33,
   "id": "b1d920c4",
   "metadata": {},
   "outputs": [],
   "source": [
    "detail = ('MIT','Sajal Tiwari','AI')"
   ]
  },
  {
   "cell_type": "code",
   "execution_count": 34,
   "id": "7af06b61",
   "metadata": {},
   "outputs": [],
   "source": [
    "def printdetails(college,name,stream):\n",
    "    print(name, ' is studying at ',college,' with stream = ',stream)"
   ]
  },
  {
   "cell_type": "code",
   "execution_count": 35,
   "id": "1a259202",
   "metadata": {},
   "outputs": [
    {
     "name": "stdout",
     "output_type": "stream",
     "text": [
      "Sajal Tiwari  is studying at  MIT  with stream =  AI\n"
     ]
    }
   ],
   "source": [
    "printdetails(*detail)"
   ]
  },
  {
   "cell_type": "markdown",
   "id": "e2033bc1",
   "metadata": {},
   "source": [
    "# Named Packing"
   ]
  },
  {
   "cell_type": "code",
   "execution_count": 39,
   "id": "ed2e1203",
   "metadata": {},
   "outputs": [],
   "source": [
    "# * => tuple, ** => dict\n",
    "\n",
    "def printdetails(**marks):\n",
    "    print(marks,type(marks))\n",
    "    for m in marks:\n",
    "        print(m,marks[m])"
   ]
  },
  {
   "cell_type": "code",
   "execution_count": 40,
   "id": "cae90a98",
   "metadata": {},
   "outputs": [
    {
     "name": "stdout",
     "output_type": "stream",
     "text": [
      "{'ds': 78, 'mysql': 69, 'iot': 75} <class 'dict'>\n",
      "ds 78\n",
      "mysql 69\n",
      "iot 75\n"
     ]
    }
   ],
   "source": [
    "printdetails(ds=78,mysql=69,iot=75)"
   ]
  },
  {
   "cell_type": "code",
   "execution_count": 41,
   "id": "72b48a38",
   "metadata": {},
   "outputs": [
    {
     "name": "stdout",
     "output_type": "stream",
     "text": [
      "{'ml': 73, 'dm': 100, 'ipr': 49, 'java': 80, 'mk': 55} <class 'dict'>\n",
      "ml 73\n",
      "dm 100\n",
      "ipr 49\n",
      "java 80\n",
      "mk 55\n"
     ]
    }
   ],
   "source": [
    "printdetails(ml=73,dm=100,ipr=49,java=80,mk=55)"
   ]
  },
  {
   "cell_type": "markdown",
   "id": "5b85fb2d",
   "metadata": {},
   "source": [
    "# Named unpacking"
   ]
  },
  {
   "cell_type": "code",
   "execution_count": 46,
   "id": "93f8bd69",
   "metadata": {},
   "outputs": [],
   "source": [
    "def task(name,college,stream):\n",
    "    print(name, ' is studying at ',college,' with stream = ',stream)"
   ]
  },
  {
   "cell_type": "code",
   "execution_count": 47,
   "id": "a6b29585",
   "metadata": {},
   "outputs": [],
   "source": [
    "details = {'college':'SKIT','stream':'IT','name':'Sailaja'}"
   ]
  },
  {
   "cell_type": "code",
   "execution_count": 48,
   "id": "a980d807",
   "metadata": {},
   "outputs": [
    {
     "name": "stdout",
     "output_type": "stream",
     "text": [
      "Sailaja  is studying at  SKIT  with stream =  IT\n"
     ]
    }
   ],
   "source": [
    "task(**details)"
   ]
  },
  {
   "cell_type": "markdown",
   "id": "98686de4",
   "metadata": {},
   "source": [
    "## Regular Expressions"
   ]
  },
  {
   "cell_type": "code",
   "execution_count": 49,
   "id": "f328dfe1",
   "metadata": {},
   "outputs": [],
   "source": [
    "# Anchors"
   ]
  },
  {
   "cell_type": "code",
   "execution_count": null,
   "id": "f5fc98c4",
   "metadata": {},
   "outputs": [],
   "source": [
    "## Metacharacters\n",
    "\n",
    ">>. dot => matches with all the char(alphabets,digits,special chars,etc)\n",
    "    except newline character.('\\n')\n",
    "    \n",
    "    single dot means single char.\n",
    "    2 dots means 2 chars... and so on..\n",
    "    \n",
    ">> [] Characgter Class is used for matching a set of characters.\n",
    "\n",
    "[@#$%^trSU] => this character class contains @,#,$,%,^,t,r,S,U\n",
    "So it will match if anything comes from the above mentioned char\n",
    "\n",
    " \n",
    "[a-z] => it contains all the small alphabets from a to z.\n",
    " \n",
    "[A-Z] => caps\n",
    "\n",
    "[0-9] => it will match anything from 0 to 9\n",
    " \n",
    "[0-9a-z] => it will match anything from 0 to 9 or a to z\n",
    " \n",
    "# Quantifiers\n",
    "+ => atleast 1 or more\n",
    "* => 0 or more\n",
    "? => 0 or once\n",
    " \n",
    "# Counting Stuff\n",
    " \n",
    "{} => 'x{3}' x should appear exactly 3 times\n",
    "      '[0-9]{4}' 4 digit number\n",
    " \n",
    "{1,5} => either 1,2,3,4, or 5 times.\n",
    " \n",
    "# compliment : except this all the other things\n",
    "\n",
    "[^0-9] => except 0 to 9 anything could be a match\n",
    " \n",
    "# Anchors\n",
    "^ => start of the string\n",
    "$ => end of the string"
   ]
  },
  {
   "cell_type": "code",
   "execution_count": 52,
   "id": "d1755235",
   "metadata": {},
   "outputs": [
    {
     "name": "stdout",
     "output_type": "stream",
     "text": [
      "<re.Match object; span=(0, 8), match='apple123'>\n",
      "None\n",
      "None\n",
      "None\n",
      "<re.Match object; span=(0, 10), match='appperfect'>\n"
     ]
    }
   ],
   "source": [
    "# strings starting with app\n",
    "\n",
    "import re\n",
    "list_of_strings = ['apple123','mango789','###apple','@@@mango',\n",
    "                   'appperfect']\n",
    "\n",
    "regx = '^app.*'\n",
    "\n",
    "for string in list_of_strings:\n",
    "    print(re.search(regx,string))"
   ]
  },
  {
   "cell_type": "code",
   "execution_count": 55,
   "id": "96278230",
   "metadata": {},
   "outputs": [
    {
     "name": "stdout",
     "output_type": "stream",
     "text": [
      "<re.Match object; span=(0, 3), match='222'>\n",
      "<re.Match object; span=(0, 8), match='apple123'>\n",
      "<re.Match object; span=(0, 8), match='mango789'>\n",
      "None\n",
      "None\n",
      "None\n"
     ]
    }
   ],
   "source": [
    "# strings ending with 3 digit number\n",
    "\n",
    "import re\n",
    "list_of_strings = ['222','apple123','mango789','###a222pple','@@@333mango',\n",
    "                   'appperfect']\n",
    "\n",
    "regx = '.*[0-9]{3}$'\n",
    "\n",
    "for string in list_of_strings:\n",
    "    print(re.search(regx,string))"
   ]
  },
  {
   "cell_type": "markdown",
   "id": "979fb4de",
   "metadata": {},
   "source": [
    "# Q1.) Write a regX to match a 3 digit number followed by abc.\n",
    "\n",
    "# Q2.) Write a regX to match a 3 digit number followed by 3 small alphabets\n",
    "\n",
    "# Q3.) Write a regX that start with a and end with z. \"az,ae8934593u45jeksz,a234234z\"\n",
    "\n",
    "# Q4.) Write a regX that should match a pattern having atmost 3 occurences of small alphabets.(atmost?? 0-till limit)\n",
    "\n",
    "# Q.5) Write a program to print hello world if the given_string start with a and end with z (make a function to do this task)"
   ]
  },
  {
   "cell_type": "code",
   "execution_count": null,
   "id": "76a15d23",
   "metadata": {},
   "outputs": [],
   "source": [
    "1) \"[0-9]{3}abc\"\n",
    "2) \"[0-9]{3}[a-z]{3}\"\n",
    "3) \"^a.*z$\"\n",
    "4) \"[a-z]{1,3}\""
   ]
  },
  {
   "cell_type": "code",
   "execution_count": null,
   "id": "7d9c29f8",
   "metadata": {},
   "outputs": [],
   "source": [
    "aa,abc,aaa,zzz,z,zk,kr,krk,srk,sk"
   ]
  },
  {
   "cell_type": "code",
   "execution_count": 56,
   "id": "dedbaed8",
   "metadata": {},
   "outputs": [],
   "source": [
    "def printhello(string):\n",
    "    if re.search('^a.*z$',string):\n",
    "        print('hello world')"
   ]
  },
  {
   "cell_type": "code",
   "execution_count": 57,
   "id": "5b88112b",
   "metadata": {},
   "outputs": [
    {
     "name": "stdout",
     "output_type": "stream",
     "text": [
      "hello world\n"
     ]
    }
   ],
   "source": [
    "printhello('a123546dfsjkfsdfklz')"
   ]
  },
  {
   "cell_type": "code",
   "execution_count": 58,
   "id": "de86556d",
   "metadata": {},
   "outputs": [],
   "source": [
    "printhello('123546dfsjkfsdfklz')"
   ]
  },
  {
   "cell_type": "code",
   "execution_count": 59,
   "id": "5f4cb869",
   "metadata": {},
   "outputs": [],
   "source": [
    "printhello('a123546dfsjkfsdfkl')"
   ]
  },
  {
   "cell_type": "code",
   "execution_count": 2,
   "id": "e920382e",
   "metadata": {},
   "outputs": [
    {
     "data": {
      "text/plain": [
       "<re.Match object; span=(3, 5), match='ap'>"
      ]
     },
     "execution_count": 2,
     "metadata": {},
     "output_type": "execute_result"
    }
   ],
   "source": [
    "import re\n",
    "\n",
    "string = '\\n\\n\\napple'\n",
    "\n",
    "re.search('..',string)"
   ]
  },
  {
   "cell_type": "code",
   "execution_count": 5,
   "id": "276e0e95",
   "metadata": {},
   "outputs": [
    {
     "name": "stdout",
     "output_type": "stream",
     "text": [
      "1\n",
      "None\n",
      "23\n",
      "<re.Match object; span=(0, 2), match='23'>\n",
      "345\n",
      "<re.Match object; span=(0, 3), match='345'>\n",
      "6547\n",
      "<re.Match object; span=(0, 4), match='6547'>\n",
      "12345\n",
      "<re.Match object; span=(0, 5), match='12345'>\n",
      "123456\n",
      "<re.Match object; span=(0, 5), match='12345'>\n"
     ]
    }
   ],
   "source": [
    "for string in ['1','23','345','6547','12345','123456']:\n",
    "    print(string)\n",
    "    print(re.search('[0-9]{2,5}',string))"
   ]
  },
  {
   "cell_type": "code",
   "execution_count": null,
   "id": "7833e861",
   "metadata": {},
   "outputs": [],
   "source": []
  }
 ],
 "metadata": {
  "kernelspec": {
   "display_name": "Python 3 (ipykernel)",
   "language": "python",
   "name": "python3"
  },
  "language_info": {
   "codemirror_mode": {
    "name": "ipython",
    "version": 3
   },
   "file_extension": ".py",
   "mimetype": "text/x-python",
   "name": "python",
   "nbconvert_exporter": "python",
   "pygments_lexer": "ipython3",
   "version": "3.8.9"
  }
 },
 "nbformat": 4,
 "nbformat_minor": 5
}
