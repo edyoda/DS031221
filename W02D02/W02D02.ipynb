{
 "cells": [
  {
   "cell_type": "code",
   "execution_count": null,
   "id": "b7a67385",
   "metadata": {},
   "outputs": [],
   "source": [
    "Revision:\n",
    "    Data Types:\n",
    "    \n",
    "    Mutable Data Types:\n",
    "        list\n",
    "        dict\n",
    "        set\n",
    "    \n",
    "    Immutable Data Types:\n",
    "        tuple\n",
    "        int\n",
    "        float\n",
    "        None\n",
    "        str\n",
    "        bool"
   ]
  },
  {
   "cell_type": "code",
   "execution_count": null,
   "id": "6da8dba5",
   "metadata": {},
   "outputs": [],
   "source": [
    "Operators:\n",
    "    Arithmetic Operators: +,-,/,//,**,%,*\n",
    "    Logical Operators: and,or,not\n",
    "    Membership Operator: in, not in\n",
    "    Identity Operator: is, is not\n",
    "    Comparison Operators: ==,!=,>=,<=,>,<\n",
    "    Assignment Operators: +=,-+,*=,/=,%=,//=,"
   ]
  },
  {
   "cell_type": "code",
   "execution_count": 1,
   "id": "bb27103a",
   "metadata": {},
   "outputs": [
    {
     "data": {
      "text/plain": [
       "False"
      ]
     },
     "execution_count": 1,
     "metadata": {},
     "output_type": "execute_result"
    }
   ],
   "source": [
    "True and False"
   ]
  },
  {
   "cell_type": "code",
   "execution_count": 2,
   "id": "f09905ba",
   "metadata": {},
   "outputs": [
    {
     "data": {
      "text/plain": [
       "True"
      ]
     },
     "execution_count": 2,
     "metadata": {},
     "output_type": "execute_result"
    }
   ],
   "source": [
    "True or False"
   ]
  },
  {
   "cell_type": "code",
   "execution_count": 3,
   "id": "7de38f00",
   "metadata": {},
   "outputs": [
    {
     "data": {
      "text/plain": [
       "True"
      ]
     },
     "execution_count": 3,
     "metadata": {},
     "output_type": "execute_result"
    }
   ],
   "source": [
    "not False"
   ]
  },
  {
   "cell_type": "code",
   "execution_count": null,
   "id": "48815219",
   "metadata": {},
   "outputs": [],
   "source": [
    "Collection: list,dict,set,tuple,str\n",
    "Non Collection: bool,int,float,None\n",
    "Search for the membership in a collection"
   ]
  },
  {
   "cell_type": "code",
   "execution_count": 5,
   "id": "3d7e1a15",
   "metadata": {},
   "outputs": [
    {
     "data": {
      "text/plain": [
       "True"
      ]
     },
     "execution_count": 5,
     "metadata": {},
     "output_type": "execute_result"
    }
   ],
   "source": [
    "'don' in 'mcdonalds'"
   ]
  },
  {
   "cell_type": "code",
   "execution_count": 6,
   "id": "8eebdfec",
   "metadata": {},
   "outputs": [
    {
     "data": {
      "text/plain": [
       "False"
      ]
     },
     "execution_count": 6,
     "metadata": {},
     "output_type": "execute_result"
    }
   ],
   "source": [
    "300 in [100,200,500,700]"
   ]
  },
  {
   "cell_type": "code",
   "execution_count": 7,
   "id": "892526ea",
   "metadata": {},
   "outputs": [
    {
     "data": {
      "text/plain": [
       "True"
      ]
     },
     "execution_count": 7,
     "metadata": {},
     "output_type": "execute_result"
    }
   ],
   "source": [
    "200 in [100,200,500,700]"
   ]
  },
  {
   "cell_type": "code",
   "execution_count": 8,
   "id": "7e01587d",
   "metadata": {},
   "outputs": [],
   "source": [
    "x = [300,200,700]\n",
    "y = x"
   ]
  },
  {
   "cell_type": "code",
   "execution_count": 9,
   "id": "96d10036",
   "metadata": {},
   "outputs": [
    {
     "data": {
      "text/plain": [
       "True"
      ]
     },
     "execution_count": 9,
     "metadata": {},
     "output_type": "execute_result"
    }
   ],
   "source": [
    "x is y"
   ]
  },
  {
   "cell_type": "code",
   "execution_count": 10,
   "id": "6329e785",
   "metadata": {},
   "outputs": [],
   "source": [
    "x = [300,200,700]\n",
    "y = [300,200,700]"
   ]
  },
  {
   "cell_type": "code",
   "execution_count": 11,
   "id": "854c0e2d",
   "metadata": {},
   "outputs": [
    {
     "data": {
      "text/plain": [
       "False"
      ]
     },
     "execution_count": 11,
     "metadata": {},
     "output_type": "execute_result"
    }
   ],
   "source": [
    "x is y"
   ]
  },
  {
   "cell_type": "code",
   "execution_count": 12,
   "id": "c34828d3",
   "metadata": {},
   "outputs": [
    {
     "data": {
      "text/plain": [
       "False"
      ]
     },
     "execution_count": 12,
     "metadata": {},
     "output_type": "execute_result"
    }
   ],
   "source": [
    "id(x) == id(y)"
   ]
  },
  {
   "cell_type": "code",
   "execution_count": 13,
   "id": "269ff46b",
   "metadata": {},
   "outputs": [
    {
     "data": {
      "text/plain": [
       "True"
      ]
     },
     "execution_count": 13,
     "metadata": {},
     "output_type": "execute_result"
    }
   ],
   "source": [
    "x == y"
   ]
  },
  {
   "cell_type": "code",
   "execution_count": 14,
   "id": "6701c302",
   "metadata": {},
   "outputs": [
    {
     "name": "stdout",
     "output_type": "stream",
     "text": [
      "False\n"
     ]
    }
   ],
   "source": [
    "x = 300\n",
    "y = 700\n",
    "print(x>y)"
   ]
  },
  {
   "cell_type": "code",
   "execution_count": 22,
   "id": "adb61618",
   "metadata": {},
   "outputs": [],
   "source": [
    "x = 700"
   ]
  },
  {
   "cell_type": "code",
   "execution_count": 23,
   "id": "798a1c9c",
   "metadata": {},
   "outputs": [],
   "source": [
    "x = x + 5"
   ]
  },
  {
   "cell_type": "code",
   "execution_count": 24,
   "id": "dcf6ff19",
   "metadata": {},
   "outputs": [
    {
     "name": "stdout",
     "output_type": "stream",
     "text": [
      "705\n"
     ]
    }
   ],
   "source": [
    "print(x)"
   ]
  },
  {
   "cell_type": "code",
   "execution_count": 25,
   "id": "b9efa193",
   "metadata": {},
   "outputs": [],
   "source": [
    "x += 5  # x = x + 5\n",
    "\n",
    "# x symbol= 5 # x = x symbol 5 ( sumbol could be +,-,*,/,//,%,**)\n",
    "\n",
    "# x++ does not work in python, we can do x += 1 for the same."
   ]
  },
  {
   "cell_type": "code",
   "execution_count": 26,
   "id": "c0484caa",
   "metadata": {},
   "outputs": [
    {
     "name": "stdout",
     "output_type": "stream",
     "text": [
      "710\n"
     ]
    }
   ],
   "source": [
    "print(x)"
   ]
  },
  {
   "cell_type": "code",
   "execution_count": 27,
   "id": "9cff779b",
   "metadata": {},
   "outputs": [],
   "source": [
    "# Conditional Statements"
   ]
  },
  {
   "cell_type": "code",
   "execution_count": null,
   "id": "604cb9c7",
   "metadata": {},
   "outputs": [],
   "source": [
    "if bool:\n",
    "    python code 1\n",
    "    more python code 1\n",
    "else:\n",
    "    python code 2\n",
    "    more python code 2\n",
    "    \n",
    "\n",
    "if bool is True, than python code 1 and more python code 1 will execute.\n",
    "else python code 2 and more python code 2 will execute."
   ]
  },
  {
   "cell_type": "code",
   "execution_count": null,
   "id": "83fde93f",
   "metadata": {},
   "outputs": [],
   "source": [
    "# Question 1)\n",
    "# x = 5\n",
    "# odd.\n",
    "# x = 8\n",
    "# even.\n",
    "# 5 minutes 7:58\n",
    "# x = input()\n",
    "\n",
    "# by default python input function, considers everything as string."
   ]
  },
  {
   "cell_type": "code",
   "execution_count": 34,
   "id": "ae4b79d1",
   "metadata": {},
   "outputs": [
    {
     "name": "stdout",
     "output_type": "stream",
     "text": [
      "8\n",
      "even\n"
     ]
    }
   ],
   "source": [
    "x = int(input())\n",
    "\n",
    "if x%2 == 0:\n",
    "    print('even')\n",
    "else:\n",
    "    print('odd')"
   ]
  },
  {
   "cell_type": "code",
   "execution_count": 28,
   "id": "3c1199b2",
   "metadata": {},
   "outputs": [
    {
     "name": "stdout",
     "output_type": "stream",
     "text": [
      "<class 'str'>\n"
     ]
    }
   ],
   "source": [
    "x = '18'\n",
    "print(type(x))"
   ]
  },
  {
   "cell_type": "code",
   "execution_count": 31,
   "id": "62738f71",
   "metadata": {},
   "outputs": [
    {
     "name": "stdout",
     "output_type": "stream",
     "text": [
      "20\n"
     ]
    }
   ],
   "source": [
    "x = int(input())"
   ]
  },
  {
   "cell_type": "code",
   "execution_count": 32,
   "id": "0be98e5c",
   "metadata": {},
   "outputs": [
    {
     "name": "stdout",
     "output_type": "stream",
     "text": [
      "<class 'str'>\n"
     ]
    }
   ],
   "source": [
    "print(type(x))"
   ]
  },
  {
   "cell_type": "code",
   "execution_count": 35,
   "id": "9967bb47",
   "metadata": {},
   "outputs": [],
   "source": [
    "# slicing in different Data Types"
   ]
  },
  {
   "cell_type": "code",
   "execution_count": 37,
   "id": "b1d4c306",
   "metadata": {},
   "outputs": [
    {
     "name": "stdout",
     "output_type": "stream",
     "text": [
      "['apple', 'mango', 'banana']\n"
     ]
    }
   ],
   "source": [
    "fruits = ['kiwi','apple','mango','banana','orange']\n",
    "print(fruits[1:4])"
   ]
  },
  {
   "cell_type": "code",
   "execution_count": 38,
   "id": "2a766761",
   "metadata": {},
   "outputs": [
    {
     "name": "stdout",
     "output_type": "stream",
     "text": [
      "['breeza', 'creta']\n"
     ]
    }
   ],
   "source": [
    "cars = ['breeza','creta','harrier','mustang-gt','thar']\n",
    "print(cars[0:2])"
   ]
  },
  {
   "cell_type": "code",
   "execution_count": 39,
   "id": "ff2e535a",
   "metadata": {},
   "outputs": [
    {
     "name": "stdout",
     "output_type": "stream",
     "text": [
      "['apple', 'mango', 'banana', 'orange']\n"
     ]
    }
   ],
   "source": [
    "fruits = ['kiwi','apple','mango','banana','orange']\n",
    "print(fruits[1:5])"
   ]
  },
  {
   "cell_type": "code",
   "execution_count": 40,
   "id": "c2ff560b",
   "metadata": {},
   "outputs": [
    {
     "name": "stdout",
     "output_type": "stream",
     "text": [
      "['kiwi', 'apple', 'mango', 'banana', 'orange']\n"
     ]
    }
   ],
   "source": [
    "print(fruits)"
   ]
  },
  {
   "cell_type": "code",
   "execution_count": 41,
   "id": "cd8d22fd",
   "metadata": {},
   "outputs": [
    {
     "name": "stdout",
     "output_type": "stream",
     "text": [
      "['kiwi', 'apple', 'mango', 'banana', 'orange']\n"
     ]
    }
   ],
   "source": [
    "fruits = ['kiwi','apple','mango','banana','orange']\n",
    "print(fruits[0:5])"
   ]
  },
  {
   "cell_type": "code",
   "execution_count": 42,
   "id": "f1ad92dd",
   "metadata": {},
   "outputs": [
    {
     "name": "stdout",
     "output_type": "stream",
     "text": [
      "['kiwi', 'mango', 'orange']\n"
     ]
    }
   ],
   "source": [
    "fruits = ['kiwi','apple','mango','banana','orange']\n",
    "print(fruits[0:5:2])"
   ]
  },
  {
   "cell_type": "code",
   "execution_count": 43,
   "id": "ca082a31",
   "metadata": {},
   "outputs": [
    {
     "name": "stdout",
     "output_type": "stream",
     "text": [
      "['breeza', 'mustang-gt', 'fortuner', 'polo']\n"
     ]
    }
   ],
   "source": [
    "cars = ['breeza','creta','harrier','mustang-gt','thar','xuv 700',\n",
    "        'fortuner','seltos','tiago','polo','verna']\n",
    "print(cars[0:11:3])"
   ]
  },
  {
   "cell_type": "code",
   "execution_count": 44,
   "id": "e0125227",
   "metadata": {},
   "outputs": [
    {
     "name": "stdout",
     "output_type": "stream",
     "text": [
      "mustang-gt\n"
     ]
    }
   ],
   "source": [
    "# Indexing\n",
    "cars = ['breeza','creta','harrier','mustang-gt','thar','xuv 700',\n",
    "        'fortuner','seltos','tiago','polo','verna']\n",
    "print(cars[3])\n",
    "\n",
    "Data Types which supports indexing and slicing:\n",
    "    list\n",
    "    str\n",
    "    tuple"
   ]
  },
  {
   "cell_type": "code",
   "execution_count": 45,
   "id": "725ffef3",
   "metadata": {},
   "outputs": [
    {
     "data": {
      "text/plain": [
       "'arr'"
      ]
     },
     "execution_count": 45,
     "metadata": {},
     "output_type": "execute_result"
    }
   ],
   "source": [
    "x = 'harrier'\n",
    "x[1:4]"
   ]
  },
  {
   "cell_type": "code",
   "execution_count": 46,
   "id": "ddb2618b",
   "metadata": {},
   "outputs": [
    {
     "name": "stdout",
     "output_type": "stream",
     "text": [
      "['mustang-gt']\n",
      "['mustang-gt']\n"
     ]
    }
   ],
   "source": [
    "cars = ['breeza','creta','harrier','mustang-gt','thar','xuv 700',\n",
    "        'fortuner','seltos','tiago','polo','verna']\n",
    "print(cars[3:6:4])\n",
    "print(cars[3:6:3])"
   ]
  },
  {
   "cell_type": "code",
   "execution_count": null,
   "id": "1a6306a0",
   "metadata": {},
   "outputs": [],
   "source": [
    "# Negative Indexing"
   ]
  },
  {
   "cell_type": "code",
   "execution_count": 47,
   "id": "5eaef756",
   "metadata": {},
   "outputs": [
    {
     "name": "stdout",
     "output_type": "stream",
     "text": [
      "seltos\n",
      "verna\n"
     ]
    }
   ],
   "source": [
    "cars = ['breeza','creta','harrier','mustang-gt','thar','xuv 700',\n",
    "        'fortuner','seltos','tiago','polo','verna']\n",
    "print(cars[-4])\n",
    "print(cars[-1])"
   ]
  },
  {
   "cell_type": "code",
   "execution_count": 48,
   "id": "5de6e3b1",
   "metadata": {},
   "outputs": [
    {
     "name": "stdout",
     "output_type": "stream",
     "text": [
      "mango\n",
      "kiwi\n"
     ]
    }
   ],
   "source": [
    "fruits = ['kiwi','apple','mango','banana','orange']\n",
    "print(fruits[-3])\n",
    "print(fruits[-5])"
   ]
  },
  {
   "cell_type": "code",
   "execution_count": null,
   "id": "acd2e14e",
   "metadata": {},
   "outputs": [],
   "source": [
    "# Negative Slicing"
   ]
  },
  {
   "cell_type": "code",
   "execution_count": 49,
   "id": "33f1a39c",
   "metadata": {},
   "outputs": [
    {
     "name": "stdout",
     "output_type": "stream",
     "text": [
      "[]\n"
     ]
    }
   ],
   "source": [
    "fruits = ['kiwi','apple','mango','banana','orange']\n",
    "print(fruits[-1:-4])"
   ]
  },
  {
   "cell_type": "code",
   "execution_count": 50,
   "id": "ba7722d7",
   "metadata": {},
   "outputs": [
    {
     "name": "stdout",
     "output_type": "stream",
     "text": [
      "['orange', 'banana', 'mango']\n"
     ]
    }
   ],
   "source": [
    "fruits = ['kiwi','apple','mango','banana','orange']\n",
    "print(fruits[-1:-4:-1])"
   ]
  },
  {
   "cell_type": "code",
   "execution_count": 51,
   "id": "271d2a19",
   "metadata": {},
   "outputs": [],
   "source": [
    "# bool() function"
   ]
  },
  {
   "cell_type": "code",
   "execution_count": 52,
   "id": "918f6c79",
   "metadata": {},
   "outputs": [
    {
     "data": {
      "text/plain": [
       "False"
      ]
     },
     "execution_count": 52,
     "metadata": {},
     "output_type": "execute_result"
    }
   ],
   "source": [
    "bool(None)"
   ]
  },
  {
   "cell_type": "code",
   "execution_count": 53,
   "id": "ae4da90b",
   "metadata": {},
   "outputs": [
    {
     "data": {
      "text/plain": [
       "True"
      ]
     },
     "execution_count": 53,
     "metadata": {},
     "output_type": "execute_result"
    }
   ],
   "source": [
    "bool(True)"
   ]
  },
  {
   "cell_type": "code",
   "execution_count": 54,
   "id": "dd35ff72",
   "metadata": {},
   "outputs": [
    {
     "data": {
      "text/plain": [
       "False"
      ]
     },
     "execution_count": 54,
     "metadata": {},
     "output_type": "execute_result"
    }
   ],
   "source": [
    "bool(False)"
   ]
  },
  {
   "cell_type": "code",
   "execution_count": 55,
   "id": "0dacf9a7",
   "metadata": {},
   "outputs": [
    {
     "data": {
      "text/plain": [
       "False"
      ]
     },
     "execution_count": 55,
     "metadata": {},
     "output_type": "execute_result"
    }
   ],
   "source": [
    "bool([])"
   ]
  },
  {
   "cell_type": "code",
   "execution_count": 56,
   "id": "8b3f88ac",
   "metadata": {},
   "outputs": [
    {
     "data": {
      "text/plain": [
       "True"
      ]
     },
     "execution_count": 56,
     "metadata": {},
     "output_type": "execute_result"
    }
   ],
   "source": [
    "bool([1,2])"
   ]
  },
  {
   "cell_type": "code",
   "execution_count": null,
   "id": "024c7c5b",
   "metadata": {},
   "outputs": [],
   "source": [
    "# loops \n",
    "# for loop or while loop"
   ]
  },
  {
   "cell_type": "code",
   "execution_count": 57,
   "id": "fee62246",
   "metadata": {},
   "outputs": [
    {
     "name": "stdout",
     "output_type": "stream",
     "text": [
      "covid+\n",
      "covid-\n",
      "covid+\n",
      "covid+\n",
      "covid+\n",
      "covid-\n"
     ]
    }
   ],
   "source": [
    "bus = ['covid+','covid-','covid+','covid+','covid+','covid-']\n",
    "\n",
    "for covid_status in bus:\n",
    "    print(covid_status)"
   ]
  },
  {
   "cell_type": "code",
   "execution_count": 60,
   "id": "d0119a2b",
   "metadata": {},
   "outputs": [
    {
     "name": "stdout",
     "output_type": "stream",
     "text": [
      "10\n",
      "happy 1010\n",
      "20\n",
      "happy 1020\n",
      "30\n",
      "happy 1030\n",
      "40\n",
      "happy 1040\n",
      "50\n",
      "happy 1050\n"
     ]
    }
   ],
   "source": [
    "bus = [10,20,30,40,50]\n",
    "\n",
    "for dinesh in bus:\n",
    "    print(dinesh)\n",
    "    print('happy '+str(dinesh+1000))"
   ]
  },
  {
   "cell_type": "code",
   "execution_count": 62,
   "id": "c76d4749",
   "metadata": {},
   "outputs": [
    {
     "name": "stdout",
     "output_type": "stream",
     "text": [
      "100 is even\n",
      "223 is odd\n",
      "403 is odd\n",
      "308 is even\n",
      "757 is odd\n",
      "786 is even\n"
     ]
    }
   ],
   "source": [
    "x = [100,223,403,308,757,786]\n",
    "\n",
    "for i in x:\n",
    "    if i%2 == 0:\n",
    "        print(i, 'is even')\n",
    "    else:\n",
    "        print(i, 'is odd')"
   ]
  },
  {
   "cell_type": "code",
   "execution_count": 64,
   "id": "25cb1f52",
   "metadata": {},
   "outputs": [
    {
     "name": "stdout",
     "output_type": "stream",
     "text": [
      "4\n",
      "Lets be Positive!! but not covid+\n"
     ]
    }
   ],
   "source": [
    "bus = ['covid+','covid-','covid+','covid+','covid+','covid-']\n",
    "\n",
    "count = 0\n",
    "\n",
    "for covid_status in bus:\n",
    "    if covid_status == 'covid+':\n",
    "        count = count + 1\n",
    "print(count)\n",
    "print('Lets be Positive!! but not covid+')"
   ]
  },
  {
   "cell_type": "code",
   "execution_count": null,
   "id": "700d4c76",
   "metadata": {},
   "outputs": [],
   "source": [
    "True and False Equivalents:\n",
    "\n",
    "Empty things are considered False\n",
    "0,None and 0.0 are considered False"
   ]
  },
  {
   "cell_type": "code",
   "execution_count": 65,
   "id": "65cc6813",
   "metadata": {},
   "outputs": [
    {
     "name": "stdout",
     "output_type": "stream",
     "text": [
      "False\n",
      "False\n",
      "False\n",
      "False\n",
      "False\n",
      "False\n",
      "False\n",
      "False\n",
      "False\n"
     ]
    }
   ],
   "source": [
    "x = [[],'',{},(),None,False,0,0.0,set()]\n",
    "\n",
    "for item in x:\n",
    "    print(bool(item))"
   ]
  },
  {
   "cell_type": "code",
   "execution_count": 68,
   "id": "7ea0bbef",
   "metadata": {},
   "outputs": [
    {
     "name": "stdout",
     "output_type": "stream",
     "text": [
      "True\n",
      "True\n",
      "True\n",
      "True\n",
      "True\n",
      "True\n",
      "True\n",
      "True\n",
      "True\n",
      "True\n",
      "True\n"
     ]
    }
   ],
   "source": [
    "x = [[2],'e',{'python':3},(5,4),True,40,-40,0.05,{1,2},[''],[0]]\n",
    "\n",
    "for item in x:\n",
    "    print(bool(item))"
   ]
  },
  {
   "cell_type": "code",
   "execution_count": 69,
   "id": "e51b0f04",
   "metadata": {},
   "outputs": [],
   "source": [
    "# Iterables\n",
    "# things which can be considered in the loop\n",
    "\n",
    "for var_name in Iterable:\n",
    "    python code"
   ]
  },
  {
   "cell_type": "code",
   "execution_count": null,
   "id": "a512a889",
   "metadata": {},
   "outputs": [],
   "source": [
    "Iterables:\n",
    "    list\n",
    "    str\n",
    "    dict\n",
    "    set\n",
    "    tuple\n",
    "    \n",
    "Non Iterables:\n",
    "    float\n",
    "    int\n",
    "    bool\n",
    "    None"
   ]
  }
 ],
 "metadata": {
  "kernelspec": {
   "display_name": "Python 3 (ipykernel)",
   "language": "python",
   "name": "python3"
  },
  "language_info": {
   "codemirror_mode": {
    "name": "ipython",
    "version": 3
   },
   "file_extension": ".py",
   "mimetype": "text/x-python",
   "name": "python",
   "nbconvert_exporter": "python",
   "pygments_lexer": "ipython3",
   "version": "3.8.9"
  }
 },
 "nbformat": 4,
 "nbformat_minor": 5
}
