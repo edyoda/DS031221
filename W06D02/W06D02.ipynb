{
 "cells": [
  {
   "cell_type": "code",
   "execution_count": 33,
   "id": "1be40725",
   "metadata": {},
   "outputs": [],
   "source": [
    "# CLASS VS OBJECTS?\n",
    "\n",
    "class MobilePhone:\n",
    "    def __init__(self, brand, model, price, ram, storage):\n",
    "        self.brand_of_mobile = brand\n",
    "        self.model_for_mobile = model\n",
    "        self.price_of_phone = price\n",
    "        self.ram_in_phone = ram\n",
    "        self.storage_in_mobile = storage\n",
    "        \n",
    "    def find_emi(self, months):\n",
    "        return self.price_of_phone/months"
   ]
  },
  {
   "cell_type": "code",
   "execution_count": 34,
   "id": "aecfe9ec",
   "metadata": {},
   "outputs": [],
   "source": [
    "mohitsphone = MobilePhone('OPPO','F19PRO',27000,'16GB','128GB')"
   ]
  },
  {
   "cell_type": "code",
   "execution_count": 35,
   "id": "1560dfe0",
   "metadata": {},
   "outputs": [
    {
     "data": {
      "text/plain": [
       "4390751104"
      ]
     },
     "execution_count": 35,
     "metadata": {},
     "output_type": "execute_result"
    }
   ],
   "source": [
    "id(mohitsphone)"
   ]
  },
  {
   "cell_type": "code",
   "execution_count": 36,
   "id": "8cd2dcae",
   "metadata": {},
   "outputs": [],
   "source": [
    "sajalsphone = MobilePhone('APPLE','IPHONE13PLUS',130000,'16GB','512GB')"
   ]
  },
  {
   "cell_type": "code",
   "execution_count": 37,
   "id": "6c1656f8",
   "metadata": {},
   "outputs": [
    {
     "data": {
      "text/plain": [
       "4390751248"
      ]
     },
     "execution_count": 37,
     "metadata": {},
     "output_type": "execute_result"
    }
   ],
   "source": [
    "id(sajalsphone)"
   ]
  },
  {
   "cell_type": "code",
   "execution_count": 38,
   "id": "bac8632d",
   "metadata": {},
   "outputs": [
    {
     "data": {
      "text/plain": [
       "'OPPO'"
      ]
     },
     "execution_count": 38,
     "metadata": {},
     "output_type": "execute_result"
    }
   ],
   "source": [
    "mohitsphone.brand_of_mobile"
   ]
  },
  {
   "cell_type": "code",
   "execution_count": 39,
   "id": "0602aed4",
   "metadata": {},
   "outputs": [
    {
     "data": {
      "text/plain": [
       "'APPLE'"
      ]
     },
     "execution_count": 39,
     "metadata": {},
     "output_type": "execute_result"
    }
   ],
   "source": [
    "sajalsphone.brand_of_mobile"
   ]
  },
  {
   "cell_type": "code",
   "execution_count": 40,
   "id": "25d303c9",
   "metadata": {},
   "outputs": [
    {
     "data": {
      "text/plain": [
       "'IPHONE13PLUS'"
      ]
     },
     "execution_count": 40,
     "metadata": {},
     "output_type": "execute_result"
    }
   ],
   "source": [
    "sajalsphone.model_for_mobile"
   ]
  },
  {
   "cell_type": "code",
   "execution_count": 41,
   "id": "00810f5d",
   "metadata": {},
   "outputs": [
    {
     "data": {
      "text/plain": [
       "'F19PRO'"
      ]
     },
     "execution_count": 41,
     "metadata": {},
     "output_type": "execute_result"
    }
   ],
   "source": [
    "mohitsphone.model_for_mobile"
   ]
  },
  {
   "cell_type": "code",
   "execution_count": 42,
   "id": "add1e20e",
   "metadata": {},
   "outputs": [
    {
     "data": {
      "text/plain": [
       "2250.0"
      ]
     },
     "execution_count": 42,
     "metadata": {},
     "output_type": "execute_result"
    }
   ],
   "source": [
    "mohitsphone.find_emi(12)"
   ]
  },
  {
   "cell_type": "code",
   "execution_count": 43,
   "id": "3f5c8dd1",
   "metadata": {},
   "outputs": [
    {
     "data": {
      "text/plain": [
       "10833.333333333334"
      ]
     },
     "execution_count": 43,
     "metadata": {},
     "output_type": "execute_result"
    }
   ],
   "source": [
    "sajalsphone.find_emi(12)"
   ]
  },
  {
   "cell_type": "code",
   "execution_count": 46,
   "id": "6b121346",
   "metadata": {},
   "outputs": [],
   "source": [
    "class MobilePhone:\n",
    "    def __init__(self, brand, model, price, ram, storage):\n",
    "        self.brand_of_mobile = brand\n",
    "        self.model_of_mobile = model\n",
    "        self.price_of_phone = price\n",
    "        self.ram_in_phone = ram\n",
    "        self.storage_in_mobile = storage"
   ]
  },
  {
   "cell_type": "code",
   "execution_count": 47,
   "id": "5911a3e1",
   "metadata": {},
   "outputs": [],
   "source": [
    "manojphone = MobilePhone(\"SAMSUNG\", \"M12\", 9000, \"16GB\", \"64GB\")"
   ]
  },
  {
   "cell_type": "code",
   "execution_count": 48,
   "id": "a04ce8c2",
   "metadata": {},
   "outputs": [
    {
     "data": {
      "text/plain": [
       "'SAMSUNG'"
      ]
     },
     "execution_count": 48,
     "metadata": {},
     "output_type": "execute_result"
    }
   ],
   "source": [
    "manojphone.brand_of_mobile"
   ]
  },
  {
   "cell_type": "code",
   "execution_count": 52,
   "id": "00044e2a",
   "metadata": {},
   "outputs": [
    {
     "name": "stdout",
     "output_type": "stream",
     "text": [
      "<class '__main__.MobilePhone'>\n"
     ]
    }
   ],
   "source": [
    "print(type(manojphone))"
   ]
  },
  {
   "cell_type": "code",
   "execution_count": 53,
   "id": "8273bd01",
   "metadata": {},
   "outputs": [],
   "source": [
    "x = [1,2,3,4]"
   ]
  },
  {
   "cell_type": "code",
   "execution_count": 54,
   "id": "9fac3ab0",
   "metadata": {},
   "outputs": [
    {
     "name": "stdout",
     "output_type": "stream",
     "text": [
      "<class 'list'>\n"
     ]
    }
   ],
   "source": [
    "print(type(x))"
   ]
  },
  {
   "cell_type": "code",
   "execution_count": 56,
   "id": "2c34ad7b",
   "metadata": {},
   "outputs": [],
   "source": [
    "# help(x)"
   ]
  },
  {
   "cell_type": "code",
   "execution_count": 57,
   "id": "4dfa4066",
   "metadata": {},
   "outputs": [],
   "source": [
    "x.append('mango')"
   ]
  },
  {
   "cell_type": "code",
   "execution_count": 58,
   "id": "4cbf337a",
   "metadata": {},
   "outputs": [
    {
     "data": {
      "text/plain": [
       "[1, 2, 3, 4, 'mango']"
      ]
     },
     "execution_count": 58,
     "metadata": {},
     "output_type": "execute_result"
    }
   ],
   "source": [
    "x"
   ]
  },
  {
   "cell_type": "code",
   "execution_count": 59,
   "id": "fc736e7b",
   "metadata": {},
   "outputs": [
    {
     "data": {
      "text/plain": [
       "'16GB'"
      ]
     },
     "execution_count": 59,
     "metadata": {},
     "output_type": "execute_result"
    }
   ],
   "source": [
    "manojphone.ram_in_phone"
   ]
  },
  {
   "cell_type": "code",
   "execution_count": null,
   "id": "d250413d",
   "metadata": {},
   "outputs": [],
   "source": [
    "# name_of_the_object.attribute_of_the_object"
   ]
  },
  {
   "cell_type": "code",
   "execution_count": null,
   "id": "e129b058",
   "metadata": {},
   "outputs": [],
   "source": [
    "How do you create attribute?\n",
    "- using __init__ method, by passing the values and than\n",
    "creating attributes with self keyword and making them equal to the \n",
    "passed values."
   ]
  },
  {
   "cell_type": "code",
   "execution_count": 60,
   "id": "7c5a1e0a",
   "metadata": {},
   "outputs": [],
   "source": [
    "class MobilePhone:\n",
    "    def __init__(self, brand, model, price, ram, storage):\n",
    "        self.brand_of_mobile = brand\n",
    "        self.model_for_mobile = model\n",
    "        self.price_of_phone = price\n",
    "        self.ram_in_phone = ram\n",
    "        self.storage_in_mobile = storage\n",
    "        \n",
    "    def find_emi(self, months):\n",
    "        return self.price_of_phone/months\n",
    "    \n",
    "    # add one more method/function which will tell you the insurance value\n",
    "    # for that phone. 10% of the price of the phone."
   ]
  },
  {
   "cell_type": "code",
   "execution_count": 62,
   "id": "85a9df87",
   "metadata": {},
   "outputs": [],
   "source": [
    "mohitsphone = MobilePhone('OPPO','F19PRO',27000,'16GB','128GB')\n",
    "sajalsphone = MobilePhone('APPLE','IPHONE13PLUS',130000,'16GB','512GB')\n",
    "manojphone = MobilePhone(\"SAMSUNG\", \"M12\", 9000, \"16GB\", \"64GB\")"
   ]
  },
  {
   "cell_type": "code",
   "execution_count": 64,
   "id": "0256db29",
   "metadata": {},
   "outputs": [
    {
     "name": "stdout",
     "output_type": "stream",
     "text": [
      "OPPO F19PRO 27000\n",
      "APPLE IPHONE13PLUS 130000\n",
      "SAMSUNG M12 9000\n"
     ]
    }
   ],
   "source": [
    "for obj in [mohitsphone,sajalsphone,manojphone]:\n",
    "    print(obj.brand_of_mobile, obj.model_for_mobile, obj.price_of_phone)"
   ]
  },
  {
   "cell_type": "code",
   "execution_count": 65,
   "id": "ca4e236d",
   "metadata": {},
   "outputs": [],
   "source": [
    "class MobilePhone:\n",
    "    def __init__(self, brand, model, price, ram, storage):\n",
    "        self.brand_of_mobile = brand\n",
    "        self.model_for_mobile = model\n",
    "        self.price_of_phone = price\n",
    "        self.ram_in_phone = ram\n",
    "        self.storage_in_mobile = storage\n",
    "        \n",
    "    def find_emi(self, months):\n",
    "        return self.price_of_phone/months\n",
    "    \n",
    "    def calculate_insurance_price(self):\n",
    "        return self.price_of_phone*0.1\n",
    "    \n",
    "    # add one more method/function which will tell you the insurance value\n",
    "    # for that phone. 10% of the price of the phone."
   ]
  },
  {
   "cell_type": "code",
   "execution_count": 66,
   "id": "b5523cc4",
   "metadata": {},
   "outputs": [],
   "source": [
    "mohitsphone = MobilePhone('OPPO','F19PRO',27000,'16GB','128GB')\n",
    "sajalsphone = MobilePhone('APPLE','IPHONE13PLUS',130000,'16GB','512GB')\n",
    "manojphone = MobilePhone(\"SAMSUNG\", \"M12\", 9000, \"16GB\", \"64GB\")"
   ]
  },
  {
   "cell_type": "code",
   "execution_count": 68,
   "id": "f78de9b9",
   "metadata": {},
   "outputs": [
    {
     "name": "stdout",
     "output_type": "stream",
     "text": [
      "F19PRO 2700.0\n",
      "IPHONE13PLUS 13000.0\n",
      "M12 900.0\n"
     ]
    }
   ],
   "source": [
    "for obj in [mohitsphone,sajalsphone,manojphone]:\n",
    "    print(obj.model_for_mobile, obj.calculate_insurance_price())"
   ]
  },
  {
   "cell_type": "code",
   "execution_count": 73,
   "id": "876bc1fb",
   "metadata": {},
   "outputs": [],
   "source": [
    "class Dog:\n",
    "    def __init__(self, breed, color, name):\n",
    "        self.breed_of_dog = breed\n",
    "        self.colour = color\n",
    "        self.name = name\n",
    "    \n",
    "    def eat(self):\n",
    "        print(f'Dog {self.name} is eating')\n",
    "        \n",
    "    def run(self):\n",
    "        print(f'Dog {self.name} is running')\n",
    "        \n",
    "    def love(self):\n",
    "        print(f'Dog {self.name} is wagging tail')\n",
    "        \n",
    "    def bark(self):\n",
    "        print(f'{self.colour} coloured {self.breed_of_dog} is barking')"
   ]
  },
  {
   "cell_type": "code",
   "execution_count": 74,
   "id": "1e0fb7f8",
   "metadata": {},
   "outputs": [],
   "source": [
    "yuki = Dog('Labrador','Silver','Yuki Singh Chouhan')"
   ]
  },
  {
   "cell_type": "code",
   "execution_count": 75,
   "id": "6b0fa48e",
   "metadata": {},
   "outputs": [
    {
     "name": "stdout",
     "output_type": "stream",
     "text": [
      "Silver coloured Labrador is barking\n"
     ]
    }
   ],
   "source": [
    "yuki.bark()"
   ]
  },
  {
   "cell_type": "code",
   "execution_count": 76,
   "id": "3906f9f8",
   "metadata": {},
   "outputs": [
    {
     "name": "stdout",
     "output_type": "stream",
     "text": [
      "Dog Yuki Singh Chouhan is wagging tail\n"
     ]
    }
   ],
   "source": [
    "yuki.love()"
   ]
  },
  {
   "cell_type": "code",
   "execution_count": 77,
   "id": "8557ddc9",
   "metadata": {},
   "outputs": [
    {
     "name": "stdout",
     "output_type": "stream",
     "text": [
      "Dog Yuki Singh Chouhan is eating\n"
     ]
    }
   ],
   "source": [
    "yuki.eat()"
   ]
  },
  {
   "cell_type": "code",
   "execution_count": 78,
   "id": "ad0b288d",
   "metadata": {},
   "outputs": [],
   "source": [
    "roxy = Dog('Spitz', 'White','Roxy Sharma')"
   ]
  },
  {
   "cell_type": "code",
   "execution_count": 79,
   "id": "af3116be",
   "metadata": {},
   "outputs": [
    {
     "name": "stdout",
     "output_type": "stream",
     "text": [
      "Dog Roxy Sharma is wagging tail\n"
     ]
    }
   ],
   "source": [
    "roxy.love()"
   ]
  },
  {
   "cell_type": "code",
   "execution_count": 80,
   "id": "300cad5d",
   "metadata": {},
   "outputs": [
    {
     "name": "stdout",
     "output_type": "stream",
     "text": [
      "White coloured Spitz is barking\n"
     ]
    }
   ],
   "source": [
    "roxy.bark()"
   ]
  },
  {
   "cell_type": "code",
   "execution_count": 81,
   "id": "3d472bb2",
   "metadata": {},
   "outputs": [],
   "source": [
    "# getters and setters"
   ]
  },
  {
   "cell_type": "code",
   "execution_count": 226,
   "id": "e3adb346",
   "metadata": {},
   "outputs": [],
   "source": [
    "from datetime import date\n",
    "class Person:\n",
    "    def __init__(self, name, gender):\n",
    "        self.name = name\n",
    "        self.gender = gender\n",
    "        self.friends_list = []\n",
    "    \n",
    "    def make_friends(self, friend_name):\n",
    "        self.friends_list.append(friend_name)\n",
    "    \n",
    "    def set_height(self, height):\n",
    "        if height > 200 or height < 0:\n",
    "            print('Invalid Value, this height is not possible')\n",
    "        else:\n",
    "            self.height = height\n",
    "        \n",
    "    def set_weight(self, weight):\n",
    "        self.weight = weight\n",
    "        \n",
    "    def get_weight(self):\n",
    "        return self.weight\n",
    "    \n",
    "    def get_name(self):\n",
    "        return self.name\n",
    "    \n",
    "    def set_dob(self, dob):\n",
    "        self.dob = dob\n",
    "        self.age = (date.today() - dob).days//365\n",
    "        \n",
    "    def get_age(self):\n",
    "        return self.age"
   ]
  },
  {
   "cell_type": "code",
   "execution_count": 227,
   "id": "27a7af34",
   "metadata": {},
   "outputs": [],
   "source": [
    "mohit = Person('Mohit Singh Chouhan','Male')\n",
    "zafar = Person('Zafar Abbas','Male')\n",
    "shruti = Person('Shruti Saxena','Female')"
   ]
  },
  {
   "cell_type": "code",
   "execution_count": 228,
   "id": "8e8d40e5",
   "metadata": {},
   "outputs": [],
   "source": [
    "mohit.make_friends(zafar)"
   ]
  },
  {
   "cell_type": "code",
   "execution_count": 229,
   "id": "7752b9ab",
   "metadata": {},
   "outputs": [
    {
     "data": {
      "text/plain": [
       "'Zafar Abbas'"
      ]
     },
     "execution_count": 229,
     "metadata": {},
     "output_type": "execute_result"
    }
   ],
   "source": [
    "mohit.friends_list[0].name"
   ]
  },
  {
   "cell_type": "code",
   "execution_count": 230,
   "id": "568ad775",
   "metadata": {},
   "outputs": [],
   "source": [
    "mohit.make_friends(shruti)"
   ]
  },
  {
   "cell_type": "code",
   "execution_count": 231,
   "id": "61c48b3f",
   "metadata": {},
   "outputs": [
    {
     "data": {
      "text/plain": [
       "'Shruti Saxena'"
      ]
     },
     "execution_count": 231,
     "metadata": {},
     "output_type": "execute_result"
    }
   ],
   "source": [
    "mohit.friends_list[1].name"
   ]
  },
  {
   "cell_type": "code",
   "execution_count": 232,
   "id": "cbb6e932",
   "metadata": {},
   "outputs": [],
   "source": [
    "mohit.set_height(170)"
   ]
  },
  {
   "cell_type": "code",
   "execution_count": 233,
   "id": "30cfda7f",
   "metadata": {},
   "outputs": [
    {
     "data": {
      "text/plain": [
       "170"
      ]
     },
     "execution_count": 233,
     "metadata": {},
     "output_type": "execute_result"
    }
   ],
   "source": [
    "mohit.height"
   ]
  },
  {
   "cell_type": "code",
   "execution_count": 234,
   "id": "96a6a3cf",
   "metadata": {},
   "outputs": [],
   "source": [
    "mohit.set_weight('70kg')"
   ]
  },
  {
   "cell_type": "code",
   "execution_count": 235,
   "id": "8a8ed0fa",
   "metadata": {},
   "outputs": [
    {
     "data": {
      "text/plain": [
       "'70kg'"
      ]
     },
     "execution_count": 235,
     "metadata": {},
     "output_type": "execute_result"
    }
   ],
   "source": [
    "mohit.get_weight()"
   ]
  },
  {
   "cell_type": "code",
   "execution_count": 236,
   "id": "3940e552",
   "metadata": {},
   "outputs": [],
   "source": [
    "# mohit.height = \"175cm\" # this is not a good way"
   ]
  },
  {
   "cell_type": "code",
   "execution_count": 237,
   "id": "106e02bf",
   "metadata": {},
   "outputs": [
    {
     "data": {
      "text/plain": [
       "170"
      ]
     },
     "execution_count": 237,
     "metadata": {},
     "output_type": "execute_result"
    }
   ],
   "source": [
    "mohit.height"
   ]
  },
  {
   "cell_type": "code",
   "execution_count": 238,
   "id": "29646a4b",
   "metadata": {},
   "outputs": [],
   "source": [
    "# we should be using getters and setters for setting and getting the\n",
    "# value"
   ]
  },
  {
   "cell_type": "code",
   "execution_count": 239,
   "id": "1c49a359",
   "metadata": {},
   "outputs": [
    {
     "name": "stdout",
     "output_type": "stream",
     "text": [
      "Invalid Value, this height is not possible\n"
     ]
    }
   ],
   "source": [
    "mohit.set_height(204)"
   ]
  },
  {
   "cell_type": "code",
   "execution_count": 240,
   "id": "f588adae",
   "metadata": {},
   "outputs": [],
   "source": [
    "mohit.height = 204"
   ]
  },
  {
   "cell_type": "code",
   "execution_count": 241,
   "id": "b834a0ba",
   "metadata": {},
   "outputs": [
    {
     "data": {
      "text/plain": [
       "204"
      ]
     },
     "execution_count": 241,
     "metadata": {},
     "output_type": "execute_result"
    }
   ],
   "source": [
    "mohit.height"
   ]
  },
  {
   "cell_type": "code",
   "execution_count": 242,
   "id": "47f19461",
   "metadata": {},
   "outputs": [
    {
     "name": "stdout",
     "output_type": "stream",
     "text": [
      "Invalid Value, this height is not possible\n"
     ]
    }
   ],
   "source": [
    "mohit.set_height(-10)"
   ]
  },
  {
   "cell_type": "code",
   "execution_count": 243,
   "id": "7f7f1201",
   "metadata": {},
   "outputs": [
    {
     "data": {
      "text/plain": [
       "74"
      ]
     },
     "execution_count": 243,
     "metadata": {},
     "output_type": "execute_result"
    }
   ],
   "source": [
    "dob_mohit = date.fromisoformat('1947-04-28')\n",
    "age = date.today() - dob_mohit\n",
    "age.days//365"
   ]
  },
  {
   "cell_type": "code",
   "execution_count": 244,
   "id": "5216708d",
   "metadata": {},
   "outputs": [],
   "source": [
    "mohit.set_dob(date.fromisoformat('1947-04-28'))"
   ]
  },
  {
   "cell_type": "code",
   "execution_count": 245,
   "id": "d5f3a62b",
   "metadata": {},
   "outputs": [
    {
     "data": {
      "text/plain": [
       "74"
      ]
     },
     "execution_count": 245,
     "metadata": {},
     "output_type": "execute_result"
    }
   ],
   "source": [
    "mohit.get_age()"
   ]
  },
  {
   "cell_type": "markdown",
   "id": "c07e8847",
   "metadata": {},
   "source": [
    "# Class Attributes Vs Object Attributes"
   ]
  },
  {
   "cell_type": "code",
   "execution_count": null,
   "id": "a1fb6733",
   "metadata": {},
   "outputs": [],
   "source": [
    "# something which all the objects can have in common: Class Attribute"
   ]
  },
  {
   "cell_type": "code",
   "execution_count": 246,
   "id": "1eda046b",
   "metadata": {},
   "outputs": [],
   "source": [
    "from datetime import date\n",
    "class Person:\n",
    "    species = 'Homo Sapiens' # class attribute\n",
    "    def __init__(self, name, gender):\n",
    "        self.name = name\n",
    "        self.gender = gender\n",
    "        self.friends_list = []\n",
    "    \n",
    "    def make_friends(self, friend_name):\n",
    "        self.friends_list.append(friend_name)\n",
    "    \n",
    "    def set_height(self, height):\n",
    "        if height > 200 or height < 0:\n",
    "            print('Invalid Value, this height is not possible')\n",
    "        else:\n",
    "            self.height = height\n",
    "        \n",
    "    def set_weight(self, weight):\n",
    "        self.weight = weight\n",
    "        \n",
    "    def get_weight(self):\n",
    "        return self.weight\n",
    "    \n",
    "    def get_name(self):\n",
    "        return self.name\n",
    "    \n",
    "    def set_dob(self, dob):\n",
    "        self.dob = dob\n",
    "        self.age = (date.today() - dob).days//365\n",
    "        \n",
    "    def get_age(self):\n",
    "        return self.age"
   ]
  },
  {
   "cell_type": "code",
   "execution_count": 247,
   "id": "54d68310",
   "metadata": {},
   "outputs": [],
   "source": [
    "mohit = Person('Mohit Singh Chouhan','Male')\n",
    "zafar = Person('Zafar Abbas','Male')\n",
    "shruti = Person('Shruti Saxena','Female')"
   ]
  },
  {
   "cell_type": "code",
   "execution_count": 248,
   "id": "261be8a0",
   "metadata": {},
   "outputs": [
    {
     "data": {
      "text/plain": [
       "'Homo Sapiens'"
      ]
     },
     "execution_count": 248,
     "metadata": {},
     "output_type": "execute_result"
    }
   ],
   "source": [
    "mohit.species"
   ]
  },
  {
   "cell_type": "code",
   "execution_count": 249,
   "id": "c0455185",
   "metadata": {},
   "outputs": [
    {
     "data": {
      "text/plain": [
       "'Homo Sapiens'"
      ]
     },
     "execution_count": 249,
     "metadata": {},
     "output_type": "execute_result"
    }
   ],
   "source": [
    "zafar.species"
   ]
  },
  {
   "cell_type": "code",
   "execution_count": 250,
   "id": "152de5f8",
   "metadata": {},
   "outputs": [
    {
     "data": {
      "text/plain": [
       "'Homo Sapiens'"
      ]
     },
     "execution_count": 250,
     "metadata": {},
     "output_type": "execute_result"
    }
   ],
   "source": [
    "shruti.species"
   ]
  },
  {
   "cell_type": "code",
   "execution_count": 251,
   "id": "66654280",
   "metadata": {},
   "outputs": [],
   "source": [
    "Person.species = 'Homo Sapiens Plus'"
   ]
  },
  {
   "cell_type": "code",
   "execution_count": 252,
   "id": "18803ccc",
   "metadata": {},
   "outputs": [
    {
     "data": {
      "text/plain": [
       "'Homo Sapiens Plus'"
      ]
     },
     "execution_count": 252,
     "metadata": {},
     "output_type": "execute_result"
    }
   ],
   "source": [
    "mohit.species"
   ]
  },
  {
   "cell_type": "code",
   "execution_count": 253,
   "id": "bf1fdd31",
   "metadata": {},
   "outputs": [
    {
     "data": {
      "text/plain": [
       "'Homo Sapiens Plus'"
      ]
     },
     "execution_count": 253,
     "metadata": {},
     "output_type": "execute_result"
    }
   ],
   "source": [
    "zafar.species"
   ]
  },
  {
   "cell_type": "code",
   "execution_count": 254,
   "id": "22ffa4f7",
   "metadata": {},
   "outputs": [
    {
     "data": {
      "text/plain": [
       "'Homo Sapiens Plus'"
      ]
     },
     "execution_count": 254,
     "metadata": {},
     "output_type": "execute_result"
    }
   ],
   "source": [
    "shruti.species"
   ]
  },
  {
   "cell_type": "code",
   "execution_count": null,
   "id": "50b2a484",
   "metadata": {},
   "outputs": [],
   "source": [
    "# Revise everything in Python OOP"
   ]
  }
 ],
 "metadata": {
  "kernelspec": {
   "display_name": "Python 3 (ipykernel)",
   "language": "python",
   "name": "python3"
  },
  "language_info": {
   "codemirror_mode": {
    "name": "ipython",
    "version": 3
   },
   "file_extension": ".py",
   "mimetype": "text/x-python",
   "name": "python",
   "nbconvert_exporter": "python",
   "pygments_lexer": "ipython3",
   "version": "3.8.9"
  }
 },
 "nbformat": 4,
 "nbformat_minor": 5
}
