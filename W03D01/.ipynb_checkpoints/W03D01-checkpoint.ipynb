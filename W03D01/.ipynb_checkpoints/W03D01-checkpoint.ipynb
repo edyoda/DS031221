{
 "cells": [
  {
   "cell_type": "markdown",
   "id": "7b4e9bdb",
   "metadata": {},
   "source": [
    "# Q4 Find out the highest number in the following lists without using any builtin function and compulary use a for loop\n",
    "\n",
    "Hint: use comparison operator and for loop.\n",
    "\n",
    "x = [23,25,-43,0,-56] ans would be 25\n",
    "x = [-5000,-5000000,-1] ans would be -1\n",
    "x = [] ans should be empty list"
   ]
  },
  {
   "cell_type": "code",
   "execution_count": null,
   "id": "3a2ccc44",
   "metadata": {},
   "outputs": [],
   "source": [
    "x = [23,25,-43,0,-56]\n",
    "ans = 25\n",
    "y = [-5000,-5000000,-1]\n",
    "ans = -1\n",
    "z = []\n",
    "ans = 'empty list'"
   ]
  },
  {
   "cell_type": "code",
   "execution_count": 1,
   "id": "42f470d3",
   "metadata": {},
   "outputs": [],
   "source": [
    "ans = 0"
   ]
  },
  {
   "cell_type": "code",
   "execution_count": 3,
   "id": "031f2d8d",
   "metadata": {},
   "outputs": [],
   "source": [
    "ans = 23"
   ]
  },
  {
   "cell_type": "code",
   "execution_count": 5,
   "id": "a2e96538",
   "metadata": {},
   "outputs": [],
   "source": [
    "ans = 25"
   ]
  },
  {
   "cell_type": "code",
   "execution_count": 6,
   "id": "b3c8a8a5",
   "metadata": {},
   "outputs": [
    {
     "data": {
      "text/plain": [
       "True"
      ]
     },
     "execution_count": 6,
     "metadata": {},
     "output_type": "execute_result"
    }
   ],
   "source": [
    "ans > -43"
   ]
  },
  {
   "cell_type": "code",
   "execution_count": 7,
   "id": "26484b9f",
   "metadata": {},
   "outputs": [
    {
     "data": {
      "text/plain": [
       "True"
      ]
     },
     "execution_count": 7,
     "metadata": {},
     "output_type": "execute_result"
    }
   ],
   "source": [
    "ans > 0"
   ]
  },
  {
   "cell_type": "code",
   "execution_count": 8,
   "id": "77522b33",
   "metadata": {},
   "outputs": [
    {
     "data": {
      "text/plain": [
       "True"
      ]
     },
     "execution_count": 8,
     "metadata": {},
     "output_type": "execute_result"
    }
   ],
   "source": [
    "ans > -56"
   ]
  },
  {
   "cell_type": "code",
   "execution_count": 9,
   "id": "5d5a5dfa",
   "metadata": {},
   "outputs": [
    {
     "name": "stdout",
     "output_type": "stream",
     "text": [
      "25\n"
     ]
    }
   ],
   "source": [
    "print(ans)"
   ]
  },
  {
   "cell_type": "code",
   "execution_count": 10,
   "id": "e46767c1",
   "metadata": {},
   "outputs": [
    {
     "data": {
      "text/plain": [
       "True"
      ]
     },
     "execution_count": 10,
     "metadata": {},
     "output_type": "execute_result"
    }
   ],
   "source": [
    "7.6 > 4"
   ]
  },
  {
   "cell_type": "code",
   "execution_count": 11,
   "id": "f3f88eed",
   "metadata": {},
   "outputs": [],
   "source": [
    "maximum_number = float('-inf')"
   ]
  },
  {
   "cell_type": "code",
   "execution_count": 12,
   "id": "a7e97a0b",
   "metadata": {},
   "outputs": [
    {
     "data": {
      "text/plain": [
       "False"
      ]
     },
     "execution_count": 12,
     "metadata": {},
     "output_type": "execute_result"
    }
   ],
   "source": [
    "maximum_number > -7888888"
   ]
  },
  {
   "cell_type": "code",
   "execution_count": null,
   "id": "2ee595e3",
   "metadata": {},
   "outputs": [],
   "source": [
    "x = [23,25,-43,0,-56]\n",
    "ans = 25\n",
    "y = [-5000,-5000000,-1]\n",
    "ans = -1\n",
    "z = []\n",
    "ans = 'empty list'"
   ]
  },
  {
   "cell_type": "code",
   "execution_count": 20,
   "id": "1e464db9",
   "metadata": {},
   "outputs": [
    {
     "name": "stdout",
     "output_type": "stream",
     "text": [
      "Empty list\n"
     ]
    }
   ],
   "source": [
    "x = []\n",
    "maximum_number = float('-inf')\n",
    "for no in x:\n",
    "    if maximum_number < no:\n",
    "        maximum_number = no\n",
    "if len(x) == 0:\n",
    "    print('Empty list')\n",
    "else:\n",
    "    print(maximum_number)"
   ]
  },
  {
   "cell_type": "markdown",
   "id": "ff30bad4",
   "metadata": {},
   "source": [
    "\n",
    "## Q5: In the following list of Person Informations.\n",
    " persons = [{'Name':'Mohit','Gender':'M','Profession':'teacher'},{'Name':\n",
    ",'Kunal','Gender':'M','Profession':'engineer'},\n",
    "{'Name':'Rashmi','Gender':'F','Profession':'doctor'}]\n",
    "\n",
    "## if the profession is doctor check if the name starts with M print 'doctor M' else print 'doctor' \n",
    "## if the professtion is engineer, check if the gender is M, if yes print 'engineer bhaiyya' else print 'engineer didi' \n",
    "\n",
    "## if the profeesion is actor , check if the last char of name is h, if yes print 'actor' or print 'lier' \n",
    "\n",
    "## if the profession is none of the above print('Wow what do you actually do??')\n"
   ]
  },
  {
   "cell_type": "code",
   "execution_count": 23,
   "id": "50c0b45b",
   "metadata": {},
   "outputs": [],
   "source": [
    "persons = [{'Name':'Mohit','Gender':'M','Profession':'teacher'},\n",
    "           {'Name': 'Kunal','Gender':'M','Profession':'engineer'},\n",
    "           {'Name':'Rashmi','Gender':'F','Profession':'doctor'}]"
   ]
  },
  {
   "cell_type": "code",
   "execution_count": 26,
   "id": "f156295c",
   "metadata": {},
   "outputs": [
    {
     "name": "stdout",
     "output_type": "stream",
     "text": [
      "doctor\n"
     ]
    }
   ],
   "source": [
    "for person in persons:\n",
    "    if person['Profession'] == 'doctor':\n",
    "        if person['Name'][0] == 'M':\n",
    "            print('doctor M')\n",
    "        else:\n",
    "            print('doctor')\n",
    "    if person['Profession'] == 'engineer':\n",
    "        other stuff..."
   ]
  },
  {
   "cell_type": "code",
   "execution_count": 25,
   "id": "80ab25af",
   "metadata": {},
   "outputs": [
    {
     "name": "stdout",
     "output_type": "stream",
     "text": [
      "M\n"
     ]
    }
   ],
   "source": [
    "x = 'Mohit'\n",
    "print(x[0])"
   ]
  },
  {
   "cell_type": "markdown",
   "id": "7db4a469",
   "metadata": {},
   "source": [
    "# Lists"
   ]
  },
  {
   "cell_type": "code",
   "execution_count": 27,
   "id": "e1c0b308",
   "metadata": {},
   "outputs": [
    {
     "name": "stdout",
     "output_type": "stream",
     "text": [
      "[900, 7.8, True, None, (3, 4), {'python': 3, 'Prepinsta': 5}, {4}]\n"
     ]
    }
   ],
   "source": [
    "x = [900,7.8,True,None,(3,4),{'python':3,'Prepinsta':5},{4,4,4}]\n",
    "print(x)"
   ]
  },
  {
   "cell_type": "code",
   "execution_count": null,
   "id": "47d08c56",
   "metadata": {},
   "outputs": [],
   "source": [
    "-> lists are mutable(editable).\n",
    "-> lists supprts indexing and slicing."
   ]
  },
  {
   "cell_type": "code",
   "execution_count": 28,
   "id": "6f534587",
   "metadata": {},
   "outputs": [],
   "source": [
    "fruits = ['kiwi','apple','apricot','mango','banana']"
   ]
  },
  {
   "cell_type": "code",
   "execution_count": 29,
   "id": "edc070d9",
   "metadata": {},
   "outputs": [
    {
     "name": "stdout",
     "output_type": "stream",
     "text": [
      "apricot\n"
     ]
    }
   ],
   "source": [
    "print(fruits[2])"
   ]
  },
  {
   "cell_type": "code",
   "execution_count": 30,
   "id": "10241348",
   "metadata": {},
   "outputs": [
    {
     "name": "stdout",
     "output_type": "stream",
     "text": [
      "banana\n"
     ]
    }
   ],
   "source": [
    "print(fruits[-1])"
   ]
  },
  {
   "cell_type": "code",
   "execution_count": 31,
   "id": "368a6e51",
   "metadata": {},
   "outputs": [
    {
     "name": "stdout",
     "output_type": "stream",
     "text": [
      "kiwi\n"
     ]
    }
   ],
   "source": [
    "print(fruits[0])"
   ]
  },
  {
   "cell_type": "code",
   "execution_count": 32,
   "id": "e4947410",
   "metadata": {},
   "outputs": [
    {
     "name": "stdout",
     "output_type": "stream",
     "text": [
      "['apricot', 'mango']\n"
     ]
    }
   ],
   "source": [
    "print(fruits[2:4])"
   ]
  },
  {
   "cell_type": "code",
   "execution_count": 36,
   "id": "712f392b",
   "metadata": {},
   "outputs": [
    {
     "name": "stdout",
     "output_type": "stream",
     "text": [
      "4395757504\n"
     ]
    }
   ],
   "source": [
    "fruits = ['kiwi','apple','apricot','mango','banana']\n",
    "print(id(fruits))"
   ]
  },
  {
   "cell_type": "code",
   "execution_count": 37,
   "id": "9da0080f",
   "metadata": {},
   "outputs": [],
   "source": [
    "fruits[2] = 'dragon fruit'"
   ]
  },
  {
   "cell_type": "code",
   "execution_count": 38,
   "id": "7e76be36",
   "metadata": {},
   "outputs": [
    {
     "name": "stdout",
     "output_type": "stream",
     "text": [
      "['kiwi', 'apple', 'dragon fruit', 'mango', 'banana']\n",
      "4395757504\n"
     ]
    }
   ],
   "source": [
    "print(fruits)\n",
    "print(id(fruits))"
   ]
  },
  {
   "cell_type": "code",
   "execution_count": 39,
   "id": "32c0e97e",
   "metadata": {},
   "outputs": [],
   "source": [
    "# append builtin function\n",
    "# it is for adding elements at the end of the list."
   ]
  },
  {
   "cell_type": "code",
   "execution_count": 40,
   "id": "3207d601",
   "metadata": {},
   "outputs": [],
   "source": [
    "fruits = ['kiwi','apple','apricot','mango','banana']\n",
    "fruits.append('lichi')"
   ]
  },
  {
   "cell_type": "code",
   "execution_count": 41,
   "id": "f3921265",
   "metadata": {},
   "outputs": [
    {
     "name": "stdout",
     "output_type": "stream",
     "text": [
      "['kiwi', 'apple', 'apricot', 'mango', 'banana', 'lichi']\n"
     ]
    }
   ],
   "source": [
    "print(fruits)"
   ]
  },
  {
   "cell_type": "code",
   "execution_count": 42,
   "id": "e8352dac",
   "metadata": {},
   "outputs": [
    {
     "name": "stdout",
     "output_type": "stream",
     "text": [
      "lichi\n"
     ]
    }
   ],
   "source": [
    "print(fruits[-1])"
   ]
  },
  {
   "cell_type": "markdown",
   "id": "ef3a7baf",
   "metadata": {},
   "source": [
    "## Q2.) Make a list with alphabets from m to z\n",
    "\n",
    "### Intuition: Range function can create numbers and chr() can convert them to alphabets\n",
    "\n",
    "### Pseudocode:\n",
    "    1.) Create an empty list\n",
    "    2.) make 2 variables for start and end alphabets. convert them to numbers\n",
    "    3.) loop from start to end and convert each one of them to alphabet\n",
    "    4.) save each one of them to list."
   ]
  },
  {
   "cell_type": "code",
   "execution_count": null,
   "id": "e654455e",
   "metadata": {},
   "outputs": [],
   "source": [
    "# ASCII Table\n",
    "chr()\n",
    "it gives you character correponding to a ascii value."
   ]
  },
  {
   "cell_type": "code",
   "execution_count": 56,
   "id": "41ffb1f9",
   "metadata": {},
   "outputs": [
    {
     "data": {
      "text/plain": [
       "'A'"
      ]
     },
     "execution_count": 56,
     "metadata": {},
     "output_type": "execute_result"
    }
   ],
   "source": [
    "chr(65)"
   ]
  },
  {
   "cell_type": "code",
   "execution_count": 57,
   "id": "cb80bf91",
   "metadata": {},
   "outputs": [
    {
     "data": {
      "text/plain": [
       "'a'"
      ]
     },
     "execution_count": 57,
     "metadata": {},
     "output_type": "execute_result"
    }
   ],
   "source": [
    "chr(97)"
   ]
  },
  {
   "cell_type": "code",
   "execution_count": null,
   "id": "8e8cf9bf",
   "metadata": {},
   "outputs": [],
   "source": [
    "ord()\n",
    "it gives you ascii value for a character"
   ]
  },
  {
   "cell_type": "code",
   "execution_count": 58,
   "id": "b1249c9a",
   "metadata": {},
   "outputs": [
    {
     "data": {
      "text/plain": [
       "97"
      ]
     },
     "execution_count": 58,
     "metadata": {},
     "output_type": "execute_result"
    }
   ],
   "source": [
    "ord('a')"
   ]
  },
  {
   "cell_type": "code",
   "execution_count": 59,
   "id": "43b163e2",
   "metadata": {},
   "outputs": [
    {
     "data": {
      "text/plain": [
       "109"
      ]
     },
     "execution_count": 59,
     "metadata": {},
     "output_type": "execute_result"
    }
   ],
   "source": [
    "ord('m')"
   ]
  },
  {
   "cell_type": "code",
   "execution_count": 60,
   "id": "2ced4225",
   "metadata": {},
   "outputs": [
    {
     "data": {
      "text/plain": [
       "122"
      ]
     },
     "execution_count": 60,
     "metadata": {},
     "output_type": "execute_result"
    }
   ],
   "source": [
    "ord('z')"
   ]
  },
  {
   "cell_type": "code",
   "execution_count": 62,
   "id": "0f12355b",
   "metadata": {},
   "outputs": [
    {
     "name": "stdout",
     "output_type": "stream",
     "text": [
      "a\n",
      "b\n",
      "c\n",
      "d\n",
      "e\n",
      "f\n",
      "g\n",
      "h\n",
      "i\n",
      "j\n",
      "k\n",
      "l\n",
      "m\n",
      "n\n",
      "o\n",
      "p\n",
      "q\n",
      "r\n",
      "s\n",
      "t\n",
      "u\n",
      "v\n",
      "w\n",
      "x\n",
      "y\n",
      "z\n"
     ]
    }
   ],
   "source": [
    "for i in range(97,123):\n",
    "    print(chr(i))"
   ]
  },
  {
   "cell_type": "code",
   "execution_count": 63,
   "id": "4915539f",
   "metadata": {},
   "outputs": [
    {
     "data": {
      "text/plain": [
       "109"
      ]
     },
     "execution_count": 63,
     "metadata": {},
     "output_type": "execute_result"
    }
   ],
   "source": [
    "ord('m')"
   ]
  },
  {
   "cell_type": "code",
   "execution_count": 65,
   "id": "a8fd573a",
   "metadata": {},
   "outputs": [
    {
     "name": "stdout",
     "output_type": "stream",
     "text": [
      "['m', 'n', 'o', 'p', 'q', 'r', 's', 't', 'u', 'v', 'w', 'x', 'y', 'z']\n"
     ]
    }
   ],
   "source": [
    "x = []\n",
    "for i in range(109,123):\n",
    "    x.append(chr(i))\n",
    "print(x)"
   ]
  },
  {
   "cell_type": "code",
   "execution_count": null,
   "id": "5d906490",
   "metadata": {},
   "outputs": [],
   "source": [
    "isalpha()\n",
    "isdigit()\n",
    "isalnum()\n",
    "isspace()"
   ]
  },
  {
   "cell_type": "code",
   "execution_count": 66,
   "id": "dd4ae461",
   "metadata": {},
   "outputs": [
    {
     "data": {
      "text/plain": [
       "True"
      ]
     },
     "execution_count": 66,
     "metadata": {},
     "output_type": "execute_result"
    }
   ],
   "source": [
    "'tomorrow'.isalpha()"
   ]
  },
  {
   "cell_type": "code",
   "execution_count": 68,
   "id": "b277f1ea",
   "metadata": {},
   "outputs": [
    {
     "data": {
      "text/plain": [
       "False"
      ]
     },
     "execution_count": 68,
     "metadata": {},
     "output_type": "execute_result"
    }
   ],
   "source": [
    "'tomorrow2'.isalpha()"
   ]
  },
  {
   "cell_type": "code",
   "execution_count": 69,
   "id": "66906075",
   "metadata": {},
   "outputs": [
    {
     "data": {
      "text/plain": [
       "True"
      ]
     },
     "execution_count": 69,
     "metadata": {},
     "output_type": "execute_result"
    }
   ],
   "source": [
    "'3000'.isdigit()"
   ]
  },
  {
   "cell_type": "code",
   "execution_count": 70,
   "id": "c93f5f15",
   "metadata": {},
   "outputs": [
    {
     "data": {
      "text/plain": [
       "False"
      ]
     },
     "execution_count": 70,
     "metadata": {},
     "output_type": "execute_result"
    }
   ],
   "source": [
    "'iloveyou3000'.isdigit()"
   ]
  },
  {
   "cell_type": "code",
   "execution_count": 71,
   "id": "c0172aa0",
   "metadata": {},
   "outputs": [
    {
     "data": {
      "text/plain": [
       "True"
      ]
     },
     "execution_count": 71,
     "metadata": {},
     "output_type": "execute_result"
    }
   ],
   "source": [
    "'iloveyou3000'.isalnum()"
   ]
  },
  {
   "cell_type": "code",
   "execution_count": 72,
   "id": "643f363b",
   "metadata": {},
   "outputs": [
    {
     "data": {
      "text/plain": [
       "False"
      ]
     },
     "execution_count": 72,
     "metadata": {},
     "output_type": "execute_result"
    }
   ],
   "source": [
    "'iloveyou3000##'.isalnum()"
   ]
  },
  {
   "cell_type": "code",
   "execution_count": 73,
   "id": "3ca6faa6",
   "metadata": {},
   "outputs": [
    {
     "data": {
      "text/plain": [
       "True"
      ]
     },
     "execution_count": 73,
     "metadata": {},
     "output_type": "execute_result"
    }
   ],
   "source": [
    "'iloveyou'.isalnum()"
   ]
  },
  {
   "cell_type": "code",
   "execution_count": 74,
   "id": "2742201e",
   "metadata": {},
   "outputs": [
    {
     "data": {
      "text/plain": [
       "True"
      ]
     },
     "execution_count": 74,
     "metadata": {},
     "output_type": "execute_result"
    }
   ],
   "source": [
    "'3000'.isalnum()"
   ]
  },
  {
   "cell_type": "code",
   "execution_count": 75,
   "id": "62fbda36",
   "metadata": {},
   "outputs": [
    {
     "data": {
      "text/plain": [
       "True"
      ]
     },
     "execution_count": 75,
     "metadata": {},
     "output_type": "execute_result"
    }
   ],
   "source": [
    "' '.isspace()"
   ]
  },
  {
   "cell_type": "code",
   "execution_count": 76,
   "id": "eeff4708",
   "metadata": {},
   "outputs": [
    {
     "data": {
      "text/plain": [
       "False"
      ]
     },
     "execution_count": 76,
     "metadata": {},
     "output_type": "execute_result"
    }
   ],
   "source": [
    "'$. '.isspace()"
   ]
  },
  {
   "cell_type": "markdown",
   "id": "ddb80bb1",
   "metadata": {},
   "source": [
    "## Q1) How to use slicing to print only OOOO out of \"OAOAOAOA\"?\n",
    "\n",
    "### Intuition: Can we jump to only even index positions?\n",
    "\n",
    "### Pseudocode:No Need, just an builtin function"
   ]
  },
  {
   "cell_type": "code",
   "execution_count": 79,
   "id": "0c8789ad",
   "metadata": {},
   "outputs": [
    {
     "name": "stdout",
     "output_type": "stream",
     "text": [
      "OOOO\n"
     ]
    }
   ],
   "source": [
    "x = \"OAOAOAOA\"\n",
    "print(x[0:len(x):2])"
   ]
  },
  {
   "cell_type": "markdown",
   "id": "f7124459",
   "metadata": {},
   "source": [
    "## Q2)Check which of the following string contains all the 26 Alphabets\n",
    "##    a)\"the quick brown fox jumps over a lazy dog\"\n",
    "##    b)\"the quick red fox jumps over a lazy dog\"\n",
    "\n",
    "### Intuition:Can we use ASCII values to store in a list the alphabet number present in the string.\n",
    "\n",
    "### Pseudocode:\n",
    "    1)make a list with 0's of size 26\n",
    "    2)loop through the string and calculate ascii value.\n",
    "    2.1) subtract the lowest ascii value to get the alphabet position (Remember 0 indexed)\n",
    "    2.2) replace the 0 with 1 in the list for that alphabet\n",
    "    3) sum the values in the list, it should be 26."
   ]
  },
  {
   "cell_type": "code",
   "execution_count": 91,
   "id": "0e78490f",
   "metadata": {},
   "outputs": [
    {
     "name": "stdout",
     "output_type": "stream",
     "text": [
      "True\n"
     ]
    }
   ],
   "source": [
    "x = \"the quick brown fox jumps over a lazy dog @##$%^\"\n",
    "flag = True\n",
    "for i in range(97,123):\n",
    "    if chr(i) in x:\n",
    "        pass\n",
    "    else:\n",
    "        flag = False\n",
    "        print(chr(i))\n",
    "print(flag)"
   ]
  },
  {
   "cell_type": "code",
   "execution_count": 87,
   "id": "cb00274a",
   "metadata": {},
   "outputs": [
    {
     "name": "stdout",
     "output_type": "stream",
     "text": [
      "56\n"
     ]
    }
   ],
   "source": [
    "# what is the difference between = and ==?\n",
    "x = 56\n",
    "print(x)\n",
    "# hey you are 56"
   ]
  },
  {
   "cell_type": "code",
   "execution_count": 89,
   "id": "3c84a1a7",
   "metadata": {},
   "outputs": [
    {
     "data": {
      "text/plain": [
       "False"
      ]
     },
     "execution_count": 89,
     "metadata": {},
     "output_type": "execute_result"
    }
   ],
   "source": [
    "x == 44\n",
    "# Asking a question that hey are you 44?"
   ]
  },
  {
   "cell_type": "code",
   "execution_count": 93,
   "id": "5c91483a",
   "metadata": {},
   "outputs": [
    {
     "name": "stdout",
     "output_type": "stream",
     "text": [
      "False\n"
     ]
    }
   ],
   "source": [
    "x = \"the quick red fox jumps over a lazy dog @##$%^\"\n",
    "flag = True\n",
    "for i in range(97,123):\n",
    "    if chr(i) not in x:\n",
    "        flag = False\n",
    "print(flag)"
   ]
  },
  {
   "cell_type": "code",
   "execution_count": null,
   "id": "d28a70fc",
   "metadata": {},
   "outputs": [],
   "source": []
  }
 ],
 "metadata": {
  "kernelspec": {
   "display_name": "Python 3 (ipykernel)",
   "language": "python",
   "name": "python3"
  },
  "language_info": {
   "codemirror_mode": {
    "name": "ipython",
    "version": 3
   },
   "file_extension": ".py",
   "mimetype": "text/x-python",
   "name": "python",
   "nbconvert_exporter": "python",
   "pygments_lexer": "ipython3",
   "version": "3.8.9"
  }
 },
 "nbformat": 4,
 "nbformat_minor": 5
}
