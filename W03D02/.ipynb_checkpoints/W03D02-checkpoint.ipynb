{
 "cells": [
  {
   "cell_type": "code",
   "execution_count": null,
   "id": "c2e837a0",
   "metadata": {},
   "outputs": [],
   "source": [
    "# insert and extend"
   ]
  },
  {
   "cell_type": "code",
   "execution_count": 3,
   "id": "a6e5b2ab",
   "metadata": {},
   "outputs": [],
   "source": [
    "persons = [{'Name':'Mohit','Gender':'M','Profession':'Actor'},\n",
    "           {'Name': 'Kunal','Gender':'M','Profession':'engineer'},\n",
    "           {'Name':'Mashmi','Gender':'F','Profession':'doctor'}] \n",
    "\n",
    "for x in persons:\n",
    "    if x['Profession'] == 'Engineer':\n",
    "        if x['Gender'] == 'M':\n",
    "            print('Engineer Bhaiyya')\n",
    "        else:\n",
    "            print('Engineer Didi')\n",
    "    if x['Profession'] == 'Doctor':\n",
    "        print('Doctor o')\n",
    "        \n",
    "# Python is case sensitive"
   ]
  },
  {
   "cell_type": "markdown",
   "id": "5d27418b",
   "metadata": {},
   "source": [
    "## Q3)find the length of the string \"Edyoda\" without using len function.\n",
    "\n",
    "### Intuition:\n",
    "    You already studied Loops, and you know string is iterable.\n",
    "    \n",
    "### Pseudocode:\n",
    "    1)create a variable length = 0.\n",
    "    2)loop over the string and increase it's value.`"
   ]
  },
  {
   "cell_type": "code",
   "execution_count": 4,
   "id": "f0b0ba6d",
   "metadata": {},
   "outputs": [
    {
     "name": "stdout",
     "output_type": "stream",
     "text": [
      "6\n"
     ]
    }
   ],
   "source": [
    "length = 0\n",
    "\n",
    "for i in \"Edyoda\":\n",
    "    length = length + 1\n",
    "    \n",
    "print(length)"
   ]
  },
  {
   "cell_type": "markdown",
   "id": "667e2e0c",
   "metadata": {},
   "source": [
    "## Q4) Check if the word 'china'  is present in the string\n",
    "##    a)\"Who is responsible for this great year 2020?\"        \n",
    "##     b)\"Is it you china?\"\n",
    "\n",
    "## Intuition:\n",
    "    You already studied some operators, use them, or maybe use some builtin string functions"
   ]
  },
  {
   "cell_type": "code",
   "execution_count": 11,
   "id": "ba7a86cb",
   "metadata": {},
   "outputs": [
    {
     "name": "stdout",
     "output_type": "stream",
     "text": [
      "Yes China is there\n"
     ]
    }
   ],
   "source": [
    "doge = \"Is it you china?\"\n",
    "\n",
    "v = doge.count('china')\n",
    "\n",
    "if v == 0:\n",
    "    print('China is not present')\n",
    "else:\n",
    "    print('Yes China is there')"
   ]
  },
  {
   "cell_type": "code",
   "execution_count": 12,
   "id": "7bda87f5",
   "metadata": {},
   "outputs": [
    {
     "name": "stdout",
     "output_type": "stream",
     "text": [
      "True\n"
     ]
    }
   ],
   "source": [
    "x = \"I am living in China\"\n",
    "\n",
    "if 'China' in x:\n",
    "    print(True)\n",
    "else:\n",
    "    print(False)"
   ]
  },
  {
   "cell_type": "code",
   "execution_count": 13,
   "id": "26f490dd",
   "metadata": {},
   "outputs": [
    {
     "name": "stdout",
     "output_type": "stream",
     "text": [
      "False\n"
     ]
    }
   ],
   "source": [
    "x = \"I am living in Jaipur\"\n",
    "\n",
    "if 'China' in x:\n",
    "    print(True)\n",
    "else:\n",
    "    print(False)"
   ]
  },
  {
   "cell_type": "code",
   "execution_count": 14,
   "id": "ded4c0c0",
   "metadata": {},
   "outputs": [
    {
     "name": "stdout",
     "output_type": "stream",
     "text": [
      "false\n",
      "true.y\n"
     ]
    }
   ],
   "source": [
    "x=\"Who is responsible for this great year 2020?\"\n",
    "y=\"Is it you china?\"\n",
    "if x.count('china'):\n",
    "    print('true.x')\n",
    "else:\n",
    "    print('false')\n",
    "    \n",
    "if y.count('china'):\n",
    "    print('true.y')\n",
    "else:\n",
    "    print('false')"
   ]
  },
  {
   "cell_type": "markdown",
   "id": "b63eeada",
   "metadata": {},
   "source": [
    "## Q5) find the first and the last occurence of the letter 'o' and character ',' in \"Hello, World\".Print both the index.\n",
    "\n",
    "## Intuition: Use built in function"
   ]
  },
  {
   "cell_type": "code",
   "execution_count": 16,
   "id": "4c3d7e64",
   "metadata": {},
   "outputs": [
    {
     "name": "stdout",
     "output_type": "stream",
     "text": [
      "o\n",
      "first occurence of  o  is 4\n",
      "last occurence of  o  is 8\n",
      ",\n",
      "first occurence of  ,  is 5\n",
      "last occurence of  ,  is 5\n"
     ]
    }
   ],
   "source": [
    "x = \"Hello, World\"\n",
    "chars = ['o',',']\n",
    "\n",
    "for char in chars:\n",
    "    print(char)\n",
    "    print('first occurence of ',char,' is',x.find(char))\n",
    "    print('last occurence of ',char,' is',x.rfind(char))"
   ]
  },
  {
   "cell_type": "code",
   "execution_count": 22,
   "id": "bdb2d759",
   "metadata": {},
   "outputs": [
    {
     "name": "stdout",
     "output_type": "stream",
     "text": [
      "I am in china\n",
      "Present\n",
      "who is resposible for this great year 2020?\n",
      "Not Present\n",
      "We are going to finland\n",
      "Not Present\n",
      "Is Hongkong in china?\n",
      "Present\n"
     ]
    }
   ],
   "source": [
    "list_of_strings = ['I am in china',\n",
    "                   \"who is resposible for this great year 2020?\",\n",
    "                  'We are going to finland',\n",
    "                   'Is Hongkong in china?']\n",
    "\n",
    "for i in list_of_strings:\n",
    "    print(i)\n",
    "    if 'china' in i:\n",
    "        print('Present')\n",
    "    else:\n",
    "        print('Not Present')"
   ]
  },
  {
   "cell_type": "code",
   "execution_count": null,
   "id": "08e6b875",
   "metadata": {},
   "outputs": [],
   "source": [
    "# Insert(index_position,item)"
   ]
  },
  {
   "cell_type": "code",
   "execution_count": 28,
   "id": "5b0c9345",
   "metadata": {},
   "outputs": [
    {
     "name": "stdout",
     "output_type": "stream",
     "text": [
      "1st=> ['kiwi', 'mango', 'apple', 'banana']\n",
      "2nd=> ['kiwi', 'mango', 'mango', 'apple', 'banana']\n"
     ]
    }
   ],
   "source": [
    "fruits = ['kiwi','apple','banana']\n",
    "\n",
    "fruits.insert(1,'mango')\n",
    "print('1st=>',fruits)\n",
    "fruits.insert(1,'mango')\n",
    "print('2nd=>',fruits)"
   ]
  },
  {
   "cell_type": "code",
   "execution_count": 25,
   "id": "256656aa",
   "metadata": {},
   "outputs": [
    {
     "name": "stdout",
     "output_type": "stream",
     "text": [
      "[69, 500, -89, 786, 420, 69, 7]\n"
     ]
    }
   ],
   "source": [
    "numbers = [500,-89,786,420,69,7]\n",
    "numbers.insert(0,69)\n",
    "print(numbers)"
   ]
  },
  {
   "cell_type": "markdown",
   "id": "0643de6b",
   "metadata": {},
   "source": [
    "# extend"
   ]
  },
  {
   "cell_type": "code",
   "execution_count": 26,
   "id": "63cfdcbc",
   "metadata": {},
   "outputs": [
    {
     "name": "stdout",
     "output_type": "stream",
     "text": [
      "['kiwi', 'apple', 'banana', 'mango', 'dragonfruit']\n"
     ]
    }
   ],
   "source": [
    "fruits = ['kiwi','apple','banana']\n",
    "\n",
    "fruits2 = ['mango','dragonfruit']\n",
    "\n",
    "fruits.extend(fruits2)\n",
    "\n",
    "print(fruits)"
   ]
  },
  {
   "cell_type": "code",
   "execution_count": 27,
   "id": "7b33aebd",
   "metadata": {},
   "outputs": [
    {
     "name": "stdout",
     "output_type": "stream",
     "text": [
      "['kiwi', 'apple', 'banana', ['mango', 'dragonfruit']]\n"
     ]
    }
   ],
   "source": [
    "fruits = ['kiwi','apple','banana']\n",
    "\n",
    "fruits2 = ['mango','dragonfruit']\n",
    "\n",
    "fruits.append(fruits2)\n",
    "\n",
    "print(fruits)"
   ]
  },
  {
   "cell_type": "markdown",
   "id": "7066c792",
   "metadata": {},
   "source": [
    "## Q1)find out the largest and smallest word in the string \"The Surprising Benefits of Sarcasm\".\n",
    "\n",
    "### Intuition: How can we split the words such that we can count their length and compare with each other?\n",
    "\n",
    "### Pseudocode:\n",
    "    1.)Take maxx as -inf, and minn as +inf\n",
    "    2.)convert the string into a list using split() function\n",
    "    3.)loop/iterate through the list and find the maximum length word by using len() function.\n",
    "    Similarly the minimum\n",
    "    \n",
    "    8:45PM"
   ]
  },
  {
   "cell_type": "code",
   "execution_count": 41,
   "id": "df95ba35",
   "metadata": {},
   "outputs": [
    {
     "name": "stdout",
     "output_type": "stream",
     "text": [
      "[3, 10, 8, 2, 7]\n",
      "['The', 'Surprising', 'Benefits', 'of', 'Sarcasm']\n",
      "************\n",
      "Surprising\n"
     ]
    }
   ],
   "source": [
    "sentence = \"The Surprising Benefits of Sarcasm\"\n",
    "y = sentence.split()\n",
    "x = []\n",
    "for word in y:\n",
    "    x.append(len(word))\n",
    "maximum_number = float('-inf')\n",
    "maximum_number_index = None\n",
    "index = 0\n",
    "while index < len(x):\n",
    "    no = x[index]\n",
    "    if maximum_number < no:\n",
    "        maximum_number = no\n",
    "        maximum_number_index = index\n",
    "    index += 1\n",
    "\n",
    "print(x)\n",
    "print(y)\n",
    "print('************')\n",
    "print(y[maximum_number_index])"
   ]
  },
  {
   "cell_type": "markdown",
   "id": "6ffdb423",
   "metadata": {},
   "source": [
    "# sort,index,count in lists"
   ]
  },
  {
   "cell_type": "code",
   "execution_count": 45,
   "id": "0f193097",
   "metadata": {},
   "outputs": [
    {
     "name": "stdout",
     "output_type": "stream",
     "text": [
      "[-50, 13, 34, 43, 69, 95, 420]\n"
     ]
    }
   ],
   "source": [
    "x = [95,-50,43,69,34,420,13]\n",
    "\n",
    "x.sort()\n",
    "print(x)"
   ]
  },
  {
   "cell_type": "code",
   "execution_count": 46,
   "id": "97faf39a",
   "metadata": {},
   "outputs": [
    {
     "name": "stdout",
     "output_type": "stream",
     "text": [
      "[420, 95, 69, 43, 34, 13, -50]\n"
     ]
    }
   ],
   "source": [
    "x = [95,-50,43,69,34,420,13]\n",
    "\n",
    "x.sort(reverse=True)\n",
    "print(x)"
   ]
  },
  {
   "cell_type": "code",
   "execution_count": 49,
   "id": "43d795ae",
   "metadata": {},
   "outputs": [
    {
     "name": "stdout",
     "output_type": "stream",
     "text": [
      "3\n"
     ]
    }
   ],
   "source": [
    "x = [95,-50,43,69,34,420,13]\n",
    "\n",
    "print(x.index(69))"
   ]
  },
  {
   "cell_type": "code",
   "execution_count": 51,
   "id": "f908abb4",
   "metadata": {},
   "outputs": [
    {
     "name": "stdout",
     "output_type": "stream",
     "text": [
      "3\n"
     ]
    }
   ],
   "source": [
    "x = [69,95,-50,43,69,34,420,13,69]\n",
    "\n",
    "print(x.count(69))"
   ]
  },
  {
   "cell_type": "code",
   "execution_count": 52,
   "id": "8df130d1",
   "metadata": {},
   "outputs": [
    {
     "name": "stdout",
     "output_type": "stream",
     "text": [
      "1\n"
     ]
    }
   ],
   "source": [
    "x = [69,95,-50,43,69,34,420,13,69]\n",
    "\n",
    "print(x.count(43))"
   ]
  },
  {
   "cell_type": "code",
   "execution_count": null,
   "id": "41db6b3f",
   "metadata": {},
   "outputs": [],
   "source": []
  }
 ],
 "metadata": {
  "kernelspec": {
   "display_name": "Python 3 (ipykernel)",
   "language": "python",
   "name": "python3"
  },
  "language_info": {
   "codemirror_mode": {
    "name": "ipython",
    "version": 3
   },
   "file_extension": ".py",
   "mimetype": "text/x-python",
   "name": "python",
   "nbconvert_exporter": "python",
   "pygments_lexer": "ipython3",
   "version": "3.8.9"
  }
 },
 "nbformat": 4,
 "nbformat_minor": 5
}
