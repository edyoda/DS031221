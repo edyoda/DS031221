{
 "cells": [
  {
   "cell_type": "code",
   "execution_count": null,
   "id": "0c8eeffe",
   "metadata": {},
   "outputs": [],
   "source": [
    "# EVERYTHING IN PYTHON IS AN OBJECT"
   ]
  },
  {
   "cell_type": "code",
   "execution_count": null,
   "id": "bf1d0ddf",
   "metadata": {},
   "outputs": [],
   "source": [
    "DATA TYPES - ALL OF THEM ARE BUILT IN OBJECTS"
   ]
  },
  {
   "cell_type": "code",
   "execution_count": 2,
   "id": "e396044d",
   "metadata": {},
   "outputs": [],
   "source": [
    "x = \"apple\" # string object with the value 'apple'"
   ]
  },
  {
   "cell_type": "code",
   "execution_count": 3,
   "id": "014ab228",
   "metadata": {},
   "outputs": [
    {
     "data": {
      "text/plain": [
       "1"
      ]
     },
     "execution_count": 3,
     "metadata": {},
     "output_type": "execute_result"
    }
   ],
   "source": [
    "x.index('p')"
   ]
  },
  {
   "cell_type": "code",
   "execution_count": 6,
   "id": "28b7b282",
   "metadata": {},
   "outputs": [],
   "source": [
    "y = [1,2,3,'apple','mango',1,2,1,1]"
   ]
  },
  {
   "cell_type": "code",
   "execution_count": 7,
   "id": "c4877326",
   "metadata": {},
   "outputs": [
    {
     "data": {
      "text/plain": [
       "4"
      ]
     },
     "execution_count": 7,
     "metadata": {},
     "output_type": "execute_result"
    }
   ],
   "source": [
    "y.count(1)"
   ]
  },
  {
   "cell_type": "code",
   "execution_count": null,
   "id": "3e8a142e",
   "metadata": {},
   "outputs": [],
   "source": []
  }
 ],
 "metadata": {
  "kernelspec": {
   "display_name": "Python 3 (ipykernel)",
   "language": "python",
   "name": "python3"
  },
  "language_info": {
   "codemirror_mode": {
    "name": "ipython",
    "version": 3
   },
   "file_extension": ".py",
   "mimetype": "text/x-python",
   "name": "python",
   "nbconvert_exporter": "python",
   "pygments_lexer": "ipython3",
   "version": "3.8.9"
  }
 },
 "nbformat": 4,
 "nbformat_minor": 5
}
