{
 "cells": [
  {
   "cell_type": "code",
   "execution_count": null,
   "id": "bef3dff0",
   "metadata": {},
   "outputs": [],
   "source": [
    "Python Data Types:\n",
    "    1) int\n",
    "    2) float\n",
    "    3) str\n",
    "    4) tuple\n",
    "    5) dict\n",
    "    6) set\n",
    "    7) list\n",
    "    8) bool\n",
    "    9) None"
   ]
  },
  {
   "cell_type": "code",
   "execution_count": null,
   "id": "9b18180f",
   "metadata": {},
   "outputs": [],
   "source": [
    "x = 78\n",
    "y = 45.67\n",
    "z = 'kalyani'\n",
    "wow = {'python':3,'java':8}\n",
    "raw = {1,1,300,5,8,9,300}\n",
    "body_parts = ['ear','nose','lips','cheeks','forehead']\n",
    "is_python_awesome = True\n",
    "id_and_password = ('mango','tango123')\n",
    "ff = None"
   ]
  },
  {
   "cell_type": "code",
   "execution_count": 1,
   "id": "45d90201",
   "metadata": {},
   "outputs": [
    {
     "name": "stdout",
     "output_type": "stream",
     "text": [
      "4389298728\n"
     ]
    }
   ],
   "source": [
    "x = 10\n",
    "print(id(x))"
   ]
  },
  {
   "cell_type": "code",
   "execution_count": 3,
   "id": "a77ba4c9",
   "metadata": {},
   "outputs": [
    {
     "name": "stdout",
     "output_type": "stream",
     "text": [
      "4389298760\n"
     ]
    }
   ],
   "source": [
    "x = 11\n",
    "print(id(x))"
   ]
  },
  {
   "cell_type": "code",
   "execution_count": 4,
   "id": "57a4ac1d",
   "metadata": {},
   "outputs": [
    {
     "name": "stdout",
     "output_type": "stream",
     "text": [
      "4389298760\n"
     ]
    }
   ],
   "source": [
    "y = 11\n",
    "print(id(y))"
   ]
  },
  {
   "cell_type": "code",
   "execution_count": 5,
   "id": "6452b4ae",
   "metadata": {},
   "outputs": [],
   "source": [
    "x = 100\n",
    "y = 'mango'\n",
    "x,y = y,x"
   ]
  },
  {
   "cell_type": "code",
   "execution_count": 6,
   "id": "84122a40",
   "metadata": {},
   "outputs": [
    {
     "name": "stdout",
     "output_type": "stream",
     "text": [
      "mango\n"
     ]
    }
   ],
   "source": [
    "print(x)"
   ]
  },
  {
   "cell_type": "code",
   "execution_count": 7,
   "id": "c15663ab",
   "metadata": {},
   "outputs": [
    {
     "name": "stdout",
     "output_type": "stream",
     "text": [
      "100\n"
     ]
    }
   ],
   "source": [
    "print(y)"
   ]
  },
  {
   "cell_type": "code",
   "execution_count": 8,
   "id": "8e4f6e36",
   "metadata": {},
   "outputs": [
    {
     "name": "stdout",
     "output_type": "stream",
     "text": [
      "1000\n"
     ]
    }
   ],
   "source": [
    "x = (1000,2000)\n",
    "print(x[0])"
   ]
  },
  {
   "cell_type": "code",
   "execution_count": 9,
   "id": "8b8e6000",
   "metadata": {},
   "outputs": [
    {
     "ename": "TypeError",
     "evalue": "'tuple' object does not support item assignment",
     "output_type": "error",
     "traceback": [
      "\u001b[0;31m---------------------------------------------------------------------------\u001b[0m",
      "\u001b[0;31mTypeError\u001b[0m                                 Traceback (most recent call last)",
      "\u001b[0;32m/var/folders/9s/j9tqx4617_jg3hnd11b6g4080000gn/T/ipykernel_98112/2657816492.py\u001b[0m in \u001b[0;36m<module>\u001b[0;34m\u001b[0m\n\u001b[0;32m----> 1\u001b[0;31m \u001b[0mx\u001b[0m\u001b[0;34m[\u001b[0m\u001b[0;36m0\u001b[0m\u001b[0;34m]\u001b[0m \u001b[0;34m=\u001b[0m \u001b[0;34m'mango'\u001b[0m\u001b[0;34m\u001b[0m\u001b[0;34m\u001b[0m\u001b[0m\n\u001b[0m",
      "\u001b[0;31mTypeError\u001b[0m: 'tuple' object does not support item assignment"
     ]
    }
   ],
   "source": [
    "x[0] = 'mango'"
   ]
  },
  {
   "cell_type": "code",
   "execution_count": null,
   "id": "e4eb8ead",
   "metadata": {},
   "outputs": [],
   "source": [
    "x = ['python':3]"
   ]
  },
  {
   "cell_type": "code",
   "execution_count": null,
   "id": "fe5fad0f",
   "metadata": {},
   "outputs": [],
   "source": [
    "x = {'python':3}"
   ]
  },
  {
   "cell_type": "code",
   "execution_count": 21,
   "id": "1aded71a",
   "metadata": {},
   "outputs": [],
   "source": [
    "FirstNames_dict = {'Mickey':0, 'Bat':1, 'Wonder':2,'Donald':3}\n",
    "LastNames_dict = {'Mouse':0, 'Man':1, 'Woman':2, 'Duck':3}\n",
    "Address_dict = {'123 Fantasy Way':0 , '321 Cavem Ave':1 ,\n",
    "'987 Truth Way':2 , '555 Quack Street':3}\n",
    "City_dict = {\"Anaheim\":0,\"Gotham\":1,\"Paradise\":2,\"Mallard\":3}\n",
    "Age_dict = {73:0,54:1,39:2,65:3}\n",
    "\n",
    "FirstNames = ['Mickey', 'Bat', 'Wonder','Donald']\n",
    "LastNames = ['Mouse', 'Man', 'Woman', 'Duck']\n",
    "Address = ['123 Fantasy Way' , '321 Cavem Ave' ,\n",
    "'987 Truth Way' , '555 Quack Street']\n",
    "City = [\"Anaheim\",\"Gotham\",\"Paradise\",\"Mallard\"]\n",
    "Age = [73,54,39,65]"
   ]
  },
  {
   "cell_type": "code",
   "execution_count": 22,
   "id": "75e93bc2",
   "metadata": {},
   "outputs": [
    {
     "name": "stdout",
     "output_type": "stream",
     "text": [
      "73\n"
     ]
    }
   ],
   "source": [
    "# firstName is given, age?\n",
    "index_position = FirstNames_dict['Mickey']\n",
    "print(Age[index_position])"
   ]
  },
  {
   "cell_type": "code",
   "execution_count": 23,
   "id": "d748cda1",
   "metadata": {},
   "outputs": [
    {
     "name": "stdout",
     "output_type": "stream",
     "text": [
      "Man\n"
     ]
    }
   ],
   "source": [
    "# City is given, Last Name?\n",
    "index_position = City_dict['Gotham']\n",
    "print(LastNames[index_position])"
   ]
  },
  {
   "cell_type": "code",
   "execution_count": null,
   "id": "fee6a15a",
   "metadata": {},
   "outputs": [],
   "source": [
    "Homework: Understand the above problem."
   ]
  }
 ],
 "metadata": {
  "kernelspec": {
   "display_name": "Python 3 (ipykernel)",
   "language": "python",
   "name": "python3"
  },
  "language_info": {
   "codemirror_mode": {
    "name": "ipython",
    "version": 3
   },
   "file_extension": ".py",
   "mimetype": "text/x-python",
   "name": "python",
   "nbconvert_exporter": "python",
   "pygments_lexer": "ipython3",
   "version": "3.8.9"
  }
 },
 "nbformat": 4,
 "nbformat_minor": 5
}
