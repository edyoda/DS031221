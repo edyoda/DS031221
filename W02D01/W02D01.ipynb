{
 "cells": [
  {
   "cell_type": "code",
   "execution_count": null,
   "id": "47f96bc6",
   "metadata": {},
   "outputs": [],
   "source": [
    "LEET CODE:\n",
    "    ARRAY 101"
   ]
  },
  {
   "cell_type": "code",
   "execution_count": 2,
   "id": "7b43a95d",
   "metadata": {},
   "outputs": [
    {
     "name": "stdout",
     "output_type": "stream",
     "text": [
      "20\n"
     ]
    }
   ],
   "source": [
    "first_name={'sayali':0, 'dheeraj':1}\n",
    "last_name={'jadhav':0 ,'yadav':1}\n",
    "age={20:0, 30:1}\n",
    "\n",
    "first_name_list = ['sayali','dheeraj']\n",
    "last_name_list = ['jadhav','yadav']\n",
    "age_list = [20,30]\n",
    "\n",
    "index_pos=first_name['sayali']\n",
    "print(age_list[index_pos])"
   ]
  },
  {
   "cell_type": "markdown",
   "id": "a3c23b00",
   "metadata": {},
   "source": [
    "# Immutability"
   ]
  },
  {
   "cell_type": "code",
   "execution_count": null,
   "id": "078ce02d",
   "metadata": {},
   "outputs": [],
   "source": [
    "You can not edit."
   ]
  },
  {
   "cell_type": "code",
   "execution_count": 6,
   "id": "cc8e3d7f",
   "metadata": {},
   "outputs": [
    {
     "name": "stdout",
     "output_type": "stream",
     "text": [
      "4374553192\n"
     ]
    }
   ],
   "source": [
    "x = 12\n",
    "print(id(x))"
   ]
  },
  {
   "cell_type": "code",
   "execution_count": 7,
   "id": "2c91804a",
   "metadata": {},
   "outputs": [
    {
     "name": "stdout",
     "output_type": "stream",
     "text": [
      "4374553512\n"
     ]
    }
   ],
   "source": [
    "x = 22\n",
    "print(id(x))"
   ]
  },
  {
   "cell_type": "code",
   "execution_count": null,
   "id": "6f3986c2",
   "metadata": {},
   "outputs": [],
   "source": [
    "int are immutable\n",
    "float are immutable"
   ]
  },
  {
   "cell_type": "code",
   "execution_count": 9,
   "id": "5e641313",
   "metadata": {},
   "outputs": [
    {
     "name": "stdout",
     "output_type": "stream",
     "text": [
      "4412509936\n",
      "4412507248\n"
     ]
    }
   ],
   "source": [
    "# str\n",
    "x = 'apple'\n",
    "print(id(x))\n",
    "x = 'mango'\n",
    "print(id(x))"
   ]
  },
  {
   "cell_type": "code",
   "execution_count": 10,
   "id": "9071ff14",
   "metadata": {},
   "outputs": [
    {
     "name": "stdout",
     "output_type": "stream",
     "text": [
      "p\n"
     ]
    }
   ],
   "source": [
    "x = 'python'\n",
    "print(x[0])"
   ]
  },
  {
   "cell_type": "code",
   "execution_count": 11,
   "id": "464a0469",
   "metadata": {},
   "outputs": [
    {
     "name": "stdout",
     "output_type": "stream",
     "text": [
      "y\n"
     ]
    }
   ],
   "source": [
    "print(x[1])"
   ]
  },
  {
   "cell_type": "code",
   "execution_count": 13,
   "id": "426a7016",
   "metadata": {},
   "outputs": [
    {
     "ename": "TypeError",
     "evalue": "'str' object does not support item assignment",
     "output_type": "error",
     "traceback": [
      "\u001b[0;31m---------------------------------------------------------------------------\u001b[0m",
      "\u001b[0;31mTypeError\u001b[0m                                 Traceback (most recent call last)",
      "\u001b[0;32m/var/folders/9s/j9tqx4617_jg3hnd11b6g4080000gn/T/ipykernel_17432/735542010.py\u001b[0m in \u001b[0;36m<module>\u001b[0;34m\u001b[0m\n\u001b[0;32m----> 1\u001b[0;31m \u001b[0mx\u001b[0m\u001b[0;34m[\u001b[0m\u001b[0;36m1\u001b[0m\u001b[0;34m]\u001b[0m \u001b[0;34m=\u001b[0m \u001b[0;34m'k'\u001b[0m\u001b[0;34m\u001b[0m\u001b[0;34m\u001b[0m\u001b[0m\n\u001b[0m",
      "\u001b[0;31mTypeError\u001b[0m: 'str' object does not support item assignment"
     ]
    }
   ],
   "source": [
    "x[1] = 'k'"
   ]
  },
  {
   "cell_type": "code",
   "execution_count": 14,
   "id": "5b73daa1",
   "metadata": {},
   "outputs": [],
   "source": [
    "# str are immutable"
   ]
  },
  {
   "cell_type": "code",
   "execution_count": null,
   "id": "27b13bd7",
   "metadata": {},
   "outputs": [],
   "source": [
    "# list are mutable (we can edit)"
   ]
  },
  {
   "cell_type": "code",
   "execution_count": 15,
   "id": "ab5a1bfe",
   "metadata": {},
   "outputs": [
    {
     "name": "stdout",
     "output_type": "stream",
     "text": [
      "['kiwi', 'mango', 'banana']\n"
     ]
    }
   ],
   "source": [
    "fruits = ['apple','mango','banana']\n",
    "fruits[0] = 'kiwi'\n",
    "print(fruits)"
   ]
  },
  {
   "cell_type": "code",
   "execution_count": 16,
   "id": "9f6ff208",
   "metadata": {},
   "outputs": [
    {
     "ename": "TypeError",
     "evalue": "'tuple' object does not support item assignment",
     "output_type": "error",
     "traceback": [
      "\u001b[0;31m---------------------------------------------------------------------------\u001b[0m",
      "\u001b[0;31mTypeError\u001b[0m                                 Traceback (most recent call last)",
      "\u001b[0;32m/var/folders/9s/j9tqx4617_jg3hnd11b6g4080000gn/T/ipykernel_17432/3086423075.py\u001b[0m in \u001b[0;36m<module>\u001b[0;34m\u001b[0m\n\u001b[1;32m      1\u001b[0m \u001b[0mfruits\u001b[0m \u001b[0;34m=\u001b[0m \u001b[0;34m(\u001b[0m\u001b[0;34m'apple'\u001b[0m\u001b[0;34m,\u001b[0m\u001b[0;34m'mango'\u001b[0m\u001b[0;34m,\u001b[0m\u001b[0;34m'banana'\u001b[0m\u001b[0;34m)\u001b[0m\u001b[0;34m\u001b[0m\u001b[0;34m\u001b[0m\u001b[0m\n\u001b[0;32m----> 2\u001b[0;31m \u001b[0mfruits\u001b[0m\u001b[0;34m[\u001b[0m\u001b[0;36m0\u001b[0m\u001b[0;34m]\u001b[0m \u001b[0;34m=\u001b[0m \u001b[0;34m'kiwi'\u001b[0m\u001b[0;34m\u001b[0m\u001b[0;34m\u001b[0m\u001b[0m\n\u001b[0m\u001b[1;32m      3\u001b[0m \u001b[0mprint\u001b[0m\u001b[0;34m(\u001b[0m\u001b[0mfruits\u001b[0m\u001b[0;34m)\u001b[0m\u001b[0;34m\u001b[0m\u001b[0;34m\u001b[0m\u001b[0m\n",
      "\u001b[0;31mTypeError\u001b[0m: 'tuple' object does not support item assignment"
     ]
    }
   ],
   "source": [
    "fruits = ('apple','mango','banana')\n",
    "fruits[0] = 'kiwi'\n",
    "print(fruits)"
   ]
  },
  {
   "cell_type": "code",
   "execution_count": null,
   "id": "cc16a0d6",
   "metadata": {},
   "outputs": [],
   "source": [
    "# tuples are immutable"
   ]
  },
  {
   "cell_type": "code",
   "execution_count": null,
   "id": "a1a175d1",
   "metadata": {},
   "outputs": [],
   "source": [
    "set and dict are mutable."
   ]
  },
  {
   "cell_type": "code",
   "execution_count": 17,
   "id": "5f51051f",
   "metadata": {},
   "outputs": [],
   "source": [
    "x = {'python':3,'java':8}"
   ]
  },
  {
   "cell_type": "code",
   "execution_count": 18,
   "id": "5cfb28f6",
   "metadata": {},
   "outputs": [],
   "source": [
    "x['python'] = 4"
   ]
  },
  {
   "cell_type": "code",
   "execution_count": 19,
   "id": "9630b9ea",
   "metadata": {},
   "outputs": [
    {
     "name": "stdout",
     "output_type": "stream",
     "text": [
      "{'python': 4, 'java': 8}\n"
     ]
    }
   ],
   "source": [
    "print(x)"
   ]
  },
  {
   "cell_type": "code",
   "execution_count": 22,
   "id": "21ef594c",
   "metadata": {},
   "outputs": [],
   "source": [
    "x = [(1,2),'apple',(3,4)]\n",
    "# 3 items in this list"
   ]
  },
  {
   "cell_type": "code",
   "execution_count": 23,
   "id": "091aa72a",
   "metadata": {},
   "outputs": [],
   "source": [
    "x[0] = 'kiwi'"
   ]
  },
  {
   "cell_type": "code",
   "execution_count": 24,
   "id": "8b7680c1",
   "metadata": {},
   "outputs": [
    {
     "name": "stdout",
     "output_type": "stream",
     "text": [
      "['kiwi', 'apple', (3, 4)]\n"
     ]
    }
   ],
   "source": [
    "print(x)"
   ]
  },
  {
   "cell_type": "code",
   "execution_count": 26,
   "id": "8f05d54f",
   "metadata": {},
   "outputs": [
    {
     "ename": "TypeError",
     "evalue": "'tuple' object does not support item assignment",
     "output_type": "error",
     "traceback": [
      "\u001b[0;31m---------------------------------------------------------------------------\u001b[0m",
      "\u001b[0;31mTypeError\u001b[0m                                 Traceback (most recent call last)",
      "\u001b[0;32m/var/folders/9s/j9tqx4617_jg3hnd11b6g4080000gn/T/ipykernel_17432/2505669356.py\u001b[0m in \u001b[0;36m<module>\u001b[0;34m\u001b[0m\n\u001b[1;32m      1\u001b[0m \u001b[0mx\u001b[0m \u001b[0;34m=\u001b[0m \u001b[0;34m(\u001b[0m\u001b[0;36m1\u001b[0m\u001b[0;34m,\u001b[0m\u001b[0;36m2\u001b[0m\u001b[0;34m)\u001b[0m\u001b[0;34m\u001b[0m\u001b[0;34m\u001b[0m\u001b[0m\n\u001b[0;32m----> 2\u001b[0;31m \u001b[0mx\u001b[0m\u001b[0;34m[\u001b[0m\u001b[0;36m0\u001b[0m\u001b[0;34m]\u001b[0m \u001b[0;34m=\u001b[0m \u001b[0;36m10\u001b[0m\u001b[0;34m\u001b[0m\u001b[0;34m\u001b[0m\u001b[0m\n\u001b[0m",
      "\u001b[0;31mTypeError\u001b[0m: 'tuple' object does not support item assignment"
     ]
    }
   ],
   "source": [
    "x = (1,2)\n",
    "x[0] = 10"
   ]
  },
  {
   "cell_type": "code",
   "execution_count": 27,
   "id": "68671552",
   "metadata": {},
   "outputs": [],
   "source": [
    "x = [(1,2),'apple',(3,4)]"
   ]
  },
  {
   "cell_type": "code",
   "execution_count": 28,
   "id": "435f2fd9",
   "metadata": {},
   "outputs": [
    {
     "name": "stdout",
     "output_type": "stream",
     "text": [
      "(1, 2)\n"
     ]
    }
   ],
   "source": [
    "print(x[0])"
   ]
  },
  {
   "cell_type": "code",
   "execution_count": 30,
   "id": "ad86b589",
   "metadata": {},
   "outputs": [
    {
     "name": "stdout",
     "output_type": "stream",
     "text": [
      "2\n"
     ]
    }
   ],
   "source": [
    "print(x[0][1])"
   ]
  },
  {
   "cell_type": "code",
   "execution_count": 31,
   "id": "3b78a392",
   "metadata": {},
   "outputs": [
    {
     "ename": "TypeError",
     "evalue": "'tuple' object does not support item assignment",
     "output_type": "error",
     "traceback": [
      "\u001b[0;31m---------------------------------------------------------------------------\u001b[0m",
      "\u001b[0;31mTypeError\u001b[0m                                 Traceback (most recent call last)",
      "\u001b[0;32m/var/folders/9s/j9tqx4617_jg3hnd11b6g4080000gn/T/ipykernel_17432/14840388.py\u001b[0m in \u001b[0;36m<module>\u001b[0;34m\u001b[0m\n\u001b[0;32m----> 1\u001b[0;31m \u001b[0mx\u001b[0m\u001b[0;34m[\u001b[0m\u001b[0;36m0\u001b[0m\u001b[0;34m]\u001b[0m\u001b[0;34m[\u001b[0m\u001b[0;36m1\u001b[0m\u001b[0;34m]\u001b[0m \u001b[0;34m=\u001b[0m \u001b[0;36m100\u001b[0m\u001b[0;34m\u001b[0m\u001b[0;34m\u001b[0m\u001b[0m\n\u001b[0m",
      "\u001b[0;31mTypeError\u001b[0m: 'tuple' object does not support item assignment"
     ]
    }
   ],
   "source": [
    "x[0][1] = 100"
   ]
  },
  {
   "cell_type": "code",
   "execution_count": 32,
   "id": "671ebca7",
   "metadata": {},
   "outputs": [
    {
     "name": "stdout",
     "output_type": "stream",
     "text": [
      "3\n"
     ]
    }
   ],
   "source": [
    "x = [(1,2),'apple',(3,4)]\n",
    "print(x[2][0])"
   ]
  },
  {
   "cell_type": "code",
   "execution_count": 33,
   "id": "9d0d4d83",
   "metadata": {},
   "outputs": [
    {
     "name": "stdout",
     "output_type": "stream",
     "text": [
      "p\n"
     ]
    }
   ],
   "source": [
    "x = [(1,2),'apple',(3,4)]\n",
    "print(x[1][1])"
   ]
  },
  {
   "cell_type": "code",
   "execution_count": 34,
   "id": "29a706ae",
   "metadata": {},
   "outputs": [],
   "source": [
    "x = [{'python':3,'java':8},'mango',(40,50)]"
   ]
  },
  {
   "cell_type": "code",
   "execution_count": 35,
   "id": "5e9d7c39",
   "metadata": {},
   "outputs": [
    {
     "name": "stdout",
     "output_type": "stream",
     "text": [
      "3\n"
     ]
    }
   ],
   "source": [
    "print(x[0]['python'])"
   ]
  },
  {
   "cell_type": "code",
   "execution_count": 36,
   "id": "7614c25e",
   "metadata": {},
   "outputs": [
    {
     "name": "stdout",
     "output_type": "stream",
     "text": [
      "python\n"
     ]
    }
   ],
   "source": [
    "print('python')"
   ]
  },
  {
   "cell_type": "code",
   "execution_count": 37,
   "id": "4e7e6ace",
   "metadata": {},
   "outputs": [
    {
     "ename": "TypeError",
     "evalue": "'tuple' object does not support item assignment",
     "output_type": "error",
     "traceback": [
      "\u001b[0;31m---------------------------------------------------------------------------\u001b[0m",
      "\u001b[0;31mTypeError\u001b[0m                                 Traceback (most recent call last)",
      "\u001b[0;32m/var/folders/9s/j9tqx4617_jg3hnd11b6g4080000gn/T/ipykernel_17432/3135271561.py\u001b[0m in \u001b[0;36m<module>\u001b[0;34m\u001b[0m\n\u001b[0;32m----> 1\u001b[0;31m \u001b[0mx\u001b[0m\u001b[0;34m[\u001b[0m\u001b[0;36m2\u001b[0m\u001b[0;34m]\u001b[0m\u001b[0;34m[\u001b[0m\u001b[0;36m1\u001b[0m\u001b[0;34m]\u001b[0m \u001b[0;34m=\u001b[0m \u001b[0;36m500\u001b[0m\u001b[0;34m\u001b[0m\u001b[0;34m\u001b[0m\u001b[0m\n\u001b[0m",
      "\u001b[0;31mTypeError\u001b[0m: 'tuple' object does not support item assignment"
     ]
    }
   ],
   "source": [
    "x[2][1] = 500"
   ]
  },
  {
   "cell_type": "code",
   "execution_count": null,
   "id": "54a7f78e",
   "metadata": {},
   "outputs": [],
   "source": [
    "# Operators\n",
    "\n",
    "Arithmetic Operators\n",
    "Logical Operators\n",
    "Identity Operators\n",
    "Membership Operators\n",
    "Comparison Operators\n",
    "Assignment Operators"
   ]
  },
  {
   "cell_type": "code",
   "execution_count": null,
   "id": "c4add33f",
   "metadata": {},
   "outputs": [],
   "source": [
    "Arithmetic Operators\n",
    "+,-,*,/,//,%,**"
   ]
  },
  {
   "cell_type": "code",
   "execution_count": 38,
   "id": "9dafc2af",
   "metadata": {},
   "outputs": [
    {
     "data": {
      "text/plain": [
       "9"
      ]
     },
     "execution_count": 38,
     "metadata": {},
     "output_type": "execute_result"
    }
   ],
   "source": [
    "4+5"
   ]
  },
  {
   "cell_type": "code",
   "execution_count": 39,
   "id": "e148e1df",
   "metadata": {},
   "outputs": [
    {
     "data": {
      "text/plain": [
       "2"
      ]
     },
     "execution_count": 39,
     "metadata": {},
     "output_type": "execute_result"
    }
   ],
   "source": [
    "6-4"
   ]
  },
  {
   "cell_type": "code",
   "execution_count": 40,
   "id": "8eae8aba",
   "metadata": {},
   "outputs": [
    {
     "data": {
      "text/plain": [
       "20"
      ]
     },
     "execution_count": 40,
     "metadata": {},
     "output_type": "execute_result"
    }
   ],
   "source": [
    "4*5"
   ]
  },
  {
   "cell_type": "code",
   "execution_count": 41,
   "id": "12f02c96",
   "metadata": {},
   "outputs": [
    {
     "data": {
      "text/plain": [
       "5.0"
      ]
     },
     "execution_count": 41,
     "metadata": {},
     "output_type": "execute_result"
    }
   ],
   "source": [
    "55/11"
   ]
  },
  {
   "cell_type": "code",
   "execution_count": 42,
   "id": "36de1445",
   "metadata": {},
   "outputs": [
    {
     "data": {
      "text/plain": [
       "5.5"
      ]
     },
     "execution_count": 42,
     "metadata": {},
     "output_type": "execute_result"
    }
   ],
   "source": [
    "55/10"
   ]
  },
  {
   "cell_type": "code",
   "execution_count": 43,
   "id": "4bfc3273",
   "metadata": {},
   "outputs": [],
   "source": [
    "# floor division"
   ]
  },
  {
   "cell_type": "code",
   "execution_count": 48,
   "id": "64919303",
   "metadata": {},
   "outputs": [
    {
     "data": {
      "text/plain": [
       "49"
      ]
     },
     "execution_count": 48,
     "metadata": {},
     "output_type": "execute_result"
    }
   ],
   "source": [
    "495//10"
   ]
  },
  {
   "cell_type": "code",
   "execution_count": 49,
   "id": "eb1c44a0",
   "metadata": {},
   "outputs": [],
   "source": [
    "# Modulus Operator\n",
    "# Reminder"
   ]
  },
  {
   "cell_type": "code",
   "execution_count": 50,
   "id": "32c6a3f9",
   "metadata": {},
   "outputs": [
    {
     "data": {
      "text/plain": [
       "1"
      ]
     },
     "execution_count": 50,
     "metadata": {},
     "output_type": "execute_result"
    }
   ],
   "source": [
    "28%3"
   ]
  },
  {
   "cell_type": "code",
   "execution_count": 51,
   "id": "cf295695",
   "metadata": {},
   "outputs": [
    {
     "data": {
      "text/plain": [
       "0"
      ]
     },
     "execution_count": 51,
     "metadata": {},
     "output_type": "execute_result"
    }
   ],
   "source": [
    "25%5"
   ]
  },
  {
   "cell_type": "code",
   "execution_count": 52,
   "id": "74f7296b",
   "metadata": {},
   "outputs": [
    {
     "data": {
      "text/plain": [
       "2"
      ]
     },
     "execution_count": 52,
     "metadata": {},
     "output_type": "execute_result"
    }
   ],
   "source": [
    "30%7"
   ]
  },
  {
   "cell_type": "code",
   "execution_count": 53,
   "id": "1963cdcd",
   "metadata": {},
   "outputs": [
    {
     "data": {
      "text/plain": [
       "3"
      ]
     },
     "execution_count": 53,
     "metadata": {},
     "output_type": "execute_result"
    }
   ],
   "source": [
    "47%4"
   ]
  },
  {
   "cell_type": "code",
   "execution_count": 54,
   "id": "d774f306",
   "metadata": {},
   "outputs": [
    {
     "data": {
      "text/plain": [
       "8"
      ]
     },
     "execution_count": 54,
     "metadata": {},
     "output_type": "execute_result"
    }
   ],
   "source": [
    "2**3\n",
    "# 2 to the power of 3\n",
    "# 2*2*2"
   ]
  },
  {
   "cell_type": "code",
   "execution_count": 59,
   "id": "8a556364",
   "metadata": {},
   "outputs": [
    {
     "data": {
      "text/plain": [
       "3"
      ]
     },
     "execution_count": 59,
     "metadata": {},
     "output_type": "execute_result"
    }
   ],
   "source": [
    "59%7"
   ]
  },
  {
   "cell_type": "code",
   "execution_count": 55,
   "id": "1a8234eb",
   "metadata": {},
   "outputs": [],
   "source": [
    "# Logical Operators"
   ]
  },
  {
   "cell_type": "code",
   "execution_count": 60,
   "id": "25e40118",
   "metadata": {},
   "outputs": [
    {
     "name": "stdout",
     "output_type": "stream",
     "text": [
      "False\n"
     ]
    }
   ],
   "source": [
    "x = True\n",
    "y = False\n",
    "z = x and y\n",
    "print(z)"
   ]
  },
  {
   "cell_type": "code",
   "execution_count": 61,
   "id": "df4cd481",
   "metadata": {},
   "outputs": [
    {
     "name": "stdout",
     "output_type": "stream",
     "text": [
      "False\n"
     ]
    }
   ],
   "source": [
    "x = False\n",
    "y = False\n",
    "z = x and y\n",
    "print(z)"
   ]
  },
  {
   "cell_type": "code",
   "execution_count": 62,
   "id": "c3b6f501",
   "metadata": {},
   "outputs": [
    {
     "name": "stdout",
     "output_type": "stream",
     "text": [
      "True\n"
     ]
    }
   ],
   "source": [
    "x = True\n",
    "y = True\n",
    "z = x and y\n",
    "print(z)"
   ]
  },
  {
   "cell_type": "code",
   "execution_count": 63,
   "id": "d766c5d2",
   "metadata": {},
   "outputs": [
    {
     "name": "stdout",
     "output_type": "stream",
     "text": [
      "True\n"
     ]
    }
   ],
   "source": [
    "x = True\n",
    "y = True\n",
    "z = x or y\n",
    "print(z)"
   ]
  },
  {
   "cell_type": "code",
   "execution_count": 64,
   "id": "59f0b95c",
   "metadata": {},
   "outputs": [
    {
     "name": "stdout",
     "output_type": "stream",
     "text": [
      "True\n"
     ]
    }
   ],
   "source": [
    "x = True\n",
    "y = False\n",
    "z = x or y\n",
    "print(z)"
   ]
  },
  {
   "cell_type": "code",
   "execution_count": 65,
   "id": "980093ce",
   "metadata": {},
   "outputs": [
    {
     "name": "stdout",
     "output_type": "stream",
     "text": [
      "False\n"
     ]
    }
   ],
   "source": [
    "x = False\n",
    "y = False\n",
    "z = x or y\n",
    "print(z)"
   ]
  },
  {
   "cell_type": "code",
   "execution_count": 66,
   "id": "9c298cdf",
   "metadata": {},
   "outputs": [
    {
     "name": "stdout",
     "output_type": "stream",
     "text": [
      "False\n"
     ]
    }
   ],
   "source": [
    "x = True\n",
    "y = not x\n",
    "print(y)"
   ]
  },
  {
   "cell_type": "code",
   "execution_count": 67,
   "id": "6f778064",
   "metadata": {},
   "outputs": [
    {
     "name": "stdout",
     "output_type": "stream",
     "text": [
      "True\n"
     ]
    }
   ],
   "source": [
    "x = False\n",
    "y = not x\n",
    "print(y)"
   ]
  },
  {
   "cell_type": "code",
   "execution_count": 68,
   "id": "e4864698",
   "metadata": {},
   "outputs": [],
   "source": [
    "# Identity Operators\n",
    "When both the names are pointing to the same object or\n",
    "we can say both names have the same id, than identity operator\n",
    "is will return True"
   ]
  },
  {
   "cell_type": "code",
   "execution_count": 71,
   "id": "1a9aea62",
   "metadata": {},
   "outputs": [],
   "source": [
    "x = 34\n",
    "y = x"
   ]
  },
  {
   "cell_type": "code",
   "execution_count": 72,
   "id": "f4a47d9a",
   "metadata": {},
   "outputs": [
    {
     "name": "stdout",
     "output_type": "stream",
     "text": [
      "True\n"
     ]
    }
   ],
   "source": [
    "print(x is y)"
   ]
  },
  {
   "cell_type": "code",
   "execution_count": 73,
   "id": "263412d6",
   "metadata": {},
   "outputs": [
    {
     "name": "stdout",
     "output_type": "stream",
     "text": [
      "False\n"
     ]
    }
   ],
   "source": [
    "print(x is not y)"
   ]
  },
  {
   "cell_type": "code",
   "execution_count": 75,
   "id": "8d0ecffc",
   "metadata": {},
   "outputs": [],
   "source": [
    "x = [1,2,3]\n",
    "y = [1,2,3]"
   ]
  },
  {
   "cell_type": "code",
   "execution_count": 76,
   "id": "77800088",
   "metadata": {},
   "outputs": [
    {
     "name": "stdout",
     "output_type": "stream",
     "text": [
      "False\n"
     ]
    }
   ],
   "source": [
    "print(x is y)"
   ]
  },
  {
   "cell_type": "code",
   "execution_count": null,
   "id": "dbdd43f0",
   "metadata": {},
   "outputs": [],
   "source": [
    "# Interning in Python\n",
    "=> When two values are same, only one copy will be saved in memory and \n",
    "both the names/variable will point to that value/Object\n",
    "\n",
    "# String interning : if you have two identical strings \n",
    "# that are interned, there is only one copy of them in the memory.\n",
    "\n",
    "# Integers from 0 to 256 are interned.\n",
    "\n",
    "# Booleans are also interned\n",
    "\n",
    "# None is interned\n",
    "\n",
    "# Interning has nothing to do with is operator."
   ]
  },
  {
   "cell_type": "code",
   "execution_count": 77,
   "id": "d02787c7",
   "metadata": {},
   "outputs": [
    {
     "name": "stdout",
     "output_type": "stream",
     "text": [
      "True\n"
     ]
    }
   ],
   "source": [
    "x = 'python'\n",
    "y = 'python'\n",
    "print(x is y)"
   ]
  },
  {
   "cell_type": "code",
   "execution_count": 90,
   "id": "1f81d8c5",
   "metadata": {},
   "outputs": [
    {
     "name": "stdout",
     "output_type": "stream",
     "text": [
      "False\n"
     ]
    }
   ],
   "source": [
    "x = 1.5\n",
    "y = 1.5\n",
    "print(x is y)"
   ]
  },
  {
   "cell_type": "code",
   "execution_count": 108,
   "id": "c6d9f4db",
   "metadata": {},
   "outputs": [],
   "source": [
    "x = False"
   ]
  },
  {
   "cell_type": "code",
   "execution_count": 109,
   "id": "4860565d",
   "metadata": {},
   "outputs": [],
   "source": [
    "y = False"
   ]
  },
  {
   "cell_type": "code",
   "execution_count": 110,
   "id": "14f086b8",
   "metadata": {},
   "outputs": [
    {
     "name": "stdout",
     "output_type": "stream",
     "text": [
      "True\n"
     ]
    }
   ],
   "source": [
    "z = x is y\n",
    "print(z)"
   ]
  },
  {
   "cell_type": "code",
   "execution_count": 111,
   "id": "4bb76abb",
   "metadata": {},
   "outputs": [],
   "source": [
    "x = None"
   ]
  },
  {
   "cell_type": "code",
   "execution_count": 112,
   "id": "a569ae4d",
   "metadata": {},
   "outputs": [],
   "source": [
    "y = None"
   ]
  },
  {
   "cell_type": "code",
   "execution_count": 113,
   "id": "bf6d8963",
   "metadata": {},
   "outputs": [
    {
     "data": {
      "text/plain": [
       "True"
      ]
     },
     "execution_count": 113,
     "metadata": {},
     "output_type": "execute_result"
    }
   ],
   "source": [
    "x is y"
   ]
  },
  {
   "cell_type": "code",
   "execution_count": null,
   "id": "6d8baf6f",
   "metadata": {},
   "outputs": [],
   "source": [
    "Membership Operators in, not in\n",
    "Comparison Operators\n",
    "Assignment Operators"
   ]
  },
  {
   "cell_type": "code",
   "execution_count": 114,
   "id": "56232529",
   "metadata": {},
   "outputs": [],
   "source": [
    "x = ['kiwi','apple','mango',45,600]"
   ]
  },
  {
   "cell_type": "code",
   "execution_count": 115,
   "id": "af0a1c86",
   "metadata": {},
   "outputs": [
    {
     "data": {
      "text/plain": [
       "True"
      ]
     },
     "execution_count": 115,
     "metadata": {},
     "output_type": "execute_result"
    }
   ],
   "source": [
    "'kiwi' in x"
   ]
  },
  {
   "cell_type": "code",
   "execution_count": 116,
   "id": "66cb8f47",
   "metadata": {},
   "outputs": [
    {
     "data": {
      "text/plain": [
       "False"
      ]
     },
     "execution_count": 116,
     "metadata": {},
     "output_type": "execute_result"
    }
   ],
   "source": [
    "500 in x"
   ]
  },
  {
   "cell_type": "code",
   "execution_count": 117,
   "id": "c198f0b2",
   "metadata": {},
   "outputs": [
    {
     "data": {
      "text/plain": [
       "True"
      ]
     },
     "execution_count": 117,
     "metadata": {},
     "output_type": "execute_result"
    }
   ],
   "source": [
    "600 in x"
   ]
  },
  {
   "cell_type": "code",
   "execution_count": 118,
   "id": "07d5e7de",
   "metadata": {},
   "outputs": [
    {
     "data": {
      "text/plain": [
       "True"
      ]
     },
     "execution_count": 118,
     "metadata": {},
     "output_type": "execute_result"
    }
   ],
   "source": [
    "x = 'apple'\n",
    "\n",
    "'a' in x"
   ]
  },
  {
   "cell_type": "code",
   "execution_count": 120,
   "id": "254ae989",
   "metadata": {},
   "outputs": [
    {
     "data": {
      "text/plain": [
       "True"
      ]
     },
     "execution_count": 120,
     "metadata": {},
     "output_type": "execute_result"
    }
   ],
   "source": [
    "x = 'apple'\n",
    "\n",
    "'pp' in x"
   ]
  },
  {
   "cell_type": "code",
   "execution_count": 121,
   "id": "782490ed",
   "metadata": {},
   "outputs": [],
   "source": [
    "x = {'python':3,'java':8}"
   ]
  },
  {
   "cell_type": "code",
   "execution_count": 122,
   "id": "202fea2e",
   "metadata": {},
   "outputs": [
    {
     "data": {
      "text/plain": [
       "True"
      ]
     },
     "execution_count": 122,
     "metadata": {},
     "output_type": "execute_result"
    }
   ],
   "source": [
    "'python' in x"
   ]
  },
  {
   "cell_type": "code",
   "execution_count": 123,
   "id": "e97e422c",
   "metadata": {},
   "outputs": [
    {
     "data": {
      "text/plain": [
       "False"
      ]
     },
     "execution_count": 123,
     "metadata": {},
     "output_type": "execute_result"
    }
   ],
   "source": [
    "3 in x"
   ]
  },
  {
   "cell_type": "code",
   "execution_count": 124,
   "id": "e48ad225",
   "metadata": {},
   "outputs": [
    {
     "name": "stdout",
     "output_type": "stream",
     "text": [
      "True\n"
     ]
    }
   ],
   "source": [
    "x = [1,2]\n",
    "y = x\n",
    "print(x is y)"
   ]
  },
  {
   "cell_type": "code",
   "execution_count": 126,
   "id": "9cf28800",
   "metadata": {},
   "outputs": [
    {
     "name": "stdout",
     "output_type": "stream",
     "text": [
      "False\n",
      "True\n"
     ]
    }
   ],
   "source": [
    "x = [1,2]\n",
    "y = [1,2]\n",
    "print(x is y)\n",
    "print(x[0] is y[0]) # int are interned."
   ]
  },
  {
   "cell_type": "code",
   "execution_count": 127,
   "id": "808d6ad7",
   "metadata": {},
   "outputs": [],
   "source": [
    "# Comparison Operators"
   ]
  },
  {
   "cell_type": "code",
   "execution_count": 128,
   "id": "4e1f8d3e",
   "metadata": {},
   "outputs": [
    {
     "data": {
      "text/plain": [
       "False"
      ]
     },
     "execution_count": 128,
     "metadata": {},
     "output_type": "execute_result"
    }
   ],
   "source": [
    "x = 300\n",
    "x > 400"
   ]
  },
  {
   "cell_type": "code",
   "execution_count": 129,
   "id": "14027aac",
   "metadata": {},
   "outputs": [
    {
     "data": {
      "text/plain": [
       "True"
      ]
     },
     "execution_count": 129,
     "metadata": {},
     "output_type": "execute_result"
    }
   ],
   "source": [
    "x = 300\n",
    "x < 400"
   ]
  },
  {
   "cell_type": "code",
   "execution_count": 131,
   "id": "5ca66de8",
   "metadata": {},
   "outputs": [
    {
     "data": {
      "text/plain": [
       "True"
      ]
     },
     "execution_count": 131,
     "metadata": {},
     "output_type": "execute_result"
    }
   ],
   "source": [
    "x = 400\n",
    "x <= 400"
   ]
  },
  {
   "cell_type": "code",
   "execution_count": 132,
   "id": "4be49255",
   "metadata": {},
   "outputs": [
    {
     "data": {
      "text/plain": [
       "True"
      ]
     },
     "execution_count": 132,
     "metadata": {},
     "output_type": "execute_result"
    }
   ],
   "source": [
    "x = 400\n",
    "x >= 400"
   ]
  },
  {
   "cell_type": "code",
   "execution_count": 133,
   "id": "21e35d43",
   "metadata": {},
   "outputs": [
    {
     "data": {
      "text/plain": [
       "True"
      ]
     },
     "execution_count": 133,
     "metadata": {},
     "output_type": "execute_result"
    }
   ],
   "source": [
    "x = 400\n",
    "x == 400"
   ]
  },
  {
   "cell_type": "code",
   "execution_count": 134,
   "id": "e94e4153",
   "metadata": {},
   "outputs": [],
   "source": [
    "x = 800"
   ]
  },
  {
   "cell_type": "code",
   "execution_count": 135,
   "id": "864bfcb4",
   "metadata": {},
   "outputs": [
    {
     "data": {
      "text/plain": [
       "False"
      ]
     },
     "execution_count": 135,
     "metadata": {},
     "output_type": "execute_result"
    }
   ],
   "source": [
    "x == 400"
   ]
  },
  {
   "cell_type": "code",
   "execution_count": 136,
   "id": "d973a573",
   "metadata": {},
   "outputs": [
    {
     "data": {
      "text/plain": [
       "True"
      ]
     },
     "execution_count": 136,
     "metadata": {},
     "output_type": "execute_result"
    }
   ],
   "source": [
    "x != 400"
   ]
  },
  {
   "cell_type": "code",
   "execution_count": 137,
   "id": "3ad4020e",
   "metadata": {},
   "outputs": [],
   "source": [
    "# Assignment Operators"
   ]
  },
  {
   "cell_type": "code",
   "execution_count": 138,
   "id": "db867871",
   "metadata": {},
   "outputs": [],
   "source": [
    "x = 50"
   ]
  },
  {
   "cell_type": "code",
   "execution_count": 139,
   "id": "b1bd4c1d",
   "metadata": {},
   "outputs": [
    {
     "name": "stdout",
     "output_type": "stream",
     "text": [
      "55\n"
     ]
    }
   ],
   "source": [
    "x = x + 5\n",
    "print(x)"
   ]
  },
  {
   "cell_type": "code",
   "execution_count": 140,
   "id": "50712814",
   "metadata": {},
   "outputs": [
    {
     "name": "stdout",
     "output_type": "stream",
     "text": [
      "60\n"
     ]
    }
   ],
   "source": [
    "x += 5\n",
    "print(x)"
   ]
  },
  {
   "cell_type": "code",
   "execution_count": 141,
   "id": "02291458",
   "metadata": {},
   "outputs": [
    {
     "name": "stdout",
     "output_type": "stream",
     "text": [
      "65\n"
     ]
    }
   ],
   "source": [
    "x += 5\n",
    "print(x)"
   ]
  },
  {
   "cell_type": "code",
   "execution_count": 142,
   "id": "c703315a",
   "metadata": {},
   "outputs": [
    {
     "name": "stdout",
     "output_type": "stream",
     "text": [
      "62\n"
     ]
    }
   ],
   "source": [
    "x -= 3\n",
    "print(x)"
   ]
  },
  {
   "cell_type": "code",
   "execution_count": 143,
   "id": "46434b29",
   "metadata": {},
   "outputs": [
    {
     "name": "stdout",
     "output_type": "stream",
     "text": [
      "59\n"
     ]
    }
   ],
   "source": [
    "x -= 3\n",
    "print(x)"
   ]
  },
  {
   "cell_type": "code",
   "execution_count": 144,
   "id": "6beb7325",
   "metadata": {},
   "outputs": [
    {
     "name": "stdout",
     "output_type": "stream",
     "text": [
      "69\n"
     ]
    }
   ],
   "source": [
    "x += 10\n",
    "print(x)"
   ]
  },
  {
   "cell_type": "code",
   "execution_count": 145,
   "id": "4383a5c6",
   "metadata": {},
   "outputs": [
    {
     "name": "stdout",
     "output_type": "stream",
     "text": [
      "6.9\n"
     ]
    }
   ],
   "source": [
    "x /= 10\n",
    "print(x)"
   ]
  },
  {
   "cell_type": "code",
   "execution_count": 146,
   "id": "f5875504",
   "metadata": {},
   "outputs": [
    {
     "name": "stdout",
     "output_type": "stream",
     "text": [
      "69.0\n"
     ]
    }
   ],
   "source": [
    "x *= 10\n",
    "print(x)"
   ]
  },
  {
   "cell_type": "code",
   "execution_count": 147,
   "id": "223f6f19",
   "metadata": {},
   "outputs": [
    {
     "name": "stdout",
     "output_type": "stream",
     "text": [
      "6.0\n"
     ]
    }
   ],
   "source": [
    "x //= 10\n",
    "print(x)"
   ]
  },
  {
   "cell_type": "code",
   "execution_count": 148,
   "id": "a747b3d8",
   "metadata": {},
   "outputs": [
    {
     "name": "stdout",
     "output_type": "stream",
     "text": [
      "60466176.0\n"
     ]
    }
   ],
   "source": [
    "x **= 10\n",
    "print(x)"
   ]
  },
  {
   "cell_type": "code",
   "execution_count": 152,
   "id": "59717d75",
   "metadata": {},
   "outputs": [],
   "source": [
    "x = 45"
   ]
  },
  {
   "cell_type": "code",
   "execution_count": 153,
   "id": "e7eb84fb",
   "metadata": {},
   "outputs": [
    {
     "name": "stdout",
     "output_type": "stream",
     "text": [
      "3\n"
     ]
    }
   ],
   "source": [
    "x %= 7\n",
    "print(x)"
   ]
  },
  {
   "cell_type": "code",
   "execution_count": null,
   "id": "2edbb10b",
   "metadata": {},
   "outputs": [],
   "source": [
    "# Conditional Statements"
   ]
  },
  {
   "cell_type": "code",
   "execution_count": null,
   "id": "aee38937",
   "metadata": {},
   "outputs": [],
   "source": [
    "# input() function"
   ]
  },
  {
   "cell_type": "code",
   "execution_count": 156,
   "id": "a0bfb078",
   "metadata": {},
   "outputs": [
    {
     "name": "stdout",
     "output_type": "stream",
     "text": [
      "apple\n"
     ]
    }
   ],
   "source": [
    "x = input()"
   ]
  },
  {
   "cell_type": "code",
   "execution_count": 157,
   "id": "f205bead",
   "metadata": {},
   "outputs": [
    {
     "name": "stdout",
     "output_type": "stream",
     "text": [
      "apple\n"
     ]
    }
   ],
   "source": [
    "print(x)"
   ]
  },
  {
   "cell_type": "code",
   "execution_count": 160,
   "id": "13ba6b0f",
   "metadata": {},
   "outputs": [
    {
     "name": "stdout",
     "output_type": "stream",
     "text": [
      "Mohit: Will you marry me?\n",
      "Yes\n",
      "Girl:  Yes\n",
      "The ring is in the finger.\n"
     ]
    }
   ],
   "source": [
    "print('Mohit: Will you marry me?')\n",
    "reply = input()\n",
    "print('Girl: ',reply)\n",
    "\n",
    "if reply == \"Yes\":\n",
    "    print('The ring is in the finger.')\n",
    "else:\n",
    "    print('We have a Play Station Wow!!!!')"
   ]
  },
  {
   "cell_type": "code",
   "execution_count": 168,
   "id": "a3cd06a7",
   "metadata": {},
   "outputs": [
    {
     "name": "stdout",
     "output_type": "stream",
     "text": [
      "Negative\n"
     ]
    }
   ],
   "source": [
    "x = 0\n",
    "\n",
    "if x > 0:\n",
    "    print('Positive')\n",
    "else:\n",
    "    print('Negative')"
   ]
  },
  {
   "cell_type": "code",
   "execution_count": null,
   "id": "406c237c",
   "metadata": {},
   "outputs": [],
   "source": [
    "x = 0\n",
    "\n",
    "if x == 0:\n",
    "    print('Zero')\n",
    "elif x > 0:\n",
    "    print('Positive')\n",
    "else:\n",
    "    print('Negative')"
   ]
  },
  {
   "cell_type": "code",
   "execution_count": 174,
   "id": "7622db4d",
   "metadata": {},
   "outputs": [
    {
     "name": "stdout",
     "output_type": "stream",
     "text": [
      "Mohit\n",
      "CA\n"
     ]
    }
   ],
   "source": [
    "subject = input()\n",
    "\n",
    "if subject == 'Maths/Science':\n",
    "    print('Dr/Engineer')\n",
    "elif subject == 'Humanities':\n",
    "    print('IAS IPS')\n",
    "else:\n",
    "    print('CA')"
   ]
  },
  {
   "cell_type": "code",
   "execution_count": 178,
   "id": "c084b982",
   "metadata": {},
   "outputs": [
    {
     "name": "stdout",
     "output_type": "stream",
     "text": [
      "Maths/Science\n",
      "Dr/Engineer\n"
     ]
    }
   ],
   "source": [
    "subject = input()\n",
    "\n",
    "if subject == 'Maths/Science':\n",
    "    print('Dr/Engineer')\n",
    "elif subject == 'Humanities':\n",
    "    print('IAS IPS')\n",
    "elif subject == 'Commerce':\n",
    "    print('CA')\n",
    "else:\n",
    "    print('Please write the proper name of the subject')"
   ]
  },
  {
   "cell_type": "code",
   "execution_count": null,
   "id": "c9550dcf",
   "metadata": {},
   "outputs": [],
   "source": []
  }
 ],
 "metadata": {
  "kernelspec": {
   "display_name": "Python 3 (ipykernel)",
   "language": "python",
   "name": "python3"
  },
  "language_info": {
   "codemirror_mode": {
    "name": "ipython",
    "version": 3
   },
   "file_extension": ".py",
   "mimetype": "text/x-python",
   "name": "python",
   "nbconvert_exporter": "python",
   "pygments_lexer": "ipython3",
   "version": "3.8.9"
  }
 },
 "nbformat": 4,
 "nbformat_minor": 5
}
