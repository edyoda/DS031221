{
 "cells": [
  {
   "cell_type": "code",
   "execution_count": 9,
   "id": "b195ec4e",
   "metadata": {},
   "outputs": [
    {
     "name": "stdout",
     "output_type": "stream",
     "text": [
      "6\n"
     ]
    }
   ],
   "source": [
    "# moto: how many vowels are there in a string\n",
    "\n",
    "string = 'mohitsinghchouhan'\n",
    "vowels = 'aeiou'\n",
    "count = 0\n",
    "\n",
    "for char in string:\n",
    "    if char in vowels:\n",
    "        count += 1\n",
    "print(count)"
   ]
  },
  {
   "cell_type": "code",
   "execution_count": null,
   "id": "7062b6ca",
   "metadata": {},
   "outputs": [],
   "source": [
    "- Reuse the code at various places\n",
    "- I want the code to change a little bit based on difference inputs.\n",
    "- I want the code to look clean and easy to understand.\n",
    "\n",
    "function:\n",
    "    collection of code which you can run whenever you want , and also\n",
    "    by changing the input for that code. You can call this function\n",
    "    from anywhere and it will work."
   ]
  },
  {
   "cell_type": "code",
   "execution_count": null,
   "id": "f1cb0294",
   "metadata": {},
   "outputs": [],
   "source": [
    "There are 2 things:-\n",
    "    \n",
    "    1) Function definition\n",
    "    2) Function Calling"
   ]
  },
  {
   "cell_type": "code",
   "execution_count": null,
   "id": "33d73d66",
   "metadata": {},
   "outputs": [],
   "source": [
    "2) Function Calling"
   ]
  },
  {
   "cell_type": "code",
   "execution_count": 10,
   "id": "e8028efb",
   "metadata": {},
   "outputs": [],
   "source": [
    "# Builtin functions"
   ]
  },
  {
   "cell_type": "code",
   "execution_count": 11,
   "id": "078efb73",
   "metadata": {},
   "outputs": [
    {
     "name": "stdout",
     "output_type": "stream",
     "text": [
      "[1, 3, 5, 'apple']\n"
     ]
    }
   ],
   "source": [
    "list1 = [1,3,5]\n",
    "\n",
    "list1.append('apple')\n",
    "\n",
    "print(list1)"
   ]
  },
  {
   "cell_type": "code",
   "execution_count": null,
   "id": "37e445c5",
   "metadata": {},
   "outputs": [],
   "source": [
    "# some builting functions which we have used or called."
   ]
  },
  {
   "cell_type": "code",
   "execution_count": 12,
   "id": "19d74217",
   "metadata": {},
   "outputs": [
    {
     "data": {
      "text/plain": [
       "4"
      ]
     },
     "execution_count": 12,
     "metadata": {},
     "output_type": "execute_result"
    }
   ],
   "source": [
    "len(list1)"
   ]
  },
  {
   "cell_type": "code",
   "execution_count": 13,
   "id": "026d8ab3",
   "metadata": {},
   "outputs": [
    {
     "name": "stdout",
     "output_type": "stream",
     "text": [
      "12\n"
     ]
    }
   ],
   "source": [
    "list2 = [2,3,4,8,9,12]\n",
    "\n",
    "print(max(list2))"
   ]
  },
  {
   "cell_type": "code",
   "execution_count": 14,
   "id": "ce8f2301",
   "metadata": {},
   "outputs": [],
   "source": [
    "# 1) Function definition\n",
    "\n",
    "# User defined functions"
   ]
  },
  {
   "cell_type": "code",
   "execution_count": null,
   "id": "ecd8e9ef",
   "metadata": {},
   "outputs": [],
   "source": [
    "def fun_name(param1,param2,param3):\n",
    "    python code\n",
    "    more python code....\n",
    "    .....\n",
    "    \n",
    "fun_name(2,343,69)"
   ]
  },
  {
   "cell_type": "code",
   "execution_count": 15,
   "id": "e7941050",
   "metadata": {},
   "outputs": [
    {
     "data": {
      "text/plain": [
       "49"
      ]
     },
     "execution_count": 15,
     "metadata": {},
     "output_type": "execute_result"
    }
   ],
   "source": [
    "def mathmath(a,b):\n",
    "    return a**2 + b**2 + 2*a*b\n",
    "\n",
    "mathmath(3,4)"
   ]
  },
  {
   "cell_type": "code",
   "execution_count": 16,
   "id": "2abb8c04",
   "metadata": {},
   "outputs": [
    {
     "data": {
      "text/plain": [
       "121"
      ]
     },
     "execution_count": 16,
     "metadata": {},
     "output_type": "execute_result"
    }
   ],
   "source": [
    "mathmath(5,6)"
   ]
  },
  {
   "cell_type": "code",
   "execution_count": 17,
   "id": "f98d8ca5",
   "metadata": {},
   "outputs": [
    {
     "data": {
      "text/plain": [
       "36"
      ]
     },
     "execution_count": 17,
     "metadata": {},
     "output_type": "execute_result"
    }
   ],
   "source": [
    "mathmath(3,3)"
   ]
  },
  {
   "cell_type": "code",
   "execution_count": 18,
   "id": "799d9eb3",
   "metadata": {},
   "outputs": [],
   "source": [
    "def find_no_of_strings(string):\n",
    "    vowels = 'aeiou'\n",
    "    count = 0\n",
    "\n",
    "    for char in string:\n",
    "        if char in vowels:\n",
    "            count += 1\n",
    "    print(count)"
   ]
  },
  {
   "cell_type": "code",
   "execution_count": 19,
   "id": "d2cf9207",
   "metadata": {},
   "outputs": [
    {
     "name": "stdout",
     "output_type": "stream",
     "text": [
      "2\n"
     ]
    }
   ],
   "source": [
    "find_no_of_strings('apple')"
   ]
  },
  {
   "cell_type": "code",
   "execution_count": 20,
   "id": "47a40ae3",
   "metadata": {},
   "outputs": [
    {
     "name": "stdout",
     "output_type": "stream",
     "text": [
      "4\n"
     ]
    }
   ],
   "source": [
    "find_no_of_strings('pineapple')"
   ]
  },
  {
   "cell_type": "code",
   "execution_count": 21,
   "id": "2b981b84",
   "metadata": {},
   "outputs": [
    {
     "name": "stdout",
     "output_type": "stream",
     "text": [
      "6\n"
     ]
    }
   ],
   "source": [
    "find_no_of_strings('mohitsinghchouhan')"
   ]
  },
  {
   "cell_type": "code",
   "execution_count": null,
   "id": "f150b14b",
   "metadata": {},
   "outputs": [],
   "source": [
    "REUSE THE SAME CODE AT VARIOUS PLACES."
   ]
  },
  {
   "cell_type": "code",
   "execution_count": 22,
   "id": "5e6195e5",
   "metadata": {},
   "outputs": [],
   "source": [
    "x = 'Mohit Singh Chouhan'\n",
    "\n",
    "def printName():\n",
    "    print(x)"
   ]
  },
  {
   "cell_type": "code",
   "execution_count": 23,
   "id": "18967724",
   "metadata": {},
   "outputs": [
    {
     "name": "stdout",
     "output_type": "stream",
     "text": [
      "Mohit Singh Chouhan\n"
     ]
    }
   ],
   "source": [
    "printName()"
   ]
  },
  {
   "cell_type": "code",
   "execution_count": 24,
   "id": "edd02d37",
   "metadata": {},
   "outputs": [
    {
     "name": "stdout",
     "output_type": "stream",
     "text": [
      "Mohit Singh Chouhan\n"
     ]
    }
   ],
   "source": [
    "printName()"
   ]
  },
  {
   "cell_type": "code",
   "execution_count": 30,
   "id": "ddf4029a",
   "metadata": {},
   "outputs": [
    {
     "name": "stdout",
     "output_type": "stream",
     "text": [
      "ALERT!\n"
     ]
    }
   ],
   "source": [
    "bus1 = ['non','non','non','non','non']\n",
    "bus2 = ['non','non','non','non','territorist']\n",
    "bus3 = ['non','non','non','territorist','non']\n",
    "bus4 = ['territorist','territorist','non']\n",
    "\n",
    "# WE ARE AT A TOLL PLAZA ON NATIONAL HIGHWAY\n",
    "\n",
    "for person in bus4:\n",
    "    if person == 'territorist':\n",
    "        print('ALERT!')\n",
    "        break\n",
    "        \n"
   ]
  },
  {
   "cell_type": "code",
   "execution_count": 31,
   "id": "7b86c19b",
   "metadata": {},
   "outputs": [],
   "source": [
    "def find_territorist(bus):\n",
    "    for person in bus:\n",
    "        if person == 'territorist':\n",
    "            print('ALERT!')\n",
    "            break"
   ]
  },
  {
   "cell_type": "code",
   "execution_count": 32,
   "id": "44b27c8c",
   "metadata": {},
   "outputs": [],
   "source": [
    "find_territorist(bus1)"
   ]
  },
  {
   "cell_type": "code",
   "execution_count": 33,
   "id": "7b0b301d",
   "metadata": {},
   "outputs": [
    {
     "name": "stdout",
     "output_type": "stream",
     "text": [
      "ALERT!\n"
     ]
    }
   ],
   "source": [
    "find_territorist(bus2)"
   ]
  },
  {
   "cell_type": "code",
   "execution_count": null,
   "id": "578a83b1",
   "metadata": {},
   "outputs": [],
   "source": [
    "Q Find out how many multiples of 7 are present in a list.\n",
    "It is given that list contains only numbers.\n",
    "\n",
    "[3,4,7,14,23,24,78]\n",
    "ans=> 2\n",
    "\n",
    "[3,2,12,87,74]\n",
    "ans=> 0\n",
    "\n",
    "give_multiples_of_7([3,4,7,14,23,24,78])"
   ]
  },
  {
   "cell_type": "code",
   "execution_count": 34,
   "id": "feaaa808",
   "metadata": {},
   "outputs": [],
   "source": [
    "def multiples_of_7(check_list):\n",
    "    count = 0\n",
    "    for no in check_list:\n",
    "        if no%7 == 0:\n",
    "            count += 1\n",
    "    print(count)"
   ]
  },
  {
   "cell_type": "code",
   "execution_count": 36,
   "id": "30a4cb7c",
   "metadata": {},
   "outputs": [
    {
     "name": "stdout",
     "output_type": "stream",
     "text": [
      "2\n"
     ]
    }
   ],
   "source": [
    "multiples_of_7([3,4,7,14,23,24,78])"
   ]
  },
  {
   "cell_type": "code",
   "execution_count": 37,
   "id": "c5e557a3",
   "metadata": {},
   "outputs": [
    {
     "name": "stdout",
     "output_type": "stream",
     "text": [
      "0\n"
     ]
    }
   ],
   "source": [
    "multiples_of_7([3,2,12,87,74])"
   ]
  },
  {
   "cell_type": "code",
   "execution_count": 38,
   "id": "2b6b0643",
   "metadata": {},
   "outputs": [
    {
     "name": "stdout",
     "output_type": "stream",
     "text": [
      "2\n"
     ]
    }
   ],
   "source": [
    "check_list = [3,4,7,14,23,24,78]\n",
    "count = 0\n",
    "for no in check_list:\n",
    "    if no%7 == 0:\n",
    "        count += 1\n",
    "print(count)"
   ]
  },
  {
   "cell_type": "code",
   "execution_count": 39,
   "id": "d4ef6c15",
   "metadata": {},
   "outputs": [
    {
     "name": "stdout",
     "output_type": "stream",
     "text": [
      "0\n"
     ]
    }
   ],
   "source": [
    "check_list = [3,2,12,87,74]\n",
    "count = 0\n",
    "for no in check_list:\n",
    "    if no%7 == 0:\n",
    "        count += 1\n",
    "print(count)"
   ]
  },
  {
   "cell_type": "code",
   "execution_count": 40,
   "id": "2811e99c",
   "metadata": {},
   "outputs": [
    {
     "name": "stdout",
     "output_type": "stream",
     "text": [
      "3\n"
     ]
    }
   ],
   "source": [
    "check_list = [700,1400,23,21]\n",
    "count = 0\n",
    "for no in check_list:\n",
    "    if no%7 == 0:\n",
    "        count += 1\n",
    "print(count)"
   ]
  },
  {
   "cell_type": "code",
   "execution_count": 41,
   "id": "73599e8f",
   "metadata": {},
   "outputs": [],
   "source": [
    "# RETURN STATMENT"
   ]
  },
  {
   "cell_type": "code",
   "execution_count": 42,
   "id": "567a59a7",
   "metadata": {},
   "outputs": [],
   "source": [
    "irctc_dict = {}\n",
    "def Book_Train_Ticket(train_no, personal_information):\n",
    "    irctc_dict[train_no] = personal_information\n",
    "    ticket = {'ticketNo':44,'Berth':'lower'}\n",
    "    return ticket"
   ]
  },
  {
   "cell_type": "code",
   "execution_count": 43,
   "id": "ec056d27",
   "metadata": {},
   "outputs": [],
   "source": [
    "def paytm_book_train():\n",
    "    train_no = input('Tell me the train No')\n",
    "    name = input('name')\n",
    "    age = input('age')\n",
    "    personal_information = {'Name':name,'Age':age}\n",
    "    ticket_received = Book_Train_Ticket(train_no, personal_information)\n",
    "    print('Hey Mohit Your ticket is booked with following details'\n",
    "          ,ticket_received)"
   ]
  },
  {
   "cell_type": "code",
   "execution_count": 44,
   "id": "350c8a8c",
   "metadata": {},
   "outputs": [
    {
     "name": "stdout",
     "output_type": "stream",
     "text": [
      "Tell me the train No567\n",
      "namemohit singh chouhan\n",
      "age24\n",
      "Hey Mohit Your ticket is booked with following details {'ticketNo': 44, 'Berth': 'lower'}\n"
     ]
    }
   ],
   "source": [
    "paytm_book_train()"
   ]
  },
  {
   "cell_type": "code",
   "execution_count": 45,
   "id": "489b41a5",
   "metadata": {},
   "outputs": [
    {
     "name": "stdout",
     "output_type": "stream",
     "text": [
      "{'567': {'Name': 'mohit singh chouhan', 'Age': '24'}}\n"
     ]
    }
   ],
   "source": [
    "print(irctc_dict)"
   ]
  },
  {
   "cell_type": "code",
   "execution_count": 46,
   "id": "063e5806",
   "metadata": {},
   "outputs": [],
   "source": [
    "x = [1,2,3,89,200]\n",
    "\n",
    "y = len(x)"
   ]
  },
  {
   "cell_type": "code",
   "execution_count": 47,
   "id": "58a16222",
   "metadata": {},
   "outputs": [
    {
     "name": "stdout",
     "output_type": "stream",
     "text": [
      "5\n"
     ]
    }
   ],
   "source": [
    "print(y)"
   ]
  },
  {
   "cell_type": "code",
   "execution_count": null,
   "id": "ebd23fe6",
   "metadata": {},
   "outputs": [],
   "source": [
    "What happens if a function don't use a return statement?\n",
    "Automatically None is returned."
   ]
  },
  {
   "cell_type": "code",
   "execution_count": 59,
   "id": "4f7465dc",
   "metadata": {},
   "outputs": [],
   "source": [
    "def is_it_odd(no):\n",
    "    if no%2 != 0:\n",
    "        print('Yes')\n",
    "    else:\n",
    "        print('No')\n",
    "    \n",
    "    return 'AADIL KHAN'"
   ]
  },
  {
   "cell_type": "code",
   "execution_count": 60,
   "id": "309fd956",
   "metadata": {},
   "outputs": [
    {
     "name": "stdout",
     "output_type": "stream",
     "text": [
      "No\n"
     ]
    },
    {
     "data": {
      "text/plain": [
       "'AADIL KHAN'"
      ]
     },
     "execution_count": 60,
     "metadata": {},
     "output_type": "execute_result"
    }
   ],
   "source": [
    "is_it_odd(4)"
   ]
  },
  {
   "cell_type": "code",
   "execution_count": 54,
   "id": "43886238",
   "metadata": {},
   "outputs": [
    {
     "name": "stdout",
     "output_type": "stream",
     "text": [
      "AADIL KHAN\n"
     ]
    }
   ],
   "source": [
    "print(return_value)"
   ]
  },
  {
   "cell_type": "code",
   "execution_count": 61,
   "id": "c6897cc4",
   "metadata": {},
   "outputs": [],
   "source": [
    "def is_it_odd(no):\n",
    "    if no%2 != 0:\n",
    "        return 'YES'\n",
    "    else:\n",
    "        return 'No'"
   ]
  },
  {
   "cell_type": "code",
   "execution_count": 62,
   "id": "8b1139d5",
   "metadata": {},
   "outputs": [
    {
     "data": {
      "text/plain": [
       "'No'"
      ]
     },
     "execution_count": 62,
     "metadata": {},
     "output_type": "execute_result"
    }
   ],
   "source": [
    "is_it_odd(8)"
   ]
  },
  {
   "cell_type": "code",
   "execution_count": null,
   "id": "afb3eb40",
   "metadata": {},
   "outputs": [],
   "source": [
    "Homework Question\n",
    "Q) Write a fun, which returns list of all the even elements from the given\n",
    "list.\n",
    "\n",
    "examples:\n",
    "\n",
    "input: [1,2,3,4,5,6]\n",
    "output: [2,4,6,8]\n",
    "    \n",
    "input: []\n",
    "output: []\n",
    "    \n",
    "input: [2,3,5]\n",
    "output: [2]"
   ]
  },
  {
   "cell_type": "code",
   "execution_count": null,
   "id": "82a19448",
   "metadata": {},
   "outputs": [],
   "source": [
    "# Namespace: local,global,builtin namespace"
   ]
  },
  {
   "cell_type": "code",
   "execution_count": 63,
   "id": "c3698b7a",
   "metadata": {},
   "outputs": [],
   "source": [
    "def is_it_odd(no):\n",
    "    if no%2 != 0:\n",
    "        return 'YES'\n",
    "    else:\n",
    "        return 'No'"
   ]
  },
  {
   "cell_type": "code",
   "execution_count": 64,
   "id": "2f244edd",
   "metadata": {},
   "outputs": [
    {
     "data": {
      "text/plain": [
       "'No'"
      ]
     },
     "execution_count": 64,
     "metadata": {},
     "output_type": "execute_result"
    }
   ],
   "source": [
    "is_it_odd(500)"
   ]
  },
  {
   "cell_type": "code",
   "execution_count": 65,
   "id": "ca136abf",
   "metadata": {},
   "outputs": [
    {
     "data": {
      "text/plain": [
       "'YES'"
      ]
     },
     "execution_count": 65,
     "metadata": {},
     "output_type": "execute_result"
    }
   ],
   "source": [
    "is_it_odd(45)"
   ]
  },
  {
   "cell_type": "code",
   "execution_count": 66,
   "id": "893d2691",
   "metadata": {},
   "outputs": [
    {
     "data": {
      "text/plain": [
       "'YES'"
      ]
     },
     "execution_count": 66,
     "metadata": {},
     "output_type": "execute_result"
    }
   ],
   "source": [
    "is_it_odd(23)"
   ]
  },
  {
   "cell_type": "code",
   "execution_count": null,
   "id": "a5c9d7c6",
   "metadata": {},
   "outputs": [],
   "source": [
    "print(no)"
   ]
  }
 ],
 "metadata": {
  "kernelspec": {
   "display_name": "Python 3 (ipykernel)",
   "language": "python",
   "name": "python3"
  },
  "language_info": {
   "codemirror_mode": {
    "name": "ipython",
    "version": 3
   },
   "file_extension": ".py",
   "mimetype": "text/x-python",
   "name": "python",
   "nbconvert_exporter": "python",
   "pygments_lexer": "ipython3",
   "version": "3.8.9"
  }
 },
 "nbformat": 4,
 "nbformat_minor": 5
}
