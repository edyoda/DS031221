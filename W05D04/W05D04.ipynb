{
 "cells": [
  {
   "cell_type": "code",
   "execution_count": null,
   "id": "62778081",
   "metadata": {},
   "outputs": [],
   "source": [
    "map\n",
    "filter\n",
    "lambda\n",
    "\n",
    "syntax of map\n",
    "list(map(fun,iterable))\n",
    "list(filter(fun,iterable))"
   ]
  },
  {
   "cell_type": "code",
   "execution_count": null,
   "id": "55b4102a",
   "metadata": {},
   "outputs": [],
   "source": [
    "Q)\n",
    "vowels = ['a','e','i','o','u']\n",
    "fruits = ['apple','mango','banana','kiwi','pineapple']\n",
    "fruits2 = ['ppl','mng','bnn','kw','pnppl']\n",
    "\n",
    "Do it with functional programming"
   ]
  },
  {
   "cell_type": "code",
   "execution_count": 2,
   "id": "38c75811",
   "metadata": {},
   "outputs": [
    {
     "name": "stdout",
     "output_type": "stream",
     "text": [
      "ppl\n"
     ]
    }
   ],
   "source": [
    "vowels = ['a','e','i','o','u']\n",
    "final_char = ''\n",
    "x = 'apple'\n",
    "for char in x:\n",
    "    if char not in vowels:\n",
    "        final_char += char\n",
    "print(final_char)"
   ]
  },
  {
   "cell_type": "code",
   "execution_count": 3,
   "id": "a4c41bf8",
   "metadata": {},
   "outputs": [],
   "source": [
    "vowels = ['a','e','i','o','u']\n",
    "def remove_vowels(string):\n",
    "    final_string = ''\n",
    "    for char in string:\n",
    "        if char not in vowels:\n",
    "            final_string += char\n",
    "    return final_string"
   ]
  },
  {
   "cell_type": "code",
   "execution_count": 4,
   "id": "226bf530",
   "metadata": {},
   "outputs": [
    {
     "data": {
      "text/plain": [
       "['ppl', 'mng', 'bnn', 'kw', 'pnppl']"
      ]
     },
     "execution_count": 4,
     "metadata": {},
     "output_type": "execute_result"
    }
   ],
   "source": [
    "list(map(remove_vowels, ['apple','mango','banana','kiwi','pineapple']))"
   ]
  },
  {
   "cell_type": "markdown",
   "id": "28b4a47c",
   "metadata": {},
   "source": [
    "# lambda expression"
   ]
  },
  {
   "cell_type": "code",
   "execution_count": 7,
   "id": "623fb404",
   "metadata": {},
   "outputs": [],
   "source": [
    "happy = lambda input1 : input1*2"
   ]
  },
  {
   "cell_type": "code",
   "execution_count": 8,
   "id": "f13fcceb",
   "metadata": {},
   "outputs": [
    {
     "data": {
      "text/plain": [
       "80"
      ]
     },
     "execution_count": 8,
     "metadata": {},
     "output_type": "execute_result"
    }
   ],
   "source": [
    "happy(40)"
   ]
  },
  {
   "cell_type": "code",
   "execution_count": 9,
   "id": "eac647f6",
   "metadata": {},
   "outputs": [
    {
     "data": {
      "text/plain": [
       "32"
      ]
     },
     "execution_count": 9,
     "metadata": {},
     "output_type": "execute_result"
    }
   ],
   "source": [
    "happy(16)"
   ]
  },
  {
   "cell_type": "code",
   "execution_count": null,
   "id": "7f3dab3c",
   "metadata": {},
   "outputs": [],
   "source": [
    "- you don't use return statment here."
   ]
  },
  {
   "cell_type": "code",
   "execution_count": 10,
   "id": "c0ebad1b",
   "metadata": {},
   "outputs": [],
   "source": [
    "happy2 = lambda input1 : len(input1) + sum(input1)"
   ]
  },
  {
   "cell_type": "code",
   "execution_count": 12,
   "id": "7cce8748",
   "metadata": {},
   "outputs": [
    {
     "data": {
      "text/plain": [
       "9"
      ]
     },
     "execution_count": 12,
     "metadata": {},
     "output_type": "execute_result"
    }
   ],
   "source": [
    "happy2([1,2,3])"
   ]
  },
  {
   "cell_type": "code",
   "execution_count": 13,
   "id": "f04e169b",
   "metadata": {},
   "outputs": [],
   "source": [
    "def is_even(x):\n",
    "    if x%2 == 0:\n",
    "        return True"
   ]
  },
  {
   "cell_type": "code",
   "execution_count": 17,
   "id": "2547b5a9",
   "metadata": {},
   "outputs": [],
   "source": [
    "even_checker = lambda input1,input2 : is_even(input1+input2)"
   ]
  },
  {
   "cell_type": "code",
   "execution_count": 19,
   "id": "8987dee0",
   "metadata": {},
   "outputs": [],
   "source": [
    "even_checker(2,1)"
   ]
  },
  {
   "cell_type": "code",
   "execution_count": 21,
   "id": "c995aaef",
   "metadata": {},
   "outputs": [
    {
     "name": "stdout",
     "output_type": "stream",
     "text": [
      "fun3\n",
      "fun2\n",
      "fun1\n",
      "22\n"
     ]
    }
   ],
   "source": [
    "def fun3(z):\n",
    "    print('fun3')\n",
    "    return z+10\n",
    "\n",
    "def fun2(y):\n",
    "    result = fun3(y+1)\n",
    "    print('fun2')\n",
    "    return result\n",
    "    \n",
    "def fun1(x):\n",
    "    result = fun2(x+1)\n",
    "    print('fun1')\n",
    "    return result\n",
    "\n",
    "result = fun1(10)\n",
    "print(result)"
   ]
  },
  {
   "cell_type": "code",
   "execution_count": 22,
   "id": "dc4f2228",
   "metadata": {},
   "outputs": [
    {
     "data": {
      "text/plain": [
       "6"
      ]
     },
     "execution_count": 22,
     "metadata": {},
     "output_type": "execute_result"
    }
   ],
   "source": [
    "x = [1,2,3]\n",
    "sum(x)"
   ]
  },
  {
   "cell_type": "code",
   "execution_count": 23,
   "id": "caae85ed",
   "metadata": {},
   "outputs": [],
   "source": [
    "def sqr(x):\n",
    "    return x**2"
   ]
  },
  {
   "cell_type": "code",
   "execution_count": 24,
   "id": "271ffa31",
   "metadata": {},
   "outputs": [
    {
     "data": {
      "text/plain": [
       "36"
      ]
     },
     "execution_count": 24,
     "metadata": {},
     "output_type": "execute_result"
    }
   ],
   "source": [
    "sqr(6)"
   ]
  },
  {
   "cell_type": "code",
   "execution_count": 25,
   "id": "aee8733f",
   "metadata": {},
   "outputs": [
    {
     "data": {
      "text/plain": [
       "36"
      ]
     },
     "execution_count": 25,
     "metadata": {},
     "output_type": "execute_result"
    }
   ],
   "source": [
    "sqr(sum([1,2,3]))"
   ]
  },
  {
   "cell_type": "code",
   "execution_count": 26,
   "id": "372fa13b",
   "metadata": {},
   "outputs": [
    {
     "data": {
      "text/plain": [
       "[1, 4, 9, 16]"
      ]
     },
     "execution_count": 26,
     "metadata": {},
     "output_type": "execute_result"
    }
   ],
   "source": [
    "list(map(lambda x:x**2,[1,2,3,4]))"
   ]
  },
  {
   "cell_type": "markdown",
   "id": "b1f12812",
   "metadata": {},
   "source": [
    "# List Comprehension\n",
    "\n",
    "# One line code to create a list\n",
    "# you write code inside square brackets , but with a different syntax"
   ]
  },
  {
   "cell_type": "code",
   "execution_count": 27,
   "id": "af346a9b",
   "metadata": {},
   "outputs": [],
   "source": [
    "numbers = [1,2,3,4,5]\n",
    "x = [no for no in numbers if no%2 == 0 ]"
   ]
  },
  {
   "cell_type": "code",
   "execution_count": 28,
   "id": "88a58c93",
   "metadata": {},
   "outputs": [
    {
     "name": "stdout",
     "output_type": "stream",
     "text": [
      "[2, 4]\n"
     ]
    }
   ],
   "source": [
    "print(x)"
   ]
  },
  {
   "cell_type": "code",
   "execution_count": 31,
   "id": "797fb05e",
   "metadata": {},
   "outputs": [
    {
     "name": "stdout",
     "output_type": "stream",
     "text": [
      "[1002, 1004]\n"
     ]
    }
   ],
   "source": [
    "numbers = [1,2,3,4,5]\n",
    "even_no = []\n",
    "\n",
    "for no in numbers:\n",
    "    if no%2==0:\n",
    "        even_no.append(no+1000)\n",
    "print(even_no)"
   ]
  },
  {
   "cell_type": "code",
   "execution_count": 32,
   "id": "6aa6f349",
   "metadata": {},
   "outputs": [
    {
     "data": {
      "text/plain": [
       "[1002, 1004]"
      ]
     },
     "execution_count": 32,
     "metadata": {},
     "output_type": "execute_result"
    }
   ],
   "source": [
    "[no+1000 for no in numbers if no%2==0]"
   ]
  },
  {
   "cell_type": "code",
   "execution_count": 33,
   "id": "16996849",
   "metadata": {},
   "outputs": [],
   "source": [
    "x = lambda input1 : input1+100"
   ]
  },
  {
   "cell_type": "code",
   "execution_count": 34,
   "id": "993edf35",
   "metadata": {},
   "outputs": [
    {
     "data": {
      "text/plain": [
       "109"
      ]
     },
     "execution_count": 34,
     "metadata": {},
     "output_type": "execute_result"
    }
   ],
   "source": [
    "x(9)"
   ]
  },
  {
   "cell_type": "code",
   "execution_count": 35,
   "id": "8af0faa6",
   "metadata": {},
   "outputs": [
    {
     "data": {
      "text/plain": [
       "145"
      ]
     },
     "execution_count": 35,
     "metadata": {},
     "output_type": "execute_result"
    }
   ],
   "source": [
    "x(45)"
   ]
  },
  {
   "cell_type": "code",
   "execution_count": 39,
   "id": "5fba6a90",
   "metadata": {},
   "outputs": [],
   "source": [
    "y = lambda input1 : sqr(input1)"
   ]
  },
  {
   "cell_type": "code",
   "execution_count": 40,
   "id": "1d11731b",
   "metadata": {},
   "outputs": [
    {
     "data": {
      "text/plain": [
       "1156"
      ]
     },
     "execution_count": 40,
     "metadata": {},
     "output_type": "execute_result"
    }
   ],
   "source": [
    "y(34)"
   ]
  },
  {
   "cell_type": "code",
   "execution_count": 41,
   "id": "6cabc079",
   "metadata": {},
   "outputs": [
    {
     "data": {
      "text/plain": [
       "4"
      ]
     },
     "execution_count": 41,
     "metadata": {},
     "output_type": "execute_result"
    }
   ],
   "source": [
    "y(2)"
   ]
  },
  {
   "cell_type": "code",
   "execution_count": 52,
   "id": "6ad7c2ff",
   "metadata": {},
   "outputs": [],
   "source": [
    "x = lambda : sqr(4)"
   ]
  },
  {
   "cell_type": "code",
   "execution_count": 53,
   "id": "808e935a",
   "metadata": {},
   "outputs": [
    {
     "data": {
      "text/plain": [
       "16"
      ]
     },
     "execution_count": 53,
     "metadata": {},
     "output_type": "execute_result"
    }
   ],
   "source": [
    "x()"
   ]
  },
  {
   "cell_type": "code",
   "execution_count": 63,
   "id": "dfda90b5",
   "metadata": {},
   "outputs": [],
   "source": [
    "def happy():\n",
    "    print('Everybody is happy')"
   ]
  },
  {
   "cell_type": "code",
   "execution_count": 64,
   "id": "35a2d6fa",
   "metadata": {},
   "outputs": [
    {
     "name": "stdout",
     "output_type": "stream",
     "text": [
      "Everybody is happy\n"
     ]
    }
   ],
   "source": [
    "happy()"
   ]
  },
  {
   "cell_type": "code",
   "execution_count": 65,
   "id": "b0ed07ec",
   "metadata": {},
   "outputs": [
    {
     "data": {
      "text/plain": [
       "[(1, 10, 1000), (2, 20, 2000), (3, 30, 3000)]"
      ]
     },
     "execution_count": 65,
     "metadata": {},
     "output_type": "execute_result"
    }
   ],
   "source": [
    "x = [1,2,3]\n",
    "y = [10,20,30,40]\n",
    "z = [1000,2000,3000,4000,5000]\n",
    "\n",
    "list(zip(x,y,z))"
   ]
  },
  {
   "cell_type": "code",
   "execution_count": 68,
   "id": "20c95426",
   "metadata": {},
   "outputs": [
    {
     "data": {
      "text/plain": [
       "[('apple ', 'juice ', 'is tasty'),\n",
       " ('mango ', 'shake ', 'is amazing'),\n",
       " ('kiwi ', 'blend ', 'is the best')]"
      ]
     },
     "execution_count": 68,
     "metadata": {},
     "output_type": "execute_result"
    }
   ],
   "source": [
    "x = ['apple ','mango ','kiwi ']\n",
    "y = ['juice ','shake ','blend ']\n",
    "z = ['is tasty','is amazing','is the best']\n",
    "\n",
    "list(zip(x,y,z))"
   ]
  },
  {
   "cell_type": "code",
   "execution_count": 74,
   "id": "6dd132b0",
   "metadata": {},
   "outputs": [],
   "source": [
    "final = [i+j+k for i,j,k in list(zip(x,y,z))]"
   ]
  },
  {
   "cell_type": "code",
   "execution_count": 75,
   "id": "3a4711df",
   "metadata": {},
   "outputs": [
    {
     "name": "stdout",
     "output_type": "stream",
     "text": [
      "apple juice is tasty\n",
      "mango shake is amazing\n",
      "kiwi blend is the best\n"
     ]
    }
   ],
   "source": [
    "for i,j,k in list(zip(x,y,z)):\n",
    "    print(i+j+k)"
   ]
  },
  {
   "cell_type": "code",
   "execution_count": 76,
   "id": "b7cac3c5",
   "metadata": {},
   "outputs": [
    {
     "data": {
      "text/plain": [
       "['apple juice is tasty', 'mango shake is amazing', 'kiwi blend is the best']"
      ]
     },
     "execution_count": 76,
     "metadata": {},
     "output_type": "execute_result"
    }
   ],
   "source": [
    "final"
   ]
  },
  {
   "cell_type": "markdown",
   "id": "09ab8208",
   "metadata": {},
   "source": [
    "# for if else in list compre"
   ]
  },
  {
   "cell_type": "code",
   "execution_count": 78,
   "id": "42b78f18",
   "metadata": {},
   "outputs": [],
   "source": [
    "list1 = [1,2,5,24]\n",
    "out1 = ['odd','even','odd','even']\n",
    "\n",
    "list2 = [2,4,1,6,8]\n",
    "out2 = ['even','even','odd','even','even']"
   ]
  },
  {
   "cell_type": "code",
   "execution_count": 81,
   "id": "6ba526df",
   "metadata": {},
   "outputs": [],
   "source": [
    "z = ['odd' if i%2!=0 else 'even' for i in list2]"
   ]
  },
  {
   "cell_type": "code",
   "execution_count": 82,
   "id": "d61a41b4",
   "metadata": {},
   "outputs": [
    {
     "name": "stdout",
     "output_type": "stream",
     "text": [
      "['even', 'even', 'odd', 'even', 'even']\n"
     ]
    }
   ],
   "source": [
    "print(z)"
   ]
  },
  {
   "cell_type": "markdown",
   "id": "2e3aa407",
   "metadata": {},
   "source": [
    "# nested in list comprehension"
   ]
  },
  {
   "cell_type": "code",
   "execution_count": 84,
   "id": "cb81e017",
   "metadata": {},
   "outputs": [],
   "source": [
    "# multiplicaton tables of 3 and 7"
   ]
  },
  {
   "cell_type": "code",
   "execution_count": 91,
   "id": "89b42818",
   "metadata": {},
   "outputs": [
    {
     "name": "stdout",
     "output_type": "stream",
     "text": [
      "One day I will be 50 years age\n"
     ]
    }
   ],
   "source": [
    "x = 45\n",
    "\n",
    "z = f\"One day I will be {x+5} years age\"\n",
    "print(z)"
   ]
  },
  {
   "cell_type": "code",
   "execution_count": 87,
   "id": "83c01521",
   "metadata": {},
   "outputs": [
    {
     "name": "stdout",
     "output_type": "stream",
     "text": [
      "3*1=3\n",
      "3*2=6\n",
      "3*3=9\n",
      "3*4=12\n",
      "3*5=15\n",
      "3*6=18\n",
      "3*7=21\n",
      "3*8=24\n",
      "3*9=27\n",
      "3*10=30\n",
      "\n",
      "\n",
      "7*1=7\n",
      "7*2=14\n",
      "7*3=21\n",
      "7*4=28\n",
      "7*5=35\n",
      "7*6=42\n",
      "7*7=49\n",
      "7*8=56\n",
      "7*9=63\n",
      "7*10=70\n",
      "\n",
      "\n"
     ]
    }
   ],
   "source": [
    "for i in [3,7]:\n",
    "    for j in range(1,11):\n",
    "        print(f\"{i}*{j}={i*j}\")\n",
    "    print('\\n')"
   ]
  },
  {
   "cell_type": "code",
   "execution_count": 89,
   "id": "1fccf2fb",
   "metadata": {},
   "outputs": [],
   "source": [
    "table = [f\"{i}*{j}={i*j}\" for i in [3,7] for j in range(1,11)]"
   ]
  },
  {
   "cell_type": "code",
   "execution_count": 90,
   "id": "9616ff4c",
   "metadata": {},
   "outputs": [
    {
     "name": "stdout",
     "output_type": "stream",
     "text": [
      "['3*1=3', '3*2=6', '3*3=9', '3*4=12', '3*5=15', '3*6=18', '3*7=21', '3*8=24', '3*9=27', '3*10=30', '7*1=7', '7*2=14', '7*3=21', '7*4=28', '7*5=35', '7*6=42', '7*7=49', '7*8=56', '7*9=63', '7*10=70']\n"
     ]
    }
   ],
   "source": [
    "print(table)"
   ]
  },
  {
   "cell_type": "markdown",
   "id": "4a50c00a",
   "metadata": {},
   "source": [
    "# Dict comprehension"
   ]
  },
  {
   "cell_type": "code",
   "execution_count": 92,
   "id": "3568575e",
   "metadata": {},
   "outputs": [
    {
     "name": "stdout",
     "output_type": "stream",
     "text": [
      "97\n"
     ]
    }
   ],
   "source": [
    "x = ['a','b','c','d']\n",
    "print(ord(x[0]))"
   ]
  },
  {
   "cell_type": "code",
   "execution_count": 93,
   "id": "da9a313c",
   "metadata": {},
   "outputs": [],
   "source": [
    "y = {i:ord(i) for i in x}"
   ]
  },
  {
   "cell_type": "code",
   "execution_count": 94,
   "id": "671ea187",
   "metadata": {},
   "outputs": [
    {
     "name": "stdout",
     "output_type": "stream",
     "text": [
      "{'a': 97, 'b': 98, 'c': 99, 'd': 100}\n"
     ]
    }
   ],
   "source": [
    "print(y)"
   ]
  },
  {
   "cell_type": "code",
   "execution_count": 99,
   "id": "7fb7a794",
   "metadata": {},
   "outputs": [],
   "source": [
    "# Question\n",
    "list_of_strings = ['a123z','a2222z','a1234z','a##z','a@12w','a@#$z',\n",
    "                   '1a123z1']\n",
    "\n",
    "# Use list comprehension and regx to insert only the strings which are\n",
    "# starting with a and ending with z. Also in between they \n",
    "# contain only 3 char.\n"
   ]
  },
  {
   "cell_type": "code",
   "execution_count": 101,
   "id": "d21045e7",
   "metadata": {},
   "outputs": [
    {
     "name": "stdout",
     "output_type": "stream",
     "text": [
      "['a123z', 'a@#$z']\n"
     ]
    }
   ],
   "source": [
    "import re\n",
    "x = [i for i in list_of_strings if re.search('^a...z$',i)]\n",
    "print(x)"
   ]
  },
  {
   "cell_type": "code",
   "execution_count": 117,
   "id": "bc71abcc",
   "metadata": {},
   "outputs": [],
   "source": [
    "def double(arr):\n",
    "    found = False\n",
    "    for i in range(0,len(arr)-1):\n",
    "        for j in range (i+1,(len(arr))):\n",
    "            x = arr[i]==2*(arr[j]) or arr[j]== 2*(arr[i])\n",
    "            if x:\n",
    "                print(arr[i],arr[j])\n",
    "                found = True\n",
    "                return x\n",
    "            else:\n",
    "                pass\n",
    "    if not found:\n",
    "        return False"
   ]
  },
  {
   "cell_type": "code",
   "execution_count": 118,
   "id": "6f7cb484",
   "metadata": {},
   "outputs": [
    {
     "data": {
      "text/plain": [
       "False"
      ]
     },
     "execution_count": 118,
     "metadata": {},
     "output_type": "execute_result"
    }
   ],
   "source": [
    "double([-2,0,10,-19,4,6,-8])"
   ]
  },
  {
   "cell_type": "code",
   "execution_count": null,
   "id": "23609099",
   "metadata": {},
   "outputs": [],
   "source": []
  }
 ],
 "metadata": {
  "kernelspec": {
   "display_name": "Python 3 (ipykernel)",
   "language": "python",
   "name": "python3"
  },
  "language_info": {
   "codemirror_mode": {
    "name": "ipython",
    "version": 3
   },
   "file_extension": ".py",
   "mimetype": "text/x-python",
   "name": "python",
   "nbconvert_exporter": "python",
   "pygments_lexer": "ipython3",
   "version": "3.8.9"
  }
 },
 "nbformat": 4,
 "nbformat_minor": 5
}
