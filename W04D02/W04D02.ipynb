{
 "cells": [
  {
   "cell_type": "code",
   "execution_count": 7,
   "id": "264fd12a",
   "metadata": {},
   "outputs": [
    {
     "name": "stdout",
     "output_type": "stream",
     "text": [
      "5\n",
      "insert 0 20\n",
      "insert 1 30\n",
      "insert 2 40\n",
      "sort\n",
      "pop\n"
     ]
    }
   ],
   "source": [
    "N = int(input())\n",
    "output = []\n",
    "for i in range(0,N):\n",
    "    ip = input().split()\n",
    "    if ip[0] == \"print\":\n",
    "        print(output)\n",
    "    elif ip[0] == \"insert\":\n",
    "        output.insert(int(ip[1]), int(ip[2]))\n",
    "    elif ip[0] == \"remove\":\n",
    "        output.remove(int(ip[1]))\n",
    "    elif ip[0] == \"pop\":\n",
    "        output.pop()\n",
    "    elif ip[0] == \"append\":\n",
    "        output.append(int(ip[1]))\n",
    "    elif ip[0] == \"sort\":\n",
    "        output.sort()\n",
    "    else:\n",
    "        output.reverse()"
   ]
  },
  {
   "cell_type": "code",
   "execution_count": 8,
   "id": "93812062",
   "metadata": {},
   "outputs": [
    {
     "name": "stdout",
     "output_type": "stream",
     "text": [
      "[20, 30]\n"
     ]
    }
   ],
   "source": [
    "print(output)"
   ]
  },
  {
   "cell_type": "code",
   "execution_count": 11,
   "id": "fcacb9d9",
   "metadata": {},
   "outputs": [
    {
     "name": "stdout",
     "output_type": "stream",
     "text": [
      "apple\n"
     ]
    }
   ],
   "source": [
    "x = input()"
   ]
  },
  {
   "cell_type": "code",
   "execution_count": 12,
   "id": "73a2e617",
   "metadata": {},
   "outputs": [
    {
     "data": {
      "text/plain": [
       "['apple']"
      ]
     },
     "execution_count": 12,
     "metadata": {},
     "output_type": "execute_result"
    }
   ],
   "source": [
    "x.split()"
   ]
  },
  {
   "cell_type": "code",
   "execution_count": null,
   "id": "a129fef0",
   "metadata": {},
   "outputs": [],
   "source": [
    "# Functions"
   ]
  },
  {
   "cell_type": "code",
   "execution_count": null,
   "id": "c5282c8c",
   "metadata": {},
   "outputs": [],
   "source": [
    "# Use a piece of code at various places"
   ]
  },
  {
   "cell_type": "code",
   "execution_count": 13,
   "id": "3eba04fc",
   "metadata": {},
   "outputs": [],
   "source": [
    "def sum_of_numbers(list1):\n",
    "    sum_no = 0\n",
    "    for no in list1:\n",
    "        sum_no += no\n",
    "    return sum_no"
   ]
  },
  {
   "cell_type": "code",
   "execution_count": 14,
   "id": "522dea1d",
   "metadata": {},
   "outputs": [
    {
     "data": {
      "text/plain": [
       "29"
      ]
     },
     "execution_count": 14,
     "metadata": {},
     "output_type": "execute_result"
    }
   ],
   "source": [
    "sum_of_numbers([23,1,2,3])"
   ]
  },
  {
   "cell_type": "code",
   "execution_count": 15,
   "id": "efe8417a",
   "metadata": {},
   "outputs": [],
   "source": [
    "def sum_of_numbers(list1):\n",
    "    sum_no = 0\n",
    "    for no in list1:\n",
    "        sum_no += no\n",
    "    print(sum_no)"
   ]
  },
  {
   "cell_type": "code",
   "execution_count": 17,
   "id": "a523caca",
   "metadata": {},
   "outputs": [
    {
     "name": "stdout",
     "output_type": "stream",
     "text": [
      "29\n"
     ]
    }
   ],
   "source": [
    "x = sum_of_numbers([23,1,2,3])"
   ]
  },
  {
   "cell_type": "code",
   "execution_count": 18,
   "id": "f71e1dee",
   "metadata": {},
   "outputs": [
    {
     "name": "stdout",
     "output_type": "stream",
     "text": [
      "None\n"
     ]
    }
   ],
   "source": [
    "print(x)"
   ]
  },
  {
   "cell_type": "code",
   "execution_count": 19,
   "id": "3a83c284",
   "metadata": {},
   "outputs": [],
   "source": [
    "# Modules and Packages"
   ]
  },
  {
   "cell_type": "code",
   "execution_count": null,
   "id": "cb8dd08d",
   "metadata": {},
   "outputs": [],
   "source": [
    "# how to run python code in .py file:\n",
    "\n",
    "1) create a file with .py extension like learn_python.py\n",
    "2) write some python code inside it.\n",
    "3) open command prompt or teminal at the same location where\n",
    "you created learn_python.py file.\n",
    "4) run the code inside it by typing python learn_python.py\n"
   ]
  },
  {
   "cell_type": "code",
   "execution_count": 20,
   "id": "11d67e54",
   "metadata": {},
   "outputs": [],
   "source": [
    "x = {'python':3,'java':8}"
   ]
  },
  {
   "cell_type": "code",
   "execution_count": 23,
   "id": "7deac254",
   "metadata": {},
   "outputs": [],
   "source": [
    "y = x.get('maggi')"
   ]
  },
  {
   "cell_type": "code",
   "execution_count": 24,
   "id": "20e6357c",
   "metadata": {},
   "outputs": [
    {
     "name": "stdout",
     "output_type": "stream",
     "text": [
      "None\n"
     ]
    }
   ],
   "source": [
    "print(y)"
   ]
  },
  {
   "cell_type": "code",
   "execution_count": 25,
   "id": "1e77c835",
   "metadata": {},
   "outputs": [
    {
     "data": {
      "text/plain": [
       "False"
      ]
     },
     "execution_count": 25,
     "metadata": {},
     "output_type": "execute_result"
    }
   ],
   "source": [
    "None == '4444'"
   ]
  },
  {
   "cell_type": "code",
   "execution_count": null,
   "id": "0cf15a9d",
   "metadata": {},
   "outputs": [],
   "source": []
  }
 ],
 "metadata": {
  "kernelspec": {
   "display_name": "Python 3 (ipykernel)",
   "language": "python",
   "name": "python3"
  },
  "language_info": {
   "codemirror_mode": {
    "name": "ipython",
    "version": 3
   },
   "file_extension": ".py",
   "mimetype": "text/x-python",
   "name": "python",
   "nbconvert_exporter": "python",
   "pygments_lexer": "ipython3",
   "version": "3.8.9"
  }
 },
 "nbformat": 4,
 "nbformat_minor": 5
}
