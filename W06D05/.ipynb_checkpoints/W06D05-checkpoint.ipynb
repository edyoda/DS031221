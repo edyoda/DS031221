{
 "cells": [
  {
   "cell_type": "code",
   "execution_count": 1,
   "id": "e49cd6c6",
   "metadata": {},
   "outputs": [],
   "source": [
    "x = [1,2,3,4]\n",
    "\n",
    "x.append(5)"
   ]
  },
  {
   "cell_type": "code",
   "execution_count": 2,
   "id": "6aa2063a",
   "metadata": {},
   "outputs": [
    {
     "name": "stdout",
     "output_type": "stream",
     "text": [
      "[1, 2, 3, 4, 5]\n"
     ]
    }
   ],
   "source": [
    "print(x)"
   ]
  },
  {
   "cell_type": "code",
   "execution_count": 7,
   "id": "6ce2ba70",
   "metadata": {},
   "outputs": [],
   "source": [
    "class dog:\n",
    "    def __init__(self, name, age):\n",
    "        self.name = name\n",
    "        self.age = age\n",
    "    \n",
    "    def bark(self):\n",
    "        print(self.name,'is barking')"
   ]
  },
  {
   "cell_type": "code",
   "execution_count": 8,
   "id": "18dc23d4",
   "metadata": {},
   "outputs": [],
   "source": [
    "yuki = dog('yuki singh',5)"
   ]
  },
  {
   "cell_type": "code",
   "execution_count": 9,
   "id": "5ea3043d",
   "metadata": {},
   "outputs": [
    {
     "name": "stdout",
     "output_type": "stream",
     "text": [
      "yuki singh is barking\n"
     ]
    }
   ],
   "source": [
    "yuki.bark()"
   ]
  },
  {
   "cell_type": "code",
   "execution_count": null,
   "id": "fbc3ea9d",
   "metadata": {},
   "outputs": [],
   "source": [
    "# Inheritance"
   ]
  },
  {
   "cell_type": "code",
   "execution_count": 13,
   "id": "e707c379",
   "metadata": {},
   "outputs": [],
   "source": [
    "class vehicle:\n",
    "    def __init__(self, engine_type, fuel, tyres, name_plate_no):\n",
    "        self.engine_type = engine_type\n",
    "        self.fuel = fuel\n",
    "        self.tyres = tyres\n",
    "        self.name_plate_no = name_plate_no\n",
    "        \n",
    "    def consume_fuel(self, amount_to_consume):\n",
    "        self.fuel -= amount_to_consume\n",
    "        \n",
    "    def apply_brakes(self, which_tyre):\n",
    "        self.tyres[which_tyre] = False\n",
    "    \n",
    "    def rotate_tyres(self, which_tyre):\n",
    "        self.tyres[which_tyre] = True"
   ]
  },
  {
   "cell_type": "code",
   "execution_count": 61,
   "id": "4471269a",
   "metadata": {},
   "outputs": [],
   "source": [
    "class Car(vehicle):\n",
    "    key_lock_pairs = {} # class attribute.\n",
    "    def __init__(self, engine_type, fuel,name_plate_no, no_of_gears, key, conversion_factor):\n",
    "        super().__init__(engine_type, fuel, \n",
    "                         {'front':False,'rear':False},\n",
    "                         name_plate_no)\n",
    "        self.wiper = False\n",
    "        self.ac = False\n",
    "        self.no_of_gears = no_of_gears\n",
    "        self.ON = False\n",
    "        self.ALARM = False\n",
    "        self.clutch = False\n",
    "        self.current_gear = 0\n",
    "        self.speed = 0\n",
    "        self.conversion_factor = conversion_factor\n",
    "        Car.key_lock_pairs[key] = self\n",
    "    \n",
    "    def apply_clutch(self):\n",
    "        if self.ON:\n",
    "            print('clutch_applied')\n",
    "            self.clutch = True\n",
    "        else:\n",
    "            print('Car is not on')\n",
    "        \n",
    "    def change_gear(self, gear_no):\n",
    "        if self.ON:\n",
    "            if gear_no >= -1 and gear_no <= self.no_of_gears:\n",
    "                if self.clutch:\n",
    "                    if gear_no == -1 and self.speed != 0:\n",
    "                        return 'error'\n",
    "                    else:\n",
    "                        super().rotate_tyres('front')\n",
    "                        super().rotate_tyres('rear')\n",
    "                        self.current_gear = gear_no\n",
    "                        print('gear=',self.current_gear)\n",
    "        else:\n",
    "            print('Car is not on')\n",
    "                    \n",
    "    def release_clutch(self):\n",
    "        print('release_clutch')\n",
    "        self.clutch = False\n",
    "    \n",
    "    def apply_acceleration(self, force):\n",
    "        if self.ON:\n",
    "            if force <= 5 and force >= 0 and self.current_gear != 0:\n",
    "                self.speed += force*self.conversion_factor\n",
    "                print('speed=',self.speed)\n",
    "        else:\n",
    "            print('Car is not on')\n",
    "            \n",
    "    # Method Overriding\n",
    "    def apply_brakes(self, hand_brake, force_on_leg_brake):\n",
    "        if self.ON:\n",
    "            if hand_brake:\n",
    "                super().apply_brakes('rear')\n",
    "                self.speed = 0\n",
    "                print('speed=',self.speed)\n",
    "            else:\n",
    "                super().apply_brakes('front')\n",
    "                self.speed -= force_on_leg_brake*self.conversion_factor\n",
    "                if self.speed < 0:\n",
    "                    self.speed = 0\n",
    "                print('speed=',self.speed)\n",
    "        else:\n",
    "            print('Car is not on')\n",
    "\n",
    "    def switch_ignition(self, key):\n",
    "        if self.ON == False:\n",
    "            if Car.key_lock_pairs.get(key) == self:\n",
    "                print('Turned ON')\n",
    "                self.ON = True\n",
    "            else:\n",
    "                print('*******Alarm********')\n",
    "                self.ALARM = True\n",
    "        else:\n",
    "            print('Turend OFF')\n",
    "            self.ON = False    "
   ]
  },
  {
   "cell_type": "code",
   "execution_count": 62,
   "id": "0c103e70",
   "metadata": {},
   "outputs": [],
   "source": [
    "breeza = Car('petrol', 40,'HR26JY1111', 5, 'AXX@123', 5)"
   ]
  },
  {
   "cell_type": "code",
   "execution_count": 63,
   "id": "0c49213d",
   "metadata": {},
   "outputs": [
    {
     "name": "stdout",
     "output_type": "stream",
     "text": [
      "Turned ON\n"
     ]
    }
   ],
   "source": [
    "breeza.switch_ignition('AXX@123')"
   ]
  },
  {
   "cell_type": "code",
   "execution_count": 64,
   "id": "cf97596d",
   "metadata": {},
   "outputs": [
    {
     "name": "stdout",
     "output_type": "stream",
     "text": [
      "clutch_applied\n"
     ]
    }
   ],
   "source": [
    "breeza.apply_clutch()"
   ]
  },
  {
   "cell_type": "code",
   "execution_count": 65,
   "id": "b0d93f70",
   "metadata": {},
   "outputs": [
    {
     "name": "stdout",
     "output_type": "stream",
     "text": [
      "gear= 1\n"
     ]
    }
   ],
   "source": [
    "breeza.change_gear(1)"
   ]
  },
  {
   "cell_type": "code",
   "execution_count": 66,
   "id": "93c72b5e",
   "metadata": {},
   "outputs": [
    {
     "name": "stdout",
     "output_type": "stream",
     "text": [
      "speed= 5\n"
     ]
    }
   ],
   "source": [
    "breeza.apply_acceleration(1)"
   ]
  },
  {
   "cell_type": "code",
   "execution_count": 69,
   "id": "4c21b41c",
   "metadata": {},
   "outputs": [
    {
     "name": "stdout",
     "output_type": "stream",
     "text": [
      "speed= 0\n"
     ]
    }
   ],
   "source": [
    "breeza.apply_brakes(False,5)"
   ]
  },
  {
   "cell_type": "code",
   "execution_count": 70,
   "id": "39f10897",
   "metadata": {},
   "outputs": [
    {
     "name": "stdout",
     "output_type": "stream",
     "text": [
      "speed= 5\n"
     ]
    }
   ],
   "source": [
    "breeza.apply_acceleration(1)"
   ]
  },
  {
   "cell_type": "code",
   "execution_count": 71,
   "id": "8a3988c2",
   "metadata": {},
   "outputs": [
    {
     "name": "stdout",
     "output_type": "stream",
     "text": [
      "speed= 15\n"
     ]
    }
   ],
   "source": [
    "breeza.apply_acceleration(2)"
   ]
  },
  {
   "cell_type": "code",
   "execution_count": 72,
   "id": "b977ec3d",
   "metadata": {},
   "outputs": [
    {
     "name": "stdout",
     "output_type": "stream",
     "text": [
      "gear= 2\n"
     ]
    }
   ],
   "source": [
    "breeza.change_gear(2)"
   ]
  },
  {
   "cell_type": "code",
   "execution_count": 73,
   "id": "806ebcf5",
   "metadata": {},
   "outputs": [
    {
     "name": "stdout",
     "output_type": "stream",
     "text": [
      "speed= 25\n"
     ]
    }
   ],
   "source": [
    "breeza.apply_acceleration(2)"
   ]
  },
  {
   "cell_type": "code",
   "execution_count": 74,
   "id": "2828e96d",
   "metadata": {},
   "outputs": [
    {
     "name": "stdout",
     "output_type": "stream",
     "text": [
      "gear= 3\n"
     ]
    }
   ],
   "source": [
    "breeza.change_gear(3)"
   ]
  },
  {
   "cell_type": "code",
   "execution_count": 75,
   "id": "585699a4",
   "metadata": {},
   "outputs": [
    {
     "name": "stdout",
     "output_type": "stream",
     "text": [
      "speed= 35\n"
     ]
    }
   ],
   "source": [
    "breeza.apply_acceleration(2)"
   ]
  },
  {
   "cell_type": "code",
   "execution_count": 76,
   "id": "a9b4c1b0",
   "metadata": {},
   "outputs": [
    {
     "name": "stdout",
     "output_type": "stream",
     "text": [
      "speed= 45\n"
     ]
    }
   ],
   "source": [
    "breeza.apply_acceleration(2)"
   ]
  },
  {
   "cell_type": "code",
   "execution_count": 77,
   "id": "a212d928",
   "metadata": {},
   "outputs": [
    {
     "name": "stdout",
     "output_type": "stream",
     "text": [
      "gear= 4\n"
     ]
    }
   ],
   "source": [
    "breeza.change_gear(4)"
   ]
  },
  {
   "cell_type": "code",
   "execution_count": 78,
   "id": "1bed3380",
   "metadata": {},
   "outputs": [
    {
     "name": "stdout",
     "output_type": "stream",
     "text": [
      "speed= 55\n"
     ]
    }
   ],
   "source": [
    "breeza.apply_acceleration(2)"
   ]
  },
  {
   "cell_type": "code",
   "execution_count": 79,
   "id": "a2a3e2cf",
   "metadata": {},
   "outputs": [
    {
     "name": "stdout",
     "output_type": "stream",
     "text": [
      "speed= 65\n"
     ]
    }
   ],
   "source": [
    "breeza.apply_acceleration(2)"
   ]
  },
  {
   "cell_type": "code",
   "execution_count": 80,
   "id": "49d988f4",
   "metadata": {},
   "outputs": [
    {
     "name": "stdout",
     "output_type": "stream",
     "text": [
      "gear= 5\n"
     ]
    }
   ],
   "source": [
    "breeza.change_gear(5)"
   ]
  },
  {
   "cell_type": "code",
   "execution_count": 81,
   "id": "d3730489",
   "metadata": {},
   "outputs": [
    {
     "name": "stdout",
     "output_type": "stream",
     "text": [
      "speed= 75\n"
     ]
    }
   ],
   "source": [
    "breeza.apply_acceleration(2)"
   ]
  },
  {
   "cell_type": "code",
   "execution_count": 84,
   "id": "d7a43cff",
   "metadata": {},
   "outputs": [],
   "source": [
    "breeza.change_gear(-5)"
   ]
  },
  {
   "cell_type": "code",
   "execution_count": 85,
   "id": "776b5b25",
   "metadata": {},
   "outputs": [
    {
     "data": {
      "text/plain": [
       "5"
      ]
     },
     "execution_count": 85,
     "metadata": {},
     "output_type": "execute_result"
    }
   ],
   "source": [
    "breeza.current_gear"
   ]
  },
  {
   "cell_type": "code",
   "execution_count": 86,
   "id": "5b8d0508",
   "metadata": {},
   "outputs": [
    {
     "name": "stdout",
     "output_type": "stream",
     "text": [
      "speed= 100\n"
     ]
    }
   ],
   "source": [
    "breeza.apply_acceleration(5)"
   ]
  },
  {
   "cell_type": "code",
   "execution_count": 87,
   "id": "9c186ce2",
   "metadata": {},
   "outputs": [
    {
     "name": "stdout",
     "output_type": "stream",
     "text": [
      "speed= 125\n"
     ]
    }
   ],
   "source": [
    "breeza.apply_acceleration(5)"
   ]
  },
  {
   "cell_type": "code",
   "execution_count": 88,
   "id": "482db153",
   "metadata": {},
   "outputs": [
    {
     "name": "stdout",
     "output_type": "stream",
     "text": [
      "speed= 150\n"
     ]
    }
   ],
   "source": [
    "breeza.apply_acceleration(5)"
   ]
  },
  {
   "cell_type": "code",
   "execution_count": 90,
   "id": "76b0ba6a",
   "metadata": {},
   "outputs": [
    {
     "name": "stdout",
     "output_type": "stream",
     "text": [
      "speed= 140\n"
     ]
    }
   ],
   "source": [
    "breeza.apply_brakes(False,2)"
   ]
  },
  {
   "cell_type": "code",
   "execution_count": 91,
   "id": "fea08d33",
   "metadata": {},
   "outputs": [
    {
     "name": "stdout",
     "output_type": "stream",
     "text": [
      "speed= 125\n"
     ]
    }
   ],
   "source": [
    "breeza.apply_brakes(False,3)"
   ]
  },
  {
   "cell_type": "code",
   "execution_count": 92,
   "id": "07ba8e75",
   "metadata": {},
   "outputs": [
    {
     "name": "stdout",
     "output_type": "stream",
     "text": [
      "speed= 110\n"
     ]
    }
   ],
   "source": [
    "breeza.apply_brakes(False,3)"
   ]
  },
  {
   "cell_type": "code",
   "execution_count": 93,
   "id": "f3c705de",
   "metadata": {},
   "outputs": [
    {
     "name": "stdout",
     "output_type": "stream",
     "text": [
      "speed= 95\n"
     ]
    }
   ],
   "source": [
    "breeza.apply_brakes(False,3)"
   ]
  },
  {
   "cell_type": "code",
   "execution_count": 94,
   "id": "58507ba3",
   "metadata": {},
   "outputs": [
    {
     "name": "stdout",
     "output_type": "stream",
     "text": [
      "speed= 80\n"
     ]
    }
   ],
   "source": [
    "breeza.apply_brakes(False,3)"
   ]
  },
  {
   "cell_type": "code",
   "execution_count": 95,
   "id": "b9df446f",
   "metadata": {},
   "outputs": [
    {
     "name": "stdout",
     "output_type": "stream",
     "text": [
      "speed= 65\n"
     ]
    }
   ],
   "source": [
    "breeza.apply_brakes(False,3)"
   ]
  },
  {
   "cell_type": "code",
   "execution_count": 96,
   "id": "b1e30033",
   "metadata": {},
   "outputs": [
    {
     "name": "stdout",
     "output_type": "stream",
     "text": [
      "speed= 50\n"
     ]
    }
   ],
   "source": [
    "breeza.apply_brakes(False,3)"
   ]
  },
  {
   "cell_type": "code",
   "execution_count": 98,
   "id": "81bae2a9",
   "metadata": {},
   "outputs": [
    {
     "name": "stdout",
     "output_type": "stream",
     "text": [
      "speed= 10\n"
     ]
    }
   ],
   "source": [
    "breeza.apply_brakes(False,5)"
   ]
  },
  {
   "cell_type": "code",
   "execution_count": 99,
   "id": "f2114ee8",
   "metadata": {},
   "outputs": [
    {
     "name": "stdout",
     "output_type": "stream",
     "text": [
      "speed= 0\n"
     ]
    }
   ],
   "source": [
    "breeza.apply_brakes(False,5)"
   ]
  },
  {
   "cell_type": "code",
   "execution_count": 100,
   "id": "6d3a6cd5",
   "metadata": {},
   "outputs": [
    {
     "name": "stdout",
     "output_type": "stream",
     "text": [
      "speed= 0\n"
     ]
    }
   ],
   "source": [
    "breeza.apply_brakes(False,5)"
   ]
  },
  {
   "cell_type": "code",
   "execution_count": 101,
   "id": "e9033cd0",
   "metadata": {},
   "outputs": [],
   "source": [
    "vhl = vehicle('electric', 250, {'front':False,'rear':False}, \"RJ14JY1508\")"
   ]
  },
  {
   "cell_type": "code",
   "execution_count": 102,
   "id": "6d24a2fc",
   "metadata": {},
   "outputs": [
    {
     "ename": "AttributeError",
     "evalue": "'vehicle' object has no attribute 'apply_acceleration'",
     "output_type": "error",
     "traceback": [
      "\u001b[0;31m---------------------------------------------------------------------------\u001b[0m",
      "\u001b[0;31mAttributeError\u001b[0m                            Traceback (most recent call last)",
      "\u001b[0;32m/var/folders/9s/j9tqx4617_jg3hnd11b6g4080000gn/T/ipykernel_24204/3414409366.py\u001b[0m in \u001b[0;36m<module>\u001b[0;34m\u001b[0m\n\u001b[0;32m----> 1\u001b[0;31m \u001b[0mvhl\u001b[0m\u001b[0;34m.\u001b[0m\u001b[0mapply_acceleration\u001b[0m\u001b[0;34m(\u001b[0m\u001b[0;36m4\u001b[0m\u001b[0;34m)\u001b[0m\u001b[0;34m\u001b[0m\u001b[0;34m\u001b[0m\u001b[0m\n\u001b[0m",
      "\u001b[0;31mAttributeError\u001b[0m: 'vehicle' object has no attribute 'apply_acceleration'"
     ]
    }
   ],
   "source": [
    "vhl.apply_acceleration(4)"
   ]
  },
  {
   "cell_type": "code",
   "execution_count": 119,
   "id": "f0339b0a",
   "metadata": {},
   "outputs": [],
   "source": [
    "class shapes:\n",
    "    def __init__(self, name, sides_length, radius):\n",
    "        self.radius = radius\n",
    "        self.name = name\n",
    "        self.sides_length = sides_length\n",
    "    \n",
    "    def get_radius(self):\n",
    "        return self.radius\n",
    "    \n",
    "    def get_highest_side(self):\n",
    "        if self.sides_length:\n",
    "            return max(self.sides_length.values())\n",
    "        else:\n",
    "            return 0"
   ]
  },
  {
   "cell_type": "code",
   "execution_count": 120,
   "id": "e17e5536",
   "metadata": {},
   "outputs": [
    {
     "name": "stdout",
     "output_type": "stream",
     "text": [
      "not here\n"
     ]
    }
   ],
   "source": [
    "if {}:\n",
    "    print('here')\n",
    "else:\n",
    "    print('not here')\n",
    "    \n",
    "# Anything empty like [],'',{},set() is considered False"
   ]
  },
  {
   "cell_type": "code",
   "execution_count": 121,
   "id": "bb78e624",
   "metadata": {},
   "outputs": [],
   "source": [
    "import math\n",
    "class triangle(shapes):\n",
    "    def __init__(self,s1,s2,s3):\n",
    "        super().__init__('triangle' ,{'s1':s1,'s2':s2,'s3':s3},0)\n",
    "    \n",
    "    def get_area(self):\n",
    "        a = super().sides_length['s1']\n",
    "        b = super().sides_length['s2']\n",
    "        c = super().sides_length['s3']\n",
    "        s = sum(super().sides_length.values())/2 # semi_perimeter\n",
    "        before_underroot = s*(s-a)(s-b)(s-c)\n",
    "        area = math.sqrt(before_underroot)\n",
    "        return area"
   ]
  },
  {
   "cell_type": "code",
   "execution_count": 122,
   "id": "27fe7d34",
   "metadata": {},
   "outputs": [],
   "source": [
    "good_tri = triangle(3,4,5)"
   ]
  },
  {
   "cell_type": "code",
   "execution_count": 123,
   "id": "9a178508",
   "metadata": {},
   "outputs": [
    {
     "data": {
      "text/plain": [
       "5"
      ]
     },
     "execution_count": 123,
     "metadata": {},
     "output_type": "execute_result"
    }
   ],
   "source": [
    "good_tri.get_highest_side()"
   ]
  },
  {
   "cell_type": "code",
   "execution_count": null,
   "id": "c38271e2",
   "metadata": {},
   "outputs": [],
   "source": [
    "# Abstraction : we don't worry wheter the object is square or a triangle, we\n",
    "# can find out what is its highest side."
   ]
  },
  {
   "cell_type": "code",
   "execution_count": null,
   "id": "4c8f1698",
   "metadata": {},
   "outputs": [],
   "source": [
    "# homework: Create Square, Circle, and Cyclinder with atleast get_area Object method in them."
   ]
  }
 ],
 "metadata": {
  "kernelspec": {
   "display_name": "Python 3 (ipykernel)",
   "language": "python",
   "name": "python3"
  },
  "language_info": {
   "codemirror_mode": {
    "name": "ipython",
    "version": 3
   },
   "file_extension": ".py",
   "mimetype": "text/x-python",
   "name": "python",
   "nbconvert_exporter": "python",
   "pygments_lexer": "ipython3",
   "version": "3.8.9"
  }
 },
 "nbformat": 4,
 "nbformat_minor": 5
}
