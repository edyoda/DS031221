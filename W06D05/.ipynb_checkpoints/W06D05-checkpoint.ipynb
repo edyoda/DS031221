{
 "cells": [
  {
   "cell_type": "code",
   "execution_count": 1,
   "id": "a5e99967",
   "metadata": {},
   "outputs": [],
   "source": [
    "x = [1,2,3,4]\n",
    "\n",
    "x.append(5)"
   ]
  },
  {
   "cell_type": "code",
   "execution_count": 2,
   "id": "8f681086",
   "metadata": {},
   "outputs": [
    {
     "name": "stdout",
     "output_type": "stream",
     "text": [
      "[1, 2, 3, 4, 5]\n"
     ]
    }
   ],
   "source": [
    "print(x)"
   ]
  },
  {
   "cell_type": "code",
   "execution_count": 7,
   "id": "6c5da4ad",
   "metadata": {},
   "outputs": [],
   "source": [
    "class dog:\n",
    "    def __init__(self, name, age):\n",
    "        self.name = name\n",
    "        self.age = age\n",
    "    \n",
    "    def bark(self):\n",
    "        print(self.name,'is barking')"
   ]
  },
  {
   "cell_type": "code",
   "execution_count": 8,
   "id": "3a13bd99",
   "metadata": {},
   "outputs": [],
   "source": [
    "yuki = dog('yuki singh',5)"
   ]
  },
  {
   "cell_type": "code",
   "execution_count": 9,
   "id": "b345f11d",
   "metadata": {},
   "outputs": [
    {
     "name": "stdout",
     "output_type": "stream",
     "text": [
      "yuki singh is barking\n"
     ]
    }
   ],
   "source": [
    "yuki.bark()"
   ]
  },
  {
   "cell_type": "code",
   "execution_count": null,
   "id": "0b8260bb",
   "metadata": {},
   "outputs": [],
   "source": [
    "# Inheritance"
   ]
  },
  {
   "cell_type": "code",
   "execution_count": 10,
   "id": "aa885b8f",
   "metadata": {},
   "outputs": [],
   "source": [
    "class vehicle:\n",
    "    def __init__(self, engine_type, fuel, tyres, name_plate_no):\n",
    "        self.engine_type = engine_type\n",
    "        self.fuel = fuel\n",
    "        self.tyres = tyres\n",
    "        self.name_plate_no = name_plate_no\n",
    "        \n",
    "    def consume_fuel(self, amount_to_consume):\n",
    "        self.fuel -= amount_to_consume\n",
    "        \n",
    "    def apply_brakes(self, which_tyre):\n",
    "        self.tyres[which_tyre] = False\n",
    "    \n",
    "    def rotate_tyres(self, which_tyre):\n",
    "        self.tyres[which_tyre] = True"
   ]
  },
  {
   "cell_type": "code",
   "execution_count": null,
   "id": "dc697efa",
   "metadata": {},
   "outputs": [],
   "source": [
    "class Car(vehicle):\n",
    "    key_lock_pairs = {} # class attribute.\n",
    "    def __init__(self, engine_type, fuel,name_plate_no, no_of_gears, key, conversion_factor):\n",
    "        super().__init__(engine_type, fuel, \n",
    "                         {'front':False,'rear':False},\n",
    "                         name_plate_no)\n",
    "        self.wiper = False\n",
    "        self.ac = False\n",
    "        self.no_of_gears = no_of_gears\n",
    "        self.ON = False\n",
    "        self.ALARM = False\n",
    "        self.clutch = False\n",
    "        self.current_gear = 0\n",
    "        self.speed = 0\n",
    "        self.conversion_factor = conversion_factor\n",
    "        Car.key_lock_pairs[key] = self\n",
    "    \n",
    "    def apply_clutch(self):\n",
    "        if self.ON:\n",
    "            self.clutch = True\n",
    "        \n",
    "    def change_gear(self, gear_no):\n",
    "        if self.ON and gear_no >= -1 and gear_no <= self.no_of_gears:\n",
    "            if self.clutch:\n",
    "                if gear_no == -1 and self.speed != 0:\n",
    "                    return 'error'\n",
    "                else:\n",
    "                    super().rotate_tyres('front')\n",
    "                    super().rotate_tyres('rear')\n",
    "                    self.current_gear = gear_no\n",
    "                    \n",
    "    def release_clutch(self):\n",
    "        self.clutch = False\n",
    "    \n",
    "    def apply_acceleration(self, force):\n",
    "        if force <= 5 and force >= 0 and self.current_gear != 0:\n",
    "            self.speed += force*self.conversion_factor\n",
    "            \n",
    "    def apply_brakes(self, hand_brake, force_on_leg_brake):\n",
    "        if self.hand_brake:\n",
    "            super().apply_brakes('rear')\n",
    "            self.speed = 0\n",
    "        else:\n",
    "            super().apply_brakes('front')\n",
    "            self.speed -= force_on_leg_brake*self.conversion_factor\n",
    "    \n",
    "    def switch_ignition(self):\n",
    "        if self.ON == False:\n",
    "            if Car.key_lock_pairs[key] == self:\n",
    "                self.ON = True\n",
    "            else:\n",
    "                self.ALARM = True\n",
    "        else:\n",
    "            self.ON = False    "
   ]
  }
 ],
 "metadata": {
  "kernelspec": {
   "display_name": "Python 3 (ipykernel)",
   "language": "python",
   "name": "python3"
  },
  "language_info": {
   "codemirror_mode": {
    "name": "ipython",
    "version": 3
   },
   "file_extension": ".py",
   "mimetype": "text/x-python",
   "name": "python",
   "nbconvert_exporter": "python",
   "pygments_lexer": "ipython3",
   "version": "3.8.9"
  }
 },
 "nbformat": 4,
 "nbformat_minor": 5
}
